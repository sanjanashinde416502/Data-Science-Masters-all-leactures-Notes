{
 "cells": [
  {
   "cell_type": "code",
   "execution_count": 1,
   "id": "acb6acb7-1550-4822-97cc-79d3c1949d9f",
   "metadata": {},
   "outputs": [
    {
     "name": "stdout",
     "output_type": "stream",
     "text": [
      "1\n",
      "2\n",
      "3\n",
      "4\n",
      "5\n",
      "6\n",
      "7\n",
      "8\n",
      "9\n",
      "10\n"
     ]
    }
   ],
   "source": [
    "a=1\n",
    "while a <=10:\n",
    "    print(a)\n",
    "    a=a+1"
   ]
  },
  {
   "cell_type": "code",
   "execution_count": 3,
   "id": "cd6c4407-e1a9-4514-9089-4bf108323361",
   "metadata": {},
   "outputs": [
    {
     "name": "stdin",
     "output_type": "stream",
     "text": [
      "enter your limit 4\n"
     ]
    },
    {
     "name": "stdout",
     "output_type": "stream",
     "text": [
      "10\n"
     ]
    }
   ],
   "source": [
    "n= int (input(\"enter your limit\"))    #sum of numbers upto given no . Eg: limit=4   ans:1+2+3+4=10\n",
    "start_point=0\n",
    "counter=1\n",
    "while counter<=n:\n",
    "    start_point=start_point+counter\n",
    "    counter+=1\n",
    "print(start_point)   "
   ]
  },
  {
   "cell_type": "code",
   "execution_count": 2,
   "id": "c4baf091-27ac-4e5c-912f-ffb7e0f6de18",
   "metadata": {},
   "outputs": [
    {
     "name": "stdin",
     "output_type": "stream",
     "text": [
      "Enter your no 3\n"
     ]
    },
    {
     "data": {
      "text/plain": [
       "6"
      ]
     },
     "execution_count": 2,
     "metadata": {},
     "output_type": "execute_result"
    }
   ],
   "source": [
    "no= int(input(\"Enter your no\"))    #To find factorial of no.  Eg: 3=1*2*3=6   Ans=6\n",
    "factorial = 1\n",
    "while no > 0:\n",
    "    factorial = factorial*no\n",
    "    no= no-1\n",
    "factorial"
   ]
  },
  {
   "cell_type": "code",
   "execution_count": 9,
   "id": "94918f4f-30d5-4714-b0d4-add688fb39d2",
   "metadata": {},
   "outputs": [
    {
     "name": "stdin",
     "output_type": "stream",
     "text": [
      "enter the no 5\n"
     ]
    },
    {
     "name": "stdout",
     "output_type": "stream",
     "text": [
      "0\n",
      "1\n",
      "1\n",
      "2\n",
      "3\n"
     ]
    }
   ],
   "source": [
    "no= int(input(\"enter the no\"))      #to get fabinonacci series = Fabinonacci series is sum of previous no is equal to next no.\n",
    "a=0                                  # Eg: limit no :5  =0,1,(0+1)=1,(1+1)=2,(1+2)=3   Ans=0,1,1,2,3\n",
    "b=1\n",
    "counter=0\n",
    "while counter<no:\n",
    "    print(a)\n",
    "    c=a+b\n",
    "    a=b\n",
    "    b=c\n",
    "    counter =counter+1\n"
   ]
  },
  {
   "cell_type": "code",
   "execution_count": 12,
   "id": "8b5f5e54-d124-4289-9c1f-545d1fcad7b1",
   "metadata": {},
   "outputs": [
    {
     "name": "stdin",
     "output_type": "stream",
     "text": [
      "enter no 10\n"
     ]
    },
    {
     "name": "stdout",
     "output_type": "stream",
     "text": [
      "0\n",
      "1\n",
      "1\n",
      "2\n",
      "3\n",
      "5\n",
      "8\n",
      "13\n",
      "21\n",
      "34\n"
     ]
    }
   ],
   "source": [
    "no=int (input(\"enter no\"))\n",
    "a,b=0,1                                   # To find fibinonacci series by using for loop\n",
    "for i in range(0,no):\n",
    "    print(a)\n",
    "    c=a+b\n",
    "    a=b\n",
    "    b=c\n",
    "    "
   ]
  },
  {
   "cell_type": "code",
   "execution_count": 13,
   "id": "fa7b1b60-11b7-406b-bfda-2e9745397dc0",
   "metadata": {},
   "outputs": [],
   "source": [
    "s=\"sudh\""
   ]
  },
  {
   "cell_type": "code",
   "execution_count": 16,
   "id": "840486e0-f530-43d6-a5d5-da61342cf945",
   "metadata": {},
   "outputs": [
    {
     "data": {
      "text/plain": [
       "'hdus'"
      ]
     },
     "execution_count": 16,
     "metadata": {},
     "output_type": "execute_result"
    }
   ],
   "source": [
    "s[::-1]"
   ]
  },
  {
   "cell_type": "code",
   "execution_count": 17,
   "id": "cfb0c690-d9be-419c-b48b-f0c0f0d43aaa",
   "metadata": {},
   "outputs": [
    {
     "data": {
      "text/plain": [
       "'sudh'"
      ]
     },
     "execution_count": 17,
     "metadata": {},
     "output_type": "execute_result"
    }
   ],
   "source": [
    "s"
   ]
  },
  {
   "cell_type": "code",
   "execution_count": 20,
   "id": "9d32644b-0766-4f32-9f96-0f3d7e239044",
   "metadata": {},
   "outputs": [
    {
     "name": "stdin",
     "output_type": "stream",
     "text": [
      "enter word sudh\n"
     ]
    },
    {
     "name": "stdout",
     "output_type": "stream",
     "text": [
      " hdus\n"
     ]
    }
   ],
   "source": [
    "word= str(input( \"enter word\"))     #To reverse string using while loop\n",
    "reverse=\" \"\n",
    "length=len(word)\n",
    "while length>0:\n",
    "    reverse = reverse + word[length-1]\n",
    "    length = length -1\n",
    "print(reverse)"
   ]
  },
  {
   "cell_type": "code",
   "execution_count": 21,
   "id": "4a6dd691-7cac-4b60-a011-414da821e8a5",
   "metadata": {},
   "outputs": [
    {
     "data": {
      "text/plain": [
       "4"
      ]
     },
     "execution_count": 21,
     "metadata": {},
     "output_type": "execute_result"
    }
   ],
   "source": [
    "len(s)"
   ]
  },
  {
   "cell_type": "code",
   "execution_count": 3,
   "id": "3ce96919-5630-467d-bd1b-4fb344273a46",
   "metadata": {},
   "outputs": [
    {
     "name": "stdin",
     "output_type": "stream",
     "text": [
      "enter your no 5\n"
     ]
    },
    {
     "name": "stdout",
     "output_type": "stream",
     "text": [
      "5  * 1 = 5\n",
      "5  * 2 = 10\n",
      "5  * 3 = 15\n",
      "5  * 4 = 20\n",
      "5  * 5 = 25\n",
      "5  * 6 = 30\n",
      "5  * 7 = 35\n",
      "5  * 8 = 40\n",
      "5  * 9 = 45\n",
      "5  * 10 = 50\n"
     ]
    }
   ],
   "source": [
    "n= int (input(\"enter your no\"))      #to get tables of no's\n",
    "i=1\n",
    "while i <=10:\n",
    "    result= n*i\n",
    "    print(n,\" *\",i,\"=\",result)\n",
    "    i=i+1"
   ]
  },
  {
   "cell_type": "code",
   "execution_count": 8,
   "id": "2c8808a4-3e61-4c7a-98b9-2baea9f255fc",
   "metadata": {},
   "outputs": [
    {
     "name": "stdout",
     "output_type": "stream",
     "text": [
      "1\n",
      "2\n",
      "3\n"
     ]
    }
   ],
   "source": [
    "n=5                   # In python we can use else with while . else executes only when while loop executes completely.\n",
    "i=1                   # here we have breaked loop when i becomes 3 so loop is not executed completely so else statement will not get executed\n",
    "while i<n:\n",
    "    print(i)\n",
    "    if i==3:\n",
    "        break\n",
    "    i=i+1\n",
    "else:\n",
    "    print(\"This will be executed once while loop executed completely\")"
   ]
  },
  {
   "cell_type": "code",
   "execution_count": 6,
   "id": "805b8445-c72e-4dc6-b2ab-3b9a7dc2e7aa",
   "metadata": {},
   "outputs": [],
   "source": [
    "# Comprehension: (in loop)\n",
    "\n",
    "l=[1,2,3,4,5,6]                # to find squres of no\n",
    "l1=[]\n",
    "for i in l:\n",
    "    l1.append(i**2)"
   ]
  },
  {
   "cell_type": "code",
   "execution_count": 7,
   "id": "44fb3eee-3656-4266-87c8-f4a2c8e18631",
   "metadata": {},
   "outputs": [
    {
     "data": {
      "text/plain": [
       "[1, 4, 9, 16, 25, 36]"
      ]
     },
     "execution_count": 7,
     "metadata": {},
     "output_type": "execute_result"
    }
   ],
   "source": [
    "l1"
   ]
  },
  {
   "cell_type": "code",
   "execution_count": 8,
   "id": "eb0a8634-0636-48ad-98c0-95fa96d2c0df",
   "metadata": {},
   "outputs": [
    {
     "data": {
      "text/plain": [
       "[1, 4, 9, 16, 25, 36]"
      ]
     },
     "execution_count": 8,
     "metadata": {},
     "output_type": "execute_result"
    }
   ],
   "source": [
    "[i**2 for i in l ]          # to find squres of no given list and formating squres in another list \n",
    "                            # this is done in one line like this code "
   ]
  },
  {
   "cell_type": "code",
   "execution_count": 9,
   "id": "75a8fc1f-77ee-46b1-bbfe-97a875608b20",
   "metadata": {},
   "outputs": [
    {
     "data": {
      "text/plain": [
       "[2, 4, 6]"
      ]
     },
     "execution_count": 9,
     "metadata": {},
     "output_type": "execute_result"
    }
   ],
   "source": [
    "[i for i in l if i%2==0]  # For comprehension =[(output that we want to print) (for loop)(then write condition)] then presss enter"
   ]
  },
  {
   "cell_type": "code",
   "execution_count": 11,
   "id": "8e7ace55-41fd-4786-ba37-e86daaaa4e16",
   "metadata": {},
   "outputs": [],
   "source": [
    "l2=[\"sanjana\",\"san\",\"pwskills\"]"
   ]
  },
  {
   "cell_type": "code",
   "execution_count": 12,
   "id": "dc91763d-7af3-4cbf-8635-c81406ee394b",
   "metadata": {},
   "outputs": [
    {
     "data": {
      "text/plain": [
       "['SANJANA', 'SAN', 'PWSKILLS']"
      ]
     },
     "execution_count": 12,
     "metadata": {},
     "output_type": "execute_result"
    }
   ],
   "source": [
    "[i.upper()for i in l2]     # to convert given list in uppercase by comprehension  (list comprehension)"
   ]
  },
  {
   "cell_type": "code",
   "execution_count": 13,
   "id": "b7f49db1-5bf9-4fd4-9cf7-b68dbb277cd4",
   "metadata": {},
   "outputs": [
    {
     "data": {
      "text/plain": [
       "[1, 2, 3, 4, 5, 6]"
      ]
     },
     "execution_count": 13,
     "metadata": {},
     "output_type": "execute_result"
    }
   ],
   "source": [
    "l"
   ]
  },
  {
   "cell_type": "code",
   "execution_count": 15,
   "id": "f6084494-4c2d-41c5-a904-3870bc866bf9",
   "metadata": {},
   "outputs": [
    {
     "data": {
      "text/plain": [
       "[1, 4, 9, 16, 25, 36]"
      ]
     },
     "execution_count": 15,
     "metadata": {},
     "output_type": "execute_result"
    }
   ],
   "source": [
    "list(i**2 for i in l)  # tuple comprehension"
   ]
  },
  {
   "cell_type": "code",
   "execution_count": 28,
   "id": "a4beb87e-ca79-4942-a6bc-2855d1052464",
   "metadata": {},
   "outputs": [],
   "source": [
    "d={\"key1\":1,\"key2\":2,\"key3\":3,\"key4\":4}"
   ]
  },
  {
   "cell_type": "code",
   "execution_count": 29,
   "id": "06f83fa2-35d7-4c31-a25a-e2aa4a6f7f42",
   "metadata": {},
   "outputs": [
    {
     "data": {
      "text/plain": [
       "{'key1': 1, 'key2': 2, 'key3': 3, 'key4': 4}"
      ]
     },
     "execution_count": 29,
     "metadata": {},
     "output_type": "execute_result"
    }
   ],
   "source": [
    "d"
   ]
  },
  {
   "cell_type": "code",
   "execution_count": 35,
   "id": "35628800-674a-492d-904e-b12fddad668c",
   "metadata": {},
   "outputs": [
    {
     "data": {
      "text/plain": [
       "{'key1': 1, 'key2': 4, 'key3': 9, 'key4': 16}"
      ]
     },
     "execution_count": 35,
     "metadata": {},
     "output_type": "execute_result"
    }
   ],
   "source": [
    "{k:v**2 for k ,v in d.items()}      # # to print squres of values  dictionary comprehension\n",
    "    "
   ]
  },
  {
   "cell_type": "code",
   "execution_count": 22,
   "id": "b8e91efa-eacd-4ce4-87cb-3b51c9c26d15",
   "metadata": {},
   "outputs": [
    {
     "data": {
      "text/plain": [
       "dict_items([('key1', '1'), ('key2', '2'), ('key3', '3'), ('key4', '4')])"
      ]
     },
     "execution_count": 22,
     "metadata": {},
     "output_type": "execute_result"
    }
   ],
   "source": [
    "d.items()"
   ]
  },
  {
   "cell_type": "code",
   "execution_count": 36,
   "id": "84383600-3fc6-4639-b695-83911ce0abd1",
   "metadata": {},
   "outputs": [
    {
     "data": {
      "text/plain": [
       "{'key2': 2, 'key3': 3, 'key4': 4}"
      ]
     },
     "execution_count": 36,
     "metadata": {},
     "output_type": "execute_result"
    }
   ],
   "source": [
    "{ k:v for k,v in d.items() if v>1 }    # this is dictionary comprehesion where values are more then 1 here we are doing dictionary so we use '{}'\n",
    "     "
   ]
  },
  {
   "cell_type": "code",
   "execution_count": 4,
   "id": "a6692d41-26af-445d-bdaf-12909bdf5f8b",
   "metadata": {},
   "outputs": [
    {
     "name": "stdout",
     "output_type": "stream",
     "text": [
      "this is print\n"
     ]
    }
   ],
   "source": [
    " # Functions in Python:\n",
    "print(\"this is print\")"
   ]
  },
  {
   "cell_type": "code",
   "execution_count": 5,
   "id": "12a175b6-a1ee-4698-8365-96ecc7320ec0",
   "metadata": {},
   "outputs": [],
   "source": [
    "l=[1,2,3,4]"
   ]
  },
  {
   "cell_type": "code",
   "execution_count": 6,
   "id": "e5a5da47-d9fd-4210-a737-a65e28e894c1",
   "metadata": {},
   "outputs": [
    {
     "data": {
      "text/plain": [
       "4"
      ]
     },
     "execution_count": 6,
     "metadata": {},
     "output_type": "execute_result"
    }
   ],
   "source": [
    "len(l)"
   ]
  },
  {
   "cell_type": "code",
   "execution_count": 7,
   "id": "3492ae73-e94b-44eb-b109-e4f4aa2dc4ea",
   "metadata": {},
   "outputs": [
    {
     "data": {
      "text/plain": [
       "list"
      ]
     },
     "execution_count": 7,
     "metadata": {},
     "output_type": "execute_result"
    }
   ],
   "source": [
    "type(l)"
   ]
  },
  {
   "cell_type": "code",
   "execution_count": 8,
   "id": "3a0f651e-0bcb-4ad4-b898-1679c46d1042",
   "metadata": {},
   "outputs": [],
   "source": [
    "# Advantage of function is function provides reuseability and mobility  to users and stores program in optimized and structured way\n"
   ]
  },
  {
   "cell_type": "code",
   "execution_count": 10,
   "id": "a937982e-7986-45f0-806f-3dff0d9d220d",
   "metadata": {},
   "outputs": [],
   "source": [
    "# Creation of function:\n",
    "def test():\n",
    "    pass"
   ]
  },
  {
   "cell_type": "code",
   "execution_count": 14,
   "id": "ee5bd013-e368-40b2-9c47-82578fdbc286",
   "metadata": {},
   "outputs": [],
   "source": [
    "def test1():                                # defining function\n",
    "    print(\"This is my first function\")      # print gives output in none data type "
   ]
  },
  {
   "cell_type": "code",
   "execution_count": 18,
   "id": "c11d9d89-b2a5-4706-93e7-56d9f3223695",
   "metadata": {},
   "outputs": [
    {
     "name": "stdout",
     "output_type": "stream",
     "text": [
      "This is my first function\n"
     ]
    }
   ],
   "source": [
    "test1()             # calling function"
   ]
  },
  {
   "cell_type": "code",
   "execution_count": 19,
   "id": "dee66b7b-68cd-428f-b09f-e4a1ccc9a128",
   "metadata": {},
   "outputs": [
    {
     "ename": "TypeError",
     "evalue": "unsupported operand type(s) for +: 'function' and 'str'",
     "output_type": "error",
     "traceback": [
      "\u001b[0;31m---------------------------------------------------------------------------\u001b[0m",
      "\u001b[0;31mTypeError\u001b[0m                                 Traceback (most recent call last)",
      "Cell \u001b[0;32mIn[19], line 1\u001b[0m\n\u001b[0;32m----> 1\u001b[0m \u001b[43mtest1\u001b[49m\u001b[38;5;241;43m+\u001b[39;49m\u001b[38;5;124;43m\"\u001b[39;49m\u001b[38;5;124;43msan\u001b[39;49m\u001b[38;5;124;43m\"\u001b[39;49m\n",
      "\u001b[0;31mTypeError\u001b[0m: unsupported operand type(s) for +: 'function' and 'str'"
     ]
    }
   ],
   "source": [
    "test1+\"san\""
   ]
  },
  {
   "cell_type": "code",
   "execution_count": 20,
   "id": "5f3fbcd9-0a9b-4a4c-ab28-195387bb2283",
   "metadata": {},
   "outputs": [],
   "source": [
    "def test2():\n",
    "    return \"this is my very first return\""
   ]
  },
  {
   "cell_type": "code",
   "execution_count": 21,
   "id": "e845673f-e419-498f-aa8d-37443fe0c2fc",
   "metadata": {},
   "outputs": [
    {
     "data": {
      "text/plain": [
       "'this is my very first return'"
      ]
     },
     "execution_count": 21,
     "metadata": {},
     "output_type": "execute_result"
    }
   ],
   "source": [
    "test2()"
   ]
  },
  {
   "cell_type": "code",
   "execution_count": 22,
   "id": "949b8367-b034-4f2a-b90b-b59ece317f62",
   "metadata": {},
   "outputs": [
    {
     "data": {
      "text/plain": [
       "'this is my very first returnsanjana'"
      ]
     },
     "execution_count": 22,
     "metadata": {},
     "output_type": "execute_result"
    }
   ],
   "source": [
    "test2()+\"sanjana\"                  # return always gives you output that data type which you have given "
   ]
  },
  {
   "cell_type": "code",
   "execution_count": 23,
   "id": "2545a448-33e9-4aad-bc54-21a6cd7e6e70",
   "metadata": {},
   "outputs": [],
   "source": [
    "def test3():\n",
    "    return \"sanjana\",12,3.4,[4,5,6] # if we wamt to return veriables with differant data types then it returns in tuple"
   ]
  },
  {
   "cell_type": "code",
   "execution_count": 25,
   "id": "46642b21-ad66-43b6-ab16-65c70277a77a",
   "metadata": {},
   "outputs": [
    {
     "data": {
      "text/plain": [
       "('sanjana', 12, 3.4, [4, 5, 6])"
      ]
     },
     "execution_count": 25,
     "metadata": {},
     "output_type": "execute_result"
    }
   ],
   "source": [
    "test3()  "
   ]
  },
  {
   "cell_type": "code",
   "execution_count": 39,
   "id": "d4f4a30b-811c-49f6-b9fb-b1df6db35c8e",
   "metadata": {},
   "outputs": [],
   "source": [
    "a,b,c,d = test3()"
   ]
  },
  {
   "cell_type": "code",
   "execution_count": 42,
   "id": "dc0807c9-3441-4b72-860b-5b980e98e431",
   "metadata": {},
   "outputs": [],
   "source": [
    "a=1     #decration of veriables\n",
    "b=2"
   ]
  },
  {
   "cell_type": "code",
   "execution_count": 43,
   "id": "0adeb984-944f-4fcb-87d0-b6e0e74764ad",
   "metadata": {},
   "outputs": [],
   "source": [
    "a,b=1,2     # 2 nd way to declare veriables"
   ]
  },
  {
   "cell_type": "code",
   "execution_count": 51,
   "id": "0adc4e1d-c5a7-45cf-8459-1e9331f5d6ac",
   "metadata": {},
   "outputs": [],
   "source": [
    "def test4():\n",
    "    a=5+6/7\n",
    "    return a\n",
    "    "
   ]
  },
  {
   "cell_type": "code",
   "execution_count": 52,
   "id": "aa74532d-b03e-4a3b-ba2b-23875c16038f",
   "metadata": {},
   "outputs": [
    {
     "data": {
      "text/plain": [
       "5.857142857142857"
      ]
     },
     "execution_count": 52,
     "metadata": {},
     "output_type": "execute_result"
    }
   ],
   "source": [
    "test4()"
   ]
  },
  {
   "cell_type": "code",
   "execution_count": 53,
   "id": "f97aeacf-0bfe-4ea4-9b69-09bbcdf48cac",
   "metadata": {},
   "outputs": [],
   "source": [
    "def test5(a,b,c):    # arguments in function \n",
    "    d=a+b/c\n",
    "    return d"
   ]
  },
  {
   "cell_type": "code",
   "execution_count": 55,
   "id": "aa6c7040-e08b-4c8d-95f9-6f7780dba5a8",
   "metadata": {},
   "outputs": [
    {
     "data": {
      "text/plain": [
       "2.75"
      ]
     },
     "execution_count": 55,
     "metadata": {},
     "output_type": "execute_result"
    }
   ],
   "source": [
    "test5(2,3,4)"
   ]
  },
  {
   "cell_type": "code",
   "execution_count": 57,
   "id": "0206d377-f7e1-4a67-a265-897bbbb9d4cc",
   "metadata": {},
   "outputs": [],
   "source": [
    "def test6(a,b):\n",
    "    return a+b\n",
    "    "
   ]
  },
  {
   "cell_type": "code",
   "execution_count": 61,
   "id": "97299e29-f943-4f1d-92cb-fed0c541db83",
   "metadata": {},
   "outputs": [
    {
     "data": {
      "text/plain": [
       "'sanjanasudh'"
      ]
     },
     "execution_count": 61,
     "metadata": {},
     "output_type": "execute_result"
    }
   ],
   "source": [
    "test6(\"sanjana\",\"sudh\")   # string concadination"
   ]
  },
  {
   "cell_type": "code",
   "execution_count": 62,
   "id": "021ce318-6df1-4cca-b449-159bd2d25b51",
   "metadata": {},
   "outputs": [
    {
     "data": {
      "text/plain": [
       "[2, 3, 4, 56, 6]"
      ]
     },
     "execution_count": 62,
     "metadata": {},
     "output_type": "execute_result"
    }
   ],
   "source": [
    "test6([2,3,4],[56,6])   #list concadination"
   ]
  },
  {
   "cell_type": "code",
   "execution_count": 63,
   "id": "f464cb45-de9e-44a0-a8eb-b3e00cda7290",
   "metadata": {},
   "outputs": [],
   "source": [
    "l=[2,3,4,5,\"sanjana\",\"sudh\",[5,6,7]]"
   ]
  },
  {
   "cell_type": "code",
   "execution_count": 64,
   "id": "311df772-0dc1-4e9d-b7ce-c161572621be",
   "metadata": {},
   "outputs": [
    {
     "data": {
      "text/plain": [
       "[2, 3, 4, 5]"
      ]
     },
     "execution_count": 64,
     "metadata": {},
     "output_type": "execute_result"
    }
   ],
   "source": [
    "l[0:4]"
   ]
  },
  {
   "cell_type": "code",
   "execution_count": 65,
   "id": "1fcd6494-f3e4-4698-b8d5-d17bc5c2bf1e",
   "metadata": {},
   "outputs": [],
   "source": [
    "ll=[]\n",
    "for i in l:\n",
    "    if type(i)==int or type(i)==float:\n",
    "        ll.append(i)"
   ]
  },
  {
   "cell_type": "code",
   "execution_count": 66,
   "id": "7b4704b3-bac7-41ee-9938-92445508a880",
   "metadata": {},
   "outputs": [
    {
     "data": {
      "text/plain": [
       "[2, 3, 4, 5]"
      ]
     },
     "execution_count": 66,
     "metadata": {},
     "output_type": "execute_result"
    }
   ],
   "source": [
    "ll"
   ]
  },
  {
   "cell_type": "code",
   "execution_count": 75,
   "id": "e5e010a9-f5c1-4384-8a06-066cdb6d5de3",
   "metadata": {},
   "outputs": [],
   "source": [
    "def test7(l):       # to separate in  and float values using for  \n",
    "    ll=[]\n",
    "    for i in l:\n",
    "            if type(i)==int or type(i)==float:\n",
    "                ll.append(i)\n",
    "    return ll"
   ]
  },
  {
   "cell_type": "code",
   "execution_count": 76,
   "id": "af9d7441-960c-45cc-88c0-8f6ba3659ade",
   "metadata": {},
   "outputs": [
    {
     "data": {
      "text/plain": [
       "[2, 3, 4, 5]"
      ]
     },
     "execution_count": 76,
     "metadata": {},
     "output_type": "execute_result"
    }
   ],
   "source": [
    "test7(l)"
   ]
  },
  {
   "cell_type": "code",
   "execution_count": 77,
   "id": "a0e4b749-1080-4f5b-84b9-7d395f647c59",
   "metadata": {},
   "outputs": [
    {
     "data": {
      "text/plain": [
       "[2, 3, 4, 5, 'sanjana', [5, 6, 7]]"
      ]
     },
     "execution_count": 77,
     "metadata": {},
     "output_type": "execute_result"
    }
   ],
   "source": [
    "l"
   ]
  },
  {
   "cell_type": "code",
   "execution_count": 79,
   "id": "b434f565-afe5-45bd-a3fd-6ebe46b17d0a",
   "metadata": {},
   "outputs": [],
   "source": [
    "def test8(a):\n",
    "    l2=[]\n",
    "    for i in a:\n",
    "        if type(i) ==list:\n",
    "            for j in i :\n",
    "                l2.append(j)\n",
    "        else :\n",
    "            if type(i)== int or type(i)== float:\n",
    "                l2.append(i)\n",
    "    return l2\n",
    "                \n",
    "                \n",
    "    "
   ]
  },
  {
   "cell_type": "code",
   "execution_count": 82,
   "id": "8eac7bce-6bf9-4508-a9ba-fa8a217b8ed8",
   "metadata": {},
   "outputs": [
    {
     "data": {
      "text/plain": [
       "[2, 3, 4, 5, 5, 6, 7]"
      ]
     },
     "execution_count": 82,
     "metadata": {},
     "output_type": "execute_result"
    }
   ],
   "source": [
    "test8(l)"
   ]
  },
  {
   "cell_type": "code",
   "execution_count": null,
   "id": "e067e7e2-0056-4c1c-a231-30605360e790",
   "metadata": {},
   "outputs": [],
   "source": [
    "test8()"
   ]
  },
  {
   "cell_type": "code",
   "execution_count": 85,
   "id": "1f3530b6-4520-4a02-b7b1-e18104e5e927",
   "metadata": {},
   "outputs": [
    {
     "data": {
      "text/plain": [
       "6"
      ]
     },
     "execution_count": 85,
     "metadata": {},
     "output_type": "execute_result"
    }
   ],
   "source": [
    "len(l)"
   ]
  },
  {
   "cell_type": "code",
   "execution_count": 87,
   "id": "eb7924ce-6382-46ed-bcdb-df3fff21d854",
   "metadata": {},
   "outputs": [],
   "source": [
    "def test9(a):\n",
    "    \"\"\" This is function to extract num data from list  \"\"\"   # this is to get docstring for our user defined function. this we can get by pressing \n",
    "    l2=[]                                                     # shift+tab we can get to know what that function does\n",
    "    for i in a:\n",
    "        if type(i) ==list:\n",
    "            for j in i :\n",
    "                l2.append(j)\n",
    "        else :\n",
    "            if type(i)== int or type(i)== float:\n",
    "                l2.append(i)\n",
    "    return l2\n",
    "                \n",
    "                \n",
    "    "
   ]
  },
  {
   "cell_type": "code",
   "execution_count": 88,
   "id": "0d8b90c3-6917-4767-baea-a362991105f9",
   "metadata": {},
   "outputs": [
    {
     "data": {
      "text/plain": [
       "[1, 2, 3, 4]"
      ]
     },
     "execution_count": 88,
     "metadata": {},
     "output_type": "execute_result"
    }
   ],
   "source": [
    "test9([1,2,3,4])"
   ]
  },
  {
   "cell_type": "code",
   "execution_count": 89,
   "id": "acc47a3f-3715-4862-a3b9-fd18ed588ebd",
   "metadata": {},
   "outputs": [],
   "source": [
    "def test10(a,b):\n",
    "    return a+b\n",
    "    "
   ]
  },
  {
   "cell_type": "code",
   "execution_count": 91,
   "id": "4b8a1038-e36a-4fbd-8e30-98b5555d637a",
   "metadata": {},
   "outputs": [],
   "source": [
    "def test11(*args):       #by using *args we can give many no of arguments that user wants and return args returns given input in tuple format\n",
    "    return args"
   ]
  },
  {
   "cell_type": "code",
   "execution_count": 92,
   "id": "25cda288-6cbe-4643-93ee-a3d821182504",
   "metadata": {},
   "outputs": [
    {
     "data": {
      "text/plain": [
       "(1, 2, 3, 4, 55)"
      ]
     },
     "execution_count": 92,
     "metadata": {},
     "output_type": "execute_result"
    }
   ],
   "source": [
    "test11(1,2,3,4,55)"
   ]
  },
  {
   "cell_type": "code",
   "execution_count": 94,
   "id": "12ab2682-563d-40b5-9910-4b29533cc72f",
   "metadata": {},
   "outputs": [
    {
     "data": {
      "text/plain": [
       "(1, 2, 3, 45, 'sanjana', 'shinde', [1, 2, 3, 4, 45, 6, 9])"
      ]
     },
     "execution_count": 94,
     "metadata": {},
     "output_type": "execute_result"
    }
   ],
   "source": [
    "test11(1,2,3,45,\"sanjana\",\"shinde\",[1,2,3,4,45,6,9])"
   ]
  },
  {
   "cell_type": "code",
   "execution_count": 96,
   "id": "b269856b-ebfa-4c46-9383-2c87fd252a09",
   "metadata": {},
   "outputs": [
    {
     "data": {
      "text/plain": [
       "tuple"
      ]
     },
     "execution_count": 96,
     "metadata": {},
     "output_type": "execute_result"
    }
   ],
   "source": [
    "type(test11())"
   ]
  },
  {
   "cell_type": "code",
   "execution_count": 97,
   "id": "40816377-32da-4a29-ab79-23ba6edf2395",
   "metadata": {},
   "outputs": [],
   "source": [
    "def test12(*sudh):     # here we can use anything at sudh ,args it just a name\n",
    "    return sudh"
   ]
  },
  {
   "cell_type": "code",
   "execution_count": 99,
   "id": "478b728a-c2a2-4cb1-92e1-496ba10a2c69",
   "metadata": {},
   "outputs": [
    {
     "data": {
      "text/plain": [
       "(2, 3, 4, 5)"
      ]
     },
     "execution_count": 99,
     "metadata": {},
     "output_type": "execute_result"
    }
   ],
   "source": [
    "test12(2 ,3 ,4 ,5)"
   ]
  },
  {
   "cell_type": "code",
   "execution_count": 100,
   "id": "8c3e3270-fa6a-4a8b-aee0-c9dd534d437b",
   "metadata": {},
   "outputs": [],
   "source": [
    "def test13(*args,a):\n",
    "    return args ,a\n",
    "    "
   ]
  },
  {
   "cell_type": "code",
   "execution_count": 109,
   "id": "c44dd5d4-9518-4df6-af2d-8c88285aa810",
   "metadata": {},
   "outputs": [
    {
     "data": {
      "text/plain": [
       "((1, 2, 3, 3), 7)"
      ]
     },
     "execution_count": 109,
     "metadata": {},
     "output_type": "execute_result"
    }
   ],
   "source": [
    "test13(1,2,3,3,a=7)"
   ]
  },
  {
   "cell_type": "code",
   "execution_count": 110,
   "id": "200795c0-1655-4d59-981f-5cc65877fe8a",
   "metadata": {},
   "outputs": [],
   "source": [
    "def test14(c,d,a=23,b=2):\n",
    "    return a,b,c,d"
   ]
  },
  {
   "cell_type": "code",
   "execution_count": 111,
   "id": "aa3bf3bc-f392-48ec-8f68-d2ff070cc1e1",
   "metadata": {},
   "outputs": [
    {
     "data": {
      "text/plain": [
       "(23, 2, 4, 5)"
      ]
     },
     "execution_count": 111,
     "metadata": {},
     "output_type": "execute_result"
    }
   ],
   "source": [
    "test14(4,5)"
   ]
  },
  {
   "cell_type": "code",
   "execution_count": 112,
   "id": "42a5c1dd-c788-46e1-b5c6-8c6bd1d34100",
   "metadata": {},
   "outputs": [
    {
     "data": {
      "text/plain": [
       "(6, 2, 2, 3)"
      ]
     },
     "execution_count": 112,
     "metadata": {},
     "output_type": "execute_result"
    }
   ],
   "source": [
    "test14(2,3,a=6)   # here value of a is by default 23 but while runing we can overwrite it by passing value in argument"
   ]
  },
  {
   "cell_type": "code",
   "execution_count": 113,
   "id": "f03b80d0-015a-40bc-94a9-b5a8aa35ef4b",
   "metadata": {},
   "outputs": [],
   "source": [
    "def test15(**kwargs):     #here **kw args is used to take dictionary as input \n",
    "    return kwargs"
   ]
  },
  {
   "cell_type": "code",
   "execution_count": 114,
   "id": "7450cb2d-1be9-4dc7-baf8-649356706873",
   "metadata": {},
   "outputs": [
    {
     "data": {
      "text/plain": [
       "{}"
      ]
     },
     "execution_count": 114,
     "metadata": {},
     "output_type": "execute_result"
    }
   ],
   "source": [
    "test15()"
   ]
  },
  {
   "cell_type": "code",
   "execution_count": 115,
   "id": "f56169bc-7e63-4267-916c-9ff4200e9c59",
   "metadata": {},
   "outputs": [
    {
     "data": {
      "text/plain": [
       "dict"
      ]
     },
     "execution_count": 115,
     "metadata": {},
     "output_type": "execute_result"
    }
   ],
   "source": [
    "type(test15())"
   ]
  },
  {
   "cell_type": "code",
   "execution_count": 117,
   "id": "2831420d-32e6-46e9-8636-183a3f2920d0",
   "metadata": {},
   "outputs": [
    {
     "data": {
      "text/plain": [
       "{'a': [1, 2, 34], 'b': [5, 6, 78], 'c': [6, 7, 88], 'd': 'sanjana'}"
      ]
     },
     "execution_count": 117,
     "metadata": {},
     "output_type": "execute_result"
    }
   ],
   "source": [
    "test15(a=[1,2,34],b=[5,6,78],c=[6,7,88], d=\"sanjana\")   #for geting dict as output we should pass a"
   ]
  },
  {
   "cell_type": "code",
   "execution_count": null,
   "id": "b5c1e278-ea46-4c1b-9d44-ccd7d8220e8e",
   "metadata": {},
   "outputs": [],
   "source": []
  }
 ],
 "metadata": {
  "kernelspec": {
   "display_name": "Python 3 (ipykernel)",
   "language": "python",
   "name": "python3"
  },
  "language_info": {
   "codemirror_mode": {
    "name": "ipython",
    "version": 3
   },
   "file_extension": ".py",
   "mimetype": "text/x-python",
   "name": "python",
   "nbconvert_exporter": "python",
   "pygments_lexer": "ipython3",
   "version": "3.10.8"
  }
 },
 "nbformat": 4,
 "nbformat_minor": 5
}
