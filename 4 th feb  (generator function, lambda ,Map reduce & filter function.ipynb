{
 "cells": [
  {
   "cell_type": "code",
   "execution_count": 3,
   "id": "94918f4f-30d5-4714-b0d4-add688fb39d2",
   "metadata": {},
   "outputs": [
    {
     "data": {
      "text/plain": [
       "range(0, 10)"
      ]
     },
     "execution_count": 3,
     "metadata": {},
     "output_type": "execute_result"
    }
   ],
   "source": [
    "range(10)"
   ]
  },
  {
   "cell_type": "code",
   "execution_count": 5,
   "id": "599ba1ab-28a2-4d9e-a0f8-e9eced2d727f",
   "metadata": {},
   "outputs": [
    {
     "name": "stdout",
     "output_type": "stream",
     "text": [
      "0\n",
      "1\n",
      "2\n",
      "3\n",
      "4\n",
      "5\n",
      "6\n",
      "7\n",
      "8\n",
      "9\n"
     ]
    }
   ],
   "source": [
    "for i in range(0,10):\n",
    "    print(i)"
   ]
  },
  {
   "cell_type": "code",
   "execution_count": 6,
   "id": "8e7c4cf2-a1b9-4d44-b391-711e214c5109",
   "metadata": {},
   "outputs": [],
   "source": [
    "# generator Function :  in generator function yield is used to return values instead of return Adv. of using this function is that it \n",
    "# it occupies less memory in pc .it is bacicaly used in teerms of large data"
   ]
  },
  {
   "cell_type": "code",
   "execution_count": 8,
   "id": "007b35c4-39ab-47f8-9741-aa512b3a08f3",
   "metadata": {},
   "outputs": [],
   "source": [
    "def test_fib(n):   # function for fibinonacci series.Imp:\n",
    "                 # We can create generator function by using yield keyword.\n",
    "    a,b=0,1\n",
    "    for i in range(0,10):\n",
    "        yield a\n",
    "        a,b=b,a+b"
   ]
  },
  {
   "cell_type": "code",
   "execution_count": 10,
   "id": "73dc460d-5201-4aba-acf8-f5a1d037f6a5",
   "metadata": {},
   "outputs": [
    {
     "data": {
      "text/plain": [
       "<generator object test_fib at 0x7f6dc7b7d540>"
      ]
     },
     "execution_count": 10,
     "metadata": {},
     "output_type": "execute_result"
    }
   ],
   "source": [
    "test_fib(10)   # this will give us only object after generater"
   ]
  },
  {
   "cell_type": "code",
   "execution_count": 13,
   "id": "0f2b018f-a562-482a-a368-54d1baaaf6c8",
   "metadata": {},
   "outputs": [
    {
     "name": "stdout",
     "output_type": "stream",
     "text": [
      "0\n",
      "1\n",
      "1\n",
      "2\n",
      "3\n",
      "5\n",
      "8\n",
      "13\n",
      "21\n",
      "34\n"
     ]
    }
   ],
   "source": [
    "for i in test_fib(10):  # this will give us values \n",
    "    print(i)"
   ]
  },
  {
   "cell_type": "code",
   "execution_count": 6,
   "id": "71887bd9-0e8d-4f3d-a411-5b31f8f3a5c6",
   "metadata": {},
   "outputs": [],
   "source": [
    "def test_fib1():\n",
    "    a,b=0,1\n",
    "    while True :   # here ture keyword is used for being codition always true\n",
    "        yield a\n",
    "        a,b=b,a+b\n",
    "    \n",
    "    "
   ]
  },
  {
   "cell_type": "code",
   "execution_count": 7,
   "id": "8c97fb2c-2ea2-470e-95fa-aee127af1c74",
   "metadata": {},
   "outputs": [
    {
     "data": {
      "text/plain": [
       "<generator object test_fib1 at 0x7fabdc24b450>"
      ]
     },
     "execution_count": 7,
     "metadata": {},
     "output_type": "execute_result"
    }
   ],
   "source": [
    "test_fib1()"
   ]
  },
  {
   "cell_type": "code",
   "execution_count": 8,
   "id": "73fb94b9-dddb-4d3c-a756-2476505c9514",
   "metadata": {},
   "outputs": [],
   "source": [
    "fib=test_fib1()   # here we have created object of test_fib2() function "
   ]
  },
  {
   "cell_type": "code",
   "execution_count": 9,
   "id": "91210869-fc4b-4ccc-8b50-d3227c7c8752",
   "metadata": {},
   "outputs": [
    {
     "data": {
      "text/plain": [
       "generator"
      ]
     },
     "execution_count": 9,
     "metadata": {},
     "output_type": "execute_result"
    }
   ],
   "source": [
    "type(fib) # the type of fib is generator means iterator"
   ]
  },
  {
   "cell_type": "code",
   "execution_count": 31,
   "id": "25d5726e-9d58-4f82-b849-40be3939568a",
   "metadata": {},
   "outputs": [
    {
     "name": "stdout",
     "output_type": "stream",
     "text": [
      "0\n",
      "1\n",
      "1\n",
      "2\n",
      "3\n",
      "5\n",
      "8\n",
      "13\n",
      "21\n",
      "34\n"
     ]
    }
   ],
   "source": [
    "for i in range(10):  # here next is used for next iteration\n",
    "    print(next(fib))"
   ]
  },
  {
   "cell_type": "code",
   "execution_count": 34,
   "id": "01b0eb7c-8cf7-44c5-a7b4-5bf68fa9d695",
   "metadata": {},
   "outputs": [],
   "source": [
    "s='sudh'"
   ]
  },
  {
   "cell_type": "code",
   "execution_count": 35,
   "id": "c38297e7-df5e-4eb9-9820-13f4c1772d90",
   "metadata": {},
   "outputs": [
    {
     "data": {
      "text/plain": [
       "'sudh'"
      ]
     },
     "execution_count": 35,
     "metadata": {},
     "output_type": "execute_result"
    }
   ],
   "source": [
    "s"
   ]
  },
  {
   "cell_type": "code",
   "execution_count": 48,
   "id": "dd4029ee-138d-4d2e-9565-2476a6276cd6",
   "metadata": {},
   "outputs": [
    {
     "name": "stdout",
     "output_type": "stream",
     "text": [
      "s\n",
      "u\n",
      "d\n",
      "h\n"
     ]
    }
   ],
   "source": [
    "for i in s:  #for loop also use iter() function and calculates length . For loop by defaulty also uses next()for geting next values in \n",
    "     print(i)  # string."
   ]
  },
  {
   "cell_type": "code",
   "execution_count": 37,
   "id": "d4e2bf4e-870c-45ba-8036-809975c0f838",
   "metadata": {},
   "outputs": [
    {
     "data": {
      "text/plain": [
       "'sudh'"
      ]
     },
     "execution_count": 37,
     "metadata": {},
     "output_type": "execute_result"
    }
   ],
   "source": [
    "s"
   ]
  },
  {
   "cell_type": "code",
   "execution_count": 40,
   "id": "2c2bac58-0f5d-47b1-808a-84e2d4258baa",
   "metadata": {},
   "outputs": [
    {
     "ename": "TypeError",
     "evalue": "'str' object is not an iterator",
     "output_type": "error",
     "traceback": [
      "\u001b[0;31m---------------------------------------------------------------------------\u001b[0m",
      "\u001b[0;31mTypeError\u001b[0m                                 Traceback (most recent call last)",
      "Cell \u001b[0;32mIn[40], line 1\u001b[0m\n\u001b[0;32m----> 1\u001b[0m \u001b[38;5;28;43mnext\u001b[39;49m\u001b[43m(\u001b[49m\u001b[43ms\u001b[49m\u001b[43m)\u001b[49m   \u001b[38;5;66;03m# string is not a by default iterator here we can not directly do next(),next i.e we can get next next alphaabets \u001b[39;00m\n",
      "\u001b[0;31mTypeError\u001b[0m: 'str' object is not an iterator"
     ]
    }
   ],
   "source": [
    "next(s)   # string is not a by default iterator here we can not directly do next(),next i.e we can get next next alphaabets"
   ]
  },
  {
   "cell_type": "code",
   "execution_count": 50,
   "id": "337a1bb9-646b-4a9e-8dd4-25d88cc309d2",
   "metadata": {},
   "outputs": [],
   "source": [
    "s1=iter(s)  # string is iterable but not iterator .To make string iterable we should use iter() function  "
   ]
  },
  {
   "cell_type": "code",
   "execution_count": 51,
   "id": "453d4834-72ee-4ccf-a264-a67747124e72",
   "metadata": {},
   "outputs": [
    {
     "data": {
      "text/plain": [
       "'s'"
      ]
     },
     "execution_count": 51,
     "metadata": {},
     "output_type": "execute_result"
    }
   ],
   "source": [
    "next(s1)"
   ]
  },
  {
   "cell_type": "code",
   "execution_count": 52,
   "id": "c6448a5a-6d6f-4020-999d-fce0725e5f05",
   "metadata": {},
   "outputs": [
    {
     "data": {
      "text/plain": [
       "'u'"
      ]
     },
     "execution_count": 52,
     "metadata": {},
     "output_type": "execute_result"
    }
   ],
   "source": [
    "next(s1)"
   ]
  },
  {
   "cell_type": "code",
   "execution_count": 53,
   "id": "edf1d6c6-4c76-4961-9f62-87c0c7d502fd",
   "metadata": {},
   "outputs": [
    {
     "data": {
      "text/plain": [
       "'d'"
      ]
     },
     "execution_count": 53,
     "metadata": {},
     "output_type": "execute_result"
    }
   ],
   "source": [
    "next(s1)"
   ]
  },
  {
   "cell_type": "code",
   "execution_count": 54,
   "id": "80735774-5f0c-4c15-b54a-86fcc35b14e8",
   "metadata": {},
   "outputs": [
    {
     "data": {
      "text/plain": [
       "'h'"
      ]
     },
     "execution_count": 54,
     "metadata": {},
     "output_type": "execute_result"
    }
   ],
   "source": [
    "next(s1)"
   ]
  },
  {
   "cell_type": "code",
   "execution_count": 55,
   "id": "5ed6ff1f-dc9e-42f4-b791-52c876c8ab4d",
   "metadata": {},
   "outputs": [
    {
     "ename": "StopIteration",
     "evalue": "",
     "output_type": "error",
     "traceback": [
      "\u001b[0;31m---------------------------------------------------------------------------\u001b[0m",
      "\u001b[0;31mStopIteration\u001b[0m                             Traceback (most recent call last)",
      "Cell \u001b[0;32mIn[55], line 1\u001b[0m\n\u001b[0;32m----> 1\u001b[0m \u001b[38;5;28;43mnext\u001b[39;49m\u001b[43m(\u001b[49m\u001b[43ms1\u001b[49m\u001b[43m)\u001b[49m  \u001b[38;5;66;03m# here our string is completed\u001b[39;00m\n",
      "\u001b[0;31mStopIteration\u001b[0m: "
     ]
    }
   ],
   "source": [
    "next(s1)  # here our string is completed"
   ]
  },
  {
   "cell_type": "code",
   "execution_count": 57,
   "id": "b788ec7c-521f-4230-ba1b-dd7da7ad162f",
   "metadata": {},
   "outputs": [
    {
     "ename": "TypeError",
     "evalue": "'int' object is not an iterator",
     "output_type": "error",
     "traceback": [
      "\u001b[0;31m---------------------------------------------------------------------------\u001b[0m",
      "\u001b[0;31mTypeError\u001b[0m                                 Traceback (most recent call last)",
      "Cell \u001b[0;32mIn[57], line 1\u001b[0m\n\u001b[0;32m----> 1\u001b[0m \u001b[38;5;28;43mnext\u001b[39;49m\u001b[43m(\u001b[49m\u001b[38;5;241;43m45\u001b[39;49m\u001b[43m)\u001b[49m\n",
      "\u001b[0;31mTypeError\u001b[0m: 'int' object is not an iterator"
     ]
    }
   ],
   "source": [
    "next(45)  # concept of iterator: it is that object or data from which we can get data by doing next() ,next.\n",
    "          # Eg: int ,float,complex no are not iterator because they are not iterable .\n",
    "          # We can convert that object to iterator who are iterable."
   ]
  },
  {
   "cell_type": "code",
   "execution_count": 58,
   "id": "c5818e46-3a44-45b2-9a6a-48ea42dde143",
   "metadata": {},
   "outputs": [
    {
     "ename": "TypeError",
     "evalue": "'int' object is not iterable",
     "output_type": "error",
     "traceback": [
      "\u001b[0;31m---------------------------------------------------------------------------\u001b[0m",
      "\u001b[0;31mTypeError\u001b[0m                                 Traceback (most recent call last)",
      "Cell \u001b[0;32mIn[58], line 1\u001b[0m\n\u001b[0;32m----> 1\u001b[0m \u001b[38;5;28;43miter\u001b[39;49m\u001b[43m(\u001b[49m\u001b[38;5;241;43m45\u001b[39;49m\u001b[43m)\u001b[49m\n",
      "\u001b[0;31mTypeError\u001b[0m: 'int' object is not iterable"
     ]
    }
   ],
   "source": [
    "iter(45)    # concept of iterable: this is that data which can be converted into iterators .\n",
    "            # eg: str,list,tuple as they are iterable "
   ]
  },
  {
   "cell_type": "code",
   "execution_count": 21,
   "id": "27e12d71-7c9e-4ed9-806e-95cc5a1d3b6d",
   "metadata": {},
   "outputs": [],
   "source": [
    "def count_test(n):     # generator function \n",
    "    count =1\n",
    "    while count<=n:\n",
    "        yield count\n",
    "        count=count+1"
   ]
  },
  {
   "cell_type": "code",
   "execution_count": 19,
   "id": "87721d65-df1b-4ddd-995e-622e158fb3dd",
   "metadata": {},
   "outputs": [],
   "source": [
    "c=count_test(5)  # creating object of generator funtion count_test() "
   ]
  },
  {
   "cell_type": "code",
   "execution_count": 20,
   "id": "12d004bb-a4f7-454d-bf53-82d2ff93664e",
   "metadata": {},
   "outputs": [
    {
     "name": "stdout",
     "output_type": "stream",
     "text": [
      "1\n",
      "2\n",
      "3\n",
      "4\n",
      "5\n"
     ]
    }
   ],
   "source": [
    "for i in c:    # print data in function\n",
    "    print(i)"
   ]
  },
  {
   "cell_type": "code",
   "execution_count": 38,
   "id": "53f2e8d0-9a8f-4f99-a3ac-b2c0128e60b8",
   "metadata": {},
   "outputs": [],
   "source": [
    "# Lambda Function : It is one line function .\n",
    "#                   It is used in simple use cases."
   ]
  },
  {
   "cell_type": "code",
   "execution_count": 39,
   "id": "b1f6f8ef-ae6d-4ed2-ad94-696046cb8d9c",
   "metadata": {},
   "outputs": [],
   "source": [
    "n=3        # normal function to calculate square of no.\n",
    "p=2\n",
    "def test3(n,p):\n",
    "    return n**p"
   ]
  },
  {
   "cell_type": "code",
   "execution_count": 40,
   "id": "44f2b90f-cca6-4cbd-be0d-7f907dceeb7c",
   "metadata": {},
   "outputs": [
    {
     "data": {
      "text/plain": [
       "9"
      ]
     },
     "execution_count": 40,
     "metadata": {},
     "output_type": "execute_result"
    }
   ],
   "source": [
    "test3(3,2)"
   ]
  },
  {
   "cell_type": "code",
   "execution_count": 35,
   "id": "d1971bb9-8591-4a23-9fc6-6debc5b66e68",
   "metadata": {},
   "outputs": [],
   "source": [
    "a=lambda n,p:n**p   # this type of functions are called one line function or anonomus function or lambda function.\n",
    "                   # lambda is reserve keyword in python\n",
    "                    # here a is not a name of function just like def . It is a veriable where we have stored lambda functon .\n",
    "                   # we can call function by calling a and passing arguments in it "
   ]
  },
  {
   "cell_type": "code",
   "execution_count": 36,
   "id": "baff9102-5060-4721-9aad-8f658e6bbe23",
   "metadata": {},
   "outputs": [
    {
     "data": {
      "text/plain": [
       "9"
      ]
     },
     "execution_count": 36,
     "metadata": {},
     "output_type": "execute_result"
    }
   ],
   "source": [
    "a(3,2)        # calling of lambda function."
   ]
  },
  {
   "cell_type": "code",
   "execution_count": 34,
   "id": "e882913b-9fc6-4cbc-9e63-b8e6cdb03533",
   "metadata": {},
   "outputs": [],
   "source": [
    "add=lambda x,y:x+y    # here add is a veriable where lambda function is stored."
   ]
  },
  {
   "cell_type": "code",
   "execution_count": 41,
   "id": "236ab49b-b7cc-4a98-8d62-b934bb4e619f",
   "metadata": {},
   "outputs": [
    {
     "data": {
      "text/plain": [
       "5"
      ]
     },
     "execution_count": 41,
     "metadata": {},
     "output_type": "execute_result"
    }
   ],
   "source": [
    "add(2,3)"
   ]
  },
  {
   "cell_type": "code",
   "execution_count": 46,
   "id": "6bcabdc5-8458-4b2a-84dc-93e14d27cf73",
   "metadata": {},
   "outputs": [],
   "source": [
    "c_to_f=lambda c:(9/5)*c+32   # function to convert celsius to fahrenheit"
   ]
  },
  {
   "cell_type": "code",
   "execution_count": 47,
   "id": "ef69adb2-b51d-4952-9d64-0506cba99779",
   "metadata": {},
   "outputs": [
    {
     "data": {
      "text/plain": [
       "113.0"
      ]
     },
     "execution_count": 47,
     "metadata": {},
     "output_type": "execute_result"
    }
   ],
   "source": [
    "c_to_f(45)"
   ]
  },
  {
   "cell_type": "code",
   "execution_count": 2,
   "id": "210aea38-926e-4736-b444-61e8e91245d4",
   "metadata": {},
   "outputs": [],
   "source": [
    "# finding maximun no between no.s           syntax:(veriable name where we store function)=lambda(keyword) (veriables needed in function) (colon':')\n",
    "#                                                     (process that we are doing )or (condition)\n",
    "find_max=lambda x,y: x if x>y else y"
   ]
  },
  {
   "cell_type": "code",
   "execution_count": 4,
   "id": "895d0f80-9cca-4205-bf5d-20f4898b20e4",
   "metadata": {},
   "outputs": [
    {
     "data": {
      "text/plain": [
       "56"
      ]
     },
     "execution_count": 4,
     "metadata": {},
     "output_type": "execute_result"
    }
   ],
   "source": [
    "find_max(34,56)      "
   ]
  },
  {
   "cell_type": "code",
   "execution_count": 52,
   "id": "eb1db13f-71bd-49d8-90ce-ece68d01b886",
   "metadata": {},
   "outputs": [],
   "source": [
    "s=\"pwskills\""
   ]
  },
  {
   "cell_type": "code",
   "execution_count": 55,
   "id": "c0079fa0-8d0b-4d83-a497-0568f0ce28ba",
   "metadata": {},
   "outputs": [],
   "source": [
    "find_length=lambda s:len(s)   # function to calculate length of string "
   ]
  },
  {
   "cell_type": "code",
   "execution_count": 56,
   "id": "eb7b0bec-0aa2-4ed9-975c-d27f2a578b62",
   "metadata": {},
   "outputs": [
    {
     "data": {
      "text/plain": [
       "8"
      ]
     },
     "execution_count": 56,
     "metadata": {},
     "output_type": "execute_result"
    }
   ],
   "source": [
    "find_length(s)"
   ]
  },
  {
   "cell_type": "code",
   "execution_count": 9,
   "id": "652d9645-502e-4baf-bca0-29b941e6dbed",
   "metadata": {},
   "outputs": [],
   "source": [
    "# Map reduce and filter function:"
   ]
  },
  {
   "cell_type": "code",
   "execution_count": 4,
   "id": "1e39e011-88ac-4c94-85ed-754b00f075b6",
   "metadata": {},
   "outputs": [],
   "source": [
    "l=[2,3,4,5]"
   ]
  },
  {
   "cell_type": "code",
   "execution_count": 5,
   "id": "ab564659-8fbd-4910-9827-f585136dbc81",
   "metadata": {},
   "outputs": [],
   "source": [
    "def test(l):\n",
    "    l1=[]\n",
    "    for i in l:\n",
    "        l1.append(i**2)\n",
    "    return l1"
   ]
  },
  {
   "cell_type": "code",
   "execution_count": 6,
   "id": "f1de8147-729c-4d69-b27f-e08a41f2407e",
   "metadata": {},
   "outputs": [
    {
     "data": {
      "text/plain": [
       "[4, 9, 16, 25]"
      ]
     },
     "execution_count": 6,
     "metadata": {},
     "output_type": "execute_result"
    }
   ],
   "source": [
    "test(l)"
   ]
  },
  {
   "cell_type": "code",
   "execution_count": 7,
   "id": "86b98868-ca52-4da2-a345-a7976db4c2f9",
   "metadata": {},
   "outputs": [],
   "source": [
    "def sq(x):\n",
    "    return x**2\n",
    "    "
   ]
  },
  {
   "cell_type": "code",
   "execution_count": 8,
   "id": "c65114bf-f970-4568-8e1e-3dd94aa4bdec",
   "metadata": {},
   "outputs": [
    {
     "data": {
      "text/plain": [
       "<map at 0x7f9f084b9c90>"
      ]
     },
     "execution_count": 8,
     "metadata": {},
     "output_type": "execute_result"
    }
   ],
   "source": [
    "map(sq,l)    # this will give us object of map\n",
    "             # map is inbuilt function in python it takes two arguments as input first is fuction name & another is iterables.\n",
    "             # here sq is function and l is list (iterable)"
   ]
  },
  {
   "cell_type": "code",
   "execution_count": 15,
   "id": "477c1e23-6601-46ed-8ec1-f67013581ea4",
   "metadata": {},
   "outputs": [
    {
     "data": {
      "text/plain": [
       "[4, 9, 16, 25]"
      ]
     },
     "execution_count": 15,
     "metadata": {},
     "output_type": "execute_result"
    }
   ],
   "source": [
    "list(map(sq,l))   #to get output we have to convert it in to list \n",
    "                 # here we have used sq a external function\n",
    "                 # for complex cases use external function"
   ]
  },
  {
   "cell_type": "code",
   "execution_count": 14,
   "id": "78adcb78-9d1b-453a-980c-97784181d043",
   "metadata": {},
   "outputs": [
    {
     "data": {
      "text/plain": [
       "[4, 9, 16, 25]"
      ]
     },
     "execution_count": 14,
     "metadata": {},
     "output_type": "execute_result"
    }
   ],
   "source": [
    "list(map(lambda x: x**2,l))   # above code we can write using lambda function in a single line\n",
    "                             # use lambda fuction of simple case"
   ]
  },
  {
   "cell_type": "code",
   "execution_count": 11,
   "id": "5622e31e-0e58-451d-9cc1-fe61d30d6ca9",
   "metadata": {},
   "outputs": [],
   "source": [
    "l1=[1,2,3,4,5]"
   ]
  },
  {
   "cell_type": "code",
   "execution_count": 12,
   "id": "5c8d723b-d3e7-4ef8-8e47-14d496ca8021",
   "metadata": {},
   "outputs": [],
   "source": [
    "l2=[6,7,8,9,10]"
   ]
  },
  {
   "cell_type": "code",
   "execution_count": 16,
   "id": "ddd45117-456e-4c22-a3a9-6c2427337546",
   "metadata": {},
   "outputs": [
    {
     "data": {
      "text/plain": [
       "[7, 9, 11, 13, 15]"
      ]
     },
     "execution_count": 16,
     "metadata": {},
     "output_type": "execute_result"
    }
   ],
   "source": [
    "list(map(lambda x,y:x+y,l1,l2))    # here we have added values of l1 with l2 i.e (1+6)=7,(2+7)=9 etc."
   ]
  },
  {
   "cell_type": "code",
   "execution_count": 21,
   "id": "f3cbea01-959b-4929-b1ca-bea2bd8ec2fd",
   "metadata": {},
   "outputs": [],
   "source": [
    "def add(x,y):  #external function\n",
    "    return x+y"
   ]
  },
  {
   "cell_type": "code",
   "execution_count": 22,
   "id": "1b8ea53f-7055-4e18-966a-0242b61e84d1",
   "metadata": {},
   "outputs": [
    {
     "data": {
      "text/plain": [
       "[7, 9, 11, 13, 15]"
      ]
     },
     "execution_count": 22,
     "metadata": {},
     "output_type": "execute_result"
    }
   ],
   "source": [
    "list(map(add,l1,l2))  # by using external function. "
   ]
  },
  {
   "cell_type": "code",
   "execution_count": 23,
   "id": "0bc5767e-07db-48d8-958f-6c7801f20d3c",
   "metadata": {},
   "outputs": [],
   "source": [
    "s=\"pwskills\""
   ]
  },
  {
   "cell_type": "code",
   "execution_count": 27,
   "id": "acb4fecb-4b9f-4e2c-8d72-54dcbf31f670",
   "metadata": {},
   "outputs": [
    {
     "data": {
      "text/plain": [
       "'PWSKILLS'"
      ]
     },
     "execution_count": 27,
     "metadata": {},
     "output_type": "execute_result"
    }
   ],
   "source": [
    "s.upper()  # to convert string into upper case"
   ]
  },
  {
   "cell_type": "code",
   "execution_count": 28,
   "id": "6e8c23b8-96e9-49c6-b0bc-542d6ce5700c",
   "metadata": {},
   "outputs": [
    {
     "data": {
      "text/plain": [
       "['P', 'W', 'S', 'K', 'I', 'L', 'L', 'S']"
      ]
     },
     "execution_count": 28,
     "metadata": {},
     "output_type": "execute_result"
    }
   ],
   "source": [
    "list(map(lambda s:s.upper(),s))   #converting string into upper case using lambda and map function "
   ]
  },
  {
   "cell_type": "code",
   "execution_count": 29,
   "id": "d8342fb1-0ba0-4b72-a3b4-15bdc95d9482",
   "metadata": {},
   "outputs": [],
   "source": [
    "# Reduce function:\n",
    "#1.reduce is not by default available we have to call it fom library "
   ]
  },
  {
   "cell_type": "code",
   "execution_count": 32,
   "id": "8165fdde-b64d-469f-a839-1296546688d2",
   "metadata": {},
   "outputs": [],
   "source": [
    "from functools import reduce "
   ]
  },
  {
   "cell_type": "code",
   "execution_count": 33,
   "id": "fb5dc6af-5c45-4213-9e2c-af0668bde2c3",
   "metadata": {},
   "outputs": [],
   "source": [
    "l3=[1,2,3,4,5]"
   ]
  },
  {
   "cell_type": "code",
   "execution_count": 38,
   "id": "03d909f7-1384-46f3-b42b-92cf548792ba",
   "metadata": {},
   "outputs": [
    {
     "data": {
      "text/plain": [
       "15"
      ]
     },
     "execution_count": 38,
     "metadata": {},
     "output_type": "execute_result"
    }
   ],
   "source": [
    "reduce(lambda x,y : x+y ,l3)   # to get sum of no.s in l3 "
   ]
  },
  {
   "cell_type": "code",
   "execution_count": 40,
   "id": "62876b6f-f2b8-4eb2-ad8e-71eb3f485b70",
   "metadata": {},
   "outputs": [
    {
     "ename": "TypeError",
     "evalue": "<lambda>() missing 1 required positional argument: 'z'",
     "output_type": "error",
     "traceback": [
      "\u001b[0;31m---------------------------------------------------------------------------\u001b[0m",
      "\u001b[0;31mTypeError\u001b[0m                                 Traceback (most recent call last)",
      "Cell \u001b[0;32mIn[40], line 1\u001b[0m\n\u001b[0;32m----> 1\u001b[0m \u001b[43mreduce\u001b[49m\u001b[43m(\u001b[49m\u001b[38;5;28;43;01mlambda\u001b[39;49;00m\u001b[43m \u001b[49m\u001b[43mx\u001b[49m\u001b[43m,\u001b[49m\u001b[43my\u001b[49m\u001b[43m,\u001b[49m\u001b[43mz\u001b[49m\u001b[43m \u001b[49m\u001b[43m:\u001b[49m\u001b[43m \u001b[49m\u001b[43mx\u001b[49m\u001b[38;5;241;43m+\u001b[39;49m\u001b[43my\u001b[49m\u001b[38;5;241;43m+\u001b[39;49m\u001b[43mz\u001b[49m\u001b[43m \u001b[49m\u001b[43m,\u001b[49m\u001b[43ml3\u001b[49m\u001b[43m)\u001b[49m   \u001b[38;5;66;03m# to get sum of no.s in l3\u001b[39;00m\n\u001b[1;32m      2\u001b[0m                                   \u001b[38;5;66;03m# here we can give only give only two arguments\u001b[39;00m\n",
      "\u001b[0;31mTypeError\u001b[0m: <lambda>() missing 1 required positional argument: 'z'"
     ]
    }
   ],
   "source": [
    "reduce(lambda x,y,z : x+y+z ,l3)   # to get sum of no.s in l3\n",
    "                                  # here we can give only give only two arguments"
   ]
  },
  {
   "cell_type": "code",
   "execution_count": 44,
   "id": "a5df8483-ae77-45d3-9c18-a4d7f7a89855",
   "metadata": {},
   "outputs": [
    {
     "ename": "TypeError",
     "evalue": "reduce() of empty iterable with no initial value",
     "output_type": "error",
     "traceback": [
      "\u001b[0;31m---------------------------------------------------------------------------\u001b[0m",
      "\u001b[0;31mTypeError\u001b[0m                                 Traceback (most recent call last)",
      "Cell \u001b[0;32mIn[44], line 1\u001b[0m\n\u001b[0;32m----> 1\u001b[0m \u001b[43mreduce\u001b[49m\u001b[43m(\u001b[49m\u001b[38;5;28;43;01mlambda\u001b[39;49;00m\u001b[43m \u001b[49m\u001b[43mx\u001b[49m\u001b[43m,\u001b[49m\u001b[43my\u001b[49m\u001b[43m \u001b[49m\u001b[43m:\u001b[49m\u001b[43m \u001b[49m\u001b[43mx\u001b[49m\u001b[38;5;241;43m+\u001b[39;49m\u001b[43my\u001b[49m\u001b[43m \u001b[49m\u001b[43m,\u001b[49m\u001b[43m[\u001b[49m\u001b[43m]\u001b[49m\u001b[43m)\u001b[49m   \u001b[38;5;66;03m# to get sum of no.s in l3  \u001b[39;00m\n\u001b[1;32m      2\u001b[0m                             \u001b[38;5;66;03m# the list must have any argument\u001b[39;00m\n",
      "\u001b[0;31mTypeError\u001b[0m: reduce() of empty iterable with no initial value"
     ]
    }
   ],
   "source": [
    "reduce(lambda x,y : x+y ,[])   # to get sum of no.s in l3  \n",
    "                            # the list must have any argument"
   ]
  },
  {
   "cell_type": "code",
   "execution_count": 46,
   "id": "86f95625-fd77-498a-8247-9681e62e548b",
   "metadata": {},
   "outputs": [
    {
     "data": {
      "text/plain": [
       "1"
      ]
     },
     "execution_count": 46,
     "metadata": {},
     "output_type": "execute_result"
    }
   ],
   "source": [
    "reduce(lambda x,y : x+y ,[1])   # to get sum of no.s in l3 \n",
    "                                # this is exceptional case here list may one parameter but their should not be more than two parameters."
   ]
  },
  {
   "cell_type": "code",
   "execution_count": 51,
   "id": "04d6cf30-cfd6-4cbb-a3f0-be237eb24041",
   "metadata": {},
   "outputs": [
    {
     "data": {
      "text/plain": [
       "120"
      ]
     },
     "execution_count": 51,
     "metadata": {},
     "output_type": "execute_result"
    }
   ],
   "source": [
    "reduce(lambda x,y:x*y,l3)  # multiplication of no.s in list"
   ]
  },
  {
   "cell_type": "code",
   "execution_count": 52,
   "id": "def276e4-12c1-49ce-9dd9-235caebaec81",
   "metadata": {},
   "outputs": [
    {
     "data": {
      "text/plain": [
       "5"
      ]
     },
     "execution_count": 52,
     "metadata": {},
     "output_type": "execute_result"
    }
   ],
   "source": [
    "reduce(lambda x,y: x if x>y else y,l3)   # to find maximum no in l3"
   ]
  },
  {
   "cell_type": "code",
   "execution_count": 70,
   "id": "248a3d60-9675-47ae-81b2-ce4500a2301f",
   "metadata": {},
   "outputs": [],
   "source": [
    "# Filter Fuction: When we have list of collection and if we want to get data that satisfies certain condition then we can use filter function.\n",
    "#                 It basically used for filtering data from a collection of data."
   ]
  },
  {
   "cell_type": "code",
   "execution_count": 71,
   "id": "c923efbd-4424-42bd-9f3f-a45ecd0f2220",
   "metadata": {},
   "outputs": [
    {
     "data": {
      "text/plain": [
       "[1, 2, 3, 4, 5]"
      ]
     },
     "execution_count": 71,
     "metadata": {},
     "output_type": "execute_result"
    }
   ],
   "source": [
    "l3"
   ]
  },
  {
   "cell_type": "code",
   "execution_count": 78,
   "id": "70540244-5fcd-4074-b991-1550e713673e",
   "metadata": {},
   "outputs": [
    {
     "data": {
      "text/plain": [
       "[2, 4]"
      ]
     },
     "execution_count": 78,
     "metadata": {},
     "output_type": "execute_result"
    }
   ],
   "source": [
    "list(filter(lambda x:x%2==0,l3))   # to get even no.s in l3"
   ]
  },
  {
   "cell_type": "code",
   "execution_count": 79,
   "id": "c4c2b714-78cd-4ee3-84a0-01b7622a281e",
   "metadata": {},
   "outputs": [
    {
     "data": {
      "text/plain": [
       "[1, 3, 5]"
      ]
     },
     "execution_count": 79,
     "metadata": {},
     "output_type": "execute_result"
    }
   ],
   "source": [
    "list(filter(lambda x:x%2!=0,l3))  # to get odd no.s in l3"
   ]
  },
  {
   "cell_type": "code",
   "execution_count": 74,
   "id": "a4942a5b-9762-4a39-924f-30b7534297f7",
   "metadata": {},
   "outputs": [],
   "source": [
    "l4=[1,2,-3,4,-5,-6]"
   ]
  },
  {
   "cell_type": "code",
   "execution_count": 75,
   "id": "182171b9-8764-4d90-8901-c65bb5f2a251",
   "metadata": {},
   "outputs": [
    {
     "data": {
      "text/plain": [
       "[-3, -5, -6]"
      ]
     },
     "execution_count": 75,
     "metadata": {},
     "output_type": "execute_result"
    }
   ],
   "source": [
    "list(filter(lambda x:x<0,l4))  #to seperating negative no.s in l4"
   ]
  },
  {
   "cell_type": "code",
   "execution_count": 76,
   "id": "e35013c3-a499-411a-92da-266ae0395b04",
   "metadata": {},
   "outputs": [],
   "source": [
    "l5=[\"sanjana\",\"sudh\",\"pwskills\",\"prerana\"]"
   ]
  },
  {
   "cell_type": "code",
   "execution_count": 77,
   "id": "719cdbc1-20d4-47c7-a9d2-9647efa14eda",
   "metadata": {},
   "outputs": [
    {
     "data": {
      "text/plain": [
       "['sanjana', 'sudh', 'prerana']"
      ]
     },
     "execution_count": 77,
     "metadata": {},
     "output_type": "execute_result"
    }
   ],
   "source": [
    "list(filter(lambda x: len(x) <8,l5))"
   ]
  },
  {
   "cell_type": "code",
   "execution_count": 80,
   "id": "b198ce54-064e-4917-bf5a-410bf54ed226",
   "metadata": {},
   "outputs": [],
   "source": [
    "l6=[2,3,4,5,5,567,7887,5678,98]"
   ]
  },
  {
   "cell_type": "code",
   "execution_count": 81,
   "id": "870ad8f7-1e2d-4f71-8945-c94a5a552843",
   "metadata": {},
   "outputs": [
    {
     "data": {
      "text/plain": [
       "[2, 3, 4, 5, 5, 567, 7887, 5678, 98]"
      ]
     },
     "execution_count": 81,
     "metadata": {},
     "output_type": "execute_result"
    }
   ],
   "source": [
    "l6"
   ]
  },
  {
   "cell_type": "code",
   "execution_count": 84,
   "id": "f4cf46ae-77fc-450a-b5e4-b15e4e59f32a",
   "metadata": {},
   "outputs": [
    {
     "data": {
      "text/plain": [
       "[2, 4, 5678, 98]"
      ]
     },
     "execution_count": 84,
     "metadata": {},
     "output_type": "execute_result"
    }
   ],
   "source": [
    "list(filter(lambda x:  x%2==0,l6))"
   ]
  },
  {
   "cell_type": "code",
   "execution_count": 85,
   "id": "df1d7c43-97f4-4cae-a9aa-1ea1f8dbcd8f",
   "metadata": {},
   "outputs": [
    {
     "data": {
      "text/plain": [
       "list"
      ]
     },
     "execution_count": 85,
     "metadata": {},
     "output_type": "execute_result"
    }
   ],
   "source": [
    "list"
   ]
  }
 ],
 "metadata": {
  "kernelspec": {
   "display_name": "Python 3 (ipykernel)",
   "language": "python",
   "name": "python3"
  },
  "language_info": {
   "codemirror_mode": {
    "name": "ipython",
    "version": 3
   },
   "file_extension": ".py",
   "mimetype": "text/x-python",
   "name": "python",
   "nbconvert_exporter": "python",
   "pygments_lexer": "ipython3",
   "version": "3.10.8"
  }
 },
 "nbformat": 4,
 "nbformat_minor": 5
}
