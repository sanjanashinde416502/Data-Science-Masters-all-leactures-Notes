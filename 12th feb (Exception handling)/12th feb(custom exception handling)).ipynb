{
 "cells": [
  {
   "cell_type": "code",
   "execution_count": 1,
   "id": "0e3a32b5-4f92-4336-b567-f6572d616da2",
   "metadata": {},
   "outputs": [],
   "source": [
    "# custom exception handling:\n",
    "# it is a concept where you want to raise exception for which class or code or library is not present in python\n",
    "# this happens in case of any custom senario or situation where you want to rease exception"
   ]
  },
  {
   "cell_type": "code",
   "execution_count": 4,
   "id": "b49b7db0-e6f6-4d87-a2b5-4fc8963dca14",
   "metadata": {},
   "outputs": [
    {
     "name": "stdin",
     "output_type": "stream",
     "text": [
      "enter your age -12345\n"
     ]
    }
   ],
   "source": [
    "age=int(input(\"enter your age\"))"
   ]
  },
  {
   "cell_type": "code",
   "execution_count": 5,
   "id": "a78b184c-446a-4849-9def-dac82c678ebf",
   "metadata": {},
   "outputs": [],
   "source": [
    "# how to make our own custom exceptions:"
   ]
  },
  {
   "cell_type": "code",
   "execution_count": 34,
   "id": "9822289e-3f68-4819-8ce1-fc16165698fe",
   "metadata": {},
   "outputs": [],
   "source": [
    "class validdateage(Exception):   # to raise your own exceptions create a class and inheirite Exception class in that\n",
    "    def __init__(self,msg):\n",
    "        self.msg=msg"
   ]
  },
  {
   "cell_type": "code",
   "execution_count": 35,
   "id": "3452305d-c67a-462e-be69-7ef0ba960ade",
   "metadata": {},
   "outputs": [],
   "source": [
    "def validdataage(age):   # create a function to check where age is valid or not\n",
    "    if age<0:\n",
    "        raise validdateage(\"entered age is negative\")\n",
    "    elif age>200:\n",
    "        raise validdateage(\"entered age is very very high\")\n",
    "    else:\n",
    "        print(\"age is valid\")"
   ]
  },
  {
   "cell_type": "code",
   "execution_count": 37,
   "id": "2681bd53-8adf-453f-ac72-695061bfe30f",
   "metadata": {},
   "outputs": [
    {
     "name": "stdin",
     "output_type": "stream",
     "text": [
      "enter age : -23\n"
     ]
    },
    {
     "name": "stdout",
     "output_type": "stream",
     "text": [
      "entered age is negative\n"
     ]
    }
   ],
   "source": [
    "try:                              # by writing in try like this we can raise our we own exeptions\n",
    "    age = int(input(\"enter age :\"))\n",
    "    validdataage(age)\n",
    "    \n",
    "except validdateage as e:\n",
    "    print(e)"
   ]
  },
  {
   "cell_type": "code",
   "execution_count": 18,
   "id": "7e62958a-ec72-499a-bb5a-7f6f38f5969e",
   "metadata": {},
   "outputs": [],
   "source": [
    "class xyz(Exception):\n",
    "    def __init__(self,msg):\n",
    "        self.msg=msg"
   ]
  },
  {
   "cell_type": "code",
   "execution_count": 29,
   "id": "96f305bf-bf6b-461d-96af-a76df8a1749d",
   "metadata": {},
   "outputs": [],
   "source": [
    "def xyz1(age):\n",
    "    if age<0:\n",
    "        raise xyz(\" age is negative\")\n",
    "    \n",
    "    elif age>200:\n",
    "        raise xyz(\"age is much more\")\n",
    "    else:\n",
    "        print(\"valid age\")\n",
    "    "
   ]
  },
  {
   "cell_type": "code",
   "execution_count": 30,
   "id": "432868b1-c178-4db7-b905-5f7347c2b986",
   "metadata": {},
   "outputs": [
    {
     "name": "stdin",
     "output_type": "stream",
     "text": [
      "enter age : -876\n"
     ]
    },
    {
     "name": "stdout",
     "output_type": "stream",
     "text": [
      " age is negative\n"
     ]
    }
   ],
   "source": [
    "try:\n",
    "    age = int(input(\"enter age :\"))\n",
    "    xyz1(age)\n",
    "except xyz as e:\n",
    "    print(e)\n",
    "    "
   ]
  },
  {
   "cell_type": "code",
   "execution_count": 14,
   "id": "cd090d77-03b3-4519-8767-a817bf742275",
   "metadata": {},
   "outputs": [],
   "source": [
    "# practice problems:\n"
   ]
  },
  {
   "cell_type": "code",
   "execution_count": 15,
   "id": "1a676b84-e576-429a-977f-252e258bea7a",
   "metadata": {},
   "outputs": [],
   "source": [
    "# problem no:1"
   ]
  },
  {
   "cell_type": "code",
   "execution_count": 3,
   "id": "41ae4f49-647e-4734-ba28-ae05958e37f9",
   "metadata": {},
   "outputs": [],
   "source": [
    "class class1(Exception):\n",
    "    def __init__(self,msg):\n",
    "        self.msg=msg\n",
    "    \n",
    "    "
   ]
  },
  {
   "cell_type": "code",
   "execution_count": 4,
   "id": "4a3729e9-67b6-4103-8b11-da627beb34f0",
   "metadata": {},
   "outputs": [],
   "source": [
    " def fun1(name,ratings,feedback):\n",
    "        \n",
    "\n",
    "        \n",
    "        if ratings==5:\n",
    "            raise class1(\"You have rated excelant\\nThank you !\")\n",
    "        elif ratings==4:\n",
    "            raise class1(\"you have rated very good\\nThank You !\")\n",
    "        elif ratings==3:\n",
    "            raise class1(\"you have rated good\\nThank You !\")\n",
    "        elif ratings==2:\n",
    "            raise class1(\"you have rated okok\\nThank You !\")\n",
    "        elif ratings==1:\n",
    "            raise class1(\"you have rated bad\\nThank You !\")\n",
    "        elif ratings==0:\n",
    "            raise class1(\"you have rated very bad\\nThank You !\")\n",
    "        else:\n",
    "            print(\"enter valid ratings between (5 to 0)\")\n",
    "            \n",
    "    "
   ]
  },
  {
   "cell_type": "code",
   "execution_count": 7,
   "id": "5434582b-03e3-49c6-897e-7bc34509d216",
   "metadata": {},
   "outputs": [
    {
     "name": "stdin",
     "output_type": "stream",
     "text": [
      "enter your name : sanjana\n",
      "give us rating between (5 to 0) : 4\n",
      "Give your feedback : nice\n"
     ]
    },
    {
     "name": "stdout",
     "output_type": "stream",
     "text": [
      "you have rated very good\n",
      "Thank You !\n"
     ]
    }
   ],
   "source": [
    "try:\n",
    "    name=input(\"enter your name :\")\n",
    "    ratings=int(input(\"give us rating between (5 to 0) :\"))\n",
    "    feedback=input(\"Give your feedback :\")\n",
    "    fun1(name,ratings,feedback)\n",
    "except class1 as e:\n",
    "    print(e)\n",
    "    \n",
    "    \n",
    "    \n",
    "    "
   ]
  },
  {
   "cell_type": "code",
   "execution_count": null,
   "id": "fa23c50a-1d3e-458c-a964-cad397620ad8",
   "metadata": {},
   "outputs": [],
   "source": []
  }
 ],
 "metadata": {
  "kernelspec": {
   "display_name": "Python 3 (ipykernel)",
   "language": "python",
   "name": "python3"
  },
  "language_info": {
   "codemirror_mode": {
    "name": "ipython",
    "version": 3
   },
   "file_extension": ".py",
   "mimetype": "text/x-python",
   "name": "python",
   "nbconvert_exporter": "python",
   "pygments_lexer": "ipython3",
   "version": "3.10.8"
  }
 },
 "nbformat": 4,
 "nbformat_minor": 5
}
