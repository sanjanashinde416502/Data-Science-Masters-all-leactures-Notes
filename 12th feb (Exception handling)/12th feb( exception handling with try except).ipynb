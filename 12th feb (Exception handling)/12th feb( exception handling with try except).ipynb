{
 "cells": [
  {
   "cell_type": "code",
   "execution_count": 35,
   "id": "8ffdd1d4-01f5-4dc6-852e-bebb3752a5aa",
   "metadata": {},
   "outputs": [],
   "source": [
    "# Exeption handling :\n",
    "# python  is a sequencial execution language so if your first line fells to execute then second line or futher lines will not  executes even though\n",
    "# they are syntax wise right.\n",
    "# every time durig writing code we should used exeption handing and logging becaous it is good practice to code.\n",
    "# code in except block executes only if code in try block has error\n",
    "# if code in try block executed correctly then it will not execute code in except block . \n",
    "# we can write so many try statements in one try statement i.e(nested try statement)   \n",
    "# exeception block has major 4 blocks namely try block,except block, else block, finally block.\n",
    "# What to write in that above blocks:\n",
    "#     try block: write that code about which you are not conform about code you have written .\n",
    "#     except block: write that code which you want to execute if try block fells to execute .\n",
    "#     else block: in this block write code that you want to run if try block executes correctly.\n",
    "#     finally block: this block of code executes at any situation if try block executes successfully or not.eg:in this block we write code for database\n",
    "#                   disconnectivity in this situation if our system fetches data from database or not we have to disconnect database \n"
   ]
  },
  {
   "cell_type": "code",
   "execution_count": 2,
   "id": "67d259e0-f99c-4af0-b288-754f2f4be8e3",
   "metadata": {},
   "outputs": [],
   "source": [
    "a=10"
   ]
  },
  {
   "cell_type": "code",
   "execution_count": 3,
   "id": "3cca7b82-1a21-44e5-a6f4-342ddc1213c9",
   "metadata": {},
   "outputs": [
    {
     "ename": "ZeroDivisionError",
     "evalue": "division by zero",
     "output_type": "error",
     "traceback": [
      "\u001b[0;31m---------------------------------------------------------------------------\u001b[0m",
      "\u001b[0;31mZeroDivisionError\u001b[0m                         Traceback (most recent call last)",
      "Cell \u001b[0;32mIn[3], line 1\u001b[0m\n\u001b[0;32m----> 1\u001b[0m \u001b[43ma\u001b[49m\u001b[38;5;241;43m/\u001b[39;49m\u001b[38;5;241;43m0\u001b[39;49m\n",
      "\u001b[0;31mZeroDivisionError\u001b[0m: division by zero"
     ]
    }
   ],
   "source": [
    "a/0"
   ]
  },
  {
   "cell_type": "code",
   "execution_count": 6,
   "id": "e6057e8e-303b-40f6-ba09-e2467bc3fb1d",
   "metadata": {},
   "outputs": [
    {
     "ename": "FileNotFoundError",
     "evalue": "[Errno 2] No such file or directory: 'test5.test'",
     "output_type": "error",
     "traceback": [
      "\u001b[0;31m---------------------------------------------------------------------------\u001b[0m",
      "\u001b[0;31mFileNotFoundError\u001b[0m                         Traceback (most recent call last)",
      "Cell \u001b[0;32mIn[6], line 1\u001b[0m\n\u001b[0;32m----> 1\u001b[0m f\u001b[38;5;241m=\u001b[39m\u001b[38;5;28;43mopen\u001b[39;49m\u001b[43m(\u001b[49m\u001b[38;5;124;43m\"\u001b[39;49m\u001b[38;5;124;43mtest5.test\u001b[39;49m\u001b[38;5;124;43m\"\u001b[39;49m\u001b[43m,\u001b[49m\u001b[38;5;124;43m\"\u001b[39;49m\u001b[38;5;124;43mr\u001b[39;49m\u001b[38;5;124;43m\"\u001b[39;49m\u001b[43m)\u001b[49m \u001b[38;5;66;03m# python  is a sequencial execution language so if your first line fells to execute then second line or futher lines will not \u001b[39;00m\n\u001b[1;32m      2\u001b[0m \u001b[38;5;28mprint\u001b[39m(\u001b[38;5;124m\"\u001b[39m\u001b[38;5;124mthis is my print\u001b[39m\u001b[38;5;124m\"\u001b[39m) \u001b[38;5;66;03m# executes even though they are syntax wise right\u001b[39;00m\n",
      "File \u001b[0;32m/opt/conda/lib/python3.10/site-packages/IPython/core/interactiveshell.py:282\u001b[0m, in \u001b[0;36m_modified_open\u001b[0;34m(file, *args, **kwargs)\u001b[0m\n\u001b[1;32m    275\u001b[0m \u001b[38;5;28;01mif\u001b[39;00m file \u001b[38;5;129;01min\u001b[39;00m {\u001b[38;5;241m0\u001b[39m, \u001b[38;5;241m1\u001b[39m, \u001b[38;5;241m2\u001b[39m}:\n\u001b[1;32m    276\u001b[0m     \u001b[38;5;28;01mraise\u001b[39;00m \u001b[38;5;167;01mValueError\u001b[39;00m(\n\u001b[1;32m    277\u001b[0m         \u001b[38;5;124mf\u001b[39m\u001b[38;5;124m\"\u001b[39m\u001b[38;5;124mIPython won\u001b[39m\u001b[38;5;124m'\u001b[39m\u001b[38;5;124mt let you open fd=\u001b[39m\u001b[38;5;132;01m{\u001b[39;00mfile\u001b[38;5;132;01m}\u001b[39;00m\u001b[38;5;124m by default \u001b[39m\u001b[38;5;124m\"\u001b[39m\n\u001b[1;32m    278\u001b[0m         \u001b[38;5;124m\"\u001b[39m\u001b[38;5;124mas it is likely to crash IPython. If you know what you are doing, \u001b[39m\u001b[38;5;124m\"\u001b[39m\n\u001b[1;32m    279\u001b[0m         \u001b[38;5;124m\"\u001b[39m\u001b[38;5;124myou can use builtins\u001b[39m\u001b[38;5;124m'\u001b[39m\u001b[38;5;124m open.\u001b[39m\u001b[38;5;124m\"\u001b[39m\n\u001b[1;32m    280\u001b[0m     )\n\u001b[0;32m--> 282\u001b[0m \u001b[38;5;28;01mreturn\u001b[39;00m \u001b[43mio_open\u001b[49m\u001b[43m(\u001b[49m\u001b[43mfile\u001b[49m\u001b[43m,\u001b[49m\u001b[43m \u001b[49m\u001b[38;5;241;43m*\u001b[39;49m\u001b[43margs\u001b[49m\u001b[43m,\u001b[49m\u001b[43m \u001b[49m\u001b[38;5;241;43m*\u001b[39;49m\u001b[38;5;241;43m*\u001b[39;49m\u001b[43mkwargs\u001b[49m\u001b[43m)\u001b[49m\n",
      "\u001b[0;31mFileNotFoundError\u001b[0m: [Errno 2] No such file or directory: 'test5.test'"
     ]
    }
   ],
   "source": [
    "f=open(\"test5.test\",\"r\") # python  is a sequencial execution language so if your first line fells to execute then second line or futher lines will not \n",
    "print(\"this is my print\") # executes even though they are syntax wise right"
   ]
  },
  {
   "cell_type": "code",
   "execution_count": 12,
   "id": "8a373570-7ac6-4c86-ae77-5f42e9827dcf",
   "metadata": {},
   "outputs": [
    {
     "name": "stdout",
     "output_type": "stream",
     "text": [
      "this is my except block [Errno 2] No such file or directory: 'test5.txt'\n",
      "46\n"
     ]
    }
   ],
   "source": [
    "try:                             # for writting code in exception block write code that code in try block then write except function and in thet write \n",
    "    f=open(\"test5.txt\",\"r\")     # write futher code that we want to write.this will give us (error message for)errored statement and futher statements \n",
    "except Exception as e :        # will be excecuted\n",
    "    print(\"this is my except block\",e)\n",
    "    a=2+44\n",
    "    print(a)"
   ]
  },
  {
   "cell_type": "code",
   "execution_count": 19,
   "id": "a5bf6ce3-f4e8-4d97-8447-0c88d7137973",
   "metadata": {},
   "outputs": [],
   "source": [
    "try:                            # code in except block executes only if code in try block has error\n",
    "    f=open(\"test5.txt\",\"w\")      # if code iin try block executed correctly then it will not execute code in except block . \n",
    "    f.write(\"write into my file\")  # if we are not sure about our code that it is correct or not then keep that code in try block and futher code in \n",
    "    f.close()                       # except block\n",
    "except Exception as e :        \n",
    "    print(\"this is my except block\",e)\n",
    "    a=2+44\n",
    "    print(a)"
   ]
  },
  {
   "cell_type": "code",
   "execution_count": 23,
   "id": "52e0a03e-2ad2-4c1a-b50a-8a8f8c9fad6e",
   "metadata": {},
   "outputs": [
    {
     "name": "stdout",
     "output_type": "stream",
     "text": [
      "this else block will be executed once your try will executed without error\n"
     ]
    }
   ],
   "source": [
    "try:                            # code in except block executes only if code in try block has error\n",
    "    f=open(\"test5.txt\",\"w\")      # if code iin try block executed correctly then it will not execute code in except block . \n",
    "    f.write(\"write into my file\")\n",
    "\n",
    "except Exception as e :        \n",
    "    print(\"this is my except block\",e)\n",
    "    a=2+44\n",
    "    print(a)\n",
    "else:                                 # it is one type of code that else block executes if try block executes corrrectly\n",
    "    f.close()\n",
    "    print(\"this else block will be executed once your try will executed without error\")"
   ]
  },
  {
   "cell_type": "code",
   "execution_count": 26,
   "id": "42983d6b-338d-448b-bd19-0c8d5deb96d5",
   "metadata": {},
   "outputs": [
    {
     "name": "stdout",
     "output_type": "stream",
     "text": [
      "this is my except block an dthis executes only if try bolck code chrashed [Errno 2] No such file or directory: 'test6.txt'\n",
      "46\n"
     ]
    }
   ],
   "source": [
    "try:                            # code in except block executes only if code in try block has error\n",
    "    f=open(\"test6.txt\",\"r\")  # in this code else block will not executes because try block felled to executes in this case except block will executes  \n",
    "    f.write(\"write into my file\")\n",
    "\n",
    "except Exception as e :        \n",
    "    print(\"this is my except block an dthis executes only if try bolck code chrashed\",e)\n",
    "    a=2+44\n",
    "    print(a)\n",
    "else:                                 # it is one type of code that else block executes if try block executes corrrectly\n",
    "    f.close()\n",
    "    print(\"this else block will be executed once your try will executed without error\")"
   ]
  },
  {
   "cell_type": "code",
   "execution_count": 33,
   "id": "67c3de36-f8e4-4ebe-83ca-4dd22773cfc8",
   "metadata": {},
   "outputs": [
    {
     "name": "stdout",
     "output_type": "stream",
     "text": [
      "finally statement will execute itself in any situation\n"
     ]
    }
   ],
   "source": [
    "try:\n",
    "    f=open(\"text7.txt\",\"w\")\n",
    "    f.write(\"write somthing\")\n",
    "finally :                      # here finally statement will executes anytime if try block executes correctlly or has any error\n",
    "    print(\"finally statement will execute itself in any situation\")"
   ]
  },
  {
   "cell_type": "code",
   "execution_count": 32,
   "id": "521bad23-f3ff-4aca-9add-10db7b934a3f",
   "metadata": {},
   "outputs": [
    {
     "name": "stdout",
     "output_type": "stream",
     "text": [
      "finally statement will execute itself in any situation\n"
     ]
    },
    {
     "ename": "FileNotFoundError",
     "evalue": "[Errno 2] No such file or directory: 'text8.txt'",
     "output_type": "error",
     "traceback": [
      "\u001b[0;31m---------------------------------------------------------------------------\u001b[0m",
      "\u001b[0;31mFileNotFoundError\u001b[0m                         Traceback (most recent call last)",
      "Cell \u001b[0;32mIn[32], line 2\u001b[0m\n\u001b[1;32m      1\u001b[0m \u001b[38;5;28;01mtry\u001b[39;00m:\n\u001b[0;32m----> 2\u001b[0m     f\u001b[38;5;241m=\u001b[39m\u001b[38;5;28;43mopen\u001b[39;49m\u001b[43m(\u001b[49m\u001b[38;5;124;43m\"\u001b[39;49m\u001b[38;5;124;43mtext8.txt\u001b[39;49m\u001b[38;5;124;43m\"\u001b[39;49m\u001b[43m,\u001b[49m\u001b[38;5;124;43m\"\u001b[39;49m\u001b[38;5;124;43mr\u001b[39;49m\u001b[38;5;124;43m\"\u001b[39;49m\u001b[43m)\u001b[49m\n\u001b[1;32m      3\u001b[0m     f\u001b[38;5;241m.\u001b[39mwrite(\u001b[38;5;124m\"\u001b[39m\u001b[38;5;124mwrite somthing\u001b[39m\u001b[38;5;124m\"\u001b[39m)\n\u001b[1;32m      4\u001b[0m \u001b[38;5;28;01mfinally\u001b[39;00m :                   \u001b[38;5;66;03m# here finally statement will executes anytime if try block executes correctlly or has any error\u001b[39;00m\n",
      "File \u001b[0;32m/opt/conda/lib/python3.10/site-packages/IPython/core/interactiveshell.py:282\u001b[0m, in \u001b[0;36m_modified_open\u001b[0;34m(file, *args, **kwargs)\u001b[0m\n\u001b[1;32m    275\u001b[0m \u001b[38;5;28;01mif\u001b[39;00m file \u001b[38;5;129;01min\u001b[39;00m {\u001b[38;5;241m0\u001b[39m, \u001b[38;5;241m1\u001b[39m, \u001b[38;5;241m2\u001b[39m}:\n\u001b[1;32m    276\u001b[0m     \u001b[38;5;28;01mraise\u001b[39;00m \u001b[38;5;167;01mValueError\u001b[39;00m(\n\u001b[1;32m    277\u001b[0m         \u001b[38;5;124mf\u001b[39m\u001b[38;5;124m\"\u001b[39m\u001b[38;5;124mIPython won\u001b[39m\u001b[38;5;124m'\u001b[39m\u001b[38;5;124mt let you open fd=\u001b[39m\u001b[38;5;132;01m{\u001b[39;00mfile\u001b[38;5;132;01m}\u001b[39;00m\u001b[38;5;124m by default \u001b[39m\u001b[38;5;124m\"\u001b[39m\n\u001b[1;32m    278\u001b[0m         \u001b[38;5;124m\"\u001b[39m\u001b[38;5;124mas it is likely to crash IPython. If you know what you are doing, \u001b[39m\u001b[38;5;124m\"\u001b[39m\n\u001b[1;32m    279\u001b[0m         \u001b[38;5;124m\"\u001b[39m\u001b[38;5;124myou can use builtins\u001b[39m\u001b[38;5;124m'\u001b[39m\u001b[38;5;124m open.\u001b[39m\u001b[38;5;124m\"\u001b[39m\n\u001b[1;32m    280\u001b[0m     )\n\u001b[0;32m--> 282\u001b[0m \u001b[38;5;28;01mreturn\u001b[39;00m \u001b[43mio_open\u001b[49m\u001b[43m(\u001b[49m\u001b[43mfile\u001b[49m\u001b[43m,\u001b[49m\u001b[43m \u001b[49m\u001b[38;5;241;43m*\u001b[39;49m\u001b[43margs\u001b[49m\u001b[43m,\u001b[49m\u001b[43m \u001b[49m\u001b[38;5;241;43m*\u001b[39;49m\u001b[38;5;241;43m*\u001b[39;49m\u001b[43mkwargs\u001b[49m\u001b[43m)\u001b[49m\n",
      "\u001b[0;31mFileNotFoundError\u001b[0m: [Errno 2] No such file or directory: 'text8.txt'"
     ]
    }
   ],
   "source": [
    "try:\n",
    "    f=open(\"text8.txt\",\"r\")\n",
    "    f.write(\"write somthing\")\n",
    "finally :                   # here finally statement will executes anytime if try block executes correctlly or has any error\n",
    "    print(\"finally statement will execute itself in any situation\")"
   ]
  },
  {
   "cell_type": "code",
   "execution_count": 36,
   "id": "b73b0df4-b37d-48b6-a1f7-e332525fab6e",
   "metadata": {},
   "outputs": [],
   "source": [
    "# Practice problems on exeception handling:"
   ]
  },
  {
   "cell_type": "code",
   "execution_count": 70,
   "id": "6bfda4ac-4c5f-4447-9f37-41d3a8aaa4a3",
   "metadata": {},
   "outputs": [],
   "source": [
    "# problem no:1"
   ]
  },
  {
   "cell_type": "code",
   "execution_count": 48,
   "id": "0a853aca-70d6-4491-9b39-042735922f4f",
   "metadata": {},
   "outputs": [
    {
     "name": "stdout",
     "output_type": "stream",
     "text": [
      "this will execute only if try block executes correctly\n",
      "this will executes any time if try statement runs correctly or has any error\n"
     ]
    }
   ],
   "source": [
    "try:\n",
    "    f=open(\"test8.txt\",\"w\")\n",
    "    f.write(\"this is my try block\")\n",
    "except Exception as e:\n",
    "    print(\"this is a exception block\")\n",
    "    print(\"and this block will execute only if try block fells to execute\")\n",
    "else:\n",
    "    f.close()\n",
    "    print(\"this will execute only if try block executes correctly\")\n",
    "finally:\n",
    "    print(\"this will executes any time if try statement runs correctly or has any error\")\n",
    "    "
   ]
  },
  {
   "cell_type": "code",
   "execution_count": 43,
   "id": "5b9c2bc1-9591-4616-ac49-1578f4411c8e",
   "metadata": {},
   "outputs": [],
   "source": [
    "# we have write above code using logging bellow:"
   ]
  },
  {
   "cell_type": "code",
   "execution_count": 65,
   "id": "178e7d47-8991-4461-921e-9442efb0c109",
   "metadata": {},
   "outputs": [],
   "source": [
    "import logging"
   ]
  },
  {
   "cell_type": "code",
   "execution_count": 66,
   "id": "2b5bb5d9-f5ee-4bd5-b4df-01d74ff6b399",
   "metadata": {},
   "outputs": [],
   "source": [
    "# in below code try block runs correctly:(we can see this in test2.log file)"
   ]
  },
  {
   "cell_type": "code",
   "execution_count": 67,
   "id": "e20f5138-ba99-4629-8bf7-dc2692480102",
   "metadata": {},
   "outputs": [
    {
     "name": "stdout",
     "output_type": "stream",
     "text": [
      "this will execute only if try block executes correctly\n",
      "this will executes any time if try statement runs correctly or has any error\n"
     ]
    }
   ],
   "source": [
    "logging.basicConfig(filename=\"test4.log\",level=logging.INFO)\n",
    "try:                                                            \n",
    "    logging.info(\"this is in try block\")\n",
    "    f=open(\"test8.txt\",\"w\")\n",
    "    f.write(\"this is my try block\")\n",
    "except Exception as e:\n",
    "    logging.error(\"this is a error block generated due to failure of try block \")\n",
    "    print(\"this is a exception block\")\n",
    "    print(\"and this block will execute only if try block fells to execute\")\n",
    "else:\n",
    "    logging.info(\"this is a block which executed only if try block runs correctly\")\n",
    "    f.close()\n",
    "    print(\"this will execute only if try block executes correctly\")\n",
    "finally:\n",
    "    logging.info(\"this block will executes every time if try block runs successfully or not \")\n",
    "    print(\"this will executes any time if try statement runs correctly or has any error\")\n",
    "    "
   ]
  },
  {
   "cell_type": "code",
   "execution_count": 68,
   "id": "f24c2805-e18d-4b8b-960b-b727a31479a6",
   "metadata": {},
   "outputs": [],
   "source": [
    "# in below code try block fells to execute :(we can see this in test2.log file)"
   ]
  },
  {
   "cell_type": "code",
   "execution_count": 69,
   "id": "5c14486e-db24-4ea8-ad0b-8b1ff33068bb",
   "metadata": {},
   "outputs": [
    {
     "name": "stdout",
     "output_type": "stream",
     "text": [
      "this is a exception block\n",
      "and this block will execute only if try block fells to execute\n",
      "this will executes any time if try statement runs correctly or has any error\n"
     ]
    }
   ],
   "source": [
    "logging.basicConfig(filename=\"test4.log\",level=logging.INFO)\n",
    "try:\n",
    "    logging.info(\"this is in try block\")\n",
    "    f=open(\"test9.txt\",\"r\")\n",
    "    f.write(\"this is my try block\")\n",
    "except Exception as e:\n",
    "    logging.error(\"this is a error block generated due to failure of try block \")\n",
    "    print(\"this is a exception block\")\n",
    "    print(\"and this block will execute only if try block fells to execute\")\n",
    "else:\n",
    "    logging.info(\"this is a block which executed only if try block runs correctly\")\n",
    "    f.close()\n",
    "    print(\"this will execute only if try block executes correctly\")\n",
    "finally:\n",
    "    logging.info(\"this block will executes every time if try block runs successfully or not \")\n",
    "    print(\"this will executes any time if try statement runs correctly or has any error\")\n",
    "    "
   ]
  },
  {
   "cell_type": "code",
   "execution_count": 71,
   "id": "f49c27fc-70c2-416d-b909-82bfa8c2d7df",
   "metadata": {},
   "outputs": [],
   "source": [
    "# problem no 2:"
   ]
  },
  {
   "cell_type": "code",
   "execution_count": 85,
   "id": "396dbd67-fe8c-4634-8374-93a8aa1f0334",
   "metadata": {},
   "outputs": [
    {
     "name": "stdout",
     "output_type": "stream",
     "text": [
      "you have withdrown money and trascation is successful\n"
     ]
    }
   ],
   "source": [
    "try:\n",
    "    class class1():\n",
    "        def fun_class1(self,balance,amount):\n",
    "            self.balance=balance\n",
    "            self.amount=amount\n",
    "            if (self.balance>=amount):\n",
    "                self.balance=self.balance-self.amount\n",
    "                print(\"you can withdrow money\")\n",
    "            return self.balance\n",
    "    \n",
    "except Exception as e:\n",
    "    print(\"you can not withdrow money\")\n",
    "else:\n",
    "    print(\"you have withdrown money and trascation is successful\")\n",
    "    \n",
    "    \n",
    "        "
   ]
  },
  {
   "cell_type": "code",
   "execution_count": null,
   "id": "89bb4d61-7d77-4f1d-abb9-4562ed7baf3f",
   "metadata": {},
   "outputs": [],
   "source": []
  }
 ],
 "metadata": {
  "kernelspec": {
   "display_name": "Python 3 (ipykernel)",
   "language": "python",
   "name": "python3"
  },
  "language_info": {
   "codemirror_mode": {
    "name": "ipython",
    "version": 3
   },
   "file_extension": ".py",
   "mimetype": "text/x-python",
   "name": "python",
   "nbconvert_exporter": "python",
   "pygments_lexer": "ipython3",
   "version": "3.10.8"
  }
 },
 "nbformat": 4,
 "nbformat_minor": 5
}
