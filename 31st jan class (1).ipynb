{
 "cells": [
  {
   "cell_type": "code",
   "execution_count": 1,
   "id": "1a150579-6c81-4788-b11a-28932296f41a",
   "metadata": {},
   "outputs": [],
   "source": [
    "l=[1,2,3,4,\"sanjana\",True,False]"
   ]
  },
  {
   "cell_type": "code",
   "execution_count": 2,
   "id": "a05cc531-f514-44df-bdc6-e1d30d4533ad",
   "metadata": {},
   "outputs": [
    {
     "data": {
      "text/plain": [
       "list"
      ]
     },
     "execution_count": 2,
     "metadata": {},
     "output_type": "execute_result"
    }
   ],
   "source": [
    "type(l)"
   ]
  },
  {
   "cell_type": "code",
   "execution_count": 4,
   "id": "4aaf155e-62db-4be4-978e-82f97387ef90",
   "metadata": {},
   "outputs": [
    {
     "data": {
      "text/plain": [
       "1"
      ]
     },
     "execution_count": 4,
     "metadata": {},
     "output_type": "execute_result"
    }
   ],
   "source": [
    "l[0]"
   ]
  },
  {
   "cell_type": "code",
   "execution_count": 5,
   "id": "82a98486-7f6e-4701-9b0b-6fc4f3aaaebc",
   "metadata": {},
   "outputs": [
    {
     "data": {
      "text/plain": [
       "4"
      ]
     },
     "execution_count": 5,
     "metadata": {},
     "output_type": "execute_result"
    }
   ],
   "source": [
    "l[3]"
   ]
  },
  {
   "cell_type": "code",
   "execution_count": 6,
   "id": "626b1249-e5d1-4fb2-b117-610c34fb6e5f",
   "metadata": {},
   "outputs": [
    {
     "data": {
      "text/plain": [
       "False"
      ]
     },
     "execution_count": 6,
     "metadata": {},
     "output_type": "execute_result"
    }
   ],
   "source": [
    "l[6]"
   ]
  },
  {
   "cell_type": "code",
   "execution_count": 7,
   "id": "02e6bd20-73c3-4fbd-8fa3-e86b2835a022",
   "metadata": {},
   "outputs": [
    {
     "data": {
      "text/plain": [
       "'sanjana'"
      ]
     },
     "execution_count": 7,
     "metadata": {},
     "output_type": "execute_result"
    }
   ],
   "source": [
    "l[4]"
   ]
  },
  {
   "cell_type": "code",
   "execution_count": 8,
   "id": "b60da1d8-5447-481e-a6db-325f0c3b9e60",
   "metadata": {},
   "outputs": [
    {
     "ename": "IndexError",
     "evalue": "list index out of range",
     "output_type": "error",
     "traceback": [
      "\u001b[0;31m---------------------------------------------------------------------------\u001b[0m",
      "\u001b[0;31mIndexError\u001b[0m                                Traceback (most recent call last)",
      "Cell \u001b[0;32mIn[8], line 1\u001b[0m\n\u001b[0;32m----> 1\u001b[0m \u001b[43ml\u001b[49m\u001b[43m[\u001b[49m\u001b[38;5;241;43m90\u001b[39;49m\u001b[43m]\u001b[49m\n",
      "\u001b[0;31mIndexError\u001b[0m: list index out of range"
     ]
    }
   ],
   "source": [
    "l[90]"
   ]
  },
  {
   "cell_type": "code",
   "execution_count": 5,
   "id": "0e34cf24-0455-41c1-af97-b917dbbd7c67",
   "metadata": {},
   "outputs": [],
   "source": [
    "l=[1,2,345,'Sanjana']"
   ]
  },
  {
   "cell_type": "code",
   "execution_count": 6,
   "id": "4d4fe3b9-652a-4e58-bd60-32adb868d1a8",
   "metadata": {},
   "outputs": [
    {
     "data": {
      "text/plain": [
       "2"
      ]
     },
     "execution_count": 6,
     "metadata": {},
     "output_type": "execute_result"
    }
   ],
   "source": [
    "l[1]"
   ]
  },
  {
   "cell_type": "code",
   "execution_count": 7,
   "id": "3b0220f6-8c64-463b-ae28-585cd8e775d1",
   "metadata": {},
   "outputs": [
    {
     "data": {
      "text/plain": [
       "[345]"
      ]
     },
     "execution_count": 7,
     "metadata": {},
     "output_type": "execute_result"
    }
   ],
   "source": [
    "l[2:5:2]"
   ]
  },
  {
   "cell_type": "code",
   "execution_count": 8,
   "id": "238f6c59-2d39-435d-8ebf-4a7250be71ba",
   "metadata": {},
   "outputs": [
    {
     "data": {
      "text/plain": [
       "'Sanjana'"
      ]
     },
     "execution_count": 8,
     "metadata": {},
     "output_type": "execute_result"
    }
   ],
   "source": [
    "l[-1]"
   ]
  },
  {
   "cell_type": "code",
   "execution_count": 9,
   "id": "ba7af893-f6a7-4363-84a7-a40020c29f54",
   "metadata": {},
   "outputs": [
    {
     "data": {
      "text/plain": [
       "['Sanjana', 345, 2, 1]"
      ]
     },
     "execution_count": 9,
     "metadata": {},
     "output_type": "execute_result"
    }
   ],
   "source": [
    "l[::-1]"
   ]
  },
  {
   "cell_type": "code",
   "execution_count": 15,
   "id": "ad9c5450-cb52-4174-abb5-9ef448951c31",
   "metadata": {},
   "outputs": [],
   "source": [
    "l=[1,2.4,'Sanjana',2.4,True]"
   ]
  },
  {
   "cell_type": "code",
   "execution_count": 7,
   "id": "65615421-c902-43d4-9b63-cbd4a8497879",
   "metadata": {},
   "outputs": [
    {
     "data": {
      "text/plain": [
       "[1, 2.4, 'Sanjana', 2.4]"
      ]
     },
     "execution_count": 7,
     "metadata": {},
     "output_type": "execute_result"
    }
   ],
   "source": [
    "list(l)"
   ]
  },
  {
   "cell_type": "code",
   "execution_count": 9,
   "id": "f22682cf-5fa8-47f0-9868-c4b2bef6ddb7",
   "metadata": {},
   "outputs": [],
   "source": [
    "s='sanjana'"
   ]
  },
  {
   "cell_type": "code",
   "execution_count": 10,
   "id": "2ccd6b72-43b6-445d-adff-c653b6de722c",
   "metadata": {},
   "outputs": [
    {
     "data": {
      "text/plain": [
       "['s', 'a', 'n', 'j', 'a', 'n', 'a']"
      ]
     },
     "execution_count": 10,
     "metadata": {},
     "output_type": "execute_result"
    }
   ],
   "source": [
    "list(s)"
   ]
  },
  {
   "cell_type": "code",
   "execution_count": 13,
   "id": "741098cb-707b-4f4e-badc-90bfb01586fc",
   "metadata": {},
   "outputs": [
    {
     "data": {
      "text/plain": [
       "'Sanjana'"
      ]
     },
     "execution_count": 13,
     "metadata": {},
     "output_type": "execute_result"
    }
   ],
   "source": [
    "l[2]"
   ]
  },
  {
   "cell_type": "code",
   "execution_count": 14,
   "id": "a9412df7-8886-4858-824e-561b21447c9d",
   "metadata": {},
   "outputs": [
    {
     "data": {
      "text/plain": [
       "'Sa'"
      ]
     },
     "execution_count": 14,
     "metadata": {},
     "output_type": "execute_result"
    }
   ],
   "source": [
    "l[2][0:2]"
   ]
  },
  {
   "cell_type": "code",
   "execution_count": 17,
   "id": "03c0939e-4b69-490a-bdf2-28e00650a8bb",
   "metadata": {},
   "outputs": [
    {
     "data": {
      "text/plain": [
       "True"
      ]
     },
     "execution_count": 17,
     "metadata": {},
     "output_type": "execute_result"
    }
   ],
   "source": [
    "l[4]"
   ]
  },
  {
   "cell_type": "code",
   "execution_count": 18,
   "id": "ecc30f0c-43ba-4c99-89bf-79c15a008e1c",
   "metadata": {},
   "outputs": [
    {
     "data": {
      "text/plain": [
       "'Tr'"
      ]
     },
     "execution_count": 18,
     "metadata": {},
     "output_type": "execute_result"
    }
   ],
   "source": [
    "str(l[4])[0:2]"
   ]
  },
  {
   "cell_type": "code",
   "execution_count": 19,
   "id": "b8e59b5d-44b7-43f6-b88a-74cfacf7d129",
   "metadata": {},
   "outputs": [
    {
     "ename": "TypeError",
     "evalue": "can only concatenate list (not \"int\") to list",
     "output_type": "error",
     "traceback": [
      "\u001b[0;31m---------------------------------------------------------------------------\u001b[0m",
      "\u001b[0;31mTypeError\u001b[0m                                 Traceback (most recent call last)",
      "Cell \u001b[0;32mIn[19], line 1\u001b[0m\n\u001b[0;32m----> 1\u001b[0m \u001b[43ml\u001b[49m\u001b[38;5;241;43m+\u001b[39;49m\u001b[38;5;241;43m5\u001b[39;49m\n",
      "\u001b[0;31mTypeError\u001b[0m: can only concatenate list (not \"int\") to list"
     ]
    }
   ],
   "source": [
    "l+5"
   ]
  },
  {
   "cell_type": "code",
   "execution_count": 20,
   "id": "5507c0e1-4e84-4a14-84a4-6a430e945ab1",
   "metadata": {},
   "outputs": [],
   "source": [
    "ll=[1,2,3]"
   ]
  },
  {
   "cell_type": "code",
   "execution_count": 21,
   "id": "9362c957-877f-4448-9ad4-710792d7b49e",
   "metadata": {},
   "outputs": [
    {
     "data": {
      "text/plain": [
       "[1, 2.4, 'Sanjana', 2.4, True, 1, 2, 3]"
      ]
     },
     "execution_count": 21,
     "metadata": {},
     "output_type": "execute_result"
    }
   ],
   "source": [
    "l+ll"
   ]
  },
  {
   "cell_type": "code",
   "execution_count": 22,
   "id": "f29c76ff-285f-4916-9c2a-79e95fddb815",
   "metadata": {},
   "outputs": [
    {
     "data": {
      "text/plain": [
       "[1, 2, 3, 1, 2, 3]"
      ]
     },
     "execution_count": 22,
     "metadata": {},
     "output_type": "execute_result"
    }
   ],
   "source": [
    "ll*2"
   ]
  },
  {
   "cell_type": "code",
   "execution_count": 25,
   "id": "b79bad46-8b80-460f-92ab-7233880fc8b9",
   "metadata": {},
   "outputs": [
    {
     "data": {
      "text/plain": [
       "5"
      ]
     },
     "execution_count": 25,
     "metadata": {},
     "output_type": "execute_result"
    }
   ],
   "source": [
    "len(l)"
   ]
  },
  {
   "cell_type": "code",
   "execution_count": 28,
   "id": "1eee6da9-17ca-4484-91ec-d3753ee8748b",
   "metadata": {},
   "outputs": [],
   "source": [
    "l.append(5)"
   ]
  },
  {
   "cell_type": "code",
   "execution_count": 29,
   "id": "06d46e99-6ec5-4958-835a-4c2089f58ea6",
   "metadata": {},
   "outputs": [
    {
     "data": {
      "text/plain": [
       "[1, 2.4, 'Sanjana', 2.4, True, 5, 5]"
      ]
     },
     "execution_count": 29,
     "metadata": {},
     "output_type": "execute_result"
    }
   ],
   "source": [
    "l"
   ]
  },
  {
   "cell_type": "code",
   "execution_count": 30,
   "id": "7c5ff837-7283-4d74-85b3-49418ffff1af",
   "metadata": {},
   "outputs": [
    {
     "data": {
      "text/plain": [
       "[1, 2.4, 'Sanjana', 2.4, True, 5, 5]"
      ]
     },
     "execution_count": 30,
     "metadata": {},
     "output_type": "execute_result"
    }
   ],
   "source": [
    "l"
   ]
  },
  {
   "cell_type": "code",
   "execution_count": 31,
   "id": "c4486eb3-6323-4dea-a04d-0ce28d84f876",
   "metadata": {},
   "outputs": [
    {
     "data": {
      "text/plain": [
       "'sanjana'"
      ]
     },
     "execution_count": 31,
     "metadata": {},
     "output_type": "execute_result"
    }
   ],
   "source": [
    "s"
   ]
  },
  {
   "cell_type": "code",
   "execution_count": 32,
   "id": "707a772c-8964-4168-9138-c7867337f390",
   "metadata": {},
   "outputs": [],
   "source": [
    "l.append(s)"
   ]
  },
  {
   "cell_type": "code",
   "execution_count": 33,
   "id": "a1e9475a-3058-4239-ac08-97ca842748ab",
   "metadata": {},
   "outputs": [
    {
     "data": {
      "text/plain": [
       "[1, 2.4, 'Sanjana', 2.4, True, 5, 5, 'sanjana']"
      ]
     },
     "execution_count": 33,
     "metadata": {},
     "output_type": "execute_result"
    }
   ],
   "source": [
    "l"
   ]
  },
  {
   "cell_type": "code",
   "execution_count": 34,
   "id": "8a473d0d-ffd7-49fe-9681-3dbfcf60f337",
   "metadata": {},
   "outputs": [],
   "source": [
    "l.append(ll)"
   ]
  },
  {
   "cell_type": "code",
   "execution_count": 35,
   "id": "792b56b5-e1c9-41b8-bdec-fe92d527df62",
   "metadata": {},
   "outputs": [
    {
     "data": {
      "text/plain": [
       "[1, 2.4, 'Sanjana', 2.4, True, 5, 5, 'sanjana', [1, 2, 3]]"
      ]
     },
     "execution_count": 35,
     "metadata": {},
     "output_type": "execute_result"
    }
   ],
   "source": [
    "l"
   ]
  },
  {
   "cell_type": "code",
   "execution_count": 37,
   "id": "115196da-3ed3-465d-b3a8-686fd1d07b63",
   "metadata": {},
   "outputs": [
    {
     "data": {
      "text/plain": [
       "2"
      ]
     },
     "execution_count": 37,
     "metadata": {},
     "output_type": "execute_result"
    }
   ],
   "source": [
    "l[-1][1]"
   ]
  },
  {
   "cell_type": "code",
   "execution_count": 43,
   "id": "751773a4-1375-43e1-95bb-7e235580dcc6",
   "metadata": {},
   "outputs": [
    {
     "ename": "TypeError",
     "evalue": "'int' object is not iterable",
     "output_type": "error",
     "traceback": [
      "\u001b[0;31m---------------------------------------------------------------------------\u001b[0m",
      "\u001b[0;31mTypeError\u001b[0m                                 Traceback (most recent call last)",
      "Cell \u001b[0;32mIn[43], line 1\u001b[0m\n\u001b[0;32m----> 1\u001b[0m \u001b[43ml\u001b[49m\u001b[38;5;241;43m.\u001b[39;49m\u001b[43mextend\u001b[49m\u001b[43m(\u001b[49m\u001b[38;5;241;43m423\u001b[39;49m\u001b[43m)\u001b[49m\n",
      "\u001b[0;31mTypeError\u001b[0m: 'int' object is not iterable"
     ]
    }
   ],
   "source": [
    "l.extend(423)"
   ]
  },
  {
   "cell_type": "code",
   "execution_count": 41,
   "id": "4135a1a6-4579-4e97-be24-809a9463e510",
   "metadata": {},
   "outputs": [],
   "source": [
    "l.extend('sonu')"
   ]
  },
  {
   "cell_type": "code",
   "execution_count": 42,
   "id": "9c54119c-5e52-46fe-8c32-a9cccd6094cb",
   "metadata": {},
   "outputs": [
    {
     "data": {
      "text/plain": [
       "[1, 2.4, 'Sanjana', 2.4, True, 5, 5, 'sanjana', [1, 2, 3], 's', 'o', 'n', 'u']"
      ]
     },
     "execution_count": 42,
     "metadata": {},
     "output_type": "execute_result"
    }
   ],
   "source": [
    "l"
   ]
  },
  {
   "cell_type": "code",
   "execution_count": 46,
   "id": "6f4e1295-b308-4e4c-93bb-799f05d4aac6",
   "metadata": {},
   "outputs": [],
   "source": [
    "l.extend([2,3,4])"
   ]
  },
  {
   "cell_type": "code",
   "execution_count": 47,
   "id": "40d03d4c-0e64-4337-a53c-20102088c17a",
   "metadata": {},
   "outputs": [
    {
     "data": {
      "text/plain": [
       "[1,\n",
       " 2.4,\n",
       " 'Sanjana',\n",
       " 2.4,\n",
       " True,\n",
       " 5,\n",
       " 5,\n",
       " 'sanjana',\n",
       " [1, 2, 3],\n",
       " 's',\n",
       " 'o',\n",
       " 'n',\n",
       " 'u',\n",
       " 2,\n",
       " 3,\n",
       " 4]"
      ]
     },
     "execution_count": 47,
     "metadata": {},
     "output_type": "execute_result"
    }
   ],
   "source": [
    "l"
   ]
  },
  {
   "cell_type": "code",
   "execution_count": 49,
   "id": "04698e18-a843-4ddf-a21c-3ced34667e39",
   "metadata": {},
   "outputs": [
    {
     "data": {
      "text/plain": [
       "[1, 2, 3]"
      ]
     },
     "execution_count": 49,
     "metadata": {},
     "output_type": "execute_result"
    }
   ],
   "source": [
    "ll"
   ]
  },
  {
   "cell_type": "code",
   "execution_count": 51,
   "id": "25979462-df7b-486b-95fe-54d272f5f654",
   "metadata": {},
   "outputs": [],
   "source": [
    "ll.insert(1,'sanu')"
   ]
  },
  {
   "cell_type": "code",
   "execution_count": 52,
   "id": "c9590111-f1ce-431a-8905-5a7eb8d13350",
   "metadata": {},
   "outputs": [
    {
     "data": {
      "text/plain": [
       "[1, 'sanu', 2, 3]"
      ]
     },
     "execution_count": 52,
     "metadata": {},
     "output_type": "execute_result"
    }
   ],
   "source": [
    "ll"
   ]
  },
  {
   "cell_type": "code",
   "execution_count": 55,
   "id": "4c36fe8d-0350-42fb-9727-521eb658ae19",
   "metadata": {},
   "outputs": [],
   "source": [
    "ll.insert(2,[23,45])"
   ]
  },
  {
   "cell_type": "code",
   "execution_count": 54,
   "id": "46304c82-f4ed-4174-801a-b20e15d401c7",
   "metadata": {},
   "outputs": [
    {
     "data": {
      "text/plain": [
       "[1, 'sanu', [2345], 2, 3]"
      ]
     },
     "execution_count": 54,
     "metadata": {},
     "output_type": "execute_result"
    }
   ],
   "source": [
    "ll"
   ]
  },
  {
   "cell_type": "code",
   "execution_count": 56,
   "id": "b1a41fce-42fd-429c-a459-4609f232691b",
   "metadata": {},
   "outputs": [
    {
     "data": {
      "text/plain": [
       "[1, 'sanu', [23, 45], [2345], 2, 3]"
      ]
     },
     "execution_count": 56,
     "metadata": {},
     "output_type": "execute_result"
    }
   ],
   "source": [
    "ll"
   ]
  },
  {
   "cell_type": "code",
   "execution_count": 60,
   "id": "ba412e10-aad1-48e9-93fb-e7cd03195884",
   "metadata": {},
   "outputs": [],
   "source": [
    "ll.insert(0,6)"
   ]
  },
  {
   "cell_type": "code",
   "execution_count": 59,
   "id": "2cc78466-7bfd-45eb-ad33-abc98631dae0",
   "metadata": {},
   "outputs": [
    {
     "data": {
      "text/plain": [
       "[1, 'sanu', [23, 45], [2345], 2, 26, 3]"
      ]
     },
     "execution_count": 59,
     "metadata": {},
     "output_type": "execute_result"
    }
   ],
   "source": [
    "ll"
   ]
  },
  {
   "cell_type": "code",
   "execution_count": 61,
   "id": "a72fc624-6299-4980-aa25-e06bccd5ba97",
   "metadata": {},
   "outputs": [
    {
     "data": {
      "text/plain": [
       "[6, 1, 'sanu', [23, 45], [2345], 2, 26, 3]"
      ]
     },
     "execution_count": 61,
     "metadata": {},
     "output_type": "execute_result"
    }
   ],
   "source": [
    "ll"
   ]
  },
  {
   "cell_type": "code",
   "execution_count": 62,
   "id": "2faa394b-d06d-4386-ae95-fb5452912e32",
   "metadata": {},
   "outputs": [
    {
     "data": {
      "text/plain": [
       "3"
      ]
     },
     "execution_count": 62,
     "metadata": {},
     "output_type": "execute_result"
    }
   ],
   "source": [
    "ll.pop()"
   ]
  },
  {
   "cell_type": "code",
   "execution_count": 63,
   "id": "e8d5c8a4-b9bc-4406-9483-bf5c04bef2ef",
   "metadata": {},
   "outputs": [
    {
     "data": {
      "text/plain": [
       "[6, 1, 'sanu', [23, 45], [2345], 2, 26]"
      ]
     },
     "execution_count": 63,
     "metadata": {},
     "output_type": "execute_result"
    }
   ],
   "source": [
    "ll"
   ]
  },
  {
   "cell_type": "code",
   "execution_count": 64,
   "id": "0f43ca1a-5ef1-4bda-81b2-f6b56ffb2f27",
   "metadata": {},
   "outputs": [
    {
     "data": {
      "text/plain": [
       "26"
      ]
     },
     "execution_count": 64,
     "metadata": {},
     "output_type": "execute_result"
    }
   ],
   "source": [
    "ll.pop()"
   ]
  },
  {
   "cell_type": "code",
   "execution_count": 65,
   "id": "f7e394dd-ea05-4e88-aa8f-9dce61ba59a2",
   "metadata": {},
   "outputs": [
    {
     "data": {
      "text/plain": [
       "'sanu'"
      ]
     },
     "execution_count": 65,
     "metadata": {},
     "output_type": "execute_result"
    }
   ],
   "source": [
    "ll.pop(2)"
   ]
  },
  {
   "cell_type": "code",
   "execution_count": 66,
   "id": "eb811b38-e4c2-40a0-8b2d-5c08fcb972c4",
   "metadata": {},
   "outputs": [
    {
     "data": {
      "text/plain": [
       "[1,\n",
       " 2.4,\n",
       " 'Sanjana',\n",
       " 2.4,\n",
       " True,\n",
       " 5,\n",
       " 5,\n",
       " 'sanjana',\n",
       " [6, 1, [23, 45], [2345], 2],\n",
       " 's',\n",
       " 'o',\n",
       " 'n',\n",
       " 'u',\n",
       " 2,\n",
       " 3,\n",
       " 4]"
      ]
     },
     "execution_count": 66,
     "metadata": {},
     "output_type": "execute_result"
    }
   ],
   "source": [
    "l"
   ]
  },
  {
   "cell_type": "code",
   "execution_count": 67,
   "id": "2299c504-acba-4544-8dad-0253d51b280b",
   "metadata": {},
   "outputs": [
    {
     "data": {
      "text/plain": [
       "[6, 1, [23, 45], [2345], 2]"
      ]
     },
     "execution_count": 67,
     "metadata": {},
     "output_type": "execute_result"
    }
   ],
   "source": [
    "ll"
   ]
  },
  {
   "cell_type": "code",
   "execution_count": 69,
   "id": "dc12e9d2-3d0e-4fa0-a6d0-bcf00af7a1b6",
   "metadata": {},
   "outputs": [],
   "source": [
    "ll.remove(1)"
   ]
  },
  {
   "cell_type": "code",
   "execution_count": 70,
   "id": "86eff1c5-bd84-4b36-a598-b6341a0c2e07",
   "metadata": {},
   "outputs": [
    {
     "data": {
      "text/plain": [
       "[6, [23, 45], [2345], 2]"
      ]
     },
     "execution_count": 70,
     "metadata": {},
     "output_type": "execute_result"
    }
   ],
   "source": [
    "ll"
   ]
  },
  {
   "cell_type": "code",
   "execution_count": null,
   "id": "738712f6-c106-44b4-84fa-b7af0f984c09",
   "metadata": {},
   "outputs": [],
   "source": []
  }
 ],
 "metadata": {
  "kernelspec": {
   "display_name": "Python 3 (ipykernel)",
   "language": "python",
   "name": "python3"
  },
  "language_info": {
   "codemirror_mode": {
    "name": "ipython",
    "version": 3
   },
   "file_extension": ".py",
   "mimetype": "text/x-python",
   "name": "python",
   "nbconvert_exporter": "python",
   "pygments_lexer": "ipython3",
   "version": "3.10.8"
  }
 },
 "nbformat": 4,
 "nbformat_minor": 5
}
