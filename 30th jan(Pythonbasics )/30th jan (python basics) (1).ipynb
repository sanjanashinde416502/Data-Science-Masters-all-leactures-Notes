{
 "cells": [
  {
   "cell_type": "code",
   "execution_count": 1,
   "id": "a999d354-e04b-498b-8222-37e8a114ed19",
   "metadata": {},
   "outputs": [
    {
     "data": {
      "text/plain": [
       "2"
      ]
     },
     "execution_count": 1,
     "metadata": {},
     "output_type": "execute_result"
    }
   ],
   "source": [
    "1+1"
   ]
  },
  {
   "cell_type": "code",
   "execution_count": 2,
   "id": "e7e1c6b9-7d7f-4216-8865-ca24c8dcb1fa",
   "metadata": {},
   "outputs": [],
   "source": [
    "a=\"sanjana\""
   ]
  },
  {
   "cell_type": "code",
   "execution_count": 3,
   "id": "443fbc23-dae3-4cad-914c-effd50e7e5e4",
   "metadata": {},
   "outputs": [
    {
     "data": {
      "text/plain": [
       "'sanjana'"
      ]
     },
     "execution_count": 3,
     "metadata": {},
     "output_type": "execute_result"
    }
   ],
   "source": [
    "a"
   ]
  },
  {
   "cell_type": "code",
   "execution_count": 4,
   "id": "99f58a20-b9d8-49df-bb05-194824d277b5",
   "metadata": {},
   "outputs": [
    {
     "data": {
      "text/plain": [
       "str"
      ]
     },
     "execution_count": 4,
     "metadata": {},
     "output_type": "execute_result"
    }
   ],
   "source": [
    "type(a)"
   ]
  },
  {
   "cell_type": "code",
   "execution_count": 5,
   "id": "cb273b3b-06ef-405f-8979-86547e15fccb",
   "metadata": {},
   "outputs": [
    {
     "data": {
      "text/plain": [
       "0"
      ]
     },
     "execution_count": 5,
     "metadata": {},
     "output_type": "execute_result"
    }
   ],
   "source": [
    "3-3"
   ]
  },
  {
   "cell_type": "code",
   "execution_count": 6,
   "id": "d0cf9285-b1f8-469e-a49a-be83ed81ddf5",
   "metadata": {},
   "outputs": [
    {
     "data": {
      "text/plain": [
       "5"
      ]
     },
     "execution_count": 6,
     "metadata": {},
     "output_type": "execute_result"
    }
   ],
   "source": [
    "2+3"
   ]
  },
  {
   "cell_type": "code",
   "execution_count": 7,
   "id": "17bd7a84-af1c-47c9-8eb0-0ec36c55d6be",
   "metadata": {},
   "outputs": [],
   "source": [
    "a=True"
   ]
  },
  {
   "cell_type": "code",
   "execution_count": 8,
   "id": "db5447a8-7c8a-4fee-bb06-f8dd60f1ea0e",
   "metadata": {},
   "outputs": [
    {
     "data": {
      "text/plain": [
       "True"
      ]
     },
     "execution_count": 8,
     "metadata": {},
     "output_type": "execute_result"
    }
   ],
   "source": [
    "a"
   ]
  },
  {
   "cell_type": "code",
   "execution_count": 9,
   "id": "ad1f3aa7-2e79-4aa1-9341-060d5322169d",
   "metadata": {},
   "outputs": [
    {
     "data": {
      "text/plain": [
       "bool"
      ]
     },
     "execution_count": 9,
     "metadata": {},
     "output_type": "execute_result"
    }
   ],
   "source": [
    "type(a)"
   ]
  },
  {
   "cell_type": "code",
   "execution_count": 10,
   "id": "5d993969-da79-45e5-bd3d-23ac73869aaf",
   "metadata": {},
   "outputs": [],
   "source": [
    "b=False"
   ]
  },
  {
   "cell_type": "code",
   "execution_count": 11,
   "id": "099e4451-edbe-4202-98c3-67fd3669e4ff",
   "metadata": {},
   "outputs": [
    {
     "data": {
      "text/plain": [
       "False"
      ]
     },
     "execution_count": 11,
     "metadata": {},
     "output_type": "execute_result"
    }
   ],
   "source": [
    "b"
   ]
  },
  {
   "cell_type": "code",
   "execution_count": 12,
   "id": "c09dea6d-252a-4d74-a890-cb7465bf90ab",
   "metadata": {},
   "outputs": [
    {
     "data": {
      "text/plain": [
       "1"
      ]
     },
     "execution_count": 12,
     "metadata": {},
     "output_type": "execute_result"
    }
   ],
   "source": [
    "True+False"
   ]
  },
  {
   "cell_type": "code",
   "execution_count": 13,
   "id": "e16a479a-cb86-4212-83fb-9f574ca60a6b",
   "metadata": {},
   "outputs": [
    {
     "ename": "ZeroDivisionError",
     "evalue": "division by zero",
     "output_type": "error",
     "traceback": [
      "\u001b[0;31m---------------------------------------------------------------------------\u001b[0m",
      "\u001b[0;31mZeroDivisionError\u001b[0m                         Traceback (most recent call last)",
      "Cell \u001b[0;32mIn[13], line 1\u001b[0m\n\u001b[0;32m----> 1\u001b[0m \u001b[38;5;28;43;01mTrue\u001b[39;49;00m\u001b[38;5;241;43m/\u001b[39;49m\u001b[38;5;28;43;01mFalse\u001b[39;49;00m\n",
      "\u001b[0;31mZeroDivisionError\u001b[0m: division by zero"
     ]
    }
   ],
   "source": [
    "True/False"
   ]
  },
  {
   "cell_type": "code",
   "execution_count": 1,
   "id": "a2d5419f-8338-4e6e-9c62-2bd24236ee98",
   "metadata": {},
   "outputs": [],
   "source": [
    "v=5+8j     # always use 'j' instead of 'i' to declare complex no. "
   ]
  },
  {
   "cell_type": "code",
   "execution_count": 15,
   "id": "627b377f-eef7-4a21-8ea3-2b21d62cbebd",
   "metadata": {},
   "outputs": [
    {
     "data": {
      "text/plain": [
       "complex"
      ]
     },
     "execution_count": 15,
     "metadata": {},
     "output_type": "execute_result"
    }
   ],
   "source": [
    "type(v)"
   ]
  },
  {
   "cell_type": "code",
   "execution_count": 16,
   "id": "62a31d40-ee0f-49e3-b0bb-9d06418273be",
   "metadata": {},
   "outputs": [
    {
     "data": {
      "text/plain": [
       "11.5"
      ]
     },
     "execution_count": 16,
     "metadata": {},
     "output_type": "execute_result"
    }
   ],
   "source": [
    "23/2"
   ]
  },
  {
   "cell_type": "code",
   "execution_count": 18,
   "id": "60527782-0f37-4a6a-baf1-117e079409aa",
   "metadata": {},
   "outputs": [],
   "source": [
    "e=1000"
   ]
  },
  {
   "cell_type": "code",
   "execution_count": 20,
   "id": "4449ad8a-205e-479f-92e0-8f4f54d1d1d6",
   "metadata": {},
   "outputs": [
    {
     "data": {
      "text/plain": [
       "int"
      ]
     },
     "execution_count": 20,
     "metadata": {},
     "output_type": "execute_result"
    }
   ],
   "source": [
    "type(e)"
   ]
  },
  {
   "cell_type": "code",
   "execution_count": 2,
   "id": "4e973ba5-3942-4a25-88af-8df860927a6d",
   "metadata": {},
   "outputs": [
    {
     "data": {
      "text/plain": [
       "5.0"
      ]
     },
     "execution_count": 2,
     "metadata": {},
     "output_type": "execute_result"
    }
   ],
   "source": [
    "v.real   # to get real no in complex no v."
   ]
  },
  {
   "cell_type": "code",
   "execution_count": 23,
   "id": "9e51c6df-b36e-4c70-945e-1beb051921cb",
   "metadata": {},
   "outputs": [
    {
     "data": {
      "text/plain": [
       "5.0"
      ]
     },
     "execution_count": 23,
     "metadata": {},
     "output_type": "execute_result"
    }
   ],
   "source": [
    "v.real"
   ]
  },
  {
   "cell_type": "code",
   "execution_count": 3,
   "id": "2373981c-8d13-4129-b8eb-a3052e8869e6",
   "metadata": {},
   "outputs": [
    {
     "data": {
      "text/plain": [
       "8.0"
      ]
     },
     "execution_count": 3,
     "metadata": {},
     "output_type": "execute_result"
    }
   ],
   "source": [
    "v.imag   #To get imaginery no in complex no v "
   ]
  },
  {
   "cell_type": "code",
   "execution_count": 27,
   "id": "2dd0ba84-807b-4803-be40-e37ebfe482d8",
   "metadata": {},
   "outputs": [
    {
     "data": {
      "text/plain": [
       "0"
      ]
     },
     "execution_count": 27,
     "metadata": {},
     "output_type": "execute_result"
    }
   ],
   "source": [
    "0-0"
   ]
  },
  {
   "cell_type": "code",
   "execution_count": 28,
   "id": "5be3555a-1939-412b-843f-69eed40c2b9c",
   "metadata": {},
   "outputs": [
    {
     "name": "stdout",
     "output_type": "stream",
     "text": [
      "Sanjana\n"
     ]
    }
   ],
   "source": [
    "print(\"Sanjana\")"
   ]
  },
  {
   "cell_type": "code",
   "execution_count": 29,
   "id": "9c7a1bde-221e-4eac-b7e4-ad85cf84b2cf",
   "metadata": {},
   "outputs": [
    {
     "name": "stdout",
     "output_type": "stream",
     "text": [
      "True\n"
     ]
    }
   ],
   "source": [
    "print(a)"
   ]
  },
  {
   "cell_type": "code",
   "execution_count": 31,
   "id": "0bca48a3-9297-4632-a103-9f6f80e32839",
   "metadata": {},
   "outputs": [],
   "source": [
    "san=10"
   ]
  },
  {
   "cell_type": "code",
   "execution_count": 32,
   "id": "4d6fd69e-82a0-4b9c-9104-5f35663e596b",
   "metadata": {},
   "outputs": [
    {
     "name": "stdout",
     "output_type": "stream",
     "text": [
      "10\n"
     ]
    }
   ],
   "source": [
    "print(san)"
   ]
  },
  {
   "cell_type": "code",
   "execution_count": 33,
   "id": "022d3fe8-2858-48a1-b426-e1afae9211d9",
   "metadata": {},
   "outputs": [
    {
     "data": {
      "text/plain": [
       "int"
      ]
     },
     "execution_count": 33,
     "metadata": {},
     "output_type": "execute_result"
    }
   ],
   "source": [
    "type(san)"
   ]
  },
  {
   "cell_type": "code",
   "execution_count": 34,
   "id": "c45f228d-ed39-4f50-9c4a-a645d84c6170",
   "metadata": {},
   "outputs": [],
   "source": [
    "s=\"pw skiils\""
   ]
  },
  {
   "cell_type": "code",
   "execution_count": 35,
   "id": "2f5ab4ec-58e5-4bcd-b569-4dcdabf1a4d5",
   "metadata": {},
   "outputs": [
    {
     "data": {
      "text/plain": [
       "str"
      ]
     },
     "execution_count": 35,
     "metadata": {},
     "output_type": "execute_result"
    }
   ],
   "source": [
    "type(s)"
   ]
  },
  {
   "cell_type": "code",
   "execution_count": 37,
   "id": "f483f98f-7534-466d-a716-976b75b5a96a",
   "metadata": {},
   "outputs": [
    {
     "name": "stdout",
     "output_type": "stream",
     "text": [
      "pw skiils\n"
     ]
    }
   ],
   "source": [
    "print(s)"
   ]
  },
  {
   "cell_type": "code",
   "execution_count": 38,
   "id": "f24cd676-7ad7-4522-8d83-e79738e8ce12",
   "metadata": {},
   "outputs": [],
   "source": [
    "c=12"
   ]
  },
  {
   "cell_type": "code",
   "execution_count": 39,
   "id": "db04885a-7300-4924-8b4f-741965c6822f",
   "metadata": {},
   "outputs": [
    {
     "name": "stdout",
     "output_type": "stream",
     "text": [
      "22\n"
     ]
    }
   ],
   "source": [
    "print(san+c)"
   ]
  },
  {
   "cell_type": "code",
   "execution_count": 41,
   "id": "76455252-c5df-4f37-8006-d2d1dc23d4ad",
   "metadata": {},
   "outputs": [
    {
     "data": {
      "text/plain": [
       "'w'"
      ]
     },
     "execution_count": 41,
     "metadata": {},
     "output_type": "execute_result"
    }
   ],
   "source": [
    "s[1]"
   ]
  },
  {
   "cell_type": "code",
   "execution_count": 42,
   "id": "14284db1-9eeb-458d-9943-ee5479e1f0ce",
   "metadata": {},
   "outputs": [
    {
     "data": {
      "text/plain": [
       "'s'"
      ]
     },
     "execution_count": 42,
     "metadata": {},
     "output_type": "execute_result"
    }
   ],
   "source": [
    "s[3]"
   ]
  },
  {
   "cell_type": "code",
   "execution_count": 43,
   "id": "8bb0fa12-5f52-4f61-b461-64ea55691a9c",
   "metadata": {},
   "outputs": [
    {
     "data": {
      "text/plain": [
       "' '"
      ]
     },
     "execution_count": 43,
     "metadata": {},
     "output_type": "execute_result"
    }
   ],
   "source": [
    "s[2]"
   ]
  },
  {
   "cell_type": "code",
   "execution_count": 44,
   "id": "06e9c216-efd6-4d8e-ab9a-e1da92404f86",
   "metadata": {},
   "outputs": [
    {
     "data": {
      "text/plain": [
       "'k'"
      ]
     },
     "execution_count": 44,
     "metadata": {},
     "output_type": "execute_result"
    }
   ],
   "source": [
    "s[4]"
   ]
  },
  {
   "cell_type": "code",
   "execution_count": 45,
   "id": "3b5f4c0d-d520-4469-947f-fe6b02a55749",
   "metadata": {},
   "outputs": [
    {
     "data": {
      "text/plain": [
       "'s'"
      ]
     },
     "execution_count": 45,
     "metadata": {},
     "output_type": "execute_result"
    }
   ],
   "source": [
    "s[-1]"
   ]
  },
  {
   "cell_type": "code",
   "execution_count": 47,
   "id": "f9d22f85-68b6-45aa-97a4-5ffb49a76c12",
   "metadata": {},
   "outputs": [
    {
     "data": {
      "text/plain": [
       "'l'"
      ]
     },
     "execution_count": 47,
     "metadata": {},
     "output_type": "execute_result"
    }
   ],
   "source": [
    "s[0-2]"
   ]
  },
  {
   "cell_type": "code",
   "execution_count": 48,
   "id": "47943352-bda4-45dc-a18a-a59c95236f3d",
   "metadata": {},
   "outputs": [
    {
     "data": {
      "text/plain": [
       "'pw '"
      ]
     },
     "execution_count": 48,
     "metadata": {},
     "output_type": "execute_result"
    }
   ],
   "source": [
    "s[0:3]"
   ]
  },
  {
   "cell_type": "code",
   "execution_count": 52,
   "id": "bb721a44-95b0-4748-8e9e-b955e111f89d",
   "metadata": {},
   "outputs": [
    {
     "data": {
      "text/plain": [
       "'pw s'"
      ]
     },
     "execution_count": 52,
     "metadata": {},
     "output_type": "execute_result"
    }
   ],
   "source": [
    "s[0:4]"
   ]
  },
  {
   "cell_type": "code",
   "execution_count": 53,
   "id": "a27d7e1a-4240-4e18-93c1-86bfbc319c0c",
   "metadata": {},
   "outputs": [
    {
     "data": {
      "text/plain": [
       "'p kis'"
      ]
     },
     "execution_count": 53,
     "metadata": {},
     "output_type": "execute_result"
    }
   ],
   "source": [
    "s[0:9:2]"
   ]
  },
  {
   "cell_type": "code",
   "execution_count": 54,
   "id": "57312025-2e92-4add-9882-207d9d6b6ec0",
   "metadata": {},
   "outputs": [
    {
     "data": {
      "text/plain": [
       "'p kis'"
      ]
     },
     "execution_count": 54,
     "metadata": {},
     "output_type": "execute_result"
    }
   ],
   "source": [
    "s[::2]"
   ]
  },
  {
   "cell_type": "code",
   "execution_count": 55,
   "id": "8d61c69d-6940-4fbb-820d-2a1026cb11c5",
   "metadata": {},
   "outputs": [
    {
     "ename": "ValueError",
     "evalue": "slice step cannot be zero",
     "output_type": "error",
     "traceback": [
      "\u001b[0;31m---------------------------------------------------------------------------\u001b[0m",
      "\u001b[0;31mValueError\u001b[0m                                Traceback (most recent call last)",
      "Cell \u001b[0;32mIn[55], line 1\u001b[0m\n\u001b[0;32m----> 1\u001b[0m \u001b[43ms\u001b[49m\u001b[43m[\u001b[49m\u001b[43m:\u001b[49m\u001b[43m:\u001b[49m\u001b[38;5;241;43m0\u001b[39;49m\u001b[43m]\u001b[49m\n",
      "\u001b[0;31mValueError\u001b[0m: slice step cannot be zero"
     ]
    }
   ],
   "source": [
    "s[::0]"
   ]
  },
  {
   "cell_type": "code",
   "execution_count": 56,
   "id": "8ce7a7b1-3a4c-42d1-b6a3-7b55e2eb9363",
   "metadata": {},
   "outputs": [
    {
     "data": {
      "text/plain": [
       "'psi'"
      ]
     },
     "execution_count": 56,
     "metadata": {},
     "output_type": "execute_result"
    }
   ],
   "source": [
    "s[::3]"
   ]
  },
  {
   "cell_type": "code",
   "execution_count": 57,
   "id": "7e4fedf1-b026-466f-816a-a8610089be7d",
   "metadata": {},
   "outputs": [
    {
     "data": {
      "text/plain": [
       "'sliiks wp'"
      ]
     },
     "execution_count": 57,
     "metadata": {},
     "output_type": "execute_result"
    }
   ],
   "source": [
    "s[::-1]"
   ]
  },
  {
   "cell_type": "code",
   "execution_count": 58,
   "id": "65469c61-d182-4447-8b1c-d2790c0d6900",
   "metadata": {},
   "outputs": [
    {
     "data": {
      "text/plain": [
       "''"
      ]
     },
     "execution_count": 58,
     "metadata": {},
     "output_type": "execute_result"
    }
   ],
   "source": [
    "s[2:7:-1]"
   ]
  },
  {
   "cell_type": "code",
   "execution_count": 60,
   "id": "13b49e69-4baf-400a-bb37-3a24773c3cd6",
   "metadata": {},
   "outputs": [
    {
     "data": {
      "text/plain": [
       "' kis'"
      ]
     },
     "execution_count": 60,
     "metadata": {},
     "output_type": "execute_result"
    }
   ],
   "source": [
    "s[2:9:2]"
   ]
  },
  {
   "cell_type": "code",
   "execution_count": 61,
   "id": "fdfa7585-1b91-40d4-b632-9013f4ea1a82",
   "metadata": {},
   "outputs": [
    {
     "data": {
      "text/plain": [
       "''"
      ]
     },
     "execution_count": 61,
     "metadata": {},
     "output_type": "execute_result"
    }
   ],
   "source": [
    "s[1:8:-4]"
   ]
  },
  {
   "cell_type": "code",
   "execution_count": 65,
   "id": "3b9fa1ba-a513-4d54-a632-59de56b02a68",
   "metadata": {},
   "outputs": [
    {
     "data": {
      "text/plain": [
       "'pw s'"
      ]
     },
     "execution_count": 65,
     "metadata": {},
     "output_type": "execute_result"
    }
   ],
   "source": [
    "s[0:4:1]"
   ]
  },
  {
   "cell_type": "code",
   "execution_count": 66,
   "id": "cfeebbd3-2fb9-4bc9-9b17-544ac38db866",
   "metadata": {},
   "outputs": [
    {
     "data": {
      "text/plain": [
       "'sliiks w'"
      ]
     },
     "execution_count": 66,
     "metadata": {},
     "output_type": "execute_result"
    }
   ],
   "source": [
    "s[9:0:-1]"
   ]
  },
  {
   "cell_type": "code",
   "execution_count": 68,
   "id": "4d7c64e9-a73d-4da3-a9af-4aa0ac435e0b",
   "metadata": {},
   "outputs": [
    {
     "data": {
      "text/plain": [
       "'l'"
      ]
     },
     "execution_count": 68,
     "metadata": {},
     "output_type": "execute_result"
    }
   ],
   "source": [
    "s[-2::2]"
   ]
  },
  {
   "cell_type": "code",
   "execution_count": 69,
   "id": "cf171d13-a129-41a5-9d9b-c3059b3a10dd",
   "metadata": {},
   "outputs": [
    {
     "data": {
      "text/plain": [
       "'p'"
      ]
     },
     "execution_count": 69,
     "metadata": {},
     "output_type": "execute_result"
    }
   ],
   "source": [
    "s[0::-1]"
   ]
  },
  {
   "cell_type": "code",
   "execution_count": 70,
   "id": "ff35cf6a-58eb-40b4-b4fa-41ee1fe55074",
   "metadata": {},
   "outputs": [
    {
     "data": {
      "text/plain": [
       "'sliiks wp'"
      ]
     },
     "execution_count": 70,
     "metadata": {},
     "output_type": "execute_result"
    }
   ],
   "source": [
    "s[::-1]"
   ]
  },
  {
   "cell_type": "code",
   "execution_count": 72,
   "id": "dd6b17c6-40aa-4281-b68c-af32d0a29576",
   "metadata": {},
   "outputs": [
    {
     "data": {
      "text/plain": [
       "'sp'"
      ]
     },
     "execution_count": 72,
     "metadata": {},
     "output_type": "execute_result"
    }
   ],
   "source": [
    "s[::-8]"
   ]
  },
  {
   "cell_type": "code",
   "execution_count": 73,
   "id": "37b765cc-c731-4624-bc7c-30bf5db21d81",
   "metadata": {},
   "outputs": [
    {
     "data": {
      "text/plain": [
       "'p'"
      ]
     },
     "execution_count": 73,
     "metadata": {},
     "output_type": "execute_result"
    }
   ],
   "source": [
    "s[::90]"
   ]
  },
  {
   "cell_type": "code",
   "execution_count": 74,
   "id": "1e05379c-73fd-43d1-a88f-c977c1ed4dd2",
   "metadata": {},
   "outputs": [
    {
     "ename": "IndexError",
     "evalue": "string index out of range",
     "output_type": "error",
     "traceback": [
      "\u001b[0;31m---------------------------------------------------------------------------\u001b[0m",
      "\u001b[0;31mIndexError\u001b[0m                                Traceback (most recent call last)",
      "Cell \u001b[0;32mIn[74], line 1\u001b[0m\n\u001b[0;32m----> 1\u001b[0m \u001b[43ms\u001b[49m\u001b[43m[\u001b[49m\u001b[38;5;241;43m90\u001b[39;49m\u001b[43m]\u001b[49m\n",
      "\u001b[0;31mIndexError\u001b[0m: string index out of range"
     ]
    }
   ],
   "source": [
    "s[90]"
   ]
  },
  {
   "cell_type": "code",
   "execution_count": 75,
   "id": "de235e45-13e8-42da-a0c6-7e96259aefd4",
   "metadata": {},
   "outputs": [
    {
     "data": {
      "text/plain": [
       "'pw skiils'"
      ]
     },
     "execution_count": 75,
     "metadata": {},
     "output_type": "execute_result"
    }
   ],
   "source": [
    "s[:90]"
   ]
  },
  {
   "cell_type": "code",
   "execution_count": 76,
   "id": "5cb7864c-bdfe-484c-bd6c-04986273d751",
   "metadata": {},
   "outputs": [
    {
     "data": {
      "text/plain": [
       "'sliiks wp'"
      ]
     },
     "execution_count": 76,
     "metadata": {},
     "output_type": "execute_result"
    }
   ],
   "source": [
    "s[:-90:-1]"
   ]
  },
  {
   "cell_type": "code",
   "execution_count": 77,
   "id": "d45f21e7-ed03-4b64-821b-a42c8c5236ed",
   "metadata": {},
   "outputs": [],
   "source": [
    "c=200"
   ]
  },
  {
   "cell_type": "code",
   "execution_count": 78,
   "id": "4ea484d8-80d9-4738-8e78-f703724c5b2e",
   "metadata": {},
   "outputs": [],
   "source": [
    "s1=\"this is my string\""
   ]
  },
  {
   "cell_type": "code",
   "execution_count": 79,
   "id": "6ecea9cf-c8bf-420f-9019-ea3b817c91bf",
   "metadata": {},
   "outputs": [
    {
     "data": {
      "text/plain": [
       "17"
      ]
     },
     "execution_count": 79,
     "metadata": {},
     "output_type": "execute_result"
    }
   ],
   "source": [
    "len(s1)"
   ]
  },
  {
   "cell_type": "code",
   "execution_count": 81,
   "id": "c87a20f6-bbb2-40b4-ae52-2846e61e871f",
   "metadata": {},
   "outputs": [
    {
     "data": {
      "text/plain": [
       "3"
      ]
     },
     "execution_count": 81,
     "metadata": {},
     "output_type": "execute_result"
    }
   ],
   "source": [
    "s1.find('s')"
   ]
  },
  {
   "cell_type": "code",
   "execution_count": 82,
   "id": "fca90f5e-3f8c-4022-bddb-97eac735186c",
   "metadata": {},
   "outputs": [
    {
     "data": {
      "text/plain": [
       "8"
      ]
     },
     "execution_count": 82,
     "metadata": {},
     "output_type": "execute_result"
    }
   ],
   "source": [
    "s1.find('m')"
   ]
  },
  {
   "cell_type": "code",
   "execution_count": 83,
   "id": "b1fcae49-4dc8-47fb-b50e-6abcb581824b",
   "metadata": {},
   "outputs": [
    {
     "data": {
      "text/plain": [
       "9"
      ]
     },
     "execution_count": 83,
     "metadata": {},
     "output_type": "execute_result"
    }
   ],
   "source": [
    "s1.find('y')"
   ]
  },
  {
   "cell_type": "code",
   "execution_count": 84,
   "id": "f5e6c12d-e3d8-493a-b895-26849d4e14b5",
   "metadata": {},
   "outputs": [
    {
     "data": {
      "text/plain": [
       "-1"
      ]
     },
     "execution_count": 84,
     "metadata": {},
     "output_type": "execute_result"
    }
   ],
   "source": [
    "s1.find('q')"
   ]
  },
  {
   "cell_type": "code",
   "execution_count": 85,
   "id": "0113cc15-c184-4028-b15c-cafb678768af",
   "metadata": {},
   "outputs": [
    {
     "data": {
      "text/plain": [
       "3"
      ]
     },
     "execution_count": 85,
     "metadata": {},
     "output_type": "execute_result"
    }
   ],
   "source": [
    "s1.count('s')"
   ]
  },
  {
   "cell_type": "code",
   "execution_count": 86,
   "id": "9c3f8c0c-afe8-4bbe-8d49-7fd88f77fe60",
   "metadata": {},
   "outputs": [
    {
     "data": {
      "text/plain": [
       "0"
      ]
     },
     "execution_count": 86,
     "metadata": {},
     "output_type": "execute_result"
    }
   ],
   "source": [
    "s1.count('v')"
   ]
  },
  {
   "cell_type": "code",
   "execution_count": 87,
   "id": "be9573ef-dc30-49a8-b3b3-f469a7fbe945",
   "metadata": {},
   "outputs": [],
   "source": [
    "s2='sanjana'"
   ]
  },
  {
   "cell_type": "code",
   "execution_count": 88,
   "id": "13556e15-0fbf-4d1c-aeea-39040ad961c6",
   "metadata": {},
   "outputs": [
    {
     "data": {
      "text/plain": [
       "'sanjana'"
      ]
     },
     "execution_count": 88,
     "metadata": {},
     "output_type": "execute_result"
    }
   ],
   "source": [
    "s2.lower()   ##this converts in lower case"
   ]
  },
  {
   "cell_type": "code",
   "execution_count": 89,
   "id": "0766eabf-e454-4998-bd3a-08f942bb26f7",
   "metadata": {},
   "outputs": [
    {
     "data": {
      "text/plain": [
       "'Sanjana'"
      ]
     },
     "execution_count": 89,
     "metadata": {},
     "output_type": "execute_result"
    }
   ],
   "source": [
    "s2.title()"
   ]
  },
  {
   "cell_type": "code",
   "execution_count": 90,
   "id": "c8e4dc9a-415a-4da9-ac67-973eb0b282ec",
   "metadata": {},
   "outputs": [
    {
     "data": {
      "text/plain": [
       "'SANJANA'"
      ]
     },
     "execution_count": 90,
     "metadata": {},
     "output_type": "execute_result"
    }
   ],
   "source": [
    "s2.upper()   ##this converts in upper case"
   ]
  },
  {
   "cell_type": "code",
   "execution_count": 91,
   "id": "f8c08d8c-9b6e-4c5e-9e4f-df50eb037e81",
   "metadata": {},
   "outputs": [
    {
     "data": {
      "text/plain": [
       "'Sanjana'"
      ]
     },
     "execution_count": 91,
     "metadata": {},
     "output_type": "execute_result"
    }
   ],
   "source": [
    "s2.capitalize()"
   ]
  },
  {
   "cell_type": "code",
   "execution_count": 92,
   "id": "cb8fc2c5-a878-47b5-9f99-5a81005668a3",
   "metadata": {},
   "outputs": [
    {
     "data": {
      "text/plain": [
       "'This is my string'"
      ]
     },
     "execution_count": 92,
     "metadata": {},
     "output_type": "execute_result"
    }
   ],
   "source": [
    "s1.capitalize()"
   ]
  },
  {
   "cell_type": "code",
   "execution_count": 93,
   "id": "3ad017c7-5a12-470c-8cd9-f4ba291ab9bb",
   "metadata": {},
   "outputs": [
    {
     "data": {
      "text/plain": [
       "'pw skiils'"
      ]
     },
     "execution_count": 93,
     "metadata": {},
     "output_type": "execute_result"
    }
   ],
   "source": [
    "s"
   ]
  },
  {
   "cell_type": "code",
   "execution_count": 98,
   "id": "e9a1a3d4-e065-4d64-9049-274335985cc8",
   "metadata": {},
   "outputs": [
    {
     "data": {
      "text/plain": [
       "'pw skiilsthis is my string'"
      ]
     },
     "execution_count": 98,
     "metadata": {},
     "output_type": "execute_result"
    }
   ],
   "source": [
    "s+\"\"+s1"
   ]
  },
  {
   "cell_type": "code",
   "execution_count": 99,
   "id": "ce6febb8-1cbe-45fc-9ded-51cc76f0bd94",
   "metadata": {},
   "outputs": [],
   "source": [
    "str=1"
   ]
  },
  {
   "cell_type": "code",
   "execution_count": 102,
   "id": "d897a474-41a3-4fdb-9164-db7cd0df6fe7",
   "metadata": {},
   "outputs": [
    {
     "data": {
      "text/plain": [
       "'pw skiilspw skiilspw skiils'"
      ]
     },
     "execution_count": 102,
     "metadata": {},
     "output_type": "execute_result"
    }
   ],
   "source": [
    "s*3"
   ]
  },
  {
   "cell_type": "code",
   "execution_count": 103,
   "id": "fedb4a5c-b32a-48bb-8e74-58eeea8ceeab",
   "metadata": {},
   "outputs": [
    {
     "ename": "TypeError",
     "evalue": "unsupported operand type(s) for /: 'str' and 'int'",
     "output_type": "error",
     "traceback": [
      "\u001b[0;31m---------------------------------------------------------------------------\u001b[0m",
      "\u001b[0;31mTypeError\u001b[0m                                 Traceback (most recent call last)",
      "Cell \u001b[0;32mIn[103], line 1\u001b[0m\n\u001b[0;32m----> 1\u001b[0m \u001b[43ms\u001b[49m\u001b[38;5;241;43m/\u001b[39;49m\u001b[38;5;241;43m2\u001b[39;49m\n",
      "\u001b[0;31mTypeError\u001b[0m: unsupported operand type(s) for /: 'str' and 'int'"
     ]
    }
   ],
   "source": [
    "s/2"
   ]
  },
  {
   "cell_type": "code",
   "execution_count": 106,
   "id": "60c2f397-a871-44b4-8554-5032aa74b18f",
   "metadata": {},
   "outputs": [
    {
     "data": {
      "text/plain": [
       "'do copy in my class '"
      ]
     },
     "execution_count": 106,
     "metadata": {},
     "output_type": "execute_result"
    }
   ],
   "source": [
    "'do copy in my class '"
   ]
  },
  {
   "cell_type": "code",
   "execution_count": 109,
   "id": "2f64e0b9-4fc8-4ffb-b254-39a02576d7e8",
   "metadata": {},
   "outputs": [],
   "source": [
    "##this my first class##this is comment"
   ]
  },
  {
   "cell_type": "code",
   "execution_count": 112,
   "id": "9a63d11a-1400-444b-96cb-66d1712ce6cd",
   "metadata": {},
   "outputs": [],
   "source": [
    "# sanjana\n",
    "# sanjana\n",
    "# sajana"
   ]
  },
  {
   "cell_type": "code",
   "execution_count": 5,
   "id": "5fe527f7-0358-4f55-b91f-7ba9e08238fe",
   "metadata": {},
   "outputs": [
    {
     "data": {
      "text/plain": [
       "'sanjana\\nsanjana'"
      ]
     },
     "execution_count": 5,
     "metadata": {},
     "output_type": "execute_result"
    }
   ],
   "source": [
    "\"\"\"sanjana\n",
    "sanjana\"\"\"\n"
   ]
  },
  {
   "cell_type": "code",
   "execution_count": 114,
   "id": "d5b61a45-8616-42c1-9437-6ccb6e958be4",
   "metadata": {},
   "outputs": [
    {
     "data": {
      "text/plain": [
       "9"
      ]
     },
     "execution_count": 114,
     "metadata": {},
     "output_type": "execute_result"
    }
   ],
   "source": [
    "len(s)"
   ]
  },
  {
   "cell_type": "code",
   "execution_count": 1,
   "id": "e0fbaea4-2f60-4d7c-87e2-b334781e2441",
   "metadata": {},
   "outputs": [],
   "source": [
    "s=False"
   ]
  },
  {
   "cell_type": "code",
   "execution_count": 2,
   "id": "206cda8c-8504-402f-8e7d-7c2e097bcfe0",
   "metadata": {},
   "outputs": [
    {
     "ename": "ZeroDivisionError",
     "evalue": "division by zero",
     "output_type": "error",
     "traceback": [
      "\u001b[0;31m---------------------------------------------------------------------------\u001b[0m",
      "\u001b[0;31mZeroDivisionError\u001b[0m                         Traceback (most recent call last)",
      "Cell \u001b[0;32mIn[2], line 1\u001b[0m\n\u001b[0;32m----> 1\u001b[0m \u001b[38;5;241;43m1\u001b[39;49m\u001b[38;5;241;43m/\u001b[39;49m\u001b[43ms\u001b[49m\n",
      "\u001b[0;31mZeroDivisionError\u001b[0m: division by zero"
     ]
    }
   ],
   "source": [
    "1/s"
   ]
  },
  {
   "cell_type": "code",
   "execution_count": 3,
   "id": "d23848f0-1ad3-4ac7-998a-f50cd051a8b4",
   "metadata": {},
   "outputs": [],
   "source": [
    "num1=23"
   ]
  },
  {
   "cell_type": "code",
   "execution_count": 4,
   "id": "cd4d0f0a-c10f-4cc5-861e-339302651976",
   "metadata": {},
   "outputs": [],
   "source": [
    "num2=44"
   ]
  },
  {
   "cell_type": "code",
   "execution_count": 5,
   "id": "e41fea69-f0e1-4e2e-94db-37e416031329",
   "metadata": {},
   "outputs": [],
   "source": [
    "num2=2+3j"
   ]
  },
  {
   "cell_type": "code",
   "execution_count": 6,
   "id": "fd1f1119-b4ed-459d-817d-442b887554c7",
   "metadata": {},
   "outputs": [],
   "source": [
    "num1=num2.imag"
   ]
  },
  {
   "cell_type": "code",
   "execution_count": 7,
   "id": "75d09f6a-5455-41a8-a319-3880d9fbce4b",
   "metadata": {},
   "outputs": [
    {
     "data": {
      "text/plain": [
       "(-1+3j)"
      ]
     },
     "execution_count": 7,
     "metadata": {},
     "output_type": "execute_result"
    }
   ],
   "source": [
    "num2-num1"
   ]
  },
  {
   "cell_type": "code",
   "execution_count": 12,
   "id": "555ac003-eafc-4dae-8e80-fc4a64379b4a",
   "metadata": {},
   "outputs": [
    {
     "data": {
      "text/plain": [
       "'pwskiills1'"
      ]
     },
     "execution_count": 12,
     "metadata": {},
     "output_type": "execute_result"
    }
   ],
   "source": [
    "'pwskiills'+str(1)"
   ]
  },
  {
   "cell_type": "code",
   "execution_count": 21,
   "id": "fb15bde3-5ff9-457b-8028-3e013a218370",
   "metadata": {},
   "outputs": [],
   "source": [
    "Name='pwskills'"
   ]
  },
  {
   "cell_type": "code",
   "execution_count": 24,
   "id": "65e49270-f9fb-4694-be71-c98aec88f4d0",
   "metadata": {},
   "outputs": [
    {
     "data": {
      "text/plain": [
       "'p'"
      ]
     },
     "execution_count": 24,
     "metadata": {},
     "output_type": "execute_result"
    }
   ],
   "source": [
    "Name[0]"
   ]
  },
  {
   "cell_type": "code",
   "execution_count": 25,
   "id": "9f53dee8-6f4a-4763-bf16-a5c8a896e3f6",
   "metadata": {},
   "outputs": [
    {
     "data": {
      "text/plain": [
       "True"
      ]
     },
     "execution_count": 25,
     "metadata": {},
     "output_type": "execute_result"
    }
   ],
   "source": [
    "'pwskills'.upper().lower().isalnum()"
   ]
  },
  {
   "cell_type": "code",
   "execution_count": 26,
   "id": "94c28fa1-c348-499f-88f0-bc99cee7a90b",
   "metadata": {},
   "outputs": [],
   "source": [
    "s='sanjana'"
   ]
  },
  {
   "cell_type": "code",
   "execution_count": null,
   "id": "56753bb7-6ac5-493e-ad4c-c4ab6dfc288e",
   "metadata": {},
   "outputs": [],
   "source": []
  },
  {
   "cell_type": "code",
   "execution_count": null,
   "id": "e2e60900-72bc-4ac1-afa6-6a734ecb1682",
   "metadata": {},
   "outputs": [],
   "source": []
  }
 ],
 "metadata": {
  "kernelspec": {
   "display_name": "Python 3 (ipykernel)",
   "language": "python",
   "name": "python3"
  },
  "language_info": {
   "codemirror_mode": {
    "name": "ipython",
    "version": 3
   },
   "file_extension": ".py",
   "mimetype": "text/x-python",
   "name": "python",
   "nbconvert_exporter": "python",
   "pygments_lexer": "ipython3",
   "version": "3.10.8"
  }
 },
 "nbformat": 4,
 "nbformat_minor": 5
}
