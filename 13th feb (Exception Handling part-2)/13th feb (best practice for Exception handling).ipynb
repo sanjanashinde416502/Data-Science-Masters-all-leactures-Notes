{
 "cells": [
  {
   "cell_type": "code",
   "execution_count": 37,
   "id": "84c35836-5123-43af-850f-2171753bbcad",
   "metadata": {},
   "outputs": [
    {
     "name": "stdout",
     "output_type": "stream",
     "text": [
      "division by zero\n"
     ]
    }
   ],
   "source": [
    "# What is best practice for Exception Handling:\n",
    "# whenever you are doing eception handling you should remenber all bellow instructions:\n",
    "# (by doing this we can kept our code clen and in optimized way so that it will help us later)\n",
    "# 1. use always a specific instruction not generic (Exception class) instruction:\n",
    "# eg:\n",
    "try:\n",
    "    10/0\n",
    "except Exception as e:  # this is right but don't use it\n",
    "    print(e)"
   ]
  },
  {
   "cell_type": "code",
   "execution_count": 8,
   "id": "c6e57269-faba-4981-8960-75967bd21183",
   "metadata": {},
   "outputs": [
    {
     "name": "stdout",
     "output_type": "stream",
     "text": [
      "division by zero\n"
     ]
    }
   ],
   "source": [
    "try:\n",
    "    10/0\n",
    "except ZeroDivisionError as e: # writing like this is a good practice to write code so that external user can easily understand that here you have handled ZeroDivisionError \n",
    "    print(e)"
   ]
  },
  {
   "cell_type": "code",
   "execution_count": 10,
   "id": "9dc31d4e-4460-45cb-86af-789c29d3acfc",
   "metadata": {},
   "outputs": [],
   "source": [
    "# 2.print always a proper message :"
   ]
  },
  {
   "cell_type": "code",
   "execution_count": 13,
   "id": "a1b2bc57-6526-4797-8949-12421aeba7cf",
   "metadata": {},
   "outputs": [
    {
     "name": "stdout",
     "output_type": "stream",
     "text": [
      "I am trying to handle a zerodivision error.\n",
      " division by zero\n"
     ]
    }
   ],
   "source": [
    "try:\n",
    "    10/0\n",
    "except ZeroDivisionError as e:\n",
    "    print(\"I am trying to handle a zerodivision error.\\n\",e) # here we have wriiten proper messsege related to error in code that helps at the time of debbugging"
   ]
  },
  {
   "cell_type": "code",
   "execution_count": 21,
   "id": "8cf2540c-4717-4d1d-a4fc-f13c19dbdf24",
   "metadata": {},
   "outputs": [],
   "source": [
    "# 3. Always try to log your error:\n",
    "# if you use logging then it easy for anyone to do debuuging"
   ]
  },
  {
   "cell_type": "code",
   "execution_count": 20,
   "id": "b48550d5-aa86-4646-ac38-8dfe6e73441e",
   "metadata": {},
   "outputs": [],
   "source": [
    "import logging\n",
    "logging.basicConfig(filename=\"exceptionH.log\" ,level = logging.INFO)\n",
    "try:\n",
    "    logging.info(\"we have entered into try block and condition is checked\")\n",
    "    10/0\n",
    "except ZeroDivisionError as e:\n",
    "    logging.error(\"here ZeroDivision Error is generated\")\n",
    "    logging.info(\"we have written specific error handling and this is good practice to write code\")\n",
    "    logging.error(\"I am trying to handle a zerodivision error {}\".format(e)) "
   ]
  },
  {
   "cell_type": "code",
   "execution_count": 22,
   "id": "dba28477-71e4-41f2-8838-474c80c32f7a",
   "metadata": {},
   "outputs": [],
   "source": [
    "# 4.always avoid to write a multiple exception handling: i.e(you should know specific error handling)"
   ]
  },
  {
   "cell_type": "code",
   "execution_count": 24,
   "id": "f1d558e2-e40f-4d90-b35e-e7eeaac4b83e",
   "metadata": {},
   "outputs": [],
   "source": [
    "try:\n",
    "    logging.info(\"we have entered into try block and condition is checked\") # here we have written so many error as exceptions don't write \n",
    "    10/0                                                                    # these becaous altimately it will excecute last exception .\n",
    "except FileNotFoundError as e:                                              # writing like this is just increasing coding complexity\n",
    "    logging.error(\"I am handling file not found {}\".format(e))\n",
    "except AttributeError as e:\n",
    "    logging.error(\"i am handling attribute error {}\".format(e))\n",
    "except ZeroDivisionError as e:\n",
    "\n",
    "    logging.error(\"I am trying to handle a zerodivision error {}\".format(e)) "
   ]
  },
  {
   "cell_type": "code",
   "execution_count": 27,
   "id": "e0963164-bde8-401c-8de1-41441c2910e9",
   "metadata": {},
   "outputs": [],
   "source": [
    "# 5. Always try to document all the errors with proper meaning:\n",
    "#  i.e(write that what error we have written and what is purpose of using that error)\n"
   ]
  },
  {
   "cell_type": "code",
   "execution_count": 34,
   "id": "53b16df0-4d24-4b7d-af76-68682a66c31f",
   "metadata": {},
   "outputs": [],
   "source": [
    "# 6. Always cleanup all resources that we have used to do perticular work.\n",
    "#  eg: if we have opened a file then it should be closed if we have done operation on that file or not but even though we have to close it .\n",
    "#       this means that closing opened file is one of the example of clening resouses by calling finally statement.\n",
    "#  eg: disconnecting connected databse even if we have not done any operation on that."
   ]
  },
  {
   "cell_type": "code",
   "execution_count": 35,
   "id": "7752f6fd-e052-422d-a2c8-836f7a4862d0",
   "metadata": {},
   "outputs": [],
   "source": [
    "try:\n",
    "    with open(\"test9.txt\" , \"w\") as f:\n",
    "        f.write(\"This is my data to file\")\n",
    "except FileNotFoundError as e:                                           \n",
    "    logging.error(\"I am handling file not found {}\".format(e))\n",
    "finally:\n",
    "    f.close()"
   ]
  },
  {
   "cell_type": "code",
   "execution_count": null,
   "id": "2df4df12-7ed1-4169-ba3e-732b57c38471",
   "metadata": {},
   "outputs": [],
   "source": []
  }
 ],
 "metadata": {
  "kernelspec": {
   "display_name": "Python 3 (ipykernel)",
   "language": "python",
   "name": "python3"
  },
  "language_info": {
   "codemirror_mode": {
    "name": "ipython",
    "version": 3
   },
   "file_extension": ".py",
   "mimetype": "text/x-python",
   "name": "python",
   "nbconvert_exporter": "python",
   "pygments_lexer": "ipython3",
   "version": "3.10.8"
  }
 },
 "nbformat": 4,
 "nbformat_minor": 5
}
