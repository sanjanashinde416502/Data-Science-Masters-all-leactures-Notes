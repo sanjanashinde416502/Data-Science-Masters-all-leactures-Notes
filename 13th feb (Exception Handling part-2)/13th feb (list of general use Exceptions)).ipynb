{
 "cells": [
  {
   "cell_type": "code",
   "execution_count": 23,
   "id": "f9b0e3c7-7f19-4537-ab28-0c198496098d",
   "metadata": {},
   "outputs": [],
   "source": [
    "# list of genemral use Exceptions:\n",
    "# 1. in this we can learn about many use cases that we use in exception handling.\n",
    "# 2. try , except, else, and finally are majour blocks in exception handling. Exception handling has many other things that we will learn in this class\n",
    "# Different types of errors are:\n",
    "#   1.'ZeroDivisionError' this is a error for (no/0)\n",
    "#   2.'ValueError' this is error for (if we enter wrong value for worng datatype)\n",
    "#   3. 'TypeError' this is a error for (if enter wrong value for wrong syntax)\n",
    "#   4. 'importError' this error hapens when we are trying to import package that never exists\n",
    "#   5. 'KeyError' this is error happens when we try to fetch some value in dict by a key that was not in that dictionary\n",
    "#   6. 'AttributeError' this is a error occures when we try to call value or function that doesn't have that attribute\n",
    "#   7. 'ListError' this is error occurs when we try to call value from list acccording to indexes in list that wasn't exists in that list. \n",
    "# If you don't know that which error  is generated then just call Exception class."
   ]
  },
  {
   "cell_type": "code",
   "execution_count": 7,
   "id": "29587425-9d1a-4d31-ba26-906720b5f135",
   "metadata": {},
   "outputs": [
    {
     "name": "stdout",
     "output_type": "stream",
     "text": [
      "division by zero\n"
     ]
    }
   ],
   "source": [
    "try:\n",
    "    a=10/0\n",
    "except ZeroDivisionError as e: # here 'ZeroDivision' is one of the error present in Exception librery .we can call these errors if we know which error \n",
    "    print(e)                   # will generate if try block will not excute properly"
   ]
  },
  {
   "cell_type": "code",
   "execution_count": 8,
   "id": "ab903034-616b-409b-9ba5-e40e3e34f941",
   "metadata": {},
   "outputs": [
    {
     "name": "stdout",
     "output_type": "stream",
     "text": [
      "invalid literal for int() with base 10: 'sanjana'\n"
     ]
    }
   ],
   "source": [
    "try:\n",
    "    int(\"sanjana\")\n",
    "except (ValueError,TypeError) as e: # here try block will not execute properly that 'Valueerror , TypeError' are the type of error will occur if try \n",
    "    print(e)                        # block fells."
   ]
  },
  {
   "cell_type": "code",
   "execution_count": 11,
   "id": "b0b20d46-1d40-4972-b6db-809a077b7a06",
   "metadata": {},
   "outputs": [
    {
     "name": "stdout",
     "output_type": "stream",
     "text": [
      "this will catch as error\n"
     ]
    }
   ],
   "source": [
    "try:\n",
    "    int(\"sanjana\")\n",
    "except:\n",
    "    print(\"this will catch as error\") # if we don't knnow about which error will occur we can just print this type of error statement."
   ]
  },
  {
   "cell_type": "code",
   "execution_count": 12,
   "id": "1036a1fd-6a77-4244-b08c-08f1c9c5b596",
   "metadata": {},
   "outputs": [
    {
     "name": "stdout",
     "output_type": "stream",
     "text": [
      "No module named 'sudh'\n"
     ]
    }
   ],
   "source": [
    "try:\n",
    "    import sudh\n",
    "except ImportError as e:\n",
    "    print(e)"
   ]
  },
  {
   "cell_type": "code",
   "execution_count": 15,
   "id": "433de173-2e70-4d84-982b-055a12bd7245",
   "metadata": {},
   "outputs": [
    {
     "name": "stdout",
     "output_type": "stream",
     "text": [
      "'key2'\n"
     ]
    }
   ],
   "source": [
    "try:\n",
    "    d={\"key\" : \"value\" , 1 : [2,3,4,5,5]}\n",
    "    print(d[\"key2\"])\n",
    "except KeyError as e:\n",
    "    print(e)"
   ]
  },
  {
   "cell_type": "code",
   "execution_count": 18,
   "id": "f57157b9-8fa8-4df0-aac5-d5ca24ac888b",
   "metadata": {},
   "outputs": [
    {
     "name": "stdout",
     "output_type": "stream",
     "text": [
      "'str' object has no attribute 'test'\n"
     ]
    }
   ],
   "source": [
    "try:\n",
    "    \"sudh\".test()\n",
    "except AttributeError as e:\n",
    "    print(e)"
   ]
  },
  {
   "cell_type": "code",
   "execution_count": 22,
   "id": "2e39a39a-95c5-4a98-af53-0b7bdd25b867",
   "metadata": {},
   "outputs": [
    {
     "name": "stdout",
     "output_type": "stream",
     "text": [
      "list index out of range\n"
     ]
    }
   ],
   "source": [
    "try:\n",
    "    l=[1,2,3,4,5,6]\n",
    "    print(l[7])\n",
    "except IndexError as e:\n",
    "        print(e)"
   ]
  },
  {
   "cell_type": "code",
   "execution_count": 23,
   "id": "b47b32ce-2e61-4a15-9904-fb84cc3410c6",
   "metadata": {},
   "outputs": [
    {
     "name": "stdout",
     "output_type": "stream",
     "text": [
      "unsupported operand type(s) for +: 'int' and 'str'\n"
     ]
    }
   ],
   "source": [
    "try:\n",
    "    123 + \"sanjana\"\n",
    "except TypeError as e:\n",
    "    print(e)"
   ]
  },
  {
   "cell_type": "code",
   "execution_count": 25,
   "id": "ef56840f-2713-4c9e-847e-b8e84e9651b8",
   "metadata": {},
   "outputs": [
    {
     "name": "stdout",
     "output_type": "stream",
     "text": [
      "[Errno 2] No such file or directory: 'test9.txt'\n"
     ]
    }
   ],
   "source": [
    "try:\n",
    "    with open(\"test9.txt\",\"r\") as f:\n",
    "        f.read()\n",
    "except FileNotFoundError as e:\n",
    "    print(e)"
   ]
  },
  {
   "cell_type": "code",
   "execution_count": 27,
   "id": "89db2163-b389-4646-9ddd-874bf98c944d",
   "metadata": {},
   "outputs": [
    {
     "data": {
      "text/plain": [
       "['__cause__',\n",
       " '__class__',\n",
       " '__context__',\n",
       " '__delattr__',\n",
       " '__dict__',\n",
       " '__dir__',\n",
       " '__doc__',\n",
       " '__eq__',\n",
       " '__format__',\n",
       " '__ge__',\n",
       " '__getattribute__',\n",
       " '__gt__',\n",
       " '__hash__',\n",
       " '__init__',\n",
       " '__init_subclass__',\n",
       " '__le__',\n",
       " '__lt__',\n",
       " '__ne__',\n",
       " '__new__',\n",
       " '__reduce__',\n",
       " '__reduce_ex__',\n",
       " '__repr__',\n",
       " '__setattr__',\n",
       " '__setstate__',\n",
       " '__sizeof__',\n",
       " '__str__',\n",
       " '__subclasshook__',\n",
       " '__suppress_context__',\n",
       " '__traceback__',\n",
       " 'args',\n",
       " 'with_traceback']"
      ]
     },
     "execution_count": 27,
     "metadata": {},
     "output_type": "execute_result"
    }
   ],
   "source": [
    "dir(Exception)        # these are the types of error that occurs these errors are included in Exception "
   ]
  },
  {
   "cell_type": "code",
   "execution_count": 32,
   "id": "d2038600-34b3-4429-bb9c-7b18b23950aa",
   "metadata": {},
   "outputs": [
    {
     "name": "stdout",
     "output_type": "stream",
     "text": [
      "[Errno 2] No such file or directory: 'test9.txt'\n"
     ]
    }
   ],
   "source": [
    "try:\n",
    "    with open(\"test9.txt\",\"r\") as f:\n",
    "        f.read()               # for try we can write many errors.\n",
    "except Exception as e:        # here if you write many exceptions then if try fells to execute then first exception will execute first if first except is able to handle that error then \n",
    "    print(e)                  # it will not go to the next exception .\n",
    "except FileNotFoundError as e: # so if you write custom error then write that exception first(in case if that exception fells to handle error then) then it will go to next eception like \n",
    "    print(\"test\",e)            # that system will fallow hierachical flow to handle errors .\n",
    "                            # make sure that if you are writing many exceptions then 'except Exception as e' should written at last because Exception class can handle any type of errors\n",
    "                           # and if you write it first then processor will not move to next errors."
   ]
  },
  {
   "cell_type": "code",
   "execution_count": 40,
   "id": "d7e431f9-9a6f-48c6-a6bb-c30d87f9180e",
   "metadata": {},
   "outputs": [],
   "source": [
    "def test(file):    # we can write these try,except, else,finally in a function also\n",
    "    try:\n",
    "        with open(\"test9.txt\",\"r\") as f:\n",
    "            f.read()               # for try we can write many errors.\n",
    "    except Exception as e:        # here make sure that specific error should write first then write the generic error i.e(except exception as e) statement \n",
    "        print(e)                  \n",
    "    except FileNotFoundError as e: \n",
    "        print(e)"
   ]
  },
  {
   "cell_type": "code",
   "execution_count": 41,
   "id": "638c8130-0bab-4978-9b8e-f6d434513aae",
   "metadata": {},
   "outputs": [
    {
     "ename": "NameError",
     "evalue": "name 'test9' is not defined",
     "output_type": "error",
     "traceback": [
      "\u001b[0;31m---------------------------------------------------------------------------\u001b[0m",
      "\u001b[0;31mNameError\u001b[0m                                 Traceback (most recent call last)",
      "Cell \u001b[0;32mIn[41], line 1\u001b[0m\n\u001b[0;32m----> 1\u001b[0m test(\u001b[43mtest9\u001b[49m\u001b[38;5;241m.\u001b[39mtxt)\n",
      "\u001b[0;31mNameError\u001b[0m: name 'test9' is not defined"
     ]
    }
   ],
   "source": [
    "test(test9.txt)"
   ]
  },
  {
   "cell_type": "code",
   "execution_count": 18,
   "id": "ed61aa85-9fc9-429f-abeb-3ec4e11dc8e3",
   "metadata": {},
   "outputs": [],
   "source": [
    "# practice problems:"
   ]
  },
  {
   "cell_type": "code",
   "execution_count": 21,
   "id": "c1036d45-3f3a-498b-80e5-e4bd741af167",
   "metadata": {},
   "outputs": [
    {
     "name": "stdout",
     "output_type": "stream",
     "text": [
      "invalid literal for int() with base 10: 'sanjana'\n"
     ]
    }
   ],
   "source": [
    "try :\n",
    "    a=int(\"sanjana\")\n",
    "except ValueError as e:\n",
    "    print(e)"
   ]
  },
  {
   "cell_type": "code",
   "execution_count": null,
   "id": "37b49afd-00eb-41ed-a4b6-27be8e3899a7",
   "metadata": {},
   "outputs": [],
   "source": []
  }
 ],
 "metadata": {
  "kernelspec": {
   "display_name": "Python 3 (ipykernel)",
   "language": "python",
   "name": "python3"
  },
  "language_info": {
   "codemirror_mode": {
    "name": "ipython",
    "version": 3
   },
   "file_extension": ".py",
   "mimetype": "text/x-python",
   "name": "python",
   "nbconvert_exporter": "python",
   "pygments_lexer": "ipython3",
   "version": "3.10.8"
  }
 },
 "nbformat": 4,
 "nbformat_minor": 5
}
