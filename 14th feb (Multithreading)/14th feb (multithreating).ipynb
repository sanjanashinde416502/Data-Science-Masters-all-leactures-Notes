{
 "cells": [
  {
   "cell_type": "code",
   "execution_count": 1,
   "id": "58b288a7-6571-4851-9a7e-f1cbdb370dac",
   "metadata": {},
   "outputs": [],
   "source": [
    "# Multithreding:\n",
    "# 1. multithreading is automaticaly handled by system itself.\n",
    "# 2. for eg: if I have a quadecore system ,it has 4 procesors.if I have dualcore then it has 2 procesors and in case of octacore it has 8 procesors.\n",
    "#             Lets see in example that i have quadecore with 4 processors then it will allocate cores for programs .if my first program will runs in first core like this 2nd program in\n",
    "#            2nd core .3rd in 3rd core ,4th in 4th core. if we want to run multiple programs in one core that is here we are creating multiple processes i.e multiple threats.and how to \n",
    "#            create these multiple threats in single core is the concept of multithreding.\n",
    "# 3. in python basically there are two libreries that are thread,and 2nd is threading.\n",
    "#    the 1st thred librery is absolute so it is not used nowadays.\n",
    "#    in this lecture we will be learning how to create multiple threds in one program ,how to create multiple instances of programs and which type of programs we can run in single core \n",
    "#    using threading library. "
   ]
  },
  {
   "cell_type": "code",
   "execution_count": 2,
   "id": "7b499a76-8ab4-469a-8d3a-acf8310f11c1",
   "metadata": {},
   "outputs": [],
   "source": [
    "import threading                    # importing threading library"
   ]
  },
  {
   "cell_type": "code",
   "execution_count": 3,
   "id": "30ba6ce6-0667-4770-8435-0e84ba6a0b6e",
   "metadata": {},
   "outputs": [],
   "source": [
    "def test(id):                                                # program no 1\n",
    "    print(\"program starts with id %d\"% id)"
   ]
  },
  {
   "cell_type": "code",
   "execution_count": 4,
   "id": "1f57035f-6b08-435d-8a62-9c0dc066a58d",
   "metadata": {},
   "outputs": [
    {
     "name": "stdout",
     "output_type": "stream",
     "text": [
      "program starts with id 45\n"
     ]
    }
   ],
   "source": [
    "test(45)"
   ]
  },
  {
   "cell_type": "code",
   "execution_count": 5,
   "id": "e8e9eba1-1bcc-4124-a8a4-e0a5684fec38",
   "metadata": {},
   "outputs": [],
   "source": [
    "# here we are trying to run same program with multiple inputs i.e here we are calling same program 10 times with difrrent inputs it means we are creating 10 threads in a simgle program"
   ]
  },
  {
   "cell_type": "code",
   "execution_count": 6,
   "id": "bae29217-78f9-409d-9dc4-02f2de1ac9ca",
   "metadata": {},
   "outputs": [],
   "source": [
    "thread=[threading.Thread(target=test,args=(i ,))for i in range(10)]        # programs that you want to run multiple times write it in threading.\n",
    "# syntax: veriable = [(threading keyword) dot(.) (thread function by pressing tab you can get to know) (give target= (function name that we want to run  multiple with multiple inputs),\n",
    "#                   (arguments (args=(veriable ,)) for loop (i.e for i in range(how many times we want to run))))]\n",
    "# after that write for loop "
   ]
  },
  {
   "cell_type": "code",
   "execution_count": 7,
   "id": "15cc3c6b-1cd6-490d-b9ac-2c79ac19b189",
   "metadata": {},
   "outputs": [
    {
     "name": "stdout",
     "output_type": "stream",
     "text": [
      "program starts with id 0\n",
      "program starts with id 1\n",
      "program starts with id 2\n",
      "program starts with id 3\n",
      "program starts with id 4\n",
      "program starts with id 5\n",
      "program starts with id 6\n",
      "program starts with id 7\n",
      "program starts with id 8\n",
      "program starts with id 9\n"
     ]
    }
   ],
   "source": [
    "for t in thread:                \n",
    "    t.start()        # call threating by using start function"
   ]
  },
  {
   "cell_type": "code",
   "execution_count": 8,
   "id": "22bf2722-9e90-4436-a364-c5db1958e0fb",
   "metadata": {},
   "outputs": [
    {
     "data": {
      "text/plain": [
       "[0, 1, 2, 3, 4, 5, 6, 7, 8, 9]"
      ]
     },
     "execution_count": 8,
     "metadata": {},
     "output_type": "execute_result"
    }
   ],
   "source": [
    "list(range(10))                     # here we are doing list comprehention operation"
   ]
  },
  {
   "cell_type": "code",
   "execution_count": 9,
   "id": "10fb537a-0d8d-4763-bda9-f89e7d0ace10",
   "metadata": {},
   "outputs": [
    {
     "data": {
      "text/plain": [
       "[<Thread(Thread-5 (test), stopped 140209165411904)>,\n",
       " <Thread(Thread-6 (test), stopped 140209165411904)>,\n",
       " <Thread(Thread-7 (test), stopped 140209165411904)>,\n",
       " <Thread(Thread-8 (test), stopped 140209165411904)>,\n",
       " <Thread(Thread-9 (test), stopped 140209165411904)>,\n",
       " <Thread(Thread-10 (test), stopped 140209165411904)>,\n",
       " <Thread(Thread-11 (test), stopped 140209165411904)>,\n",
       " <Thread(Thread-12 (test), stopped 140209165411904)>,\n",
       " <Thread(Thread-13 (test), stopped 140209165411904)>,\n",
       " <Thread(Thread-14 (test), stopped 140209165411904)>]"
      ]
     },
     "execution_count": 9,
     "metadata": {},
     "output_type": "execute_result"
    }
   ],
   "source": [
    "thread    # this thead has run 10 times in a single core"
   ]
  },
  {
   "cell_type": "code",
   "execution_count": 10,
   "id": "08c8546c-1e10-48d0-9793-24ba36122ba5",
   "metadata": {},
   "outputs": [
    {
     "data": {
      "text/plain": [
       "'/home/jovyan/work/multithreading'"
      ]
     },
     "execution_count": 10,
     "metadata": {},
     "output_type": "execute_result"
    }
   ],
   "source": [
    "pwd"
   ]
  },
  {
   "cell_type": "code",
   "execution_count": 11,
   "id": "2b5fe348-c540-439a-9321-f37528906733",
   "metadata": {},
   "outputs": [
    {
     "name": "stdout",
     "output_type": "stream",
     "text": [
      "[Errno 2] No such file or directory: 'multithreading'\n",
      "/home/jovyan/work/multithreading\n"
     ]
    }
   ],
   "source": [
    "cd multithreading"
   ]
  },
  {
   "cell_type": "code",
   "execution_count": 12,
   "id": "dddc4194-84d3-4e5e-9c2b-a105897ec602",
   "metadata": {},
   "outputs": [
    {
     "data": {
      "text/plain": [
       "'/home/jovyan/work/multithreading'"
      ]
     },
     "execution_count": 12,
     "metadata": {},
     "output_type": "execute_result"
    }
   ],
   "source": [
    "pwd"
   ]
  },
  {
   "cell_type": "code",
   "execution_count": 13,
   "id": "223352c3-3034-4656-8fbd-b42c66cfb177",
   "metadata": {},
   "outputs": [
    {
     "name": "stdout",
     "output_type": "stream",
     "text": [
      "'14th feb (multithreating).ipynb'   multithreading.txt\n",
      " file1.txt                         'new14th feb (multithreating).ipynb'\n",
      " file2.txt                          test3.txt\n",
      " file3.txt                          text2.txt\n"
     ]
    }
   ],
   "source": [
    "ls"
   ]
  },
  {
   "cell_type": "code",
   "execution_count": 14,
   "id": "42b4fdcf-e6b9-4dfd-810f-ba4de9bf3ee1",
   "metadata": {},
   "outputs": [],
   "source": [
    "import threading                   # here we are trying to run multiple files in single core\n",
    "import urllib.request              # here we are using 'urllib.request' because we are tsking files from internet\n",
    "def file_download(url,filename):       # here we are getting 3 files from different github locations and storing these files in local location \n",
    "      urllib.request.urlretrieve(url,filename)             # i.e in multithreading folder in certain file.\n",
    "    "
   ]
  },
  {
   "cell_type": "code",
   "execution_count": 15,
   "id": "2ffe5470-265c-42c6-8e2d-f9991a30ddb1",
   "metadata": {},
   "outputs": [],
   "source": [
    "# this we can do retriving one file from its location & storing that single file in our local file. as fallows:"
   ]
  },
  {
   "cell_type": "code",
   "execution_count": 16,
   "id": "5487e04b-0fdd-40d4-8a21-f9e8a7651037",
   "metadata": {},
   "outputs": [],
   "source": [
    "file_download(\"https://mail.google.com/mail/u/0/#inbox/FMfcgzGrcjTdxgVPzTHjrpZHLmPJSjnC\",\"test3.txt\")"
   ]
  },
  {
   "cell_type": "code",
   "execution_count": 17,
   "id": "adda1cbb-01b6-4616-bb39-f8c94c892ea2",
   "metadata": {},
   "outputs": [],
   "source": [
    "url_list=['https://github.com/sanjanashinde2003/Assignment-No-11-10th-feb/blob/main/Assignment%20no%2011%2010th%20feb.ipynb','https://github.com/sanjanashinde2003/Assignment-No-9-8th-feb/blob/main/Assignment%20No%209%20%208th%20feb.ipynb','https://github.com/logos']"
   ]
  },
  {
   "cell_type": "code",
   "execution_count": 18,
   "id": "ce9d8cfd-f83a-4c79-b00a-76780fe3fab3",
   "metadata": {},
   "outputs": [
    {
     "data": {
      "text/plain": [
       "['https://github.com/sanjanashinde2003/Assignment-No-11-10th-feb/blob/main/Assignment%20no%2011%2010th%20feb.ipynb',\n",
       " 'https://github.com/sanjanashinde2003/Assignment-No-9-8th-feb/blob/main/Assignment%20No%209%20%208th%20feb.ipynb',\n",
       " 'https://github.com/logos']"
      ]
     },
     "execution_count": 18,
     "metadata": {},
     "output_type": "execute_result"
    }
   ],
   "source": [
    "url_list"
   ]
  },
  {
   "cell_type": "code",
   "execution_count": 19,
   "id": "8e791a74-9dba-411e-81b5-d87ff0ff852b",
   "metadata": {},
   "outputs": [],
   "source": [
    "file_name_list=(\"file1.txt\",\"file2.txt\",'file3.txt')"
   ]
  },
  {
   "cell_type": "code",
   "execution_count": 20,
   "id": "347284c4-0a73-4920-a290-c9750db5ea84",
   "metadata": {},
   "outputs": [],
   "source": [
    "ther=[threading.Thread(target=file_download , args=(url_list[i],file_name_list[i]))  for i in range(len(url_list))]"
   ]
  },
  {
   "cell_type": "code",
   "execution_count": 21,
   "id": "d764b46d-7bb7-4d7a-843b-0b37c3a6397e",
   "metadata": {},
   "outputs": [
    {
     "data": {
      "text/plain": [
       "[<Thread(Thread-15 (file_download), initial)>,\n",
       " <Thread(Thread-16 (file_download), initial)>,\n",
       " <Thread(Thread-17 (file_download), initial)>]"
      ]
     },
     "execution_count": 21,
     "metadata": {},
     "output_type": "execute_result"
    }
   ],
   "source": [
    "ther                 # this will make 3 threads of function named file_download for 3 urls"
   ]
  },
  {
   "cell_type": "code",
   "execution_count": 11,
   "id": "58afb350-287e-4066-acb0-979d3db174cd",
   "metadata": {},
   "outputs": [
    {
     "ename": "RuntimeError",
     "evalue": "threads can only be started once",
     "output_type": "error",
     "traceback": [
      "\u001b[0;31m---------------------------------------------------------------------------\u001b[0m",
      "\u001b[0;31mRuntimeError\u001b[0m                              Traceback (most recent call last)",
      "Cell \u001b[0;32mIn[11], line 2\u001b[0m\n\u001b[1;32m      1\u001b[0m \u001b[38;5;28;01mfor\u001b[39;00m t \u001b[38;5;129;01min\u001b[39;00m ther:   \u001b[38;5;66;03m# to see your function is executed correctly see by opening that files from multithread\u001b[39;00m\n\u001b[0;32m----> 2\u001b[0m     \u001b[43mt\u001b[49m\u001b[38;5;241;43m.\u001b[39;49m\u001b[43mstart\u001b[49m\u001b[43m(\u001b[49m\u001b[43m)\u001b[49m       \u001b[38;5;66;03m# this have given error because we have executed it 2 time but it had=s worked correctly\u001b[39;00m\n",
      "File \u001b[0;32m/opt/conda/lib/python3.10/threading.py:930\u001b[0m, in \u001b[0;36mThread.start\u001b[0;34m(self)\u001b[0m\n\u001b[1;32m    927\u001b[0m     \u001b[38;5;28;01mraise\u001b[39;00m \u001b[38;5;167;01mRuntimeError\u001b[39;00m(\u001b[38;5;124m\"\u001b[39m\u001b[38;5;124mthread.__init__() not called\u001b[39m\u001b[38;5;124m\"\u001b[39m)\n\u001b[1;32m    929\u001b[0m \u001b[38;5;28;01mif\u001b[39;00m \u001b[38;5;28mself\u001b[39m\u001b[38;5;241m.\u001b[39m_started\u001b[38;5;241m.\u001b[39mis_set():\n\u001b[0;32m--> 930\u001b[0m     \u001b[38;5;28;01mraise\u001b[39;00m \u001b[38;5;167;01mRuntimeError\u001b[39;00m(\u001b[38;5;124m\"\u001b[39m\u001b[38;5;124mthreads can only be started once\u001b[39m\u001b[38;5;124m\"\u001b[39m)\n\u001b[1;32m    932\u001b[0m \u001b[38;5;28;01mwith\u001b[39;00m _active_limbo_lock:\n\u001b[1;32m    933\u001b[0m     _limbo[\u001b[38;5;28mself\u001b[39m] \u001b[38;5;241m=\u001b[39m \u001b[38;5;28mself\u001b[39m\n",
      "\u001b[0;31mRuntimeError\u001b[0m: threads can only be started once"
     ]
    }
   ],
   "source": [
    "for t in ther:   # to see your function is executed correctly see by opening that files from multithread\n",
    "    t.start()       # this have given error because we have executed it 2 time but it had=s worked correctly"
   ]
  },
  {
   "cell_type": "code",
   "execution_count": 31,
   "id": "6a409cb7-9860-47cb-b5c9-3dbbe2440a89",
   "metadata": {},
   "outputs": [
    {
     "data": {
      "text/plain": [
       "[<Thread(Thread-15 (file_download), initial)>,\n",
       " <Thread(Thread-16 (file_download), initial)>,\n",
       " <Thread(Thread-17 (file_download), initial)>]"
      ]
     },
     "execution_count": 31,
     "metadata": {},
     "output_type": "execute_result"
    }
   ],
   "source": [
    "\n",
    "ther\n"
   ]
  },
  {
   "cell_type": "code",
   "execution_count": 52,
   "id": "772ab5b1-f250-4652-af7a-91078076bf81",
   "metadata": {},
   "outputs": [],
   "source": [
    "import time           # here time pakcage we are importing  "
   ]
  },
  {
   "cell_type": "code",
   "execution_count": 53,
   "id": "42938fa7-a277-47a6-8676-f8ef0b537ea8",
   "metadata": {},
   "outputs": [],
   "source": [
    "def test(id):                               # here we are creating function to print given line 'test1 1 printing ' for diffrent intergers that is for (0,1,2,3,4,5,6,7,8,9)\n",
    "    for i in range(10):\n",
    "        print(\"test1 %d printing %d\"%(id,i)) # id will be constant i.e is 1 and value of i will be changing \n",
    "        #time.sleep(1)    # we have given time slot i.e time limit for execution of program so it will take sometie to execute next line after first line. "
   ]
  },
  {
   "cell_type": "code",
   "execution_count": 54,
   "id": "b5701475-b610-420a-bcc2-13ba90e635a2",
   "metadata": {},
   "outputs": [
    {
     "name": "stdout",
     "output_type": "stream",
     "text": [
      "test1 1 printing 0\n",
      "test1 1 printing 1\n",
      "test1 1 printing 2\n",
      "test1 1 printing 3\n",
      "test1 1 printing 4\n",
      "test1 1 printing 5\n",
      "test1 1 printing 6\n",
      "test1 1 printing 7\n",
      "test1 1 printing 8\n",
      "test1 1 printing 9\n"
     ]
    }
   ],
   "source": [
    "test(1)     # during execution of program it will stop and then print next line after some time limit"
   ]
  },
  {
   "cell_type": "code",
   "execution_count": 55,
   "id": "874e4a0b-f783-43a7-853e-3466d0b664fd",
   "metadata": {},
   "outputs": [],
   "source": [
    "import threading"
   ]
  },
  {
   "cell_type": "code",
   "execution_count": 58,
   "id": "e812ed15-79ce-4017-9b74-a91a2b775eac",
   "metadata": {},
   "outputs": [],
   "source": [
    "# in bellow example we are using threading for doing process of printing 0-9 no's for id0,id1,id2 that is here we are creating different\n",
    "# threads that is id's for doing process of printing 0-9 no's .here process in one that is printing 0-9 no's for id0 in that one process \n",
    "# we are creating multiple processes of printing 0-9 no's for id0,id1,id2 etc.\n",
    "\n",
    "\n",
    "\n"
   ]
  },
  {
   "cell_type": "code",
   "execution_count": 56,
   "id": "787ceaa0-15e0-4152-ab54-4ef62102b66f",
   "metadata": {},
   "outputs": [],
   "source": [
    "thread1=[threading.Thread(target=test,args=(i,)) for i in range(3)]  \n",
    "# in defining threading first write target=(function name that we are executing ) then give args=(what arguments it is taking ) then write \n",
    "# how many times we want to  excute that function.write that in for loop."
   ]
  },
  {
   "cell_type": "code",
   "execution_count": 44,
   "id": "7267652a-327b-41c0-af30-3025cbe67908",
   "metadata": {},
   "outputs": [
    {
     "name": "stdout",
     "output_type": "stream",
     "text": [
      "test1 0 printing 0\n",
      "test1 1 printing 0\n",
      "test1 2 printing 0\n",
      "test1 1 printing 1\n",
      "test1 2 printing 1\n",
      "test1 0 printing 1\n",
      "test1 0 printing 2\n",
      "test1 1 printing 2\n",
      "test1 2 printing 2\n",
      "test1 0 printing 3test1 1 printing 3\n",
      "\n",
      "test1 2 printing 3\n",
      "test1 1 printing 4\n",
      "test1 0 printing 4\n",
      "test1 2 printing 4\n",
      "test1 1 printing 5\n",
      "test1 0 printing 5\n",
      "test1 2 printing 5\n",
      "test1 1 printing 6\n",
      "test1 0 printing 6\n",
      "test1 2 printing 6\n",
      "test1 1 printing 7\n",
      "test1 0 printing 7\n",
      "test1 2 printing 7\n",
      "test1 0 printing 8\n",
      "test1 2 printing 8\n",
      "test1 1 printing 8\n",
      "test1 2 printing 9\n",
      "test1 1 printing 9\n",
      "test1 0 printing 9\n"
     ]
    }
   ],
   "source": [
    "for t in thread1:              # here in above threading we are running function for 3 different id's i.e for id 1(print 0 to 9) for id2(print 0-9),and for id3(print 0-9)\n",
    "    t.start()                  # but we don't get output as printing first 0 to 9 no's for id 0 then for id1 and for id2. becouse when id becomes 0 it will print 0 then id0 will go on sleep and give chance to \n",
    "                               # id1 to excute and print o then id1 goes on sleep and gives chance to execute id2 it prints 0 then this process continous for id o,id1,& id2 till they all print 0 to 9 nos"
   ]
  },
  {
   "cell_type": "code",
   "execution_count": 85,
   "id": "6ac19256-ae1b-4985-8664-d9ef3c3f5a19",
   "metadata": {},
   "outputs": [],
   "source": [
    "# Advantge of using 'time.sleep()' :\n",
    "# 1.In above example advantage of using 'time.sleep()' function is that it gives chance to execute ather threats to execute.\n",
    "# 2.we can do resourse utilization effiently."
   ]
  },
  {
   "cell_type": "code",
   "execution_count": 57,
   "id": "d382bea2-85be-470f-9d87-63f9feb84cd9",
   "metadata": {},
   "outputs": [
    {
     "name": "stdout",
     "output_type": "stream",
     "text": [
      "test1 0 printing 0\n",
      "test1 0 printing 1\n",
      "test1 0 printing 2\n",
      "test1 0 printing 3\n",
      "test1 0 printing 4\n",
      "test1 0 printing 5\n",
      "test1 0 printing 6\n",
      "test1 0 printing 7\n",
      "test1 0 printing 8\n",
      "test1 0 printing 9\n",
      "test1 1 printing 0\n",
      "test1 1 printing 1\n",
      "test1 1 printing 2\n",
      "test1 1 printing 3\n",
      "test1 1 printing 4\n",
      "test1 1 printing 5\n",
      "test1 1 printing 6\n",
      "test1 1 printing 7\n",
      "test1 1 printing 8\n",
      "test1 1 printing 9\n",
      "test1 2 printing 0\n",
      "test1 2 printing 1\n",
      "test1 2 printing 2\n",
      "test1 2 printing 3\n",
      "test1 2 printing 4\n",
      "test1 2 printing 5\n",
      "test1 2 printing 6\n",
      "test1 2 printing 7\n",
      "test1 2 printing 8\n",
      "test1 2 printing 9\n"
     ]
    }
   ],
   "source": [
    "for t in thread1: # here we have not used sleep() function so in this case first 0-9 no's will be printed for id0 then for id1 then it will \n",
    "    t.start()     # print 0-9 no's for id3 it will not goes on sleep so it will not give chance to id1 and id2 to execute first.\n",
    "                  # here we have done comment out to sleep() function in test function"
   ]
  },
  {
   "cell_type": "code",
   "execution_count": 66,
   "id": "06dacdfc-75cd-4459-9e2f-8be09a864962",
   "metadata": {},
   "outputs": [],
   "source": [
    "import time"
   ]
  },
  {
   "cell_type": "code",
   "execution_count": 75,
   "id": "3aebcdc0-f98b-4c36-b2a5-98505c5f8c6b",
   "metadata": {},
   "outputs": [],
   "source": [
    "def test(id):                              \n",
    "    for i in range(10):\n",
    "        print(\"test1 %d printing %d %s \"%(id,i,time.ctime()))  # here we have used 'c.time()' function to print day,month,date,and time of\n",
    "        time.sleep(1)                                         # executing process and lastly year."
   ]
  },
  {
   "cell_type": "code",
   "execution_count": 79,
   "id": "cbd2bf0a-22e7-493b-864a-38cfed2477c5",
   "metadata": {},
   "outputs": [
    {
     "name": "stdout",
     "output_type": "stream",
     "text": [
      "test1 1 printing 0 Wed Mar  1 13:43:27 2023 \n",
      "test1 1 printing 1 Wed Mar  1 13:43:28 2023 \n",
      "test1 1 printing 2 Wed Mar  1 13:43:29 2023 \n",
      "test1 1 printing 3 Wed Mar  1 13:43:30 2023 \n",
      "test1 1 printing 4 Wed Mar  1 13:43:31 2023 \n",
      "test1 1 printing 5 Wed Mar  1 13:43:32 2023 \n",
      "test1 1 printing 6 Wed Mar  1 13:43:33 2023 \n",
      "test1 1 printing 7 Wed Mar  1 13:43:34 2023 \n",
      "test1 1 printing 8 Wed Mar  1 13:43:35 2023 \n",
      "test1 1 printing 9 Wed Mar  1 13:43:36 2023 \n"
     ]
    }
   ],
   "source": [
    "test(1) # in this it takes 1 second to execute one line"
   ]
  },
  {
   "cell_type": "code",
   "execution_count": 83,
   "id": "82656157-1f0c-4220-b101-c0c4177546e6",
   "metadata": {},
   "outputs": [],
   "source": [
    "thread2=[threading.Thread(target=test,args=(i,)) for i in range(3)]  \n"
   ]
  },
  {
   "cell_type": "code",
   "execution_count": 84,
   "id": "c7d7f2bf-0555-4bf9-882a-9a633a08a342",
   "metadata": {},
   "outputs": [
    {
     "name": "stdout",
     "output_type": "stream",
     "text": [
      "test1 0 printing 0 Wed Mar  1 13:50:35 2023 \n",
      "test1 1 printing 0 Wed Mar  1 13:50:35 2023 \n",
      "test1 2 printing 0 Wed Mar  1 13:50:35 2023 \n",
      "test1 0 printing 1 Wed Mar  1 13:50:36 2023 test1 1 printing 1 Wed Mar  1 13:50:36 2023 \n",
      "\n",
      "test1 2 printing 1 Wed Mar  1 13:50:36 2023 \n",
      "test1 1 printing 2 Wed Mar  1 13:50:37 2023 \n",
      "test1 0 printing 2 Wed Mar  1 13:50:37 2023 \n",
      "test1 2 printing 2 Wed Mar  1 13:50:37 2023 \n",
      "test1 1 printing 3 Wed Mar  1 13:50:38 2023 test1 0 printing 3 Wed Mar  1 13:50:38 2023 \n",
      "\n",
      "test1 2 printing 3 Wed Mar  1 13:50:38 2023 \n",
      "test1 0 printing 4 Wed Mar  1 13:50:39 2023 \n",
      "test1 1 printing 4 Wed Mar  1 13:50:39 2023 \n",
      "test1 2 printing 4 Wed Mar  1 13:50:39 2023 \n",
      "test1 0 printing 5 Wed Mar  1 13:50:40 2023 \n",
      "test1 1 printing 5 Wed Mar  1 13:50:40 2023 \n",
      "test1 2 printing 5 Wed Mar  1 13:50:40 2023 \n",
      "test1 0 printing 6 Wed Mar  1 13:50:41 2023 \n",
      "test1 1 printing 6 Wed Mar  1 13:50:41 2023 \n",
      "test1 2 printing 6 Wed Mar  1 13:50:41 2023 \n",
      "test1 0 printing 7 Wed Mar  1 13:50:42 2023 \n",
      "test1 1 printing 7 Wed Mar  1 13:50:42 2023 \n",
      "test1 2 printing 7 Wed Mar  1 13:50:42 2023 \n",
      "test1 1 printing 8 Wed Mar  1 13:50:43 2023 \n",
      "test1 0 printing 8 Wed Mar  1 13:50:43 2023 \n",
      "test1 2 printing 8 Wed Mar  1 13:50:43 2023 \n",
      "test1 1 printing 9 Wed Mar  1 13:50:44 2023 \n",
      "test1 0 printing 9 Wed Mar  1 13:50:44 2023 \n",
      "test1 2 printing 9 Wed Mar  1 13:50:44 2023 \n"
     ]
    }
   ],
   "source": [
    "for t in thread2:  # here it executes process of printing 0 for id0,id1,id2 at a same time .i.e prints 3 times 0 for all 3 threads\n",
    "    t.start()   # the adavntage of using 'time.sleep()' function is here we can do resoure utilization efficiently."
   ]
  },
  {
   "cell_type": "code",
   "execution_count": 48,
   "id": "741a7b23-c67a-4625-893b-30b88d4d72b7",
   "metadata": {},
   "outputs": [],
   "source": [
    "# aResourse sharing in multithreading :"
   ]
  },
  {
   "cell_type": "code",
   "execution_count": 2,
   "id": "acb8212f-bbc6-4f38-8d33-4c19a9b910fe",
   "metadata": {},
   "outputs": [],
   "source": [
    "import threading"
   ]
  },
  {
   "cell_type": "code",
   "execution_count": 3,
   "id": "023fc59e-9a2e-4d58-a561-07499536f0fe",
   "metadata": {},
   "outputs": [],
   "source": [
    "import time"
   ]
  },
  {
   "cell_type": "code",
   "execution_count": 4,
   "id": "ec73d33f-f03f-4ff7-a916-a4725a0a1ed6",
   "metadata": {},
   "outputs": [],
   "source": [
    "shared_var=0\n",
    "lock_var= threading.Lock()"
   ]
  },
  {
   "cell_type": "code",
   "execution_count": 6,
   "id": "1717fa12-c552-42b7-8b03-4f82d3378cec",
   "metadata": {},
   "outputs": [
    {
     "name": "stdout",
     "output_type": "stream",
     "text": [
      "test2  is 0 has increased by the shared veriable by 1 \n",
      "test2  is 1 has increased by the shared veriable by 2 \n",
      "test2  is 2 has increased by the shared veriable by 3 \n"
     ]
    }
   ],
   "source": [
    "shared_var= 0\n",
    "lock_var = threading.Lock()\n",
    "def test2(id):\n",
    "    global shared_var        # here we have made shared_var golbal so that all threads in processes can access it and update it\n",
    "    with lock_var:\n",
    "        shared_var =shared_var+1\n",
    "        print(\"test2  is %d has increased by the shared veriable by %d \" % ( id,shared_var))\n",
    "        time.sleep(1)\n",
    "thread3=[threading.Thread(target=test2,args=(i,)) for i in range(3)]\n",
    "for i in thread3:\n",
    "    i.start()"
   ]
  },
  {
   "cell_type": "code",
   "execution_count": 66,
   "id": "cc4ed630-d841-416e-be79-a97ce39809c2",
   "metadata": {},
   "outputs": [],
   "source": [
    "\n",
    "#here we are increasing id as well as shared veriable \n",
    "# here we have done resoure sharing that here shared_var is golbal veriable so that every thread can use and update or modifiy it\n"
   ]
  },
  {
   "cell_type": "code",
   "execution_count": 67,
   "id": "503456ef-1b8e-4037-abba-c18b028c058f",
   "metadata": {},
   "outputs": [
    {
     "name": "stdout",
     "output_type": "stream",
     "text": [
      "test2  is 0 has increased by the shared veriable by 4 \n"
     ]
    }
   ],
   "source": [
    "test2(0)"
   ]
  },
  {
   "cell_type": "code",
   "execution_count": null,
   "id": "a2086023-8e22-4db8-87a5-9cd31c698c16",
   "metadata": {},
   "outputs": [],
   "source": []
  }
 ],
 "metadata": {
  "kernelspec": {
   "display_name": "Python 3 (ipykernel)",
   "language": "python",
   "name": "python3"
  },
  "language_info": {
   "codemirror_mode": {
    "name": "ipython",
    "version": 3
   },
   "file_extension": ".py",
   "mimetype": "text/x-python",
   "name": "python",
   "nbconvert_exporter": "python",
   "pygments_lexer": "ipython3",
   "version": "3.10.8"
  }
 },
 "nbformat": 4,
 "nbformat_minor": 5
}
