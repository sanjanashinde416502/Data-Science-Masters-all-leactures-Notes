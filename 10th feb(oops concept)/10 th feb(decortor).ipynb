{
 "cells": [
  {
   "cell_type": "code",
   "execution_count": 3,
   "id": "c4f2fe2e-8b53-4f05-97b5-4d36f0c57b79",
   "metadata": {},
   "outputs": [],
   "source": [
    "# Decorater : Used to decorate the function ."
   ]
  },
  {
   "cell_type": "code",
   "execution_count": 8,
   "id": "f935ae42-27e2-4cad-a3bc-a7b152d7da3b",
   "metadata": {},
   "outputs": [],
   "source": [
    "def test():\n",
    "    print(\"this is start of my fun\")\n",
    "    print(\"this my function to test\")\n",
    "    print(4+5)\n",
    "    print(\"this is end of my function\")"
   ]
  },
  {
   "cell_type": "code",
   "execution_count": 9,
   "id": "6d0b34fd-516a-4e6a-acf6-143ec30761b2",
   "metadata": {},
   "outputs": [
    {
     "name": "stdout",
     "output_type": "stream",
     "text": [
      "this is start of my fun\n",
      "this my function to test\n",
      "9\n",
      "this is end of my function\n"
     ]
    }
   ],
   "source": [
    "test()"
   ]
  },
  {
   "cell_type": "code",
   "execution_count": 19,
   "id": "93aa244d-e487-4bf2-9700-97b68dc93ea5",
   "metadata": {},
   "outputs": [],
   "source": [
    "def decorat(func):                                # here we have created decorator function that will used to decorat the function .\n",
    "    def inner_dec():                             # we have created one inner function so that first this is starting of my function will be printed \n",
    "        print(\"this is starting of fun\")         # then we have called func() that will execute the function that is given and then lastly it will  \n",
    "        func()                                  # that this is end of function. lastly we return inner function.\n",
    "        print(\"this is end of fun\")             # here we have used decorator function to show staring and end of our function every time when we want \n",
    "    return inner_dec                            # to show it without righting it repetivly for every function.\n",
    "                                              # this we can call by writing amper sign(@) and name of decorator function."
   ]
  },
  {
   "cell_type": "code",
   "execution_count": 20,
   "id": "8742d4fb-808d-4055-835f-b19384c8e7a3",
   "metadata": {},
   "outputs": [],
   "source": [
    "@decorat                       # calling decorator function.\n",
    "def test1():\n",
    "    print(4+5)"
   ]
  },
  {
   "cell_type": "code",
   "execution_count": 21,
   "id": "3bf2f13f-0ae5-4df0-851b-c33c7d9d1f4e",
   "metadata": {},
   "outputs": [
    {
     "name": "stdout",
     "output_type": "stream",
     "text": [
      "this is starting of fun\n",
      "9\n",
      "this is end of fun\n"
     ]
    }
   ],
   "source": [
    "test1()"
   ]
  },
  {
   "cell_type": "code",
   "execution_count": 40,
   "id": "6f8aa999-25f3-4f2e-8616-179fdb313896",
   "metadata": {},
   "outputs": [],
   "source": [
    "import time                            \n",
    "def timer_test(func):                    # here we have created a function that will calculate the time required by function to execute \n",
    "    def timer_inner():                   # this is name of inner function  \n",
    "        start = time.time()              # we have to write here time .time(from pressing tab select time) for calculating starting time of function\n",
    "        func()                           # calling of function\n",
    "        end = time.time()                # to calculate end time of function\n",
    "        print(end,start)                 # printing start and end time \n",
    "    return timer_inner                   # returning inner function"
   ]
  },
  {
   "cell_type": "code",
   "execution_count": 41,
   "id": "41c2fec6-09e8-4952-81ec-fd5ab79f62f1",
   "metadata": {},
   "outputs": [],
   "source": [
    "@timer_test                     # here we have called decorater function timer_test\n",
    "def test():\n",
    "    print(3+4)"
   ]
  },
  {
   "cell_type": "code",
   "execution_count": 43,
   "id": "ccd3239b-9a20-451b-87e0-f15074a86521",
   "metadata": {},
   "outputs": [
    {
     "name": "stdout",
     "output_type": "stream",
     "text": [
      "7\n",
      "1676745156.7283623 1676745156.7283156\n"
     ]
    }
   ],
   "source": [
    "test()               # to get output of given function with decorate function just call that given function that we want to decorate \n",
    "                 # this will print first answer of given function and then print start and end time taken by function to execute."
   ]
  },
  {
   "cell_type": "code",
   "execution_count": 47,
   "id": "1cd441ba-ee7d-4afb-b7c1-779e711211b5",
   "metadata": {},
   "outputs": [],
   "source": [
    "@timer_test                        # Same like above function.\n",
    "def test3():\n",
    "    for i in  range(1234567890):\n",
    "        pass"
   ]
  },
  {
   "cell_type": "code",
   "execution_count": 48,
   "id": "22900c65-5e08-46e3-bedf-4f91832d2e3b",
   "metadata": {},
   "outputs": [
    {
     "name": "stdout",
     "output_type": "stream",
     "text": [
      "1676745243.0475602 1676745213.71361\n"
     ]
    }
   ],
   "source": [
    "test3()"
   ]
  },
  {
   "cell_type": "code",
   "execution_count": null,
   "id": "49440986-dd2e-4c93-a28e-24d1eb0a432e",
   "metadata": {},
   "outputs": [],
   "source": []
  }
 ],
 "metadata": {
  "kernelspec": {
   "display_name": "Python 3 (ipykernel)",
   "language": "python",
   "name": "python3"
  },
  "language_info": {
   "codemirror_mode": {
    "name": "ipython",
    "version": 3
   },
   "file_extension": ".py",
   "mimetype": "text/x-python",
   "name": "python",
   "nbconvert_exporter": "python",
   "pygments_lexer": "ipython3",
   "version": "3.10.8"
  }
 },
 "nbformat": 4,
 "nbformat_minor": 5
}
