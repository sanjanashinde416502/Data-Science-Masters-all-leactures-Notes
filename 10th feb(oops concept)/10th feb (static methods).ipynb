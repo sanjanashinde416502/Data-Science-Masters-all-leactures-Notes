{
 "cells": [
  {
   "cell_type": "code",
   "execution_count": 26,
   "id": "c29b0be6-7be9-4628-9d55-edba1f1dca20",
   "metadata": {},
   "outputs": [],
   "source": [
    "# static methods:\n",
    "# 1.used to create utilities such as  databases connectivity,database storage(these are utility functions)\n",
    "# 2. the advantage of creating a class as a static class is that it consumes less memory.\n",
    "#   for eg: the no of students maybe  thousands but number of mentors are limited and for each students we have to create object and call mentor method\n",
    "#          every time that will consume more memory but by creating static function to that function we don't have to create object every time we can \n",
    "#          directly call that method by using class name\n",
    "# static methods are used for memory optimization."
   ]
  },
  {
   "cell_type": "code",
   "execution_count": 27,
   "id": "42e8363a-72f8-41b0-9317-59efe4d39936",
   "metadata": {},
   "outputs": [],
   "source": [
    "class pwskills:                                          # this is a simple class that we can access by using object\n",
    "    def student_details(self,name,email_id,number):   # this method is known as instance method\n",
    "        print(name,email_id,number)"
   ]
  },
  {
   "cell_type": "code",
   "execution_count": 18,
   "id": "a161e947-9c42-452f-aa32-47d7d573b6fc",
   "metadata": {},
   "outputs": [],
   "source": [
    "pw=pwskills()"
   ]
  },
  {
   "cell_type": "code",
   "execution_count": 19,
   "id": "b6381e90-ebd2-4d5c-98ee-523ab51ff87c",
   "metadata": {},
   "outputs": [
    {
     "name": "stdout",
     "output_type": "stream",
     "text": [
      "sanjana sanjana12@gmail.com 1234568\n"
     ]
    }
   ],
   "source": [
    "pw.student_details(\"sanjana\",\"sanjana12@gmail.com\",1234568)"
   ]
  },
  {
   "cell_type": "code",
   "execution_count": 82,
   "id": "9a6bc9e6-8da5-4b58-88b7-526a9f06aedf",
   "metadata": {},
   "outputs": [],
   "source": [
    "class pwskills1:\n",
    "    \n",
    "    def student_details(self,name,email_id,number):    # the function which is not static or any other special type of function then that class will be\n",
    "        print(name,email_id,number)                    # instance class .for eg: here student_details is instance class\n",
    "        \n",
    "    @staticmethod                      # by creating static method we can call methods by without creating object of class  \n",
    "    def mentor_class(list_of_mentor):  # syntax for creating static methods is that we have to write '@staticmethod' above the class method that we \n",
    "        print(list_of_mentor)          # want to made static .in that we dont write self keyword\n",
    "        \n",
    "    def mentor(self,mentor_list):\n",
    "        print(mentor_list)\n",
    "    "
   ]
  },
  {
   "cell_type": "code",
   "execution_count": 78,
   "id": "98b69648-adaa-40b5-b876-0aaf051c71c9",
   "metadata": {},
   "outputs": [
    {
     "name": "stdout",
     "output_type": "stream",
     "text": [
      "['sanjana', 'prerana', 'sudh', 'krish']\n"
     ]
    }
   ],
   "source": [
    "pwskills1.mentor_class([\"sanjana\",\"prerana\",\"sudh\",\"krish\"])   # calling static class without creating class object\n",
    "                                                            # syntax to call static method : (class name) dot(.) (method name) (pass arguments if have)"
   ]
  },
  {
   "cell_type": "code",
   "execution_count": 79,
   "id": "c4fe0bcf-9386-4c6a-9fac-9bdfbfd9734c",
   "metadata": {},
   "outputs": [],
   "source": [
    "stud1=pwskills1()    # when we create multiple object of class it creates multiple copies of the same class"
   ]
  },
  {
   "cell_type": "code",
   "execution_count": 80,
   "id": "524601b8-8fc2-4f02-9319-719a3a49aaa4",
   "metadata": {},
   "outputs": [],
   "source": [
    "stud2=pwskills1() # this is copy no2 of the class pwskills1"
   ]
  },
  {
   "cell_type": "code",
   "execution_count": 81,
   "id": "5302b233-560f-4fd7-b7f4-e79a05024c60",
   "metadata": {},
   "outputs": [
    {
     "name": "stdout",
     "output_type": "stream",
     "text": [
      "['sanjana', 'sudh']\n"
     ]
    }
   ],
   "source": [
    "stud1.mentor([\"sanjana\",\"sudh\"])"
   ]
  },
  {
   "cell_type": "code",
   "execution_count": 5,
   "id": "33efa7bf-583c-4016-8be2-8421dc3c4c5b",
   "metadata": {},
   "outputs": [],
   "source": [
    "# to call static method into class method:\n",
    "# process:\n",
    "# 1.write '@classmethod' above the method that we want to make class method.\n",
    "# 2.create function by using def (function name)(cls as pointer) (colon :)\n",
    "# 3.call static method in class method using syntax: (cls) dot(.) (static method name) (arguments of static method) here you have to provide arguments\n",
    "#   if present in static method\n",
    "# 4.to call that class method write (class name) dot(.) (class method name) paranthesis() then press run butten\n",
    "\n",
    "\n",
    "class pwskills2:\n",
    "    \n",
    "    def student_details(self,name,email_id,number):    # the function which is not static or any other special type of function then that class will be\n",
    "        print(name,email_id,number)                    # instance class .for eg: here student_details is instance class\n",
    "        \n",
    "    @staticmethod                      # by creating static method we can call methods by without creating object of class  \n",
    "    def mentor_class(list_of_mentor):  # syntax for creating static methods is that we have to write '@staticmethod' above the class method that we \n",
    "        print(list_of_mentor)          # want to made static .in that we dont write self keyword\n",
    "    \n",
    "    @classmethod\n",
    "    def class_name(cls):  # here we are calling static method (mentor_class) into class method but here we have to pass arguments into function then it\n",
    "        cls.mentor_class([\"sanjana\",\"sudh\"])  # will not give any error .for calling static method inside class method write 'cls' dot(.) (name of static method)\n",
    "                                             # and pass arguments      \n",
    "        \n",
    "        \n",
    "    def mentor(self,mentor_list):\n",
    "        print(mentor_list)\n",
    "    "
   ]
  },
  {
   "cell_type": "code",
   "execution_count": 7,
   "id": "8e406b50-b6ae-4e66-8738-7c229e5a7d82",
   "metadata": {},
   "outputs": [
    {
     "name": "stdout",
     "output_type": "stream",
     "text": [
      "['sanjana', 'sudh']\n"
     ]
    }
   ],
   "source": [
    "pwskills2.class_name()"
   ]
  },
  {
   "cell_type": "code",
   "execution_count": 13,
   "id": "a106ecc0-9dfe-44f1-9b5a-d524cc6f023c",
   "metadata": {},
   "outputs": [],
   "source": [
    "# to call static method into static method:\n",
    "# process:\n",
    "# 1.write '@staticmethod' above the method that we want to make static method.\n",
    "# 2.create function by using def (function name)(argument if any) (colon :)\n",
    "# 3.call static method in static method using syntax: (class name) dot(.) (static method name that we want to call) (arguments of static method) \n",
    "#   here you have to provide arguments if present in static method\n",
    "# 4.to call that static  method write (class name) dot(.) (static method name) paranthesis(provide arguments of static class ) then press run butten\n",
    "\n",
    "\n",
    "class pwskills3:\n",
    "    \n",
    "    def student_details(self,name,email_id,number):    # the function which is not static or any other special type of function then that class will be\n",
    "        print(name,email_id,number)                    # instance class .for eg: here student_details is instance class\n",
    "      \n",
    "    @staticmethod\n",
    "    def mentor_email_id(mentor_email_id):\n",
    "        print(mentor_email_id)\n",
    "        \n",
    "        \n",
    "        \n",
    "        \n",
    "    @staticmethod                       \n",
    "    def mentor_class(list_of_mentor):\n",
    "        pwskills3.mentor_email_id([\"sanjana123@gmail.com\",\"sudh234@gmail.com\"]) # calling static method in another static method (class name).(name of static methods name) (arguments)  \n",
    "        print(list_of_mentor)          \n",
    "    \n",
    "    @classmethod\n",
    "    def class_name(cls):  # here we are calling static method (mentor_class) into class method but here we have to pass arguments into function then it\n",
    "        cls.mentor_class([\"sanjana\",\"sudh\"])  # will not give any error .for calling static method inside class method write 'cls' dot(.) (name of static method)\n",
    "                                             # and pass arguments      \n",
    "        \n",
    "        \n",
    "    def mentor(self,mentor_list):\n",
    "        print(mentor_list)\n",
    "    "
   ]
  },
  {
   "cell_type": "code",
   "execution_count": 15,
   "id": "95336fec-dc38-4e06-b2e6-39359503458b",
   "metadata": {},
   "outputs": [
    {
     "name": "stdout",
     "output_type": "stream",
     "text": [
      "['sanjana123@gmail.com', 'sudh234@gmail.com']\n",
      "['sanjana', 'sudh']\n"
     ]
    }
   ],
   "source": [
    "pwskills3.mentor_class([\"sanjana\",\"sudh\"])     # calling static method \n",
    "                                           # syntax: (class name) dot(.) (arguments of class containing another static method) "
   ]
  },
  {
   "cell_type": "code",
   "execution_count": 23,
   "id": "b782a4fe-379f-4b06-a4f0-6e3d4fc9ecba",
   "metadata": {},
   "outputs": [],
   "source": [
    "# to call static method into instance method:\n",
    "# process:\n",
    "# 1.write '@staticmethod' above the method that we want to make static method.\n",
    "# 2.create function by using self (dot(.)) (function name)(argument if any) \n",
    "# 3.call static method in instance method using syntax:first create object of instance class then (object) dot(.) (instance method name) (pass arguments of instance method if any)  \n",
    "#   here you have to provide arguments if present in instance method\n",
    "\n",
    "\n",
    "\n",
    "class pwskills3:\n",
    "    \n",
    "    def student_details(self,name,email_id,number):    # the function which is not static or any other special type of function then that class will be\n",
    "        print(name,email_id,number)                    # instance class .for eg: here student_details is instance class\n",
    "      \n",
    "    @staticmethod\n",
    "    def mentor_email_id(mentor_email_id):\n",
    "        print(mentor_email_id)\n",
    "        \n",
    "        \n",
    "        \n",
    "        \n",
    "    @staticmethod                       \n",
    "    def mentor_class(list_of_mentor):\n",
    "        pwskills3.mentor_email_id([\"sanjana123@gmail.com\",\"sudh234@gmail.com\"]) # calling static method in another static method (class name).(name of static methods name) (arguments)  \n",
    "        print(list_of_mentor)          \n",
    "    \n",
    "    @classmethod\n",
    "    def class_name(cls):  \n",
    "        cls.mentor_class([\"sanjana\",\"sudh\"])       \n",
    "        \n",
    "        \n",
    "    def mentor(self,mentor_list):\n",
    "        print(mentor_list)\n",
    "        self.mentor_class([\"sanjana\",\"prerana\"]) # calling static method in instance method\n",
    "    "
   ]
  },
  {
   "cell_type": "code",
   "execution_count": 24,
   "id": "fa00598c-ce64-4030-a136-478b78e3bbf8",
   "metadata": {},
   "outputs": [],
   "source": [
    "pw3=pwskills3()"
   ]
  },
  {
   "cell_type": "code",
   "execution_count": 25,
   "id": "e866c260-1425-4e73-9d8d-782c37119760",
   "metadata": {},
   "outputs": [
    {
     "name": "stdout",
     "output_type": "stream",
     "text": [
      "['sanjana', 'sudh']\n",
      "['sanjana123@gmail.com', 'sudh234@gmail.com']\n",
      "['sanjana', 'prerana']\n"
     ]
    }
   ],
   "source": [
    "pw3.mentor([\"sanjana\",\"sudh\"])  # by calling mentor we can able to call mentor ,mentor_clasd and mentor_email_id methods ."
   ]
  },
  {
   "cell_type": "code",
   "execution_count": 32,
   "id": "58927e8c-7dcf-4f13-92db-20b77878c147",
   "metadata": {},
   "outputs": [],
   "source": [
    "# example : static method\n",
    "# while creating static method write '@staticmethod' above method that we want to make static .in that we don't need to write self keyword only write \n",
    "# arguments.\n",
    "\n",
    "class sanjana:\n",
    "    @staticmethod\n",
    "    def name(name):\n",
    "        print(name)\n",
    "        \n"
   ]
  },
  {
   "cell_type": "code",
   "execution_count": 33,
   "id": "b484d98c-0f79-4194-b268-db7c12cca774",
   "metadata": {},
   "outputs": [
    {
     "name": "stdout",
     "output_type": "stream",
     "text": [
      "sanjana\n"
     ]
    }
   ],
   "source": [
    "sanjana.name(\"sanjana\")"
   ]
  },
  {
   "cell_type": "code",
   "execution_count": 34,
   "id": "942f445f-78be-4f0c-ad02-9a23f0844222",
   "metadata": {},
   "outputs": [],
   "source": [
    "# static method in another static method:\n",
    "# write (class name) dot(.)  \n",
    "class sanjana:\n",
    "    @staticmethod\n",
    "    def name(name):\n",
    "        print(name)\n",
    "        \n",
    "    @staticmethod\n",
    "    def student_info(student_email,student_no):\n",
    "        print(student_email,student_no)\n",
    "        sanjana.name(\"sanjana\")\n"
   ]
  },
  {
   "cell_type": "code",
   "execution_count": 9,
   "id": "3b506221-8dae-4b76-9df6-84808141c9d2",
   "metadata": {},
   "outputs": [
    {
     "name": "stdout",
     "output_type": "stream",
     "text": [
      "sanjana234@gmail.com 12345\n",
      "sanjana\n"
     ]
    }
   ],
   "source": [
    "sanjana.student_info(\"sanjana234@gmail.com\",12345)"
   ]
  },
  {
   "cell_type": "code",
   "execution_count": 35,
   "id": "14df6771-7a13-4e9f-952c-e13ebdcff993",
   "metadata": {},
   "outputs": [],
   "source": [
    "# static method in class method:\n",
    "# write (cls) dot(.) (static method name) (arguments if any in static method)\n",
    "\n",
    "class sanjana:\n",
    "    @staticmethod\n",
    "    def name(name):\n",
    "        print(name)\n",
    "        \n",
    "    @classmethod\n",
    "    def student_details(cls,stud_address):\n",
    "        cls.name(\"sanjana\")                 # calling static method\n",
    "        print(stud_address)\n",
    "        \n"
   ]
  },
  {
   "cell_type": "code",
   "execution_count": 36,
   "id": "b197a2fe-018f-43c9-a6e7-4b04853f12fd",
   "metadata": {},
   "outputs": [
    {
     "name": "stdout",
     "output_type": "stream",
     "text": [
      "sanjana\n",
      "a\\p Pune\n"
     ]
    }
   ],
   "source": [
    "sanjana.student_details(\"a\\p Pune\")   #calling class method "
   ]
  },
  {
   "cell_type": "code",
   "execution_count": 38,
   "id": "d1435a54-bfd4-4c6a-8754-ea1ee92b21a1",
   "metadata": {},
   "outputs": [],
   "source": [
    "# static method in instance method:\n",
    "#  write (self) dot(.) (static method name)(arguments in static method if any)\n",
    "\n",
    "\n",
    "class sanjana:\n",
    "    @staticmethod\n",
    "    def name(name):\n",
    "        print(name)\n",
    "        \n",
    "        \n",
    "    def mobile_no(self,mobile_no):\n",
    "        self.mobile_no=mobile_no\n",
    "        print(mobile_no)\n",
    "        self.name(\"sanjana\")\n",
    "        \n"
   ]
  },
  {
   "cell_type": "code",
   "execution_count": 39,
   "id": "3616ec73-eb8c-4bc9-87a3-f93f10d326e7",
   "metadata": {},
   "outputs": [],
   "source": [
    "san_obj=sanjana() # creating object of class here we are calling instance method so we have to create object of class."
   ]
  },
  {
   "cell_type": "code",
   "execution_count": 40,
   "id": "9a687903-ce5d-44df-b8cd-faea91e7c27a",
   "metadata": {},
   "outputs": [
    {
     "name": "stdout",
     "output_type": "stream",
     "text": [
      "9237485356\n",
      "sanjana\n"
     ]
    }
   ],
   "source": [
    "san_obj.mobile_no(9237485356)"
   ]
  },
  {
   "cell_type": "code",
   "execution_count": 41,
   "id": "68fcfa65-f94f-4deb-9b93-c971e753332c",
   "metadata": {},
   "outputs": [],
   "source": [
    "# static method1 in another static method2 and calling that static method2 in class method : \n",
    "\n",
    "class sanjana:\n",
    "    @staticmethod\n",
    "    def name(name):\n",
    "        print(name)\n",
    "        \n",
    "    @staticmethod\n",
    "    def student_info(student_email,student_no):\n",
    "        print(student_email,student_no)\n",
    "        sanjana.name(\"sanjana\")\n",
    "        \n",
    "    @classmethod\n",
    "    def stud_details(cls):\n",
    "        cls.student_info(\"sanjana12@gmail.com\",123456)\n"
   ]
  },
  {
   "cell_type": "code",
   "execution_count": 42,
   "id": "42295e44-3c98-49f9-b9ab-642af7eaf6a0",
   "metadata": {},
   "outputs": [
    {
     "name": "stdout",
     "output_type": "stream",
     "text": [
      "sanjana12@gmail.com 123456\n",
      "sanjana\n"
     ]
    }
   ],
   "source": [
    "sanjana.stud_details()"
   ]
  },
  {
   "cell_type": "code",
   "execution_count": null,
   "id": "4a61631b-53ca-434e-9a05-60c105a684eb",
   "metadata": {},
   "outputs": [],
   "source": []
  }
 ],
 "metadata": {
  "kernelspec": {
   "display_name": "Python 3 (ipykernel)",
   "language": "python",
   "name": "python3"
  },
  "language_info": {
   "codemirror_mode": {
    "name": "ipython",
    "version": 3
   },
   "file_extension": ".py",
   "mimetype": "text/x-python",
   "name": "python",
   "nbconvert_exporter": "python",
   "pygments_lexer": "ipython3",
   "version": "3.10.8"
  }
 },
 "nbformat": 4,
 "nbformat_minor": 5
}
