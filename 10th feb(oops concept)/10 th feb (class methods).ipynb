{
 "cells": [
  {
   "cell_type": "code",
   "execution_count": 128,
   "id": "8d9c5584-5f15-4de1-8590-87bb721d5759",
   "metadata": {},
   "outputs": [],
   "source": [
    "# simple example of __init__ function:\n",
    "class pwskills:\n",
    "    def __init__(self,name,email):\n",
    "        self.name=name\n",
    "        self.email=email\n",
    "        \n",
    "    def student_details(self):\n",
    "        print(self.name,self.email)"
   ]
  },
  {
   "cell_type": "code",
   "execution_count": 7,
   "id": "0ff3f85a-ec8c-47e1-be98-ff7868b6d4dc",
   "metadata": {},
   "outputs": [],
   "source": [
    "pw=pwskills(\"sanjana\",\"sanjana2003@gamil.com\")"
   ]
  },
  {
   "cell_type": "code",
   "execution_count": 8,
   "id": "f9f0911f-72dc-438f-a5fd-8b098d85f5d3",
   "metadata": {},
   "outputs": [
    {
     "data": {
      "text/plain": [
       "'sanjana'"
      ]
     },
     "execution_count": 8,
     "metadata": {},
     "output_type": "execute_result"
    }
   ],
   "source": [
    "pw.name"
   ]
  },
  {
   "cell_type": "code",
   "execution_count": 9,
   "id": "46cf3fc6-5c7c-4e37-834d-96c622d32b92",
   "metadata": {},
   "outputs": [
    {
     "data": {
      "text/plain": [
       "'sanjana2003@gamil.com'"
      ]
     },
     "execution_count": 9,
     "metadata": {},
     "output_type": "execute_result"
    }
   ],
   "source": [
    "pw.email"
   ]
  },
  {
   "cell_type": "code",
   "execution_count": 11,
   "id": "3312c1c0-8ae2-4ee3-81dc-94aab8488334",
   "metadata": {},
   "outputs": [
    {
     "name": "stdout",
     "output_type": "stream",
     "text": [
      "sanjana sanjana2003@gamil.com\n"
     ]
    }
   ],
   "source": [
    "pw.student_details()"
   ]
  },
  {
   "cell_type": "code",
   "execution_count": 127,
   "id": "ee6f484a-4f31-4a50-835e-18e6e45e4359",
   "metadata": {},
   "outputs": [],
   "source": [
    "# Class methods : \n",
    "#  1.It is used to overload the functions.\n",
    "#  2.Becouse the direct concept of function overloading is not available in python but it can be possible by using class methods.\n",
    "#  3.To overload we don't need to make object .we can access its mehods without creating an object of class.By storing it in a veriable.\n",
    "#  4.class method is just alternative for '__init__' function."
   ]
  },
  {
   "cell_type": "code",
   "execution_count": 126,
   "id": "e1aad4df-2da2-42b0-a611-4c9bfd1a5ca9",
   "metadata": {},
   "outputs": [],
   "source": [
    "# What we can do by using class method:\n",
    "#  1.If we are passing data through classmethods then by class methods through we can call any method with is associated with class.\n",
    "#  2. Through class methods we can modify class veriables at any point of a time whenever we want.\n",
    "#  3 basiclly here we can able to achive concept of overloding (here we are overlodiing __init__ by class method)\n",
    "#  4.by using class methods we can attach or add external functions to our existing class\n",
    "#  5.by using class methods we can delete existing function from our existing class\n",
    "#  6.by using class methods we can delete class veriables also .\n",
    "#  7 we can delete class methods and veriables by using 'del'function or by using 'delattr'function"
   ]
  },
  {
   "cell_type": "code",
   "execution_count": 10,
   "id": "b9d3ebc0-3aad-4f2d-938e-077baaa2d723",
   "metadata": {},
   "outputs": [],
   "source": [
    "class pwskills1:\n",
    "    def __init__(self,name,email):\n",
    "        self.name=name\n",
    "        self.email=email\n",
    "     \n",
    "    @classmethod\n",
    "    def details(cls,name,email):      # here cls is a pointer we have made. By the use of class methods we can directly pass the data to the class\n",
    "        return cls(name,email)       # method and access the data for this we don't have to create object of class .to access data by the name of class\n",
    "    def student_details(self):       # then dot(.)and method name and store this to a veriable by this way we can directly access the methods.\n",
    "        print(self.name,self.email)  # this can be done by using 'init' function also for that we have to create object of class. "
   ]
  },
  {
   "cell_type": "code",
   "execution_count": 11,
   "id": "bbeab9d8-549b-4959-8e43-9207ed234b75",
   "metadata": {},
   "outputs": [],
   "source": [
    "pw1=pwskills1.details(\"sudh\",\"sudh234@gmail.com\")    "
   ]
  },
  {
   "cell_type": "code",
   "execution_count": 12,
   "id": "35550008-8225-46f2-bedd-3f7a530a8d81",
   "metadata": {},
   "outputs": [
    {
     "data": {
      "text/plain": [
       "<__main__.pwskills1 at 0x7feac821ccd0>"
      ]
     },
     "execution_count": 12,
     "metadata": {},
     "output_type": "execute_result"
    }
   ],
   "source": [
    "pw1"
   ]
  },
  {
   "cell_type": "code",
   "execution_count": 13,
   "id": "4a2b8c2c-a904-43cd-b96a-68521a19639f",
   "metadata": {},
   "outputs": [
    {
     "data": {
      "text/plain": [
       "'sudh'"
      ]
     },
     "execution_count": 13,
     "metadata": {},
     "output_type": "execute_result"
    }
   ],
   "source": [
    "pw1.name"
   ]
  },
  {
   "cell_type": "code",
   "execution_count": 14,
   "id": "2c62163a-bfe4-4409-9d1e-7890aea27910",
   "metadata": {},
   "outputs": [
    {
     "data": {
      "text/plain": [
       "'sudh234@gmail.com'"
      ]
     },
     "execution_count": 14,
     "metadata": {},
     "output_type": "execute_result"
    }
   ],
   "source": [
    "pw1.email"
   ]
  },
  {
   "cell_type": "code",
   "execution_count": 29,
   "id": "b1de314b-cbb6-4cb5-92f9-0e9d270b4bf4",
   "metadata": {},
   "outputs": [],
   "source": [
    "class pwskills2:\n",
    "    \n",
    "    mobile_no=9156862004           # class veriable \n",
    "    \n",
    "    def __init__(self,name,email):\n",
    "        self.name=name\n",
    "        self.email=email\n",
    "        \n",
    "    @classmethod                    # here we have used @classmethod so for calling methods we dont need to create class object we can access directly \n",
    "    def change_number(cls,mobile):  #  by class name dot(.)method name. \n",
    "        pwskills2.mobile_no=mobile  # here we have created method to change mobile no and store new no in mobile_no.\n",
    "     \n",
    "    @classmethod\n",
    "    def details(cls,name,email):      # here cls is a pointer we have made. By the use of class methods we can directly pass the data to the class\n",
    "        return cls(name,email)       # method and access the data for this we don't have to create object of class .to access data by the name of class\n",
    "    def student_details(self):       # then dot(.)and method name and store this to a veriable by this way we can directly access the methods.\n",
    "        print(self.name,self.email)  # this can be done by using 'init' function also for that we have to create object of class. "
   ]
  },
  {
   "cell_type": "code",
   "execution_count": 30,
   "id": "aaa0c4b1-30c2-46d7-8c07-48b983fd3541",
   "metadata": {},
   "outputs": [
    {
     "data": {
      "text/plain": [
       "9156862004"
      ]
     },
     "execution_count": 30,
     "metadata": {},
     "output_type": "execute_result"
    }
   ],
   "source": [
    "pwskills2.mobile_no   # we can directly access class variable by class name. "
   ]
  },
  {
   "cell_type": "code",
   "execution_count": 31,
   "id": "2964cad7-5f1e-4748-a9a4-00b4ae774400",
   "metadata": {},
   "outputs": [],
   "source": [
    "pwskills2.change_number(12345678)     # to change mobile no in class which is already available"
   ]
  },
  {
   "cell_type": "code",
   "execution_count": 32,
   "id": "ae6c26d2-1592-4e6f-ad40-cdf0019d38ed",
   "metadata": {},
   "outputs": [
    {
     "data": {
      "text/plain": [
       "12345678"
      ]
     },
     "execution_count": 32,
     "metadata": {},
     "output_type": "execute_result"
    }
   ],
   "source": [
    "pwskills2.mobile_no          # rechecking mobile no is changed or not but after using change_number function mobile no is changed. "
   ]
  },
  {
   "cell_type": "code",
   "execution_count": 1,
   "id": "a0898d52-9a8f-4303-8408-ed908530f76d",
   "metadata": {},
   "outputs": [],
   "source": [
    "class pwskills3:\n",
    "    \n",
    "    mobile_no=9156862004           # class veriable \n",
    "    \n",
    "    def __init__(self,name,email):\n",
    "        self.name=name\n",
    "        self.email=email\n",
    "        \n",
    "    @classmethod                    # here we have used @classmethod so for calling methods we dont need to create class object we can access directly \n",
    "    def change_number(cls,mobile):  #  by class name dot(.)method name. \n",
    "        pwskills2.mobile_no=mobile  # here we have created method to change mobile no and store new no in mobile_no.\n",
    "     \n",
    "    @classmethod\n",
    "    def details(cls,name,email):      \n",
    "        return cls(name,email)       \n",
    "    def student_details(self):       \n",
    "        print(self.name,self.email,pwskills2.mobile_no)  # we can access mobile no in this method also. tihs is instance method\n",
    "        \n",
    "        \n",
    "# In this program we learned :\n",
    "#  1.If we are passing data through classmethods then by class methods through we can call any method with is associated with class.\n",
    "#  2. Through class methods we can modify class veriables at any point of a time whenever we want.\n",
    "#  3 basiclly here we can able to achive concept of overloding (here we are overlodiing __init__ by class method)"
   ]
  },
  {
   "cell_type": "code",
   "execution_count": 49,
   "id": "90c942f0-9b9a-4c8f-904d-a6b5de136e5e",
   "metadata": {},
   "outputs": [],
   "source": [
    "# by using (__init __) function by creating object we can access veriables.\n",
    "pw3_obj=pwskills3.details(\"sanjana\",\"sanjana234@gamil.com\")"
   ]
  },
  {
   "cell_type": "code",
   "execution_count": 50,
   "id": "3fba10f8-c679-4a9f-801a-c040e2ee79d6",
   "metadata": {},
   "outputs": [
    {
     "name": "stdout",
     "output_type": "stream",
     "text": [
      "sanjana sanjana234@gamil.com 9156862004\n"
     ]
    }
   ],
   "source": [
    "pw3_obj.student_details()"
   ]
  },
  {
   "cell_type": "code",
   "execution_count": 51,
   "id": "0f4fd977-4a58-4b11-8b3f-9313c6c8bbd1",
   "metadata": {},
   "outputs": [],
   "source": [
    "pw3=pwskills3.details(\"sudh\",\"sudh23@gmail.com\")  # through class methods we can access class methods and class veriables "
   ]
  },
  {
   "cell_type": "code",
   "execution_count": 52,
   "id": "e2a0b194-0af0-4bee-9aec-8a59179e7c10",
   "metadata": {},
   "outputs": [
    {
     "name": "stdout",
     "output_type": "stream",
     "text": [
      "sudh sudh23@gmail.com 9156862004\n"
     ]
    }
   ],
   "source": [
    "pw3.student_details()"
   ]
  },
  {
   "cell_type": "code",
   "execution_count": 125,
   "id": "f5d07853-cfaa-4009-9f41-8d07ddfccccc",
   "metadata": {},
   "outputs": [],
   "source": [
    "class pwskills4:\n",
    "    \n",
    "    mobile_no=9156862004           # class veriable \n",
    "    \n",
    "    def __init__(self,name,email):\n",
    "        self.name=name\n",
    "        self.email=email\n",
    "        \n",
    "    @classmethod                    # here we have used @classmethod so for calling methods we dont need to create class object we can access directly \n",
    "    def change_number(cls,mobile):  #  by class name dot(.)method name. \n",
    "        pwskills2.mobile_no=mobile  # here we have created method to change mobile no and store new no in mobile_no.\n",
    "     \n",
    "    @classmethod\n",
    "    def details(cls,name,email):      \n",
    "        return cls(name,email)\n",
    "    \n",
    "    def student_details(self):       \n",
    "        print(self.name,self.email,pwskills2.mobile_no)  # we can access mobile no in this method also\n",
    "        \n",
    "        \n",
    "# In this program we learned :\n",
    "#  1.If we are passing data through classmethods then by class methods through we can call any method with is associated with class.\n",
    "#  2. Through class methods we can modify class veriables at any point of a time whenever we want.\n",
    "#  3 basiclly here we can able to achive concept of overloding (here we are overlodiing __init__ by class method)\n",
    "#  4,by using class methods we can attach external functions to our existing class"
   ]
  },
  {
   "cell_type": "code",
   "execution_count": 75,
   "id": "57362abe-f6c8-4bc5-96d3-8cbbb6380ba3",
   "metadata": {},
   "outputs": [],
   "source": [
    "# to add external method or function  to our class\n",
    "def course_details(cls,course_name):\n",
    "    print(\"course name is\",course_name)"
   ]
  },
  {
   "cell_type": "code",
   "execution_count": 76,
   "id": "d1dd6082-e602-4c0f-927b-2b26d145a5a6",
   "metadata": {},
   "outputs": [],
   "source": [
    "pwskills4.course_details = classmethod(course_details)   # by using class methods we can attach external function to our existing class and can access\n",
    "                                                         #  it by same like we access other functions in class by using class name."
   ]
  },
  {
   "cell_type": "code",
   "execution_count": 77,
   "id": "104b356f-2e33-46c3-8d61-fc1e6f91ba9c",
   "metadata": {},
   "outputs": [
    {
     "name": "stdout",
     "output_type": "stream",
     "text": [
      "course name is data science masters\n"
     ]
    }
   ],
   "source": [
    "pwskills4.course_details(\"data science masters\")"
   ]
  },
  {
   "cell_type": "code",
   "execution_count": 81,
   "id": "64c564e2-9f9f-42b4-b079-a54720d8cb55",
   "metadata": {},
   "outputs": [],
   "source": [
    "def mentor(cls,list_of_mentor): # like this we can dynamiclly add external functions to the existing class \n",
    "    print(\"list of mentors:\",list_of_mentor)"
   ]
  },
  {
   "cell_type": "code",
   "execution_count": 82,
   "id": "bb17e62e-9f61-4009-b4fc-48d8231571c7",
   "metadata": {},
   "outputs": [],
   "source": [
    "pwskills4.mentor= classmethod(mentor)"
   ]
  },
  {
   "cell_type": "code",
   "execution_count": 83,
   "id": "d9652823-3c63-4cdc-bc65-9f87a40de5d6",
   "metadata": {},
   "outputs": [
    {
     "name": "stdout",
     "output_type": "stream",
     "text": [
      "list of mentors: ['sanjana', 'prerana', 'sudh', 'khrish']\n"
     ]
    }
   ],
   "source": [
    "pwskills4.mentor([\"sanjana\",\"prerana\",\"sudh\",\"khrish\"])"
   ]
  },
  {
   "cell_type": "code",
   "execution_count": 131,
   "id": "c86c5de3-3b3a-4f6f-b0fb-c8146ca52670",
   "metadata": {},
   "outputs": [],
   "source": [
    "class pwskills5:\n",
    "    \n",
    "    mobile_no=9156862004           # class veriable \n",
    "    \n",
    "    def __init__(self,name,email):\n",
    "        self.name=name\n",
    "        self.email=email\n",
    "        \n",
    "    @classmethod                    # here we have used @classmethod so for calling methods we dont need to create class object we can access directly \n",
    "    def change_number(cls,mobile):  #  by class name dot(.)method name. \n",
    "        pwskills2.mobile_no=mobile  # here we have created method to change mobile no and store new no in mobile_no.\n",
    "     \n",
    "    @classmethod\n",
    "    def details(cls,name,email):      \n",
    "        return cls(name,email)\n",
    "    \n",
    "    def student_details(self):       \n",
    "        print(self.name,self.email,pwskills2.mobile_no)  # we can access mobile no in this method also\n",
    "        \n",
    "        \n",
    "# In this program we learned :\n",
    "#  1.If we are passing data through classmethods then by class methods through we can call any method with is associated with class.\n",
    "#  2. Through class methods we can modify class veriables at any point of a time whenever we want.\n",
    "#  3 basiclly here we can able to achive concept of overloding (here we are overlodiing __init__ by class method)\n",
    "#  4.by using class methods we can attach or add external functions to our existing class\n",
    "#  5.by using class methods we can delete existing function from our existing class\n",
    "#  6.by using class methods we can delete class veriables also .\n",
    "#  7 we can delete class methods and veriables by using 'del'function or by using 'delattr'function"
   ]
  },
  {
   "cell_type": "code",
   "execution_count": 132,
   "id": "98e3746c-0495-4d5b-aed7-a29c8a7aad25",
   "metadata": {},
   "outputs": [],
   "source": [
    "# to delete a method or function directly present in existing class from that class\n",
    "del pwskills5.change_number"
   ]
  },
  {
   "cell_type": "code",
   "execution_count": 133,
   "id": "3cb46105-3a7b-4ca0-8e82-549c68eb2c9c",
   "metadata": {},
   "outputs": [
    {
     "ename": "AttributeError",
     "evalue": "type object 'pwskills5' has no attribute 'change_number'",
     "output_type": "error",
     "traceback": [
      "\u001b[0;31m---------------------------------------------------------------------------\u001b[0m",
      "\u001b[0;31mAttributeError\u001b[0m                            Traceback (most recent call last)",
      "Cell \u001b[0;32mIn[133], line 1\u001b[0m\n\u001b[0;32m----> 1\u001b[0m \u001b[43mpwskills5\u001b[49m\u001b[38;5;241;43m.\u001b[39;49m\u001b[43mchange_number\u001b[49m(\u001b[38;5;241m76543\u001b[39m)  \u001b[38;5;66;03m# we have deleted this funtion from our class so we can't access it \u001b[39;00m\n",
      "\u001b[0;31mAttributeError\u001b[0m: type object 'pwskills5' has no attribute 'change_number'"
     ]
    }
   ],
   "source": [
    "pwskills5.change_number(76543)  # we have deleted this funtion from our class so we can't access it "
   ]
  },
  {
   "cell_type": "code",
   "execution_count": 134,
   "id": "7c31159c-c600-44f1-9de1-86567724d287",
   "metadata": {},
   "outputs": [],
   "source": [
    "delattr(pwskills5,\"details\")  # we can delete functions by using \"delattr\" function .it is a function which is by default available "
   ]
  },
  {
   "cell_type": "code",
   "execution_count": 135,
   "id": "7b2f35a6-36e4-4c9b-9929-fa4964611552",
   "metadata": {},
   "outputs": [
    {
     "ename": "AttributeError",
     "evalue": "type object 'pwskills5' has no attribute 'details'",
     "output_type": "error",
     "traceback": [
      "\u001b[0;31m---------------------------------------------------------------------------\u001b[0m",
      "\u001b[0;31mAttributeError\u001b[0m                            Traceback (most recent call last)",
      "Cell \u001b[0;32mIn[135], line 1\u001b[0m\n\u001b[0;32m----> 1\u001b[0m \u001b[43mpwskills5\u001b[49m\u001b[38;5;241;43m.\u001b[39;49m\u001b[43mdetails\u001b[49m()  \u001b[38;5;66;03m# we have deleted details function from pwskills5 class\u001b[39;00m\n",
      "\u001b[0;31mAttributeError\u001b[0m: type object 'pwskills5' has no attribute 'details'"
     ]
    }
   ],
   "source": [
    "pwskills5.details()  # we have deleted details function from pwskills5 class"
   ]
  },
  {
   "cell_type": "code",
   "execution_count": 136,
   "id": "9db5c025-2116-4c66-9138-45c16fdd2dd8",
   "metadata": {},
   "outputs": [],
   "source": [
    "delattr(pwskills5,\"student_details\")  # here we deleted student_details function "
   ]
  },
  {
   "cell_type": "code",
   "execution_count": 137,
   "id": "dec15462-652f-474f-85bf-a172e009c468",
   "metadata": {},
   "outputs": [
    {
     "ename": "AttributeError",
     "evalue": "type object 'pwskills5' has no attribute 'student_details'",
     "output_type": "error",
     "traceback": [
      "\u001b[0;31m---------------------------------------------------------------------------\u001b[0m",
      "\u001b[0;31mAttributeError\u001b[0m                            Traceback (most recent call last)",
      "Cell \u001b[0;32mIn[137], line 1\u001b[0m\n\u001b[0;32m----> 1\u001b[0m \u001b[43mpwskills5\u001b[49m\u001b[38;5;241;43m.\u001b[39;49m\u001b[43mstudent_details\u001b[49m()\n",
      "\u001b[0;31mAttributeError\u001b[0m: type object 'pwskills5' has no attribute 'student_details'"
     ]
    }
   ],
   "source": [
    "pwskills5.student_details()"
   ]
  },
  {
   "cell_type": "code",
   "execution_count": 138,
   "id": "eab6dae2-13cf-416b-9331-15859cb13b4a",
   "metadata": {},
   "outputs": [],
   "source": [
    "delattr(pwskills5,\"mobile_no\")"
   ]
  },
  {
   "cell_type": "code",
   "execution_count": 139,
   "id": "49b7dbf2-32ef-44dc-b5cd-230eb8647510",
   "metadata": {},
   "outputs": [
    {
     "ename": "AttributeError",
     "evalue": "type object 'pwskills5' has no attribute 'mobile_no'",
     "output_type": "error",
     "traceback": [
      "\u001b[0;31m---------------------------------------------------------------------------\u001b[0m",
      "\u001b[0;31mAttributeError\u001b[0m                            Traceback (most recent call last)",
      "Cell \u001b[0;32mIn[139], line 1\u001b[0m\n\u001b[0;32m----> 1\u001b[0m \u001b[43mpwskills5\u001b[49m\u001b[38;5;241;43m.\u001b[39;49m\u001b[43mmobile_no\u001b[49m()   \u001b[38;5;66;03m# we have deleted mobile_no funtion\u001b[39;00m\n",
      "\u001b[0;31mAttributeError\u001b[0m: type object 'pwskills5' has no attribute 'mobile_no'"
     ]
    }
   ],
   "source": [
    "pwskills5.mobile_no()   # we have deleted mobile_no funtion"
   ]
  },
  {
   "cell_type": "code",
   "execution_count": null,
   "id": "cab7a860-c092-4a7b-9e88-ecdaad77ba9b",
   "metadata": {},
   "outputs": [],
   "source": []
  }
 ],
 "metadata": {
  "kernelspec": {
   "display_name": "Python 3 (ipykernel)",
   "language": "python",
   "name": "python3"
  },
  "language_info": {
   "codemirror_mode": {
    "name": "ipython",
    "version": 3
   },
   "file_extension": ".py",
   "mimetype": "text/x-python",
   "name": "python",
   "nbconvert_exporter": "python",
   "pygments_lexer": "ipython3",
   "version": "3.10.8"
  }
 },
 "nbformat": 4,
 "nbformat_minor": 5
}
