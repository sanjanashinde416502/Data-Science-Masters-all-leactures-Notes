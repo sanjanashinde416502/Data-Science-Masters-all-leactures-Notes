{
 "cells": [
  {
   "cell_type": "code",
   "execution_count": 44,
   "id": "2a0699df-6e80-4967-aaab-7e15e016e831",
   "metadata": {},
   "outputs": [],
   "source": [
    "# Property decorator:\n",
    "# 1.it contains getter,setter,and deleter.  \n",
    "# 2.these are used to give access of accessing or getting values of private veriables.\n",
    "# 3. setter is used to give access of setting or modifing values of private variables. \n",
    "# 4.deleter is used to delete the private veriables.\n",
    "# 5. getter is used to allow external user an access of private veriable"
   ]
  },
  {
   "cell_type": "code",
   "execution_count": 1,
   "id": "98c6bbac-860c-4b79-812d-a2cc9b76b2d4",
   "metadata": {},
   "outputs": [],
   "source": [
    "class pwskills:\n",
    "    \n",
    "    def __init__(self,course_price,course_name):\n",
    "        self.__course_price = course_price # here '__'used before course_price so it private veriable\n",
    "        #                                  ,single underscore '_' is used to make veriable protected and '__'used to make veriable private  \n",
    "        self.course_name= course_name\n",
    "        \n",
    "    "
   ]
  },
  {
   "cell_type": "code",
   "execution_count": 2,
   "id": "52a4526f-5063-4849-8d80-cf541a3fdf32",
   "metadata": {},
   "outputs": [],
   "source": [
    "pw=pwskills(3500,\"data science masters\")"
   ]
  },
  {
   "cell_type": "code",
   "execution_count": 3,
   "id": "df7ddf42-84eb-40cf-aa9f-482fc893444b",
   "metadata": {},
   "outputs": [
    {
     "ename": "AttributeError",
     "evalue": "'pwskills' object has no attribute 'course_price'",
     "output_type": "error",
     "traceback": [
      "\u001b[0;31m---------------------------------------------------------------------------\u001b[0m",
      "\u001b[0;31mAttributeError\u001b[0m                            Traceback (most recent call last)",
      "Cell \u001b[0;32mIn[3], line 1\u001b[0m\n\u001b[0;32m----> 1\u001b[0m \u001b[43mpw\u001b[49m\u001b[38;5;241;43m.\u001b[39;49m\u001b[43mcourse_price\u001b[49m\n",
      "\u001b[0;31mAttributeError\u001b[0m: 'pwskills' object has no attribute 'course_price'"
     ]
    }
   ],
   "source": [
    "pw.course_price"
   ]
  },
  {
   "cell_type": "code",
   "execution_count": 4,
   "id": "3909fae6-092a-474d-bd63-c3596a5443b8",
   "metadata": {},
   "outputs": [
    {
     "data": {
      "text/plain": [
       "3500"
      ]
     },
     "execution_count": 4,
     "metadata": {},
     "output_type": "execute_result"
    }
   ],
   "source": [
    "pw._pwskills__course_price   # by writing class name before calling veriable so we can able to call private veriables no external user can call it . "
   ]
  },
  {
   "cell_type": "code",
   "execution_count": 5,
   "id": "9446ca20-ad73-4105-84c0-5160e4bfa563",
   "metadata": {},
   "outputs": [
    {
     "data": {
      "text/plain": [
       "'data science masters'"
      ]
     },
     "execution_count": 5,
     "metadata": {},
     "output_type": "execute_result"
    }
   ],
   "source": [
    "pw.course_name"
   ]
  },
  {
   "cell_type": "code",
   "execution_count": 46,
   "id": "eae74e3c-1288-4ee6-b2fc-cf5cdcc7cfab",
   "metadata": {},
   "outputs": [],
   "source": [
    "class pwskills1:\n",
    "    \n",
    "    def __init__(self,course_price,course_name):\n",
    "        \n",
    "        self.__course_price = course_price   \n",
    "        self.course_name= course_name\n",
    "        \n",
    "    @property               # for to give access of private veriable to external user write '@property' that user can access private variable by using \n",
    "                             # this method only he can not access it directly by calling object and variable name\n",
    "    \n",
    "    def course_price_access(self): # this is a method created or used to allow external user to get access of private variables.(also know as getter)\n",
    "        return self.__course_price\n",
    "    \n",
    "    \n",
    "    @course_price_access.setter    # this is setter syntax: write '@(getter method's name) dot(.) (setter keyword)'\n",
    "    def course_price_set(self,price):\n",
    "        if price<=3500:\n",
    "            pass\n",
    "        else:\n",
    "            self.__course_price = price\n",
    "            \n",
    "            \n",
    "    @course_price_access.deleter     # this is deleter syntax: '@(getter method's name) dot(.) (deleter keyword)'\n",
    "    def delete_course_price(self):    # method to delete veriable\n",
    "        del self.__course_price      # write 'del' keyword and self.__(name of private veriable)\n",
    "        \n",
    "    "
   ]
  },
  {
   "cell_type": "code",
   "execution_count": 47,
   "id": "7a6f2f46-9d26-4322-9da1-7953f23a5754",
   "metadata": {},
   "outputs": [],
   "source": [
    "pw1=pwskills1(3500,\"data science masters\")"
   ]
  },
  {
   "cell_type": "code",
   "execution_count": 48,
   "id": "86f1b763-4042-41e3-af60-a50253db5df9",
   "metadata": {},
   "outputs": [
    {
     "data": {
      "text/plain": [
       "3500"
      ]
     },
     "execution_count": 48,
     "metadata": {},
     "output_type": "execute_result"
    }
   ],
   "source": [
    "pw1.course_price_access"
   ]
  },
  {
   "cell_type": "code",
   "execution_count": 49,
   "id": "517068a3-4952-4867-8c18-f608dc28b0b2",
   "metadata": {},
   "outputs": [],
   "source": [
    "pw1.course_price_set = 4500"
   ]
  },
  {
   "cell_type": "code",
   "execution_count": 50,
   "id": "0fbb4b9b-be9a-4ed2-ad62-af3c9de4832b",
   "metadata": {},
   "outputs": [
    {
     "data": {
      "text/plain": [
       "4500"
      ]
     },
     "execution_count": 50,
     "metadata": {},
     "output_type": "execute_result"
    }
   ],
   "source": [
    "pw1.course_price_access"
   ]
  },
  {
   "cell_type": "code",
   "execution_count": 51,
   "id": "76baea30-aecf-4056-be67-3237f5a6ad5a",
   "metadata": {},
   "outputs": [],
   "source": [
    "del pw1.delete_course_price"
   ]
  },
  {
   "cell_type": "code",
   "execution_count": 52,
   "id": "8e6de1ec-e218-4061-a3c1-aadb4d1b6a32",
   "metadata": {},
   "outputs": [
    {
     "ename": "AttributeError",
     "evalue": "'pwskills1' object has no attribute '_pwskills1__course_price'",
     "output_type": "error",
     "traceback": [
      "\u001b[0;31m---------------------------------------------------------------------------\u001b[0m",
      "\u001b[0;31mAttributeError\u001b[0m                            Traceback (most recent call last)",
      "Cell \u001b[0;32mIn[52], line 1\u001b[0m\n\u001b[0;32m----> 1\u001b[0m \u001b[43mpw1\u001b[49m\u001b[38;5;241;43m.\u001b[39;49m\u001b[43mcourse_price_access\u001b[49m\n",
      "Cell \u001b[0;32mIn[46], line 12\u001b[0m, in \u001b[0;36mpwskills1.course_price_access\u001b[0;34m(self)\u001b[0m\n\u001b[1;32m      8\u001b[0m \u001b[38;5;129m@property\u001b[39m               \u001b[38;5;66;03m# for to give access of private veriable to external user write '@property' that user can access private variable by using \u001b[39;00m\n\u001b[1;32m      9\u001b[0m                          \u001b[38;5;66;03m# this method only he can not access it directly by calling object and variable name\u001b[39;00m\n\u001b[1;32m     10\u001b[0m \n\u001b[1;32m     11\u001b[0m \u001b[38;5;28;01mdef\u001b[39;00m \u001b[38;5;21mcourse_price_access\u001b[39m(\u001b[38;5;28mself\u001b[39m): \u001b[38;5;66;03m# this is a method created or used to allow external user to get access of private variables.(also know as getter)\u001b[39;00m\n\u001b[0;32m---> 12\u001b[0m     \u001b[38;5;28;01mreturn\u001b[39;00m \u001b[38;5;28;43mself\u001b[39;49m\u001b[38;5;241;43m.\u001b[39;49m\u001b[43m__course_price\u001b[49m\n",
      "\u001b[0;31mAttributeError\u001b[0m: 'pwskills1' object has no attribute '_pwskills1__course_price'"
     ]
    }
   ],
   "source": [
    "pw1.course_price_access"
   ]
  },
  {
   "cell_type": "code",
   "execution_count": 102,
   "id": "20f9947f-6f8a-4f6e-b188-5763c30ac971",
   "metadata": {},
   "outputs": [],
   "source": [
    "class sanjana:\n",
    "    def __init__(self,stud_name,stud_no):\n",
    "        self.__stud_name=stud_name\n",
    "        self.stud_no=stud_no\n",
    "        \n",
    "        \n",
    "    @property\n",
    "    def access_stud_name(self):\n",
    "        return self.__stud_name\n",
    "        \n",
    "        \n",
    "    @access_stud_name.setter\n",
    "    def set_stud_name(self,name):\n",
    "        self.__stud_name=name\n",
    "        \n",
    "    @access_stud_name.deleter\n",
    "    def delete_stud_name(self):\n",
    "        del self.__stud_name\n",
    "        \n",
    "        \n",
    "    "
   ]
  },
  {
   "cell_type": "code",
   "execution_count": 103,
   "id": "0c66dd3f-4488-4b7e-8da4-6635b47efc01",
   "metadata": {},
   "outputs": [],
   "source": [
    "san=sanjana(\"sanjana\",123)"
   ]
  },
  {
   "cell_type": "code",
   "execution_count": 104,
   "id": "1584c232-a9bf-4ade-a0f6-1dba1ca17553",
   "metadata": {},
   "outputs": [
    {
     "data": {
      "text/plain": [
       "123"
      ]
     },
     "execution_count": 104,
     "metadata": {},
     "output_type": "execute_result"
    }
   ],
   "source": [
    "san.stud_no"
   ]
  },
  {
   "cell_type": "code",
   "execution_count": 105,
   "id": "3ee29311-d958-4274-a786-19733ad85fa1",
   "metadata": {},
   "outputs": [
    {
     "ename": "AttributeError",
     "evalue": "'sanjana' object has no attribute 'stud_name'",
     "output_type": "error",
     "traceback": [
      "\u001b[0;31m---------------------------------------------------------------------------\u001b[0m",
      "\u001b[0;31mAttributeError\u001b[0m                            Traceback (most recent call last)",
      "Cell \u001b[0;32mIn[105], line 1\u001b[0m\n\u001b[0;32m----> 1\u001b[0m \u001b[43msan\u001b[49m\u001b[38;5;241;43m.\u001b[39;49m\u001b[43mstud_name\u001b[49m\n",
      "\u001b[0;31mAttributeError\u001b[0m: 'sanjana' object has no attribute 'stud_name'"
     ]
    }
   ],
   "source": [
    "san.stud_name"
   ]
  },
  {
   "cell_type": "code",
   "execution_count": 106,
   "id": "9283b5dc-1253-4a32-b5ea-f6fb959923ee",
   "metadata": {},
   "outputs": [
    {
     "data": {
      "text/plain": [
       "'sanjana'"
      ]
     },
     "execution_count": 106,
     "metadata": {},
     "output_type": "execute_result"
    }
   ],
   "source": [
    "san.access_stud_name"
   ]
  },
  {
   "cell_type": "code",
   "execution_count": 107,
   "id": "5b9b54c3-9615-4f2a-aa1b-98ff29a8d125",
   "metadata": {},
   "outputs": [],
   "source": [
    "san.set_stud_name = \"prerana\""
   ]
  },
  {
   "cell_type": "code",
   "execution_count": 108,
   "id": "181e959a-dc77-43af-93fe-b0c7186a01df",
   "metadata": {},
   "outputs": [
    {
     "data": {
      "text/plain": [
       "'prerana'"
      ]
     },
     "execution_count": 108,
     "metadata": {},
     "output_type": "execute_result"
    }
   ],
   "source": [
    "san.access_stud_name"
   ]
  },
  {
   "cell_type": "code",
   "execution_count": 109,
   "id": "49d7b8a4-70c4-457b-b104-47e3ead2152a",
   "metadata": {},
   "outputs": [],
   "source": [
    "del san.delete_stud_name"
   ]
  },
  {
   "cell_type": "code",
   "execution_count": 110,
   "id": "7ca4b0ed-c6b5-4d8a-a537-a3920029c8df",
   "metadata": {},
   "outputs": [
    {
     "ename": "AttributeError",
     "evalue": "'sanjana' object has no attribute '_sanjana__stud_name'",
     "output_type": "error",
     "traceback": [
      "\u001b[0;31m---------------------------------------------------------------------------\u001b[0m",
      "\u001b[0;31mAttributeError\u001b[0m                            Traceback (most recent call last)",
      "Cell \u001b[0;32mIn[110], line 1\u001b[0m\n\u001b[0;32m----> 1\u001b[0m \u001b[43msan\u001b[49m\u001b[38;5;241;43m.\u001b[39;49m\u001b[43maccess_stud_name\u001b[49m \u001b[38;5;66;03m# deleted veriable\u001b[39;00m\n",
      "Cell \u001b[0;32mIn[102], line 9\u001b[0m, in \u001b[0;36msanjana.access_stud_name\u001b[0;34m(self)\u001b[0m\n\u001b[1;32m      7\u001b[0m \u001b[38;5;129m@property\u001b[39m\n\u001b[1;32m      8\u001b[0m \u001b[38;5;28;01mdef\u001b[39;00m \u001b[38;5;21maccess_stud_name\u001b[39m(\u001b[38;5;28mself\u001b[39m):\n\u001b[0;32m----> 9\u001b[0m     \u001b[38;5;28;01mreturn\u001b[39;00m \u001b[38;5;28;43mself\u001b[39;49m\u001b[38;5;241;43m.\u001b[39;49m\u001b[43m__stud_name\u001b[49m\n",
      "\u001b[0;31mAttributeError\u001b[0m: 'sanjana' object has no attribute '_sanjana__stud_name'"
     ]
    }
   ],
   "source": [
    "san.access_stud_name # deleted veriable"
   ]
  },
  {
   "cell_type": "code",
   "execution_count": 112,
   "id": "835d4537-90bc-4333-95d5-da0005266303",
   "metadata": {},
   "outputs": [
    {
     "ename": "AttributeError",
     "evalue": "'sanjana' object has no attribute '_sanjana__stud_name'",
     "output_type": "error",
     "traceback": [
      "\u001b[0;31m---------------------------------------------------------------------------\u001b[0m",
      "\u001b[0;31mAttributeError\u001b[0m                            Traceback (most recent call last)",
      "Cell \u001b[0;32mIn[112], line 1\u001b[0m\n\u001b[0;32m----> 1\u001b[0m \u001b[43msan\u001b[49m\u001b[38;5;241;43m.\u001b[39;49m\u001b[43m_sanjana__stud_name\u001b[49m \u001b[38;5;66;03m# we can't access deleted veriable\u001b[39;00m\n",
      "\u001b[0;31mAttributeError\u001b[0m: 'sanjana' object has no attribute '_sanjana__stud_name'"
     ]
    }
   ],
   "source": [
    "san._sanjana__stud_name # we can't access deleted veriable"
   ]
  },
  {
   "cell_type": "code",
   "execution_count": null,
   "id": "5803b5b8-131b-465c-9b65-b23a69f72648",
   "metadata": {},
   "outputs": [],
   "source": []
  }
 ],
 "metadata": {
  "kernelspec": {
   "display_name": "Python 3 (ipykernel)",
   "language": "python",
   "name": "python3"
  },
  "language_info": {
   "codemirror_mode": {
    "name": "ipython",
    "version": 3
   },
   "file_extension": ".py",
   "mimetype": "text/x-python",
   "name": "python",
   "nbconvert_exporter": "python",
   "pygments_lexer": "ipython3",
   "version": "3.10.8"
  }
 },
 "nbformat": 4,
 "nbformat_minor": 5
}
