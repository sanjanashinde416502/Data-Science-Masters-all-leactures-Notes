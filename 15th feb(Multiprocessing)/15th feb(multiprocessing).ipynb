{
 "cells": [
  {
   "cell_type": "code",
   "execution_count": 1,
   "id": "f9cc477b-b1fe-4a01-b1a0-c1b30c604b45",
   "metadata": {},
   "outputs": [],
   "source": [
    "# Multiprocessing:\n",
    "# 1.if we have multiple processes in a core then running those processes on mutiple processors so to avoid swiching of processors from one process to \n",
    "#    the second process and also to optimize processing time. This will not change the outlook of program but it will change processing of code\n",
    "# 2. to impliment multiprocesing we should import multiprocessing library\n"
   ]
  },
  {
   "cell_type": "code",
   "execution_count": 2,
   "id": "44f9766a-5103-4e80-bc93-e4891b9a42bc",
   "metadata": {},
   "outputs": [],
   "source": [
    "import multiprocessing"
   ]
  },
  {
   "cell_type": "code",
   "execution_count": 3,
   "id": "5bf6bf7d-1e2f-462e-9774-268e187772f4",
   "metadata": {},
   "outputs": [
    {
     "name": "stdout",
     "output_type": "stream",
     "text": [
      "this is my main process\n",
      "This is my multiprocessing program\n"
     ]
    }
   ],
   "source": [
    "def test():\n",
    "    print(\"This is my multiprocessing program\")\n",
    "    \n",
    "if __name__ == '__main__':                            # here we have created a child process of main process test()function \n",
    "    m = multiprocessing.Process(target=test) # here we are creating a object 'm' that representating what process is has to done.create process by using 'Process'keyword and give the target = name of main process\n",
    "    print(\"this is my main process\")     # processes thst we want to do in child process\n",
    "    m.start()                           # use 'start()' to execute child process\n",
    "    m.join()                       # 'join()' function is used to release the used resoures used by child process after it's complition of executition for execution of main process "
   ]
  },
  {
   "cell_type": "code",
   "execution_count": 4,
   "id": "87a30178-8a5d-4ab1-93ed-39ab923565de",
   "metadata": {},
   "outputs": [
    {
     "name": "stdout",
     "output_type": "stream",
     "text": [
      "This is my multiprocessing program\n"
     ]
    }
   ],
   "source": [
    "test()       # we can call only main function like this"
   ]
  },
  {
   "cell_type": "code",
   "execution_count": 5,
   "id": "7031f30e-3de9-4aa2-8dee-f0768dd1add9",
   "metadata": {},
   "outputs": [],
   "source": [
    "# we can achive multiprocessing by verious methids like 'Process()','Pool()','Pipe()','Queue()'"
   ]
  },
  {
   "cell_type": "code",
   "execution_count": 6,
   "id": "077f4f84-d5a6-4602-bb3e-8ce040f8ae77",
   "metadata": {},
   "outputs": [
    {
     "name": "stdout",
     "output_type": "stream",
     "text": [
      "[1, 4, 9, 16, 25, 36, 49, 64, 81]\n"
     ]
    }
   ],
   "source": [
    "# By using Pool() method:\n",
    "import multiprocessing\n",
    "def square(n):\n",
    "    return n**2\n",
    "\n",
    "\n",
    "if __name__=='__main__':\n",
    "    with multiprocessing.Pool(processes=4) as pool: # here 'pool()' is used to do multiprocessing where we can assign multiple processes to different processors so that processes are  \n",
    "        output=pool.map(square,[1,2,3,4,5,6,7,8,9]) # divied to thses processors and our process can be done very  fast and that will reduce our processing time .\n",
    "        print(output)                                # here we can alocate no of procesors to multiple processess that's depend upon how big the process is according to that we can \n",
    "                                                     # alocate processors"
   ]
  },
  {
   "cell_type": "code",
   "execution_count": null,
   "id": "039e9cb3-72c3-4122-ae34-8d1ec4bec911",
   "metadata": {},
   "outputs": [
    {
     "name": "stdout",
     "output_type": "stream",
     "text": [
      "0\n",
      "1\n",
      "2\n",
      "3\n",
      "4\n",
      "5\n",
      "6\n",
      "7\n",
      "8\n",
      "9\n",
      "sanjana\n"
     ]
    }
   ],
   "source": [
    "# By using Queue():\n",
    "# 1.queue is used when we have multiple processes and we can divide that into part and then run it.\n",
    "#    like in bellow example we can divide processes into two parts that one can insert data and second can return data.\n",
    "# 2.here we have created two  processes to insert process and second for returing the values so that both processes will go \n",
    "#   parallaly and if we run these processes separatly then it will take more time to process but in multiprocessing we can do  it in less time.\n",
    "\n",
    "import multiprocessing\n",
    "def producer(q):      # this is a function that takes input and insert the data   \n",
    "    for i in range(10):    \n",
    "        q.put(i)       # here we are using put function to insert data   \n",
    "        \n",
    "def consume(q):  # this is second process in queue that returns the data\n",
    "    while True:     # to always go in to loop \n",
    "        item=q.get()   # store data that we inserted in 'item ' veriable\n",
    "        if item is None:    # when item becomes none break loop and return data\n",
    "            break\n",
    "        print(item)\n",
    "        \n",
    "if __name__=='__main__':                        # calling main processs\n",
    "    queue=multiprocessing.Queue()     #creating object of multiprocessing \n",
    "    m1=multiprocessing.Process(target=producer,args=(queue,))    # here we are calling producer process and passing argument as queue\n",
    "    m2=multiprocessing.Process(target=consume,args=(queue,))     # here we are calling consumer process and passing argument as queue\n",
    "    m1.start()             # starting producer process\n",
    "    m2.start()              # staring consumer process\n",
    "    queue.put(\"sanjana\")   # we can print from here also\n",
    "    m1.join()             # to free resources for next process\n",
    "    m2.join()             # same for this also"
   ]
  },
  {
   "cell_type": "code",
   "execution_count": null,
   "id": "6ac0b625-674a-4954-b015-1af9c1ca7ee4",
   "metadata": {},
   "outputs": [],
   "source": [
    "# By using Queue():\n",
    "# 1.queue is used when we have multiple processes and we can divide that into part and then run it.\n",
    "#    like in bellow example we can divide processes into two parts that one can insert data and second can return data.\n",
    "# 2.here we have created two  processes to insert process and second for returing the values so that both processes will go \n",
    "#   parallaly and if we run these processes separatly then it will take more time to process but in multiprocessing we can do  it in less time.\n",
    "\n",
    "import multiprocessing\n",
    "def producer(q):      # this is a function that takes input and insert the data   \n",
    "    for i in [\"san\",\"perana\",\"kanchan\"]:     # here we are giving string\n",
    "        q.put(i)       # here we are using put function to insert data   \n",
    "        \n",
    "def consume(q):  # this is second process in queue that returns the data\n",
    "    while True:     # to always go in to loop \n",
    "        item=q.get()   # store data that we inserted in 'item ' veriable\n",
    "        if item is None:    # when item becomes none break loop and return data\n",
    "            break\n",
    "        print(item)\n",
    "        \n",
    "if __name__=='__main__':                        # calling main processs\n",
    "    queue=multiprocessing.Queue()     #creating object of multiprocessing \n",
    "    m1=multiprocessing.Process(target=producer,args=(queue,))    # here we are calling producer process and passing argument as queue\n",
    "    m2=multiprocessing.Process(target=consume,args=(queue,))     # here we are calling consumer process and passing argument as queue\n",
    "    m1.start()             # starting producer process\n",
    "    m2.start()              # staring consumer process\n",
    "    queue.put(\"sanjana\")   # we can print from here also\n",
    "    m1.join()             # to free resources for next process\n",
    "    m2.join()             # same for this also"
   ]
  },
  {
   "cell_type": "code",
   "execution_count": null,
   "id": "4fbbf181-772e-44c6-aeca-85d5aee9552f",
   "metadata": {},
   "outputs": [],
   "source": [
    "import multiprocessing       # here we are doing one process that take data in  list and second will return squres of numbers\n",
    "def sq(index,value):\n",
    "    value[index]= value[index]**2\n",
    "    \n",
    "if __name__ == '__main__':\n",
    "    arr=multiprocessing.Array(\"i\",[1,2,3,4,5,6,7])  # here we are doing shared list as process . Array is just like list\n",
    "    process=[]\n",
    "    for i in range(7):\n",
    "        m=multiprocessing.Process(target=sq,args=(i,arr))\n",
    "        process.append(m)          # appeding processed data to process named veriable\n",
    "        m.start()\n",
    "        \n",
    "    for m in process:\n",
    "        m.join()\n",
    "    print(list(arr))  # printing processed data\n",
    "        "
   ]
  },
  {
   "cell_type": "code",
   "execution_count": null,
   "id": "6063dcc7-aa97-4c46-80c4-2ecfe7902342",
   "metadata": {},
   "outputs": [],
   "source": [
    "# By using pipe():\n",
    "# 1.we can use 'Pipe()' when we want to way communication .\n",
    "#   that one will send data or insert data from one end  and second will receive data at a same form sencond end time by using common object named pipe.\n",
    "# 2.this we can do by pipe also that one pipe will do first process then 2nd will do next process."
   ]
  },
  {
   "cell_type": "code",
   "execution_count": null,
   "id": "771d7929-5c16-458c-878d-c1c0e5400a02",
   "metadata": {},
   "outputs": [],
   "source": [
    "import multiprocessing"
   ]
  },
  {
   "cell_type": "code",
   "execution_count": null,
   "id": "448745c0-7ef1-495c-a168-aba90db70ad9",
   "metadata": {},
   "outputs": [],
   "source": [
    "def sender(conn,msg):  # here we have estabulised connection between two processes that is sender and receive so that sender will send or \n",
    "    for i in msg:    # insert data from one end and receive will receive data from second end by using a single connection i.e object called\n",
    "        conn.send(i)  # pipe.\n",
    "    conn.close()\n",
    "    \n",
    "def receive(conn):  # here we have created second function that will receive data \n",
    "    while True:    # this will always true\n",
    "        try :\n",
    "            msg=conn.recv()  # this will execut true till msg is received \n",
    "        except Exception as e:  # this will executs when all data in msg has recived and this will break loop \n",
    "            print(e)\n",
    "            break\n",
    "        print(msg)  # print received msg\n",
    "        \n",
    "if __name__=='__main__':\n",
    "    msg=['my name is sanjana','this is my msg to students ','I m taking class of Multiprocessing']  # data in msg\n",
    "    parent_conn,child_conn=multiprocessing.Pipe()      # here we are creating two connections where child_conn executes sender function and parent_conn will executes receive function  \n",
    "    m1=multiprocessing.Process(target=sender , args=(child_conn,msg))  # creating object of multiprocessing for sender\n",
    "    m2=multiprocessing.Process(target=receive , args=(parent_conn,))   # same as above\n",
    "    m1.start()    # starting process m1 i.e sender\n",
    "    m2.start()   # satrting process m2 i.e receive\n",
    "    child_conn.close()   # closing child_connection \n",
    "    m2.join()              # to make free resources used by child_conn\n",
    "    parent_conn.close() # finally closing parent_conn after 2nd process complited\n",
    "    "
   ]
  },
  {
   "cell_type": "code",
   "execution_count": null,
   "id": "9dd5214d-491c-4c0a-8536-ed14b14104c2",
   "metadata": {},
   "outputs": [],
   "source": []
  },
  {
   "cell_type": "code",
   "execution_count": null,
   "id": "13ea9adc-f858-4671-bf3c-1868528c9d66",
   "metadata": {},
   "outputs": [],
   "source": []
  }
 ],
 "metadata": {
  "kernelspec": {
   "display_name": "Python 3 (ipykernel)",
   "language": "python",
   "name": "python3"
  },
  "language_info": {
   "codemirror_mode": {
    "name": "ipython",
    "version": 3
   },
   "file_extension": ".py",
   "mimetype": "text/x-python",
   "name": "python",
   "nbconvert_exporter": "python",
   "pygments_lexer": "ipython3",
   "version": "3.10.8"
  }
 },
 "nbformat": 4,
 "nbformat_minor": 5
}
