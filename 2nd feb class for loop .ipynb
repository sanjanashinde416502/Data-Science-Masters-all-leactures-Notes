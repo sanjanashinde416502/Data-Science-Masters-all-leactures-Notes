{
 "cells": [
  {
   "cell_type": "code",
   "execution_count": 1,
   "id": "606e6973-7fbb-4f78-b862-43b7ca82f3e9",
   "metadata": {},
   "outputs": [],
   "source": [
    "l=[1,2,3,4,5]"
   ]
  },
  {
   "cell_type": "code",
   "execution_count": 6,
   "id": "faaa9122-6966-4678-b454-2768b46ee99b",
   "metadata": {},
   "outputs": [
    {
     "name": "stdout",
     "output_type": "stream",
     "text": [
      "1 <class 'int'>\n",
      "2 <class 'int'>\n",
      "3 <class 'int'>\n",
      "4 <class 'int'>\n",
      "5 <class 'int'>\n"
     ]
    }
   ],
   "source": [
    "for i in l:\n",
    "    print(i,type(i))"
   ]
  },
  {
   "cell_type": "code",
   "execution_count": 7,
   "id": "d1da1bf9-5b16-4a48-a307-2dcd1d91f107",
   "metadata": {},
   "outputs": [],
   "source": [
    "l1=[\"sanjana\",\"prerana\",\"san\",\"Rani\"]"
   ]
  },
  {
   "cell_type": "code",
   "execution_count": 8,
   "id": "0c8e4474-05e9-4441-9190-1425e395f541",
   "metadata": {},
   "outputs": [
    {
     "name": "stdout",
     "output_type": "stream",
     "text": [
      "sanjana\n",
      "prerana\n",
      "san\n",
      "Rani\n"
     ]
    }
   ],
   "source": [
    "for i in l1:\n",
    "    print(i)"
   ]
  },
  {
   "cell_type": "code",
   "execution_count": 9,
   "id": "e2caaad5-2281-49c9-b963-d32d59246e72",
   "metadata": {},
   "outputs": [
    {
     "name": "stdout",
     "output_type": "stream",
     "text": [
      "sanjana\n",
      "prerana\n",
      "san\n",
      "Rani\n",
      "do somthing\n"
     ]
    }
   ],
   "source": [
    "for i in l1:    # if for loop is able to complete itself then only else will execute\n",
    "    print(i)     #this is one of loop used in python only\n",
    "else:\n",
    "    print(\"do somthing\")"
   ]
  },
  {
   "cell_type": "code",
   "execution_count": 10,
   "id": "ff0d0bcf-dd57-4169-92c1-a190aa977352",
   "metadata": {},
   "outputs": [
    {
     "data": {
      "text/plain": [
       "['sanjana', 'prerana', 'san', 'Rani']"
      ]
     },
     "execution_count": 10,
     "metadata": {},
     "output_type": "execute_result"
    }
   ],
   "source": [
    "l1"
   ]
  },
  {
   "cell_type": "code",
   "execution_count": 5,
   "id": "e7dda389-3590-4b6e-a51a-afcecbc9fad2",
   "metadata": {},
   "outputs": [],
   "source": [
    "l1=[\"sanjana\",\"prerana\",\"san\",\"Rani\"]"
   ]
  },
  {
   "cell_type": "code",
   "execution_count": 8,
   "id": "4cc96cb6-1737-4b44-b2b0-e0edf1e956f6",
   "metadata": {},
   "outputs": [
    {
     "data": {
      "text/plain": [
       "['sanjana', 'prerana', 'san', 'Rani']"
      ]
     },
     "execution_count": 8,
     "metadata": {},
     "output_type": "execute_result"
    }
   ],
   "source": [
    "l1"
   ]
  },
  {
   "cell_type": "code",
   "execution_count": 10,
   "id": "c91a83f1-11fc-4f51-98a4-734d4e698619",
   "metadata": {},
   "outputs": [
    {
     "name": "stdout",
     "output_type": "stream",
     "text": [
      "sanjana\n",
      "prerana\n"
     ]
    }
   ],
   "source": [
    "for i in l1:\n",
    "    if i==\"san\":\n",
    "        break\n",
    "    print(i)"
   ]
  },
  {
   "cell_type": "code",
   "execution_count": 36,
   "id": "12f0411b-e431-440b-a2b3-17d2006b45d9",
   "metadata": {},
   "outputs": [
    {
     "name": "stdout",
     "output_type": "stream",
     "text": [
      "sanjana\n",
      "prerana\n"
     ]
    }
   ],
   "source": [
    "for i in l1:\n",
    "    if i==\"san\":\n",
    "        break\n",
    "    print(i)\n",
    "        \n",
    "        \n",
    "        "
   ]
  },
  {
   "cell_type": "code",
   "execution_count": 14,
   "id": "75ba582f-b865-42a5-810f-d87bef0f19a3",
   "metadata": {},
   "outputs": [
    {
     "name": "stdout",
     "output_type": "stream",
     "text": [
      "sanjana\n",
      "prerana\n"
     ]
    }
   ],
   "source": [
    "for i in l1:                                   #break keyaward\n",
    "    if i ==\"san\":\n",
    "        break\n",
    "    print(i)\n",
    "else:\n",
    "    print(\"execute only if loop is complete\")"
   ]
  },
  {
   "cell_type": "code",
   "execution_count": 34,
   "id": "30ac6b11-c96f-4432-80bc-d92ae60e7d46",
   "metadata": {},
   "outputs": [
    {
     "name": "stdout",
     "output_type": "stream",
     "text": [
      "sanjana\n",
      "prerana\n",
      "Rani\n"
     ]
    }
   ],
   "source": [
    "for i in l1:\n",
    "    if i == \"san\":             # continue keyward\n",
    "        continue\n",
    "    print(i)\n",
    "       \n",
    "     "
   ]
  },
  {
   "cell_type": "code",
   "execution_count": 37,
   "id": "f250a803-8408-419e-8bfb-10da3a9058bb",
   "metadata": {},
   "outputs": [
    {
     "name": "stdout",
     "output_type": "stream",
     "text": [
      "sanjana\n",
      "prerana\n",
      "Rani\n",
      "execute only if loop is completed \n"
     ]
    }
   ],
   "source": [
    "for i in l1:\n",
    "    if i == \"san\":\n",
    "        continue\n",
    "    print(i)\n",
    "else:\n",
    "    print(\"execute only if loop is completed \")"
   ]
  },
  {
   "cell_type": "code",
   "execution_count": 38,
   "id": "5eada6bb-8e80-43f2-b65e-7050d73862f7",
   "metadata": {},
   "outputs": [
    {
     "data": {
      "text/plain": [
       "range(0, 5)"
      ]
     },
     "execution_count": 38,
     "metadata": {},
     "output_type": "execute_result"
    }
   ],
   "source": [
    "range(5)"
   ]
  },
  {
   "cell_type": "code",
   "execution_count": 39,
   "id": "b7061c26-1653-46ce-986c-9c7b5367cfa3",
   "metadata": {},
   "outputs": [
    {
     "data": {
      "text/plain": [
       "[0, 1, 2, 3, 4]"
      ]
     },
     "execution_count": 39,
     "metadata": {},
     "output_type": "execute_result"
    }
   ],
   "source": [
    "list(range(5))     #to see the data in range you have to take that range in list"
   ]
  },
  {
   "cell_type": "code",
   "execution_count": 41,
   "id": "77a9e71c-ddfb-4c8e-b8f4-cca936088c70",
   "metadata": {},
   "outputs": [
    {
     "data": {
      "text/plain": [
       "[0, 2, 4, 6, 8, 10, 12, 14, 16, 18, 20, 22, 24, 26, 28]"
      ]
     },
     "execution_count": 41,
     "metadata": {},
     "output_type": "execute_result"
    }
   ],
   "source": [
    "list(range(0,30,2))"
   ]
  },
  {
   "cell_type": "code",
   "execution_count": 46,
   "id": "d2e1e2f1-c8fd-440f-9cde-046966cebb90",
   "metadata": {},
   "outputs": [
    {
     "data": {
      "text/plain": [
       "[0, 1, 2, 3]"
      ]
     },
     "execution_count": 46,
     "metadata": {},
     "output_type": "execute_result"
    }
   ],
   "source": [
    "list(range(len(l1)))"
   ]
  },
  {
   "cell_type": "code",
   "execution_count": 43,
   "id": "8c22a00f-b1da-47b6-93e6-cf483d41879e",
   "metadata": {},
   "outputs": [
    {
     "data": {
      "text/plain": [
       "['sanjana', 'prerana', 'san', 'Rani']"
      ]
     },
     "execution_count": 43,
     "metadata": {},
     "output_type": "execute_result"
    }
   ],
   "source": [
    "l1"
   ]
  },
  {
   "cell_type": "code",
   "execution_count": 45,
   "id": "e83552a3-a58f-499b-9d41-eb6c2be9e41e",
   "metadata": {},
   "outputs": [
    {
     "data": {
      "text/plain": [
       "'sanjana'"
      ]
     },
     "execution_count": 45,
     "metadata": {},
     "output_type": "execute_result"
    }
   ],
   "source": [
    "l1[0]"
   ]
  },
  {
   "cell_type": "code",
   "execution_count": 15,
   "id": "59d3a5c2-f5c2-43f3-ad10-907b861eaffb",
   "metadata": {},
   "outputs": [
    {
     "data": {
      "text/plain": [
       "4"
      ]
     },
     "execution_count": 15,
     "metadata": {},
     "output_type": "execute_result"
    }
   ],
   "source": [
    "len(l1)"
   ]
  },
  {
   "cell_type": "code",
   "execution_count": 18,
   "id": "02345eaf-ddb5-40ab-ac09-b65d106838d6",
   "metadata": {},
   "outputs": [
    {
     "name": "stdout",
     "output_type": "stream",
     "text": [
      "sanjana\n",
      "prerana\n",
      "san\n",
      "Rani\n"
     ]
    }
   ],
   "source": [
    "for i in range(len(l1)):   # by using indexes we can get data \n",
    "    print(l1[i])"
   ]
  },
  {
   "cell_type": "code",
   "execution_count": 54,
   "id": "397add6b-f156-4700-9bd1-53c075d0ef15",
   "metadata": {},
   "outputs": [
    {
     "data": {
      "text/plain": [
       "[3, 2, 1, 0]"
      ]
     },
     "execution_count": 54,
     "metadata": {},
     "output_type": "execute_result"
    }
   ],
   "source": [
    "list(range(len(l1)-1,-1,-1))     # reverse indexing "
   ]
  },
  {
   "cell_type": "code",
   "execution_count": 57,
   "id": "dfebce4a-a8a4-4254-8450-22ee261b6451",
   "metadata": {},
   "outputs": [
    {
     "name": "stdout",
     "output_type": "stream",
     "text": [
      "Rani\n",
      "san\n",
      "prerana\n",
      "sanjana\n"
     ]
    }
   ],
   "source": [
    "for i in range(len(l1)-1,-1,-1):    #to reverse list using for loop\n",
    "    print(l1[i])\n",
    "    "
   ]
  },
  {
   "cell_type": "code",
   "execution_count": 58,
   "id": "6f83e810-e907-435f-8279-dd6a2570f606",
   "metadata": {},
   "outputs": [],
   "source": [
    "l2=[1,2,3,4,34,4556,776]"
   ]
  },
  {
   "cell_type": "code",
   "execution_count": 62,
   "id": "890bdcd7-98b1-4bb0-a01b-27e0a0f151e3",
   "metadata": {},
   "outputs": [
    {
     "data": {
      "text/plain": [
       "[0, 2, 4, 6]"
      ]
     },
     "execution_count": 62,
     "metadata": {},
     "output_type": "execute_result"
    }
   ],
   "source": [
    "list(range(0,len(l2),2))  #even indexes in l2"
   ]
  },
  {
   "cell_type": "code",
   "execution_count": 63,
   "id": "35140c21-b639-412c-869c-2e336e71f26e",
   "metadata": {},
   "outputs": [
    {
     "name": "stdout",
     "output_type": "stream",
     "text": [
      "1\n",
      "3\n",
      "34\n",
      "776\n"
     ]
    }
   ],
   "source": [
    "for i in range(0,len(l2),2):    #to get data available on even indexes\n",
    "    print(l2[i])"
   ]
  },
  {
   "cell_type": "code",
   "execution_count": 65,
   "id": "198b833e-eb01-42e2-805a-1be3b06aed60",
   "metadata": {},
   "outputs": [
    {
     "data": {
      "text/plain": [
       "1"
      ]
     },
     "execution_count": 65,
     "metadata": {},
     "output_type": "execute_result"
    }
   ],
   "source": [
    "l2[0]"
   ]
  },
  {
   "cell_type": "code",
   "execution_count": 66,
   "id": "77892f1d-78f6-41d5-b48b-297da5813750",
   "metadata": {},
   "outputs": [
    {
     "data": {
      "text/plain": [
       "[1, 2, 3, 4, 5]"
      ]
     },
     "execution_count": 66,
     "metadata": {},
     "output_type": "execute_result"
    }
   ],
   "source": [
    "l"
   ]
  },
  {
   "cell_type": "code",
   "execution_count": 67,
   "id": "f7d691c0-7208-4485-a7ce-b4166e2ac466",
   "metadata": {},
   "outputs": [
    {
     "data": {
      "text/plain": [
       "15"
      ]
     },
     "execution_count": 67,
     "metadata": {},
     "output_type": "execute_result"
    }
   ],
   "source": [
    "sum(l)   # here sum is function used to get sum of all values in list "
   ]
  },
  {
   "cell_type": "code",
   "execution_count": 20,
   "id": "b81ba322-dfc1-4e53-92d0-b75790a3c83e",
   "metadata": {},
   "outputs": [],
   "source": [
    "l=[1,2,3,4,5]"
   ]
  },
  {
   "cell_type": "code",
   "execution_count": 22,
   "id": "a51b106e-92dd-4c8f-a2f2-e94fa1ae88e7",
   "metadata": {},
   "outputs": [
    {
     "data": {
      "text/plain": [
       "15"
      ]
     },
     "execution_count": 22,
     "metadata": {},
     "output_type": "execute_result"
    }
   ],
   "source": [
    "result=0        #used to get sum by using for loop\n",
    "for i in l:\n",
    "    result=result+i\n",
    "result"
   ]
  },
  {
   "cell_type": "code",
   "execution_count": 70,
   "id": "a383bcbc-880b-45d6-9d9b-c5588331ca12",
   "metadata": {},
   "outputs": [],
   "source": [
    "t=(1,2,3,4,5,6)"
   ]
  },
  {
   "cell_type": "code",
   "execution_count": 72,
   "id": "8acf96ac-e5c2-4b59-a164-33e5ef102709",
   "metadata": {},
   "outputs": [
    {
     "name": "stdout",
     "output_type": "stream",
     "text": [
      "1\n",
      "2\n",
      "3\n",
      "4\n",
      "5\n",
      "6\n"
     ]
    }
   ],
   "source": [
    "for i in t:\n",
    "    print(i)"
   ]
  },
  {
   "cell_type": "code",
   "execution_count": 73,
   "id": "abc27e34-b1d2-4a57-845c-06d638b1c5d9",
   "metadata": {},
   "outputs": [
    {
     "data": {
      "text/plain": [
       "21"
      ]
     },
     "execution_count": 73,
     "metadata": {},
     "output_type": "execute_result"
    }
   ],
   "source": [
    "sum(t)"
   ]
  },
  {
   "cell_type": "code",
   "execution_count": 79,
   "id": "c5ba2c6e-81e9-469f-99b8-bcb27f0db214",
   "metadata": {},
   "outputs": [],
   "source": [
    "s={1,2,3,\"per\",\"pabc\"}"
   ]
  },
  {
   "cell_type": "code",
   "execution_count": 81,
   "id": "2c2d5b5e-eda5-4026-b9aa-3b1e22fce945",
   "metadata": {},
   "outputs": [
    {
     "name": "stdout",
     "output_type": "stream",
     "text": [
      "1\n",
      "2\n",
      "3\n",
      "pabc\n",
      "per\n"
     ]
    }
   ],
   "source": [
    "for i in s :\n",
    "    print(i)"
   ]
  },
  {
   "cell_type": "code",
   "execution_count": 89,
   "id": "93dd8059-bc37-437b-814d-cacb9065db85",
   "metadata": {},
   "outputs": [],
   "source": [
    "s2= \"pwskills\""
   ]
  },
  {
   "cell_type": "code",
   "execution_count": 91,
   "id": "12ca02e5-53cd-4a37-b5b1-97f814886cd5",
   "metadata": {},
   "outputs": [
    {
     "name": "stdout",
     "output_type": "stream",
     "text": [
      "p\n",
      "w\n",
      "s\n",
      "k\n",
      "i\n",
      "l\n",
      "l\n",
      "s\n"
     ]
    }
   ],
   "source": [
    "for i in s2:\n",
    "    print(i)"
   ]
  },
  {
   "cell_type": "code",
   "execution_count": 24,
   "id": "38aaf5f2-f58c-459f-93a3-0cf8e49a84d5",
   "metadata": {},
   "outputs": [],
   "source": [
    "s2=\"pwskills\""
   ]
  },
  {
   "cell_type": "code",
   "execution_count": 25,
   "id": "103cd809-d124-4622-adac-03595b5c0808",
   "metadata": {},
   "outputs": [],
   "source": [
    "l3=range(0,len(s2),2)"
   ]
  },
  {
   "cell_type": "code",
   "execution_count": 26,
   "id": "5f867268-4df5-4534-b84f-dd8af71134aa",
   "metadata": {},
   "outputs": [
    {
     "data": {
      "text/plain": [
       "range(0, 8, 2)"
      ]
     },
     "execution_count": 26,
     "metadata": {},
     "output_type": "execute_result"
    }
   ],
   "source": [
    "l3"
   ]
  },
  {
   "cell_type": "code",
   "execution_count": 98,
   "id": "04123d3b-ae33-46dc-a5c4-dc1d714664f2",
   "metadata": {},
   "outputs": [
    {
     "name": "stdout",
     "output_type": "stream",
     "text": [
      "0\n",
      "2\n",
      "4\n",
      "6\n"
     ]
    }
   ],
   "source": [
    "for i in range(0,len(s2),2):\n",
    "    print(i)"
   ]
  },
  {
   "cell_type": "code",
   "execution_count": 104,
   "id": "3bb45462-0fa0-4b5b-8618-2b118bf2bc96",
   "metadata": {},
   "outputs": [],
   "source": [
    "d={\"name\":\"sanjana\",\"class\":\"data science\",\"topics\":[\"python\",\"statestics\",\"intervive\"]}"
   ]
  },
  {
   "cell_type": "code",
   "execution_count": 105,
   "id": "d4915f97-b014-419d-bd19-16acef7622f8",
   "metadata": {},
   "outputs": [
    {
     "data": {
      "text/plain": [
       "{'name': 'sanjana',\n",
       " 'class': 'data science',\n",
       " 'topics': ['python', 'statestics', 'intervive']}"
      ]
     },
     "execution_count": 105,
     "metadata": {},
     "output_type": "execute_result"
    }
   ],
   "source": [
    "d"
   ]
  },
  {
   "cell_type": "code",
   "execution_count": 106,
   "id": "4620e20f-dd54-4e3e-8bcc-a94e7865e27f",
   "metadata": {},
   "outputs": [
    {
     "data": {
      "text/plain": [
       "'sanjana'"
      ]
     },
     "execution_count": 106,
     "metadata": {},
     "output_type": "execute_result"
    }
   ],
   "source": [
    "d[\"name\"]"
   ]
  },
  {
   "cell_type": "code",
   "execution_count": 107,
   "id": "ef11e62f-90f0-41f9-8c46-adcd85bd2fe2",
   "metadata": {},
   "outputs": [
    {
     "data": {
      "text/plain": [
       "dict_keys(['name', 'class', 'topics'])"
      ]
     },
     "execution_count": 107,
     "metadata": {},
     "output_type": "execute_result"
    }
   ],
   "source": [
    "d.keys()"
   ]
  },
  {
   "cell_type": "code",
   "execution_count": 108,
   "id": "0b124103-adca-4fe1-be29-b3372b433111",
   "metadata": {},
   "outputs": [
    {
     "name": "stdout",
     "output_type": "stream",
     "text": [
      "sanjana\n",
      "data science\n",
      "['python', 'statestics', 'intervive']\n"
     ]
    }
   ],
   "source": [
    "for i in d.keys():\n",
    "    print(d[i])\n",
    "    "
   ]
  },
  {
   "cell_type": "code",
   "execution_count": 109,
   "id": "2deed9c7-aa9f-4c61-9b74-f99dc14f4591",
   "metadata": {},
   "outputs": [
    {
     "data": {
      "text/plain": [
       "dict_values(['sanjana', 'data science', ['python', 'statestics', 'intervive']])"
      ]
     },
     "execution_count": 109,
     "metadata": {},
     "output_type": "execute_result"
    }
   ],
   "source": [
    "d.values()"
   ]
  },
  {
   "cell_type": "code",
   "execution_count": 110,
   "id": "41d04692-8428-4a9d-9847-d79119ab2d2c",
   "metadata": {},
   "outputs": [
    {
     "name": "stdout",
     "output_type": "stream",
     "text": [
      "sanjana\n",
      "data science\n",
      "['python', 'statestics', 'intervive']\n"
     ]
    }
   ],
   "source": [
    "for i in d.values():\n",
    "    print(i)"
   ]
  },
  {
   "cell_type": "code",
   "execution_count": 111,
   "id": "8ba102ca-a368-4194-8a99-9b8103057bae",
   "metadata": {},
   "outputs": [
    {
     "data": {
      "text/plain": [
       "dict_items([('name', 'sanjana'), ('class', 'data science'), ('topics', ['python', 'statestics', 'intervive'])])"
      ]
     },
     "execution_count": 111,
     "metadata": {},
     "output_type": "execute_result"
    }
   ],
   "source": [
    "d.items()       # to get keys and values both"
   ]
  },
  {
   "cell_type": "code",
   "execution_count": 113,
   "id": "fa0a3942-e791-4188-9aa7-19da3056bc0d",
   "metadata": {},
   "outputs": [
    {
     "name": "stdout",
     "output_type": "stream",
     "text": [
      "('name', 'sanjana')\n",
      "('class', 'data science')\n",
      "('topics', ['python', 'statestics', 'intervive'])\n"
     ]
    }
   ],
   "source": [
    "for i in d.items():\n",
    "    print(i)"
   ]
  },
  {
   "cell_type": "code",
   "execution_count": null,
   "id": "fa094579-6460-47fb-b840-7cbc112a73dc",
   "metadata": {},
   "outputs": [],
   "source": []
  }
 ],
 "metadata": {
  "kernelspec": {
   "display_name": "Python 3 (ipykernel)",
   "language": "python",
   "name": "python3"
  },
  "language_info": {
   "codemirror_mode": {
    "name": "ipython",
    "version": 3
   },
   "file_extension": ".py",
   "mimetype": "text/x-python",
   "name": "python",
   "nbconvert_exporter": "python",
   "pygments_lexer": "ipython3",
   "version": "3.10.8"
  }
 },
 "nbformat": 4,
 "nbformat_minor": 5
}
