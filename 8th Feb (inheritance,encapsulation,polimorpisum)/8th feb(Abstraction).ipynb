{
 "cells": [
  {
   "cell_type": "markdown",
   "id": "7eaa8750-4cdf-4ee2-98eb-f7acea532072",
   "metadata": {},
   "source": [
    "# Abstraction\n",
    "- Abstraction class mainly used to make skeleton or to make blue print of code before writing code"
   ]
  },
  {
   "cell_type": "code",
   "execution_count": 4,
   "id": "54c206a5-25b3-4964-8713-1287b066e150",
   "metadata": {},
   "outputs": [],
   "source": [
    "import abc\n",
    "class pwskills:\n",
    "    \n",
    "    @abc.abstractmethod                     # here we a creating decorator function by using abc\n",
    "    def student_details(self):              # means when we inherte this class these functions/methods are by default available and there we can we=rite defiation of this functions means according us we can write code in these functions\n",
    "        pass\n",
    "    @abc.abstractmethod\n",
    "    def student_assignments(self):\n",
    "        pass\n",
    "    @abc.abstractmethod\n",
    "    def student_marks(self):\n",
    "        pass"
   ]
  },
  {
   "cell_type": "code",
   "execution_count": 5,
   "id": "a41e5124-8e6f-4858-bc97-da2ae6dfbcb5",
   "metadata": {},
   "outputs": [],
   "source": [
    "class student_details(pwskills):   # here we are inheriting pwskills class by this all functions in this class will be available as in from of abstract\n",
    "    \n",
    "    def student_details(self):\n",
    "        return \"This is a method for taking student details\"\n",
    "    \n",
    "    def student_assignments(self):\n",
    "        return \"This is a method for taking student assignments\"\n",
    "    \n",
    "    def student_marks(self):\n",
    "        return \"This is a method for taking marks\"\n",
    "    \n",
    "    "
   ]
  },
  {
   "cell_type": "code",
   "execution_count": 6,
   "id": "42afbd39-1682-446c-ae22-25d4b3bf0b1a",
   "metadata": {},
   "outputs": [],
   "source": [
    "class data_science_masters(pwskills):\n",
    "    def student_details(self):\n",
    "        return \"this is a method of data science masters which takes students details\"\n",
    "    \n",
    "    def student_assignments(self):\n",
    "        return \"This is a method of data science masters for taking student assignments\""
   ]
  },
  {
   "cell_type": "code",
   "execution_count": 7,
   "id": "8582b88e-d0af-4add-b0cc-b3d0b3692193",
   "metadata": {},
   "outputs": [
    {
     "data": {
      "text/plain": [
       "'this is a method of data science masters which takes students details'"
      ]
     },
     "execution_count": 7,
     "metadata": {},
     "output_type": "execute_result"
    }
   ],
   "source": [
    "data=data_science_masters()\n",
    "data.student_details()"
   ]
  },
  {
   "cell_type": "code",
   "execution_count": 8,
   "id": "50624c3a-bf46-4589-b41c-e2319d50b17a",
   "metadata": {},
   "outputs": [
    {
     "data": {
      "text/plain": [
       "'This is a method for taking student details'"
      ]
     },
     "execution_count": 8,
     "metadata": {},
     "output_type": "execute_result"
    }
   ],
   "source": [
    "sd=student_details()\n",
    "sd.student_details()"
   ]
  },
  {
   "cell_type": "code",
   "execution_count": 9,
   "id": "3f079d52-af9a-4450-9cc1-10a8e2da9c51",
   "metadata": {},
   "outputs": [],
   "source": [
    "## benefit of using abstraction is that in a class we created a outline of a function and whenever we requaired to we inherite that class  and according to our need we take/use functions from that class and modify it's code as per our need"
   ]
  },
  {
   "cell_type": "code",
   "execution_count": 11,
   "id": "42d7ac20-9b42-4967-89f6-867aa7dd3a0a",
   "metadata": {},
   "outputs": [],
   "source": [
    "# Note: when we inherite class that time for wring code we have to use that methods only that are declared in that class"
   ]
  },
  {
   "cell_type": "code",
   "execution_count": null,
   "id": "f4363217-27ee-41a8-b20d-98c6bc51d6ee",
   "metadata": {},
   "outputs": [],
   "source": []
  }
 ],
 "metadata": {
  "kernelspec": {
   "display_name": "Python 3 (ipykernel)",
   "language": "python",
   "name": "python3"
  },
  "language_info": {
   "codemirror_mode": {
    "name": "ipython",
    "version": 3
   },
   "file_extension": ".py",
   "mimetype": "text/x-python",
   "name": "python",
   "nbconvert_exporter": "python",
   "pygments_lexer": "ipython3",
   "version": "3.10.8"
  }
 },
 "nbformat": 4,
 "nbformat_minor": 5
}
