{
 "cells": [
  {
   "cell_type": "code",
   "execution_count": 11,
   "id": "14e44da4-a3c6-4f29-b648-7925ce9dee95",
   "metadata": {},
   "outputs": [],
   "source": [
    "# Inheritance:\n",
    "# used to invoke one class or veriables of one class i.e of parent class to another class i.e in child class. "
   ]
  },
  {
   "cell_type": "code",
   "execution_count": 20,
   "id": "ff1ada24-6afd-4e78-89db-e8ff4868b54a",
   "metadata": {},
   "outputs": [],
   "source": [
    "# Simple inheritance:\n",
    "\n",
    "class test:                                   # parent class\n",
    "    \n",
    "    def test_math(self):\n",
    "        return \"this is my first class\""
   ]
  },
  {
   "cell_type": "code",
   "execution_count": 17,
   "id": "faee26f0-8ce3-4524-85ab-676aead88b6b",
   "metadata": {},
   "outputs": [],
   "source": [
    "class child_test(test):   # child class and calling parent class in it \n",
    "    pass\n",
    "    "
   ]
  },
  {
   "cell_type": "code",
   "execution_count": 18,
   "id": "98734909-39b7-409f-b3f5-5f94c8be4ed3",
   "metadata": {},
   "outputs": [],
   "source": [
    "child_class_obj=child_test()          # making object of child class"
   ]
  },
  {
   "cell_type": "code",
   "execution_count": 19,
   "id": "648d2282-bf68-4e1a-a2d3-04013ebcfb33",
   "metadata": {},
   "outputs": [
    {
     "data": {
      "text/plain": [
       "'this is my first class'"
      ]
     },
     "execution_count": 19,
     "metadata": {},
     "output_type": "execute_result"
    }
   ],
   "source": [
    "child_class_obj.test_math()               # calling method in parent class"
   ]
  },
  {
   "cell_type": "code",
   "execution_count": 1,
   "id": "0dbde835-2b59-41c4-acf2-09fc22e581dd",
   "metadata": {},
   "outputs": [],
   "source": [
    "# multi level inheritance :\n",
    "# by using multi level in heritance we can access properties of many classes. i'e class2 can access properties of class1 and class3 can \n",
    "# access properties of class2 as well as class1. following is example of multi level inheritance.\n",
    "\n",
    "class class1:                                   # parent class\n",
    "    def test_class1(self):\n",
    "        return \"this is a math from class 1\""
   ]
  },
  {
   "cell_type": "code",
   "execution_count": 2,
   "id": "fac0afa0-919a-4cea-a918-d6c8d9b9d20b",
   "metadata": {},
   "outputs": [],
   "source": [
    "class class2(class1):                            # intermidiate class\n",
    "    def test_class2(self):\n",
    "        return \"this is a math from class2\""
   ]
  },
  {
   "cell_type": "code",
   "execution_count": 3,
   "id": "bb433cab-5031-4273-88ce-11aef6475cad",
   "metadata": {},
   "outputs": [],
   "source": [
    "class class3(class2):  # child class\n",
    "    pass"
   ]
  },
  {
   "cell_type": "code",
   "execution_count": 4,
   "id": "66723f68-0895-4109-bc10-3c0d1ed91f15",
   "metadata": {},
   "outputs": [],
   "source": [
    "class3_obj=class3()              # creating object of child class i.e object of class3"
   ]
  },
  {
   "cell_type": "code",
   "execution_count": null,
   "id": "2c3a8949-dff8-4c2f-8f3b-8a562ef730cd",
   "metadata": {},
   "outputs": [],
   "source": [
    "class3_obj.            #test_class2() # by object of class3 we can able to access class2 by pressing tab after object name and dot(.)"
   ]
  },
  {
   "cell_type": "code",
   "execution_count": 34,
   "id": "bd84c922-2ee9-4266-b54f-3776037711c9",
   "metadata": {},
   "outputs": [
    {
     "data": {
      "text/plain": [
       "'this is a math from class 1'"
      ]
     },
     "execution_count": 34,
     "metadata": {},
     "output_type": "execute_result"
    }
   ],
   "source": [
    "class3_obj.test_class1()   # by object of class3 we can access class1 also"
   ]
  },
  {
   "cell_type": "code",
   "execution_count": 35,
   "id": "a45d2dc6-7b3a-4a29-b92d-a5d5acb72313",
   "metadata": {},
   "outputs": [],
   "source": [
    "#  Multiple inheritance:\n",
    "# by using multiple inheritance we can access properties of multiple classes in one single class i.e of class1 and class2 both in class3"
   ]
  },
  {
   "cell_type": "code",
   "execution_count": 47,
   "id": "f4ae9198-1106-4951-a5e8-7376e4fc274b",
   "metadata": {},
   "outputs": [],
   "source": [
    "class class1:                    # class 1  i.e parent class1\n",
    "    def test_class1(self):\n",
    "        return \"this is class 1\""
   ]
  },
  {
   "cell_type": "code",
   "execution_count": 48,
   "id": "3ba65282-0694-4c84-aae0-716f2f4c3a40",
   "metadata": {},
   "outputs": [],
   "source": [
    "class class2:                      # class 2  i.e parent class2\n",
    "    def test_class2(self):\n",
    "        return \"this is class 2\""
   ]
  },
  {
   "cell_type": "code",
   "execution_count": 46,
   "id": "9b35ba7c-0d08-499c-904a-f721abe73c9e",
   "metadata": {},
   "outputs": [],
   "source": [
    "class class3(class1,class2):  # class 3 i.e child class of both parent class1 and parent class2\n",
    "    pass"
   ]
  },
  {
   "cell_type": "code",
   "execution_count": 49,
   "id": "2cd8aff8-cec9-40cd-a322-14a53d4a0742",
   "metadata": {},
   "outputs": [],
   "source": [
    "class_obj=class3() # creating object of class3 i.e of child class"
   ]
  },
  {
   "cell_type": "code",
   "execution_count": 50,
   "id": "5a989404-0a48-4feb-81c8-1013a29470d7",
   "metadata": {},
   "outputs": [
    {
     "data": {
      "text/plain": [
       "'this is class 1'"
      ]
     },
     "execution_count": 50,
     "metadata": {},
     "output_type": "execute_result"
    }
   ],
   "source": [
    "class_obj.test_class1()        # by using object of class3 we can access properties of class 1"
   ]
  },
  {
   "cell_type": "code",
   "execution_count": 51,
   "id": "d84d53c0-9d06-43de-8ec0-714b9e1f8af4",
   "metadata": {},
   "outputs": [
    {
     "data": {
      "text/plain": [
       "'this is class 2'"
      ]
     },
     "execution_count": 51,
     "metadata": {},
     "output_type": "execute_result"
    }
   ],
   "source": [
    "class_obj.test_class2()    # we can access properties of class2 also"
   ]
  },
  {
   "cell_type": "code",
   "execution_count": null,
   "id": "5f01eaf3-73fd-491b-b754-6c6d0a699dc6",
   "metadata": {},
   "outputs": [],
   "source": []
  }
 ],
 "metadata": {
  "kernelspec": {
   "display_name": "Python 3 (ipykernel)",
   "language": "python",
   "name": "python3"
  },
  "language_info": {
   "codemirror_mode": {
    "name": "ipython",
    "version": 3
   },
   "file_extension": ".py",
   "mimetype": "text/x-python",
   "name": "python",
   "nbconvert_exporter": "python",
   "pygments_lexer": "ipython3",
   "version": "3.10.8"
  }
 },
 "nbformat": 4,
 "nbformat_minor": 5
}
