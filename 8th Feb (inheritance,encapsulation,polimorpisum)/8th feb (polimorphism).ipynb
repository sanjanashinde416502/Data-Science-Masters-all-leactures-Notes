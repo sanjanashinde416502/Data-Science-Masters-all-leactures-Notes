{
 "cells": [
  {
   "cell_type": "code",
   "execution_count": 7,
   "id": "e82561fa-82a3-4829-8852-1c89fa299d5a",
   "metadata": {},
   "outputs": [],
   "source": [
    "# polymorphism:\n",
    "# one intity having many behaviours in different surcomstances or situations.\n"
   ]
  },
  {
   "cell_type": "code",
   "execution_count": 9,
   "id": "1e69c9f3-d20b-4ef8-a0e6-847f6b44b7bc",
   "metadata": {},
   "outputs": [],
   "source": [
    "def test(a,b):\n",
    "    return a+b"
   ]
  },
  {
   "cell_type": "code",
   "execution_count": 15,
   "id": "09e2d04d-0f36-4c93-b8ca-b6210d864d04",
   "metadata": {},
   "outputs": [
    {
     "data": {
      "text/plain": [
       "7"
      ]
     },
     "execution_count": 15,
     "metadata": {},
     "output_type": "execute_result"
    }
   ],
   "source": [
    "test(3,4)   # here this fuction does addition"
   ]
  },
  {
   "cell_type": "code",
   "execution_count": 16,
   "id": "ba377ec4-e080-401a-95d5-09a45c1965fb",
   "metadata": {},
   "outputs": [
    {
     "data": {
      "text/plain": [
       "'sanajanasudh'"
      ]
     },
     "execution_count": 16,
     "metadata": {},
     "output_type": "execute_result"
    }
   ],
   "source": [
    "test(\"sanajana\",\"sudh\")   # concadiates two strings"
   ]
  },
  {
   "cell_type": "code",
   "execution_count": 17,
   "id": "826aab26-c4de-499f-b394-a886a8913dc9",
   "metadata": {},
   "outputs": [
    {
     "data": {
      "text/plain": [
       "[2, 3, 4, 5, 3, 4, 5]"
      ]
     },
     "execution_count": 17,
     "metadata": {},
     "output_type": "execute_result"
    }
   ],
   "source": [
    "test([2,3,4,5],[3,4,5])  # does append of two lists"
   ]
  },
  {
   "cell_type": "code",
   "execution_count": 36,
   "id": "6921f8ba-7aba-4678-8eb7-39e9390645cd",
   "metadata": {},
   "outputs": [],
   "source": [
    "class data_science():\n",
    "    def syllabus(self):\n",
    "        print(\"this is my syllabus for data science\")\n",
    "        "
   ]
  },
  {
   "cell_type": "code",
   "execution_count": 37,
   "id": "9eb06d19-d72b-4fee-8ff6-72dfb53ea93e",
   "metadata": {},
   "outputs": [],
   "source": [
    "class web_dev():\n",
    "    def syllabus(self):\n",
    "        print(\"this my syllabus for web dev\")"
   ]
  },
  {
   "cell_type": "code",
   "execution_count": 38,
   "id": "967420b1-7105-4a57-81dc-644ca2397beb",
   "metadata": {},
   "outputs": [],
   "source": [
    "def class_parcer(class_obj):\n",
    "    for i in class_obj:\n",
    "        i.syllabus()"
   ]
  },
  {
   "cell_type": "code",
   "execution_count": 39,
   "id": "8793370a-ecd9-4638-b603-36cac81ec722",
   "metadata": {},
   "outputs": [],
   "source": [
    "data_science = data_science()   # object of data science class"
   ]
  },
  {
   "cell_type": "code",
   "execution_count": 40,
   "id": "11c33977-1349-4156-90e5-83b60ca3ea4b",
   "metadata": {},
   "outputs": [],
   "source": [
    "web_dev = web_dev()    # object of web dev"
   ]
  },
  {
   "cell_type": "code",
   "execution_count": 41,
   "id": "de917f88-5eb5-46f4-89aa-65c93dd53277",
   "metadata": {},
   "outputs": [],
   "source": [
    "class_obj=[data_science , web_dev]"
   ]
  },
  {
   "cell_type": "code",
   "execution_count": 43,
   "id": "977c29fd-c353-475f-a24d-738863c3aa29",
   "metadata": {},
   "outputs": [
    {
     "name": "stdout",
     "output_type": "stream",
     "text": [
      "this is my syllabus for data science\n",
      "this my syllabus for web dev\n"
     ]
    }
   ],
   "source": [
    "class_parcer(class_obj)"
   ]
  },
  {
   "cell_type": "code",
   "execution_count": null,
   "id": "8ef5d812-9736-4ed6-b338-fe2fd123c9f8",
   "metadata": {},
   "outputs": [],
   "source": []
  }
 ],
 "metadata": {
  "kernelspec": {
   "display_name": "Python 3 (ipykernel)",
   "language": "python",
   "name": "python3"
  },
  "language_info": {
   "codemirror_mode": {
    "name": "ipython",
    "version": 3
   },
   "file_extension": ".py",
   "mimetype": "text/x-python",
   "name": "python",
   "nbconvert_exporter": "python",
   "pygments_lexer": "ipython3",
   "version": "3.10.8"
  }
 },
 "nbformat": 4,
 "nbformat_minor": 5
}
