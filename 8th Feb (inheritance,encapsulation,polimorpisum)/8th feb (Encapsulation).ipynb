{
 "cells": [
  {
   "cell_type": "code",
   "execution_count": 7,
   "id": "b93d9cc9-9cf4-4efd-8f2d-43b423019c06",
   "metadata": {},
   "outputs": [],
   "source": [
    "# Encapsulation:\n",
    "# the data which we want to hide from user so that user can not see and can not make changes in it can be done by using encapsulation.\n",
    "# the classes  made by this way is caalled encapsulation in oops. this can be done by using double underscore(__)in front of veriable.\n",
    "\n"
   ]
  },
  {
   "cell_type": "code",
   "execution_count": 14,
   "id": "4690842b-c7ca-4c95-b4b9-980ea0ce0593",
   "metadata": {},
   "outputs": [],
   "source": [
    "class test:\n",
    "    def __init__(self,a,b):\n",
    "        self.a=a\n",
    "        self.b=b"
   ]
  },
  {
   "cell_type": "code",
   "execution_count": 15,
   "id": "2e72a1bb-8346-4539-94f1-7453b1c4b8d0",
   "metadata": {},
   "outputs": [],
   "source": [
    "t=test(23,34)"
   ]
  },
  {
   "cell_type": "code",
   "execution_count": 16,
   "id": "236a4fbd-7637-4522-b973-649442236e85",
   "metadata": {},
   "outputs": [],
   "source": [
    "t.a=23456"
   ]
  },
  {
   "cell_type": "code",
   "execution_count": 17,
   "id": "6a2fd398-8c50-4f72-b361-230457c76ff6",
   "metadata": {},
   "outputs": [
    {
     "data": {
      "text/plain": [
       "23456"
      ]
     },
     "execution_count": 17,
     "metadata": {},
     "output_type": "execute_result"
    }
   ],
   "source": [
    "t.a"
   ]
  },
  {
   "cell_type": "code",
   "execution_count": 18,
   "id": "bb38e4e6-59c8-4a6c-beac-8d9e244755e4",
   "metadata": {},
   "outputs": [
    {
     "data": {
      "text/plain": [
       "34"
      ]
     },
     "execution_count": 18,
     "metadata": {},
     "output_type": "execute_result"
    }
   ],
   "source": [
    "t.b"
   ]
  },
  {
   "cell_type": "code",
   "execution_count": 11,
   "id": "9a966e90-f397-4baf-ad18-4eda6927a1fe",
   "metadata": {},
   "outputs": [],
   "source": [
    "class car:\n",
    "    def __init__(self ,year,make,model,speed):\n",
    "        \n",
    "        self.__year = year\n",
    "        self .__make= make\n",
    "        self.__model= model\n",
    "        self.__speed= 0\n",
    "        \n",
    "        \n",
    "        \n",
    "    "
   ]
  },
  {
   "cell_type": "code",
   "execution_count": 12,
   "id": "4988b8f7-0332-46ea-830d-96dc0257f808",
   "metadata": {},
   "outputs": [],
   "source": [
    "c=car(2002,\"toyota\",\"enova\",12)"
   ]
  },
  {
   "cell_type": "code",
   "execution_count": 8,
   "id": "a0a79d1a-33de-4168-84f9-734d94d3dff9",
   "metadata": {},
   "outputs": [
    {
     "ename": "AttributeError",
     "evalue": "'car' object has no attribute '__year'",
     "output_type": "error",
     "traceback": [
      "\u001b[0;31m---------------------------------------------------------------------------\u001b[0m",
      "\u001b[0;31mAttributeError\u001b[0m                            Traceback (most recent call last)",
      "Cell \u001b[0;32mIn[8], line 1\u001b[0m\n\u001b[0;32m----> 1\u001b[0m \u001b[43mc\u001b[49m\u001b[38;5;241;43m.\u001b[39;49m\u001b[43m__year\u001b[49m      \u001b[38;5;66;03m# we can not access encapsulated veriables.\u001b[39;00m\n",
      "\u001b[0;31mAttributeError\u001b[0m: 'car' object has no attribute '__year'"
     ]
    }
   ],
   "source": [
    "c.__year      # we can not access encapsulated veriables."
   ]
  },
  {
   "cell_type": "code",
   "execution_count": 24,
   "id": "4b8c717f-b350-458f-883a-a01e776315d6",
   "metadata": {},
   "outputs": [
    {
     "ename": "AttributeError",
     "evalue": "'car' object has no attribute '__speed'",
     "output_type": "error",
     "traceback": [
      "\u001b[0;31m---------------------------------------------------------------------------\u001b[0m",
      "\u001b[0;31mAttributeError\u001b[0m                            Traceback (most recent call last)",
      "Cell \u001b[0;32mIn[24], line 1\u001b[0m\n\u001b[0;32m----> 1\u001b[0m \u001b[43mc\u001b[49m\u001b[38;5;241;43m.\u001b[39;49m\u001b[43m__speed\u001b[49m\n",
      "\u001b[0;31mAttributeError\u001b[0m: 'car' object has no attribute '__speed'"
     ]
    }
   ],
   "source": [
    "c.__speed"
   ]
  },
  {
   "cell_type": "code",
   "execution_count": 25,
   "id": "61fb6e35-1b2a-478a-afd2-6d1d546fa387",
   "metadata": {},
   "outputs": [
    {
     "data": {
      "text/plain": [
       "2002"
      ]
     },
     "execution_count": 25,
     "metadata": {},
     "output_type": "execute_result"
    }
   ],
   "source": [
    "c._car__year"
   ]
  },
  {
   "cell_type": "code",
   "execution_count": 3,
   "id": "a57f3db4-4b1e-478c-916a-a82fd6322b23",
   "metadata": {},
   "outputs": [],
   "source": [
    "class car:\n",
    "    def __init__(self ,year,make,model,speed):\n",
    "        \n",
    "        self.__year = year         # double undersore(__) is used to for hiding or encapulating  the variables. this  user will not be able \n",
    "        self .__make= make          # to see while calling veriables i.e after pressing tab after dot(.)\n",
    "        self.__model= model\n",
    "        self.__speed= 0\n",
    "        \n",
    "    def set_speed(self,speed):                    # we have made these methods public so user can see these methods by pressing tab can make\n",
    "        self.__speed = 0 if speed<0 else speed    # changes in values of veriables \n",
    "        \n",
    "    def get_speed(self):\n",
    "        return self.__speed\n",
    "        \n",
    "    "
   ]
  },
  {
   "cell_type": "code",
   "execution_count": 4,
   "id": "4d8ab701-c416-4f47-9e17-0e6f2a27eabb",
   "metadata": {},
   "outputs": [],
   "source": [
    "c=car(2021,\"toyota\",\"enova\",12)"
   ]
  },
  {
   "cell_type": "code",
   "execution_count": 5,
   "id": "26be8f2e-b53c-44a4-b9dc-443dc509c8f3",
   "metadata": {},
   "outputs": [
    {
     "data": {
      "text/plain": [
       "2021"
      ]
     },
     "execution_count": 5,
     "metadata": {},
     "output_type": "execute_result"
    }
   ],
   "source": [
    "c._car__year"
   ]
  },
  {
   "cell_type": "code",
   "execution_count": 6,
   "id": "0abff459-525e-489a-9d48-b13def6a1621",
   "metadata": {},
   "outputs": [],
   "source": [
    "c.set_speed(-234)  # We can make change in variables becouse they are public and not encapsulated. "
   ]
  },
  {
   "cell_type": "code",
   "execution_count": 7,
   "id": "d9ce17d3-7714-4aa9-aef7-97ebbc09f162",
   "metadata": {},
   "outputs": [
    {
     "data": {
      "text/plain": [
       "0"
      ]
     },
     "execution_count": 7,
     "metadata": {},
     "output_type": "execute_result"
    }
   ],
   "source": [
    "c.get_speed()"
   ]
  },
  {
   "cell_type": "code",
   "execution_count": 9,
   "id": "255e218d-1633-4a4c-8e44-b4b18be705f8",
   "metadata": {},
   "outputs": [],
   "source": [
    "c.set_speed(234)"
   ]
  },
  {
   "cell_type": "code",
   "execution_count": 10,
   "id": "f1f34b9f-f771-440f-a4ca-38670de883c3",
   "metadata": {},
   "outputs": [
    {
     "data": {
      "text/plain": [
       "234"
      ]
     },
     "execution_count": 10,
     "metadata": {},
     "output_type": "execute_result"
    }
   ],
   "source": [
    "c.get_speed()"
   ]
  },
  {
   "cell_type": "code",
   "execution_count": 2,
   "id": "4d69acf2-90ac-458e-a616-21e4649087b6",
   "metadata": {},
   "outputs": [],
   "source": [
    "class bank_account:\n",
    "    def __init__(self,balance):\n",
    "        self.__balance= balance\n",
    "        \n",
    "    def deposit(self,amount):                         # we can see only deposit, withdrow and get_balance function becouse they are public \n",
    "        self.__balance= self.__balance+ amount      # and they are not encapsulated .but we can not see self__balance i.e is (__inti__)\n",
    "                                                    # function .\n",
    "    def withdrow(self,amount):\n",
    "        if self.__balance>=amount:\n",
    "            self.__balance=self.__balance - amount\n",
    "            return True\n",
    "        else:\n",
    "            return False\n",
    "        \n",
    "    def get_balance(self):\n",
    "        return self.__balance\n",
    "        "
   ]
  },
  {
   "cell_type": "code",
   "execution_count": 3,
   "id": "dcff7fb4-c7ff-4168-a295-f5027994d48f",
   "metadata": {},
   "outputs": [],
   "source": [
    "sudh= bank_account(1000)"
   ]
  },
  {
   "cell_type": "code",
   "execution_count": 4,
   "id": "c8b676eb-f634-406a-8d0f-6baf4f9991ed",
   "metadata": {},
   "outputs": [
    {
     "data": {
      "text/plain": [
       "1000"
      ]
     },
     "execution_count": 4,
     "metadata": {},
     "output_type": "execute_result"
    }
   ],
   "source": [
    "sudh.get_balance()"
   ]
  },
  {
   "cell_type": "code",
   "execution_count": 5,
   "id": "264102db-5893-4c52-9fc0-902b4850c1fd",
   "metadata": {},
   "outputs": [],
   "source": [
    "sudh.deposit(5000)"
   ]
  },
  {
   "cell_type": "code",
   "execution_count": 6,
   "id": "8b64f3ca-543d-454a-ab75-83c385978e1d",
   "metadata": {},
   "outputs": [
    {
     "data": {
      "text/plain": [
       "6000"
      ]
     },
     "execution_count": 6,
     "metadata": {},
     "output_type": "execute_result"
    }
   ],
   "source": [
    "sudh.get_balance()"
   ]
  },
  {
   "cell_type": "code",
   "execution_count": 7,
   "id": "80b63795-da6b-4450-bb51-fb5204dcad87",
   "metadata": {},
   "outputs": [
    {
     "data": {
      "text/plain": [
       "True"
      ]
     },
     "execution_count": 7,
     "metadata": {},
     "output_type": "execute_result"
    }
   ],
   "source": [
    "sudh.withdrow(2000)"
   ]
  },
  {
   "cell_type": "code",
   "execution_count": 8,
   "id": "7089686e-1cd4-4874-9356-00c930bc5d5c",
   "metadata": {},
   "outputs": [
    {
     "data": {
      "text/plain": [
       "4000"
      ]
     },
     "execution_count": 8,
     "metadata": {},
     "output_type": "execute_result"
    }
   ],
   "source": [
    "sudh.get_balance()"
   ]
  },
  {
   "cell_type": "code",
   "execution_count": 9,
   "id": "b77fe167-e28b-4679-9a79-2a1931488f22",
   "metadata": {},
   "outputs": [
    {
     "data": {
      "text/plain": [
       "False"
      ]
     },
     "execution_count": 9,
     "metadata": {},
     "output_type": "execute_result"
    }
   ],
   "source": [
    "sudh.withdrow(10000)"
   ]
  },
  {
   "cell_type": "code",
   "execution_count": 10,
   "id": "aee807e2-b68f-4daa-898f-71aa2aa0d2c5",
   "metadata": {},
   "outputs": [
    {
     "data": {
      "text/plain": [
       "4000"
      ]
     },
     "execution_count": 10,
     "metadata": {},
     "output_type": "execute_result"
    }
   ],
   "source": [
    "sudh.get_balance()"
   ]
  },
  {
   "cell_type": "code",
   "execution_count": 1,
   "id": "6b0cf8a1-0249-4fa0-af79-f9e50088c4df",
   "metadata": {},
   "outputs": [],
   "source": [
    "class bank_account:\n",
    "    def __init__(self,account_no,pin,user_name,balance):\n",
    "        self.__account_no=account_no\n",
    "        self.__pin= pin\n",
    "        self.__user_name=user_name\n",
    "        self.__balance=balance\n",
    "        \n",
    "    def deposit(self,amount):\n",
    "        self.__balance=self.__balance+amount\n",
    "        \n",
    "    def withdrow(self,amount):\n",
    "        pin_no=int(input(\"Enter your pin number :\"))\n",
    "        \n",
    "        if  pin_no==self.__pin:\n",
    "            if self.__balance>=amount:\n",
    "                \n",
    "                self.__balance=self.__balance-amount\n",
    "                return (\"trensaction is succesful\")\n",
    "            else:\n",
    "                return (\"transction is not succesful due to insufficient balance.\")\n",
    "        else:\n",
    "            return(\"transaction is not successful .Enter a valid pin number.\")\n",
    "        \n",
    "    def get_balance(self):\n",
    "        return self.__balance\n",
    "        \n",
    "        \n",
    "        "
   ]
  },
  {
   "cell_type": "code",
   "execution_count": 2,
   "id": "f394ba15-2352-45f0-8b68-b76263a45869",
   "metadata": {},
   "outputs": [],
   "source": [
    "sanjana=bank_account(123456789,2003,\"sanjana\",1000)"
   ]
  },
  {
   "cell_type": "code",
   "execution_count": 3,
   "id": "1928d9c0-0854-4254-8644-d17c6e92ee31",
   "metadata": {},
   "outputs": [
    {
     "data": {
      "text/plain": [
       "1000"
      ]
     },
     "execution_count": 3,
     "metadata": {},
     "output_type": "execute_result"
    }
   ],
   "source": [
    "sanjana.get_balance()"
   ]
  },
  {
   "cell_type": "code",
   "execution_count": 43,
   "id": "b2b53358-d5e7-4b57-a7c8-99195cf09f8b",
   "metadata": {},
   "outputs": [],
   "source": [
    "sanjana.deposit(5000)"
   ]
  },
  {
   "cell_type": "code",
   "execution_count": 44,
   "id": "abe0d246-00c3-4135-a9ba-e92148124979",
   "metadata": {},
   "outputs": [
    {
     "data": {
      "text/plain": [
       "6000"
      ]
     },
     "execution_count": 44,
     "metadata": {},
     "output_type": "execute_result"
    }
   ],
   "source": [
    "sanjana.get_balance()"
   ]
  },
  {
   "cell_type": "code",
   "execution_count": 46,
   "id": "523eb7ab-a149-45e8-ac45-52fadb1c15b5",
   "metadata": {},
   "outputs": [
    {
     "name": "stdin",
     "output_type": "stream",
     "text": [
      "Enter your pin number : 2003\n"
     ]
    },
    {
     "data": {
      "text/plain": [
       "'trensaction is succesful'"
      ]
     },
     "execution_count": 46,
     "metadata": {},
     "output_type": "execute_result"
    }
   ],
   "source": [
    "sanjana.withdrow(2000)"
   ]
  },
  {
   "cell_type": "code",
   "execution_count": 47,
   "id": "fbf6678e-433e-4423-8fcf-2e56fac20121",
   "metadata": {},
   "outputs": [
    {
     "data": {
      "text/plain": [
       "2000"
      ]
     },
     "execution_count": 47,
     "metadata": {},
     "output_type": "execute_result"
    }
   ],
   "source": [
    "sanjana.get_balance()"
   ]
  },
  {
   "cell_type": "code",
   "execution_count": 48,
   "id": "342cfdf9-9ad8-4bfe-81a8-221b5cd255bb",
   "metadata": {},
   "outputs": [
    {
     "name": "stdin",
     "output_type": "stream",
     "text": [
      "Enter your pin number : 2003\n"
     ]
    },
    {
     "data": {
      "text/plain": [
       "'transction is not succesful due to insufficient balance.'"
      ]
     },
     "execution_count": 48,
     "metadata": {},
     "output_type": "execute_result"
    }
   ],
   "source": [
    "sanjana.withdrow(5000)"
   ]
  },
  {
   "cell_type": "code",
   "execution_count": 49,
   "id": "b932e4ee-8d3a-4f66-96fe-c57e013270b3",
   "metadata": {},
   "outputs": [
    {
     "name": "stdin",
     "output_type": "stream",
     "text": [
      "Enter your pin number : 198\n"
     ]
    },
    {
     "data": {
      "text/plain": [
       "'transaction is not successful .Enter a valid pin number.'"
      ]
     },
     "execution_count": 49,
     "metadata": {},
     "output_type": "execute_result"
    }
   ],
   "source": [
    "sanjana.withdrow(1000)"
   ]
  },
  {
   "cell_type": "code",
   "execution_count": null,
   "id": "415c0d77-d2f8-4eb5-b6b1-e16be69a9bc6",
   "metadata": {},
   "outputs": [],
   "source": []
  }
 ],
 "metadata": {
  "kernelspec": {
   "display_name": "Python 3 (ipykernel)",
   "language": "python",
   "name": "python3"
  },
  "language_info": {
   "codemirror_mode": {
    "name": "ipython",
    "version": 3
   },
   "file_extension": ".py",
   "mimetype": "text/x-python",
   "name": "python",
   "nbconvert_exporter": "python",
   "pygments_lexer": "ipython3",
   "version": "3.10.8"
  }
 },
 "nbformat": 4,
 "nbformat_minor": 5
}
