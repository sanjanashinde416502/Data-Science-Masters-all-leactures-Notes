{
 "cells": [
  {
   "cell_type": "raw",
   "id": "f83dd02b-5db2-4f00-b0b9-2266ddf5aae3",
   "metadata": {},
   "source": [
    "True or False and True"
   ]
  },
  {
   "cell_type": "code",
   "execution_count": 3,
   "id": "f905e183-56cb-43f5-96b0-af5496c8319d",
   "metadata": {},
   "outputs": [],
   "source": [
    "s=[2,3]"
   ]
  },
  {
   "cell_type": "code",
   "execution_count": 8,
   "id": "0bb3b8ee-04f0-4e2c-95b3-e453906adb02",
   "metadata": {},
   "outputs": [
    {
     "data": {
      "text/plain": [
       "[2, 3]"
      ]
     },
     "execution_count": 8,
     "metadata": {},
     "output_type": "execute_result"
    }
   ],
   "source": [
    "s"
   ]
  },
  {
   "cell_type": "code",
   "execution_count": 7,
   "id": "94547d08-07a4-47b7-ba68-2f80404edf34",
   "metadata": {},
   "outputs": [
    {
     "data": {
      "text/plain": [
       "False"
      ]
     },
     "execution_count": 7,
     "metadata": {},
     "output_type": "execute_result"
    }
   ],
   "source": [
    "False or False and not(True)"
   ]
  },
  {
   "cell_type": "code",
   "execution_count": 9,
   "id": "533c5e3f-c58d-4141-9283-9b3460933c4a",
   "metadata": {},
   "outputs": [],
   "source": [
    "p=\"pwskills\""
   ]
  },
  {
   "cell_type": "code",
   "execution_count": 10,
   "id": "35495773-5ff8-4a5f-ae8e-e1ed0d070dba",
   "metadata": {},
   "outputs": [
    {
     "data": {
      "text/plain": [
       "'pwskills'"
      ]
     },
     "execution_count": 10,
     "metadata": {},
     "output_type": "execute_result"
    }
   ],
   "source": [
    "p"
   ]
  },
  {
   "cell_type": "code",
   "execution_count": 11,
   "id": "15c56b56-a46a-4d57-a420-2e73e1d76db0",
   "metadata": {},
   "outputs": [
    {
     "data": {
      "text/plain": [
       "'p'"
      ]
     },
     "execution_count": 11,
     "metadata": {},
     "output_type": "execute_result"
    }
   ],
   "source": [
    "p[0]"
   ]
  },
  {
   "cell_type": "code",
   "execution_count": 12,
   "id": "f8786b8e-0699-4280-924a-48c7e32f227a",
   "metadata": {},
   "outputs": [
    {
     "data": {
      "text/plain": [
       "'sllikswp'"
      ]
     },
     "execution_count": 12,
     "metadata": {},
     "output_type": "execute_result"
    }
   ],
   "source": [
    "p[::-1]"
   ]
  },
  {
   "cell_type": "code",
   "execution_count": 13,
   "id": "2a40b327-ef3b-441f-a6da-3dd91e81ff4a",
   "metadata": {},
   "outputs": [],
   "source": [
    "a=\"abc\""
   ]
  },
  {
   "cell_type": "code",
   "execution_count": 14,
   "id": "60ae58bf-e23a-4a33-af1c-cdcae2634199",
   "metadata": {},
   "outputs": [
    {
     "data": {
      "text/plain": [
       "'abc'"
      ]
     },
     "execution_count": 14,
     "metadata": {},
     "output_type": "execute_result"
    }
   ],
   "source": [
    "a"
   ]
  },
  {
   "cell_type": "code",
   "execution_count": 15,
   "id": "169a96c0-0331-491a-a1a3-f4f454cefd0e",
   "metadata": {},
   "outputs": [],
   "source": [
    "d=a+p"
   ]
  },
  {
   "cell_type": "code",
   "execution_count": 16,
   "id": "bf8d7c10-5510-478d-892d-a3e79cf26c41",
   "metadata": {},
   "outputs": [
    {
     "data": {
      "text/plain": [
       "'abcpwskills'"
      ]
     },
     "execution_count": 16,
     "metadata": {},
     "output_type": "execute_result"
    }
   ],
   "source": [
    "d"
   ]
  },
  {
   "cell_type": "code",
   "execution_count": 17,
   "id": "c3482786-e340-46fb-8a39-6d95d69359ce",
   "metadata": {},
   "outputs": [],
   "source": [
    "a=a+d"
   ]
  },
  {
   "cell_type": "code",
   "execution_count": 18,
   "id": "efdf75b9-a6b7-445d-bb4d-8c6ba34529f5",
   "metadata": {},
   "outputs": [
    {
     "data": {
      "text/plain": [
       "'abcabcpwskills'"
      ]
     },
     "execution_count": 18,
     "metadata": {},
     "output_type": "execute_result"
    }
   ],
   "source": [
    "a"
   ]
  },
  {
   "cell_type": "code",
   "execution_count": 26,
   "id": "3134af7d-9c95-433c-9040-2e97189207b6",
   "metadata": {},
   "outputs": [
    {
     "data": {
      "text/plain": [
       "True"
      ]
     },
     "execution_count": 26,
     "metadata": {},
     "output_type": "execute_result"
    }
   ],
   "source": [
    "d.isalpha()"
   ]
  },
  {
   "cell_type": "code",
   "execution_count": 27,
   "id": "231ab8c5-495a-4cc3-a208-99297680b9d5",
   "metadata": {},
   "outputs": [],
   "source": [
    "f=\"546\""
   ]
  },
  {
   "cell_type": "code",
   "execution_count": 28,
   "id": "47d34677-ff0f-445e-a16f-a3b33d834949",
   "metadata": {},
   "outputs": [
    {
     "data": {
      "text/plain": [
       "'546'"
      ]
     },
     "execution_count": 28,
     "metadata": {},
     "output_type": "execute_result"
    }
   ],
   "source": [
    "f"
   ]
  },
  {
   "cell_type": "code",
   "execution_count": 30,
   "id": "163980b4-4374-4013-bc0a-b5ed90dd6d5f",
   "metadata": {},
   "outputs": [
    {
     "data": {
      "text/plain": [
       "False"
      ]
     },
     "execution_count": 30,
     "metadata": {},
     "output_type": "execute_result"
    }
   ],
   "source": [
    "d.isnumeric()"
   ]
  },
  {
   "cell_type": "code",
   "execution_count": 32,
   "id": "f40608a3-d794-42ca-873b-53f841a56bc6",
   "metadata": {},
   "outputs": [],
   "source": [
    "string =\"p w s k i l l s\" "
   ]
  },
  {
   "cell_type": "code",
   "execution_count": 36,
   "id": "38e48418-bd21-457d-a87b-cdedb9194e1c",
   "metadata": {},
   "outputs": [],
   "source": [
    "string=\"p w s k i l l s\".join(string.replace(\" \",\"\"))"
   ]
  },
  {
   "cell_type": "code",
   "execution_count": 39,
   "id": "e47b52f7-d51d-495d-8b97-6d704300612d",
   "metadata": {},
   "outputs": [
    {
     "data": {
      "text/plain": [
       "False"
      ]
     },
     "execution_count": 39,
     "metadata": {},
     "output_type": "execute_result"
    }
   ],
   "source": [
    "\"pwskills\"[::-1].upper().replace(\"SLLIKSEP\",\"pwskills\").islower()"
   ]
  },
  {
   "cell_type": "code",
   "execution_count": 46,
   "id": "5b459286-f430-4cee-ad89-55e8e65a92c2",
   "metadata": {},
   "outputs": [
    {
     "name": "stdout",
     "output_type": "stream",
     "text": [
      "I\n",
      " \n",
      "W\n",
      "A\n",
      "N\n",
      "T\n",
      " \n",
      "T\n",
      "O\n",
      " \n",
      "B\n",
      "E\n",
      "C\n",
      "O\n",
      "M\n",
      "E\n",
      " \n",
      "A\n",
      " \n",
      "D\n",
      "A\n",
      "T\n",
      "A\n",
      " \n",
      "S\n",
      "C\n",
      "I\n",
      "E\n",
      "N\n",
      "T\n",
      "I\n",
      "S\n",
      "T\n"
     ]
    }
   ],
   "source": [
    "s=\"I want to become a data scientist\"\n",
    "for i in s:\n",
    "    i.split()\n",
    "    i.capitalize()\n",
    "    print(i.title())"
   ]
  },
  {
   "cell_type": "code",
   "execution_count": 50,
   "id": "c2ab8cd8-70e6-4f53-8ae1-c3f1a25302e6",
   "metadata": {},
   "outputs": [
    {
     "data": {
      "text/plain": [
       "'I want to become a data scientist'"
      ]
     },
     "execution_count": 50,
     "metadata": {},
     "output_type": "execute_result"
    }
   ],
   "source": [
    "s.center(0)"
   ]
  },
  {
   "cell_type": "code",
   "execution_count": 51,
   "id": "6bfe8430-9c61-4d2c-b6e4-8a7ca5f9bee6",
   "metadata": {},
   "outputs": [
    {
     "ename": "TypeError",
     "evalue": "'str' object does not support item assignment",
     "output_type": "error",
     "traceback": [
      "\u001b[0;31m---------------------------------------------------------------------------\u001b[0m",
      "\u001b[0;31mTypeError\u001b[0m                                 Traceback (most recent call last)",
      "Cell \u001b[0;32mIn[51], line 1\u001b[0m\n\u001b[0;32m----> 1\u001b[0m \u001b[43ms\u001b[49m\u001b[43m[\u001b[49m\u001b[38;5;241;43m0\u001b[39;49m\u001b[43m]\u001b[49m\u001b[38;5;241m=\u001b[39m\u001b[38;5;124m'\u001b[39m\u001b[38;5;124mp\u001b[39m\u001b[38;5;124m'\u001b[39m\n",
      "\u001b[0;31mTypeError\u001b[0m: 'str' object does not support item assignment"
     ]
    }
   ],
   "source": [
    "s[0]='p'"
   ]
  },
  {
   "cell_type": "code",
   "execution_count": 2,
   "id": "2e16608c-48cf-4cff-a95f-f42feb3c8831",
   "metadata": {},
   "outputs": [],
   "source": [
    "s=[2.3]"
   ]
  },
  {
   "cell_type": "code",
   "execution_count": 3,
   "id": "838c115e-d57e-4ce3-980d-253f7027d206",
   "metadata": {},
   "outputs": [
    {
     "data": {
      "text/plain": [
       "[2.3]"
      ]
     },
     "execution_count": 3,
     "metadata": {},
     "output_type": "execute_result"
    }
   ],
   "source": [
    "s"
   ]
  },
  {
   "cell_type": "code",
   "execution_count": null,
   "id": "43955238-3c21-4305-b474-f9cfcd1199a4",
   "metadata": {},
   "outputs": [],
   "source": []
  }
 ],
 "metadata": {
  "kernelspec": {
   "display_name": "Python 3 (ipykernel)",
   "language": "python",
   "name": "python3"
  },
  "language_info": {
   "codemirror_mode": {
    "name": "ipython",
    "version": 3
   },
   "file_extension": ".py",
   "mimetype": "text/x-python",
   "name": "python",
   "nbconvert_exporter": "python",
   "pygments_lexer": "ipython3",
   "version": "3.10.8"
  }
 },
 "nbformat": 4,
 "nbformat_minor": 5
}
