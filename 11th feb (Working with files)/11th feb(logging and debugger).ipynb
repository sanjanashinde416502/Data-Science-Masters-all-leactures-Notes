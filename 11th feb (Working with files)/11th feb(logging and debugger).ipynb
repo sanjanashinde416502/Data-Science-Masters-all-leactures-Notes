{
 "cells": [
  {
   "cell_type": "code",
   "execution_count": 1,
   "id": "7fcc6d3a-2b66-4001-812d-2be1165ca607",
   "metadata": {},
   "outputs": [],
   "source": [
    "# logging and Debugger :\n",
    "# logging model:(what is login model,when it is used ,)\n",
    "#     While finding or debugging error you will see error message printed on your screen(i.e console) but in future if you want to do \n",
    "# investigation on that errors that is what was error ,what and where we have clicked ,where what action was called ,or which program got \n",
    "# chrashed and where program gave us error we will not find it because thst printed error maessage will be appered on your console & stored\n",
    "# in main memory that will disapppered later.So permanet solution on that is for the data that we want to store for future investigation its one way is that we can create one file and \n",
    "# store all these things in that file then in future we can do investigation.\n",
    "# this is where we can use login module instead of print statement .using print is not a good way to write a code because it prints only in console.\n",
    "# login basically makes one file where you can store all those things that you wnat for your future investigation.\n",
    "# Anytime we should use login instead of print specially in production grade codes"
   ]
  },
  {
   "cell_type": "code",
   "execution_count": 2,
   "id": "ce579d6f-95e6-492e-b5ca-c6e219776fc6",
   "metadata": {},
   "outputs": [
    {
     "name": "stdout",
     "output_type": "stream",
     "text": [
      "this is my print\n"
     ]
    }
   ],
   "source": [
    "print(\"this is my print\") # in production grade you should use login statement instead of print statement .because print statement always \n",
    "#                         prints whatever wriitten in print statement in console and stores in main memory that disappers later so to store\n",
    "#                        whatever we have wriiten we must use login steatment instead of print statment. it is a good and smart way to write\n",
    "#                        code."
   ]
  },
  {
   "cell_type": "code",
   "execution_count": 1,
   "id": "00fe3769-f190-41ed-b18b-0b2129665fe0",
   "metadata": {},
   "outputs": [],
   "source": [
    "import logging   # to do logging first import logging pakage"
   ]
  },
  {
   "cell_type": "code",
   "execution_count": 3,
   "id": "54d9934c-e5b4-4c6a-8159-48265aa52c8c",
   "metadata": {},
   "outputs": [],
   "source": [
    "logging.basicConfig(filename=\"test1.log\",level=logging.INFO) # its syntax is first pass filename then level .basically you pass data in dictionary \n",
    "                                                               #format it contains all the data that we right in print statement to store in this file."
   ]
  },
  {
   "cell_type": "code",
   "execution_count": 6,
   "id": "c0e60337-b1f1-446c-9401-1191a1e3c1d9",
   "metadata": {},
   "outputs": [],
   "source": [
    "# in below statement logging.info whatever we write that directly get printed into 'text1.txt' file instead of printing into console so that we can do \n",
    "# investigations later."
   ]
  },
  {
   "cell_type": "code",
   "execution_count": 33,
   "id": "64ae8e5f-59c5-4843-9417-3e0a8bc8fcc4",
   "metadata": {},
   "outputs": [],
   "source": [
    "logging.info(\"log this line of execution\")"
   ]
  },
  {
   "cell_type": "code",
   "execution_count": 4,
   "id": "11fcce3a-8b2d-4403-969a-03e6eb436816",
   "metadata": {},
   "outputs": [],
   "source": [
    "logging.info(\"this contains the data that we write in print \")"
   ]
  },
  {
   "cell_type": "code",
   "execution_count": 9,
   "id": "50704ff0-c3d4-475f-97bf-9f3c85d7c661",
   "metadata": {},
   "outputs": [],
   "source": [
    "# there are 6 levels in logging:\n",
    "# 1.NOTSET      : 1 and 2 levels we can not call by setting level=logging.info. but that's depend upon how we call.\n",
    "# 2.DEBUG\n",
    "# 3.INFO         : including info below levels upto 6 are we can call by setting level=logging.info  \n",
    "# 4.WARNING\n",
    "# 5.ERROR\n",
    "# 6.CRITICAL"
   ]
  },
  {
   "cell_type": "code",
   "execution_count": 12,
   "id": "a686aa53-6c96-463d-a6b4-d43e5a08f792",
   "metadata": {},
   "outputs": [],
   "source": [
    "logging.warning(\"this is my warning log message\")  # here we use warning level"
   ]
  },
  {
   "cell_type": "code",
   "execution_count": 13,
   "id": "960021c4-260b-4211-9b13-6c546ca3c92d",
   "metadata": {},
   "outputs": [],
   "source": [
    "logging.debug(\"this is my debug log message\") # this will not print"
   ]
  },
  {
   "cell_type": "code",
   "execution_count": 15,
   "id": "6254f707-3684-451d-84fd-55e8a09f90bd",
   "metadata": {},
   "outputs": [],
   "source": [
    "logging.error(\"this is my log error \") # this will automatically get logged"
   ]
  },
  {
   "cell_type": "code",
   "execution_count": 16,
   "id": "0160ad77-1028-460c-ae46-6c43fa8a5544",
   "metadata": {},
   "outputs": [],
   "source": [
    "logging.critical(\"this is my critical message\")"
   ]
  },
  {
   "cell_type": "code",
   "execution_count": 24,
   "id": "1c138b29-2535-4b5e-b61d-336457745d4e",
   "metadata": {},
   "outputs": [],
   "source": [
    "logging.shutdown()"
   ]
  },
  {
   "cell_type": "code",
   "execution_count": 1,
   "id": "6f7631cf-2eb0-4a54-bccf-bafac4ac8f88",
   "metadata": {},
   "outputs": [],
   "source": [
    "import logging"
   ]
  },
  {
   "cell_type": "code",
   "execution_count": 2,
   "id": "9481c996-3ede-4e31-99a3-0bbd1ed9e383",
   "metadata": {},
   "outputs": [],
   "source": [
    "logging.basicConfig(filename=\"text2.log\",level = logging.DEBUG,format= '%(asctime)s %(message)s')  # here we can define format also that will store our\n",
    "                                                                                        # time required to proess and message.in that s is for string"
   ]
  },
  {
   "cell_type": "code",
   "execution_count": 4,
   "id": "d634ebca-eb69-4a84-a045-e1ed26f10c8c",
   "metadata": {},
   "outputs": [],
   "source": [
    "logging.info(\"this is my info logging\")\n",
    "logging.error(\"this is my error\")\n",
    "logging.critical(\"this is my critical\") # if this shows error then just restart your kernal"
   ]
  },
  {
   "cell_type": "code",
   "execution_count": 6,
   "id": "b04953f8-a5d7-405e-a6bc-d59fda7e7d8b",
   "metadata": {},
   "outputs": [],
   "source": [
    "logging.shutdown()  # this is used to close file\n"
   ]
  },
  {
   "cell_type": "code",
   "execution_count": 2,
   "id": "32d7c21a-b019-4097-9c45-e517f57ca58e",
   "metadata": {},
   "outputs": [],
   "source": [
    "import logging"
   ]
  },
  {
   "cell_type": "code",
   "execution_count": 5,
   "id": "80936502-ade8-4a62-8849-6ae936b936d8",
   "metadata": {},
   "outputs": [],
   "source": [
    "logging.basicConfig(filename=\"text3.log\",level = logging.DEBUG, format=\"%(asctime)s %(name)s  %(levelname)s  %(message)s\")\n",
    "# by setting level=debug we can call all levels below debug.\n",
    "# this formate will print data like time on which it is executed, name that is root , level name , then message"
   ]
  },
  {
   "cell_type": "code",
   "execution_count": 4,
   "id": "c0aab69b-dedc-4da2-a08f-ae8fc421b7a3",
   "metadata": {},
   "outputs": [],
   "source": [
    "logging.info(\"this is my info logging\")\n",
    "logging.error(\"this is my error\")\n",
    "logging.critical(\"this is my critical\") # if this shows error then just restart your kernal"
   ]
  },
  {
   "cell_type": "code",
   "execution_count": 7,
   "id": "b4ea21b2-66da-43bd-9460-3290a0a389cd",
   "metadata": {},
   "outputs": [],
   "source": [
    "l=[1,2,3,4,5,[2,3,4],\"sanjana\",\"sudh\"] # in this we will seperate all integers iin one list and strings in one list "
   ]
  },
  {
   "cell_type": "code",
   "execution_count": 8,
   "id": "598240ce-9c95-4fa8-b5eb-128e0b96422d",
   "metadata": {},
   "outputs": [],
   "source": [
    "l1_int=[]\n",
    "l2_str=[]\n",
    "for i in l:\n",
    "    if type(i)==list:\n",
    "        for j in i:\n",
    "            if type(j)==int:\n",
    "                l1_int.append(j)\n",
    "    elif type(i)==int:\n",
    "        l1_int.append(i)\n",
    "    else:\n",
    "        if type(i)==str:\n",
    "            l2_str.append(i)\n",
    "    \n",
    "    "
   ]
  },
  {
   "cell_type": "code",
   "execution_count": 9,
   "id": "cd74d35b-7f72-4b32-943a-395db965ada0",
   "metadata": {},
   "outputs": [
    {
     "data": {
      "text/plain": [
       "[1, 2, 3, 4, 5, 2, 3, 4]"
      ]
     },
     "execution_count": 9,
     "metadata": {},
     "output_type": "execute_result"
    }
   ],
   "source": [
    "l1_int"
   ]
  },
  {
   "cell_type": "code",
   "execution_count": 10,
   "id": "6028e8ed-bf77-41c3-87b3-6f6e8e3bc9f6",
   "metadata": {},
   "outputs": [
    {
     "data": {
      "text/plain": [
       "['sanjana', 'sudh']"
      ]
     },
     "execution_count": 10,
     "metadata": {},
     "output_type": "execute_result"
    }
   ],
   "source": [
    "l2_str"
   ]
  },
  {
   "cell_type": "code",
   "execution_count": 18,
   "id": "8d27f71e-6f4f-4c46-9aa5-a4c493289a1e",
   "metadata": {},
   "outputs": [],
   "source": [
    "# to do this operation by logging:\n",
    "\n",
    "l1_int=[]\n",
    "l2_str=[]\n",
    "for i in l:\n",
    "    logging.info(\"we are iterating through our list and our local var is i\"+str(l))  # to apppend list we have converted l into str then use '+' to append\n",
    "    if type(i)==list:\n",
    "        logging.info(\"i am inside if statement and i am tring to check ilst type \"+str(i))\n",
    "        for j in i:\n",
    "            logging.info(\"i am in another for loop for list inside list element\"+str(j))\n",
    "            if type(j)==int:\n",
    "                logging.info(\"i am inside if statement\")\n",
    "                l1_int.append(j)\n",
    "    elif type(i)==int:\n",
    "        l1_int.append(i)\n",
    "    else:\n",
    "        if type(i)==str:\n",
    "            l2_str.append(i)\n",
    "    \n",
    "    "
   ]
  },
  {
   "cell_type": "code",
   "execution_count": 23,
   "id": "54d86757-9e2a-4af5-ad53-573dac41cf4b",
   "metadata": {},
   "outputs": [],
   "source": [
    "l1_int=[]\n",
    "l2_str=[]\n",
    "for i in l:\n",
    "    logging.info(\"we are iterating through our list and our local var is {}\".format(l))  # to log list we can create placeholder by giving '{}' and format(l)\n",
    "    if type(i)==list:\n",
    "        logging.info(\"i am inside if statement and i am tring to check ilst type \"+str(i))\n",
    "        for j in i:\n",
    "            logging.info(\"i am in another for loop for list inside list element\"+str(j))\n",
    "            if type(j)==int:\n",
    "                logging.info(\"i am inside if statement\")\n",
    "                l1_int.append(j)\n",
    "    elif type(i)==int:\n",
    "        l1_int.append(i)\n",
    "    else:\n",
    "        if type(i)==str:\n",
    "            l2_str.append(i)\n",
    "logging.info(\"my final result for integer is {l1} and str is {l2} \".format(l1=l1_int,l2=l2_str)) # here we have created placeholder by writing (.format())\n",
    "# and in above statement we have loged final result also\n",
    "    \n",
    "    "
   ]
  },
  {
   "cell_type": "code",
   "execution_count": 24,
   "id": "aa7b1f0e-efcf-4d1f-a8a7-523ab64e2061",
   "metadata": {},
   "outputs": [],
   "source": [
    "# logging means it stores each data in easiest and simplest form\n",
    "# debugging means how it passes one line to another line "
   ]
  },
  {
   "cell_type": "code",
   "execution_count": 2,
   "id": "1047bcd6-a9a7-40c0-8012-024712b84105",
   "metadata": {},
   "outputs": [],
   "source": [
    "# logging is one of the sataderd procedure that we all has to follow as a codder .father one tell us use log instead of print but we must use log."
   ]
  },
  {
   "cell_type": "code",
   "execution_count": null,
   "id": "69ccb460-de49-43e0-9fbd-77c2b0b76b06",
   "metadata": {},
   "outputs": [],
   "source": []
  }
 ],
 "metadata": {
  "kernelspec": {
   "display_name": "Python 3 (ipykernel)",
   "language": "python",
   "name": "python3"
  },
  "language_info": {
   "codemirror_mode": {
    "name": "ipython",
    "version": 3
   },
   "file_extension": ".py",
   "mimetype": "text/x-python",
   "name": "python",
   "nbconvert_exporter": "python",
   "pygments_lexer": "ipython3",
   "version": "3.10.8"
  }
 },
 "nbformat": 4,
 "nbformat_minor": 5
}
