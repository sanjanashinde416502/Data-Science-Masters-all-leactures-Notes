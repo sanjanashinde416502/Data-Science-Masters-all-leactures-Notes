{
 "cells": [
  {
   "cell_type": "code",
   "execution_count": 1,
   "id": "0cc62e89-e598-4c72-aa6d-37eac48351b4",
   "metadata": {},
   "outputs": [],
   "source": [
    "# File Operations :\n"
   ]
  },
  {
   "cell_type": "code",
   "execution_count": 2,
   "id": "b75feaad-dc49-4f13-9e55-fa8a5f969468",
   "metadata": {},
   "outputs": [],
   "source": [
    "data ={                                                # this type of data set is called json data set .where data is present in key value format\n",
    "    \"name\" : \"sanjana\" ,\n",
    "    \"email_id\" : \"sanjana23@gmail.com\",\n",
    "    \"phone_no\" : 1234567890,\n",
    "    \"course\" : [\"data science\",\"big data\",\"java with dsa\"]\n",
    "}\n"
   ]
  },
  {
   "cell_type": "code",
   "execution_count": 3,
   "id": "ac0efabb-900b-4ad2-bedb-2ae10b3d3a88",
   "metadata": {},
   "outputs": [],
   "source": [
    "import  json  # this is a package available which have capability to print data in file"
   ]
  },
  {
   "cell_type": "code",
   "execution_count": 4,
   "id": "8be181fd-f460-4dd5-b6ae-ef06c4d837b9",
   "metadata": {},
   "outputs": [],
   "source": [
    "with open(\"data.json\",\"w\") as f:   # the extention of json file is (.json)\n",
    "    json.dump(data,f)               # dump is function available to write this type of data into file"
   ]
  },
  {
   "cell_type": "code",
   "execution_count": 5,
   "id": "a739057b-884a-4155-ab1a-9fca17c4d2f1",
   "metadata": {},
   "outputs": [
    {
     "data": {
      "text/plain": [
       "'/home/jovyan/work'"
      ]
     },
     "execution_count": 5,
     "metadata": {},
     "output_type": "execute_result"
    }
   ],
   "source": [
    "pwd"
   ]
  },
  {
   "cell_type": "code",
   "execution_count": 80,
   "id": "406337f5-6038-436d-ac2a-9b0ba881fc3a",
   "metadata": {},
   "outputs": [],
   "source": [
    "with open(\"data_json\",\"r\") as f :\n",
    "    data1=json.load(f)   # here we have used load to perform read operation"
   ]
  },
  {
   "cell_type": "code",
   "execution_count": 81,
   "id": "c18a3b47-5363-491f-904a-76a3f230926c",
   "metadata": {},
   "outputs": [
    {
     "data": {
      "text/plain": [
       "{'name': 'sanjana',\n",
       " 'email_id': 'sanjana23@gmail.com',\n",
       " 'phone_no': 1234567890,\n",
       " 'course': ['data science', 'big data', 'java with dsa']}"
      ]
     },
     "execution_count": 81,
     "metadata": {},
     "output_type": "execute_result"
    }
   ],
   "source": [
    "data1"
   ]
  },
  {
   "cell_type": "code",
   "execution_count": 82,
   "id": "692a1fab-0730-43f4-a278-ab7c14ba2ae2",
   "metadata": {},
   "outputs": [
    {
     "data": {
      "text/plain": [
       "'big data'"
      ]
     },
     "execution_count": 82,
     "metadata": {},
     "output_type": "execute_result"
    }
   ],
   "source": [
    "data1[\"course\"][1]  # to get data from dictionary"
   ]
  },
  {
   "cell_type": "code",
   "execution_count": 83,
   "id": "116e49d4-7a7b-43cc-91ae-cedd42346152",
   "metadata": {},
   "outputs": [],
   "source": [
    "# How to write comma seperated files :\n",
    "# eg: 2,3,4,5,6,7\n",
    "#     4,5,6,7,8,8"
   ]
  },
  {
   "cell_type": "code",
   "execution_count": 84,
   "id": "9c18f393-6fa5-438c-8032-f68c786500eb",
   "metadata": {},
   "outputs": [],
   "source": [
    "import csv"
   ]
  },
  {
   "cell_type": "code",
   "execution_count": 85,
   "id": "eab36f21-86f9-46f2-adc3-3ead31b91595",
   "metadata": {},
   "outputs": [],
   "source": [
    "data= [[\"name\",\"email_id\",\"phone_no\"],\n",
    "       [\"sanjana\",\"sanjana45@gmail.com\",12345678],\n",
    "       [\"prerana\",\"prerana3456@gmail.com\",948575632]\n",
    "       \n",
    "       \n",
    "]\n",
    "    \n"
   ]
  },
  {
   "cell_type": "code",
   "execution_count": 90,
   "id": "068c45a5-a875-4b3d-9c1a-7fbb0178a919",
   "metadata": {},
   "outputs": [],
   "source": [
    "with open(\"data.csv\",\"w\") as f:    # this is a code to write above data in row & column form\n",
    "    writer=csv.writer(f)           # csv.writer is used to write operation\n",
    "    for i in data:                 # the extension of csv file is (.csv)\n",
    "        writer.writerow(i)"
   ]
  },
  {
   "cell_type": "code",
   "execution_count": 91,
   "id": "af25d7cc-c1df-48eb-aab5-f747c96edf25",
   "metadata": {},
   "outputs": [
    {
     "name": "stdout",
     "output_type": "stream",
     "text": [
      "['name', 'email_id', 'phone_no']\n",
      "['sanjana', 'sanjana45@gmail.com', '12345678']\n",
      "['prerana', 'prerana3456@gmail.com', '948575632']\n"
     ]
    }
   ],
   "source": [
    "with open(\"data.csv\",\"r\") as f:\n",
    "    read_data=csv.reader(f)   # here csv.reader is used to read data from file \n",
    "    \n",
    "    for i in read_data:\n",
    "        print(i)"
   ]
  },
  {
   "cell_type": "code",
   "execution_count": 92,
   "id": "69c11403-8726-4475-94e4-eac4d67f8adc",
   "metadata": {},
   "outputs": [],
   "source": [
    "# how to write and read binery data :\n",
    "# binery data is a data present in 0-1 format i.e we see data by opening any image in text format"
   ]
  },
  {
   "cell_type": "code",
   "execution_count": 99,
   "id": "40054906-8d68-451c-baf4-2ad912b7da4b",
   "metadata": {},
   "outputs": [],
   "source": [
    "with open(\"test2.bin\",\"wb\") as f:     # here bin is a extention of storing binery data \n",
    "    f.write(b\"\\x01\\x02\\x03\\x123445\")   # here this line code is for red coloverd dots\n",
    "                                      # 'wb' is used to write data in binery form"
   ]
  },
  {
   "cell_type": "code",
   "execution_count": 100,
   "id": "1594f2ba-9a67-4f12-b301-17c117655725",
   "metadata": {},
   "outputs": [
    {
     "name": "stdout",
     "output_type": "stream",
     "text": [
      "b'\\x01\\x02\\x03\\x123445'\n"
     ]
    }
   ],
   "source": [
    "with open(\"test2.bin\",\"rb\") as f:\n",
    "    print(f.read())  # by this we can see anf read data given in binery form\n",
    "                     # 'rb' is used to read binery data"
   ]
  }
 ],
 "metadata": {
  "kernelspec": {
   "display_name": "Python 3 (ipykernel)",
   "language": "python",
   "name": "python3"
  },
  "language_info": {
   "codemirror_mode": {
    "name": "ipython",
    "version": 3
   },
   "file_extension": ".py",
   "mimetype": "text/x-python",
   "name": "python",
   "nbconvert_exporter": "python",
   "pygments_lexer": "ipython3",
   "version": "3.10.8"
  }
 },
 "nbformat": 4,
 "nbformat_minor": 5
}
