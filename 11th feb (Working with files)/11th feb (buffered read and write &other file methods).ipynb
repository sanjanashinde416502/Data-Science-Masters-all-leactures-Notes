{
 "cells": [
  {
   "cell_type": "code",
   "execution_count": 4,
   "id": "317b74a4-2e90-457c-80f1-32a499ec3293",
   "metadata": {},
   "outputs": [],
   "source": [
    "# Buffered read and write operation :\n",
    "# Doing read and write operation in buffer :\n",
    "# 1. this writes big data in files in form of chunks\n"
   ]
  },
  {
   "cell_type": "code",
   "execution_count": 48,
   "id": "85b900c5-3e5c-4ed0-9c9b-09f652d73ba5",
   "metadata": {},
   "outputs": [],
   "source": [
    "import io # this is a pacakage used to operform operation on buffer data . "
   ]
  },
  {
   "cell_type": "code",
   "execution_count": 28,
   "id": "7d04a235-a440-4247-8390-ee3f11b1393c",
   "metadata": {},
   "outputs": [],
   "source": [
    "with open(\"text2.txt\",\"wb\") as f:\n",
    "    file=io.BufferedWriter(f)                 # use 'bufferwrite' to write buffer file \n",
    "    \n",
    "    file.write(b\"this is my first line\\n\") # '\\n' for next line\n",
    "    file.write(b\"this is my second line\\n \")\n",
    "    file.flush()                               # here flush is used for closing buffer file as like close() operation .then only we can able to see and\n",
    "                                              # read data\n",
    "    "
   ]
  },
  {
   "cell_type": "code",
   "execution_count": 29,
   "id": "422ff7c7-295e-4f3e-8af5-45c2fa76ae2a",
   "metadata": {},
   "outputs": [
    {
     "data": {
      "text/plain": [
       "'/home/jovyan/work/working'"
      ]
     },
     "execution_count": 29,
     "metadata": {},
     "output_type": "execute_result"
    }
   ],
   "source": [
    "pwd"
   ]
  },
  {
   "cell_type": "code",
   "execution_count": 31,
   "id": "3864eb6d-2570-4df4-a0f0-2d73ee77787d",
   "metadata": {},
   "outputs": [],
   "source": [
    "with open(\"text2.txt\",\"wb\") as f:\n",
    "    file=io.BufferedWriter(f)                 # use 'bufferwrite' to write buffer file. by cliking shift+tab we can check chunks size by default it is \n",
    "                                          # 1892 bytes we can change it by increasing or decreasing\n",
    "    file.write(b\"this is my first line\\n\") # '\\n' for next line\n",
    "    file.write(b\"this is my second line\\n \")\n",
    "    file.write(b\"PW Skills Lab is a magic land where you charge your wand full of the craziest ideas and witness successful projects coming to life.\")\n",
    "    file.flush()                               # here flush is used for closing buffer file as like close() operation .then only we can able to see and\n",
    "                                              # read data\n",
    "    "
   ]
  },
  {
   "cell_type": "code",
   "execution_count": 42,
   "id": "584b120d-9521-40df-a51b-46746698d731",
   "metadata": {},
   "outputs": [
    {
     "name": "stdout",
     "output_type": "stream",
     "text": [
      "b'this is my first line\\nthis is my second line\\n PW Skills Lab is a magic land where you charge your wand full of the craziest ideas and witness successful projects coming to life.'\n"
     ]
    }
   ],
   "source": [
    "with open(\"text2.txt\",\"rb\") as f:\n",
    "    file=io.BufferedReader(f)\n",
    "    data= file.read()     \n",
    "    print(data)            # this we can call by this way by printing\n",
    "    "
   ]
  },
  {
   "cell_type": "code",
   "execution_count": 43,
   "id": "75cc1a35-98c0-4b82-8fa9-9d3c04a36bf1",
   "metadata": {},
   "outputs": [
    {
     "data": {
      "text/plain": [
       "b'this is my first line\\nthis is my second line\\n PW Skills Lab is a magic land where you charge your wand full of the craziest ideas and witness successful projects coming to life.'"
      ]
     },
     "execution_count": 43,
     "metadata": {},
     "output_type": "execute_result"
    }
   ],
   "source": [
    "data # another way that we can call veriable and read data"
   ]
  },
  {
   "cell_type": "code",
   "execution_count": 47,
   "id": "191bbc77-ce64-42d1-a6c8-ebd2bd30dece",
   "metadata": {},
   "outputs": [
    {
     "name": "stdout",
     "output_type": "stream",
     "text": [
      "b'this is my'\n"
     ]
    }
   ],
   "source": [
    "with open(\"text2.txt\",\"rb\") as f:\n",
    "    file=io.BufferedReader(f) # this is used to read buffer file \n",
    "    data= file.read(10)    # we can give byte limit here we have given 10 byte this will read data upto 10 bytes \n",
    "    print(data)            # this we can call by this way by printing\n",
    "    "
   ]
  },
  {
   "cell_type": "code",
   "execution_count": null,
   "id": "23ab1b0e-10b9-4d17-999c-056fe5debc91",
   "metadata": {},
   "outputs": [],
   "source": []
  }
 ],
 "metadata": {
  "kernelspec": {
   "display_name": "Python 3 (ipykernel)",
   "language": "python",
   "name": "python3"
  },
  "language_info": {
   "codemirror_mode": {
    "name": "ipython",
    "version": 3
   },
   "file_extension": ".py",
   "mimetype": "text/x-python",
   "name": "python",
   "nbconvert_exporter": "python",
   "pygments_lexer": "ipython3",
   "version": "3.10.8"
  }
 },
 "nbformat": 4,
 "nbformat_minor": 5
}
