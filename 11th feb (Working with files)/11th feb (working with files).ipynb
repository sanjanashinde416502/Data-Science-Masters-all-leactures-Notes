{
 "cells": [
  {
   "cell_type": "code",
   "execution_count": 110,
   "id": "8d1d25f3-e0fb-4cbe-b6aa-6213072fd028",
   "metadata": {},
   "outputs": [],
   "source": [
    "# Working with files :\n",
    "\n",
    "# 1.open is inbulit function which helps in creating and performing different operations on files like appending,searching,reading,writing.\n",
    "# 2.syntax to open file: (veriable) =(open keyword) (\"name of file\",\"mode\") \n",
    "# 3.by default mode is \"r\" i.e read\n",
    "# 4.to check these modes and thier meaning press (shift + tab) "
   ]
  },
  {
   "cell_type": "code",
   "execution_count": 29,
   "id": "036fd027-5416-466e-b143-3682bcfeaccc",
   "metadata": {},
   "outputs": [],
   "source": [
    "f=open(\"test.txt\",\"w\")    # here we have created file named 'test.txt' and opened in write mode   "
   ]
  },
  {
   "cell_type": "code",
   "execution_count": 30,
   "id": "167e3926-6d95-426f-89be-7ff08b038693",
   "metadata": {},
   "outputs": [
    {
     "data": {
      "text/plain": [
       "'/home/jovyan/work/working'"
      ]
     },
     "execution_count": 30,
     "metadata": {},
     "output_type": "execute_result"
    }
   ],
   "source": [
    "pwd         # pwd(present working directory)  to know where this directory is created"
   ]
  },
  {
   "cell_type": "code",
   "execution_count": 31,
   "id": "e3826114-59d5-4dab-956c-97799553575f",
   "metadata": {},
   "outputs": [
    {
     "name": "stdout",
     "output_type": "stream",
     "text": [
      "'10 th feb (class methods)'   test_1.txt   test.txt\n",
      " copy_test_1.txt              test.test\n"
     ]
    }
   ],
   "source": [
    "ls  # to know how many files are stored in that directory"
   ]
  },
  {
   "cell_type": "code",
   "execution_count": 32,
   "id": "488057e4-5c99-4af1-acc9-d455a1be271b",
   "metadata": {},
   "outputs": [
    {
     "name": "stdout",
     "output_type": "stream",
     "text": [
      "[Errno 2] No such file or directory: 'working'\n",
      "/home/jovyan/work/working\n"
     ]
    }
   ],
   "source": [
    " cd working"
   ]
  },
  {
   "cell_type": "code",
   "execution_count": 33,
   "id": "1111545f-e331-4f63-9381-cb0a46020d75",
   "metadata": {},
   "outputs": [
    {
     "name": "stdout",
     "output_type": "stream",
     "text": [
      "'10 th feb (class methods)'   test_1.txt   test.txt\n",
      " copy_test_1.txt              test.test\n"
     ]
    }
   ],
   "source": [
    "ls"
   ]
  },
  {
   "cell_type": "code",
   "execution_count": 34,
   "id": "3901f500-c016-48c5-bf4f-166d13ebbb17",
   "metadata": {},
   "outputs": [],
   "source": [
    "f=open(\"test.txt\",\"w\")"
   ]
  },
  {
   "cell_type": "code",
   "execution_count": 35,
   "id": "61169447-3cb2-4530-bdb1-56bf5c674d24",
   "metadata": {},
   "outputs": [
    {
     "data": {
      "text/plain": [
       "'/home/jovyan/work/working'"
      ]
     },
     "execution_count": 35,
     "metadata": {},
     "output_type": "execute_result"
    }
   ],
   "source": [
    "pwd"
   ]
  },
  {
   "cell_type": "code",
   "execution_count": 36,
   "id": "529f611c-13ef-4031-8b71-495e731d94bc",
   "metadata": {},
   "outputs": [
    {
     "name": "stdout",
     "output_type": "stream",
     "text": [
      "'10 th feb (class methods)'   test_1.txt   test.txt\n",
      " copy_test_1.txt              test.test\n"
     ]
    }
   ],
   "source": [
    "ls"
   ]
  },
  {
   "cell_type": "code",
   "execution_count": 37,
   "id": "f76df7f2-02e9-46cc-8f49-911376742bb8",
   "metadata": {},
   "outputs": [],
   "source": [
    "f=open(\"test.test\",\"w\")  # open file"
   ]
  },
  {
   "cell_type": "code",
   "execution_count": 38,
   "id": "66ac862d-ca1d-464c-9028-9589a3cd2f12",
   "metadata": {},
   "outputs": [
    {
     "data": {
      "text/plain": [
       "30"
      ]
     },
     "execution_count": 38,
     "metadata": {},
     "output_type": "execute_result"
    }
   ],
   "source": [
    "f.write(\"this is my first file to write\") # to write what you want to write in file write:(veriable) dot(.) (content that you want to write)"
   ]
  },
  {
   "cell_type": "code",
   "execution_count": 39,
   "id": "89096487-6282-4c20-a410-4c43b364cbbc",
   "metadata": {},
   "outputs": [],
   "source": [
    "f.close()   # to see what data yo"
   ]
  },
  {
   "cell_type": "code",
   "execution_count": 40,
   "id": "1ec30c35-0f7f-4a68-8ba1-7cb9783b774b",
   "metadata": {},
   "outputs": [],
   "source": [
    "f=open(\"test.txt\",\"w\") # opening same file again"
   ]
  },
  {
   "cell_type": "code",
   "execution_count": 41,
   "id": "b983b268-fe5e-4f08-90de-bbdcf912f278",
   "metadata": {},
   "outputs": [
    {
     "data": {
      "text/plain": [
       "15"
      ]
     },
     "execution_count": 41,
     "metadata": {},
     "output_type": "execute_result"
    }
   ],
   "source": [
    "f.write(\"this is my file\")  # writing new content in same file"
   ]
  },
  {
   "cell_type": "code",
   "execution_count": 42,
   "id": "36ea7445-0ad5-4d15-a50d-406f5c7a8908",
   "metadata": {},
   "outputs": [],
   "source": [
    "f.close()  # closing file to see content. After checking first data will be removed and new data i.e(this is my file ) will be printed\n"
   ]
  },
  {
   "cell_type": "code",
   "execution_count": 43,
   "id": "509e7944-0164-4c2a-8877-2d071f5675ff",
   "metadata": {},
   "outputs": [],
   "source": [
    "f=open(\"test.txt\",\"a\")  # here we have opened file in append 'a' mode so that this will make file open for writing and all content written\n",
    "#                        will be appended to previous content and previous content will not removed"
   ]
  },
  {
   "cell_type": "code",
   "execution_count": 44,
   "id": "b2637e63-5d3d-4e17-8047-fdb7ca7e267b",
   "metadata": {},
   "outputs": [
    {
     "data": {
      "text/plain": [
       "25"
      ]
     },
     "execution_count": 44,
     "metadata": {},
     "output_type": "execute_result"
    }
   ],
   "source": [
    "f.write(\"My name is sanjana Shinde\") # another content"
   ]
  },
  {
   "cell_type": "code",
   "execution_count": 45,
   "id": "3ffed5f9-ed9a-4a45-ae74-62f78d77e669",
   "metadata": {},
   "outputs": [],
   "source": [
    "f.close()"
   ]
  },
  {
   "cell_type": "code",
   "execution_count": 46,
   "id": "9c2299a2-161f-4053-ad9e-1b65347b90e1",
   "metadata": {},
   "outputs": [],
   "source": [
    "data=open(\"test.txt\",\"r\") # opening file in read mode where we can read only"
   ]
  },
  {
   "cell_type": "code",
   "execution_count": 47,
   "id": "12ba43de-f202-4f44-b5d3-8194a66f1154",
   "metadata": {},
   "outputs": [
    {
     "data": {
      "text/plain": [
       "'this is my fileMy name is sanjana Shinde'"
      ]
     },
     "execution_count": 47,
     "metadata": {},
     "output_type": "execute_result"
    }
   ],
   "source": [
    "data.read()  # opening data for reading "
   ]
  },
  {
   "cell_type": "code",
   "execution_count": 48,
   "id": "fcf2937a-9a3a-4668-aedb-a0fb0ef7695a",
   "metadata": {},
   "outputs": [
    {
     "data": {
      "text/plain": [
       "''"
      ]
     },
     "execution_count": 48,
     "metadata": {},
     "output_type": "execute_result"
    }
   ],
   "source": [
    "data.readline()  # to read data line by line use function 'readline()'.\n",
    "#                 this will give us blank list because data stored in list 'i.e by indexes so pointer starts reading data from start and end\n",
    "#                 at last so after completing data we don't have any data so it will return blank "
   ]
  },
  {
   "cell_type": "code",
   "execution_count": 49,
   "id": "6753d1b2-2729-4321-8448-5d5ada5b4056",
   "metadata": {},
   "outputs": [
    {
     "data": {
      "text/plain": [
       "0"
      ]
     },
     "execution_count": 49,
     "metadata": {},
     "output_type": "execute_result"
    }
   ],
   "source": [
    "data.seek(0)  # for reading data use set give value zero(0) so that it will show that set pointer again to first position"
   ]
  },
  {
   "cell_type": "code",
   "execution_count": 50,
   "id": "b83a8eae-484f-472e-8b6a-ff77a6a8452c",
   "metadata": {},
   "outputs": [
    {
     "data": {
      "text/plain": [
       "'this is my fileMy name is sanjana Shinde'"
      ]
     },
     "execution_count": 50,
     "metadata": {},
     "output_type": "execute_result"
    }
   ],
   "source": [
    "data.readline() # then recall readline function "
   ]
  },
  {
   "cell_type": "code",
   "execution_count": 51,
   "id": "653af2b6-40ce-419f-9f70-763ba8aaa5de",
   "metadata": {},
   "outputs": [
    {
     "data": {
      "text/plain": [
       "10"
      ]
     },
     "execution_count": 51,
     "metadata": {},
     "output_type": "execute_result"
    }
   ],
   "source": [
    "data.seek(10)  # by this you can set wherever curser possition .eg: here we have set curser at 10th possition. we have started reading data\n",
    "#                from 10th possition"
   ]
  },
  {
   "cell_type": "code",
   "execution_count": 52,
   "id": "8a3a4b50-5ed8-4c0c-bb33-1d0e2266822d",
   "metadata": {},
   "outputs": [
    {
     "data": {
      "text/plain": [
       "' fileMy name is sanjana Shinde'"
      ]
     },
     "execution_count": 52,
     "metadata": {},
     "output_type": "execute_result"
    }
   ],
   "source": [
    "data.read()  # start reading from 10 th possition"
   ]
  },
  {
   "cell_type": "code",
   "execution_count": 53,
   "id": "5aa4c199-5b5e-4dca-aa87-cde36b0a697e",
   "metadata": {},
   "outputs": [],
   "source": [
    "data1=open(\"test.txt\",\"r\")"
   ]
  },
  {
   "cell_type": "code",
   "execution_count": 54,
   "id": "ee6b5a78-7c04-42e8-8c38-e789aa1ecd8f",
   "metadata": {},
   "outputs": [
    {
     "name": "stdout",
     "output_type": "stream",
     "text": [
      "this is my fileMy name is sanjana Shinde\n"
     ]
    }
   ],
   "source": [
    "for i in data1:   # we can read this data by calling for loop\n",
    "    print(i)"
   ]
  },
  {
   "cell_type": "code",
   "execution_count": 55,
   "id": "884df75f-6c7c-44e7-98ce-67998d27411a",
   "metadata": {},
   "outputs": [],
   "source": [
    "import os  # to know size of our file we have to inport a module named 'os'"
   ]
  },
  {
   "cell_type": "code",
   "execution_count": 56,
   "id": "102ce578-2b7a-4846-8d17-b6649d069e12",
   "metadata": {},
   "outputs": [
    {
     "data": {
      "text/plain": [
       "40"
      ]
     },
     "execution_count": 56,
     "metadata": {},
     "output_type": "execute_result"
    }
   ],
   "source": [
    "os.path.getsize(\"test.txt\") # to know size of file here (90 bytes)is size of file"
   ]
  },
  {
   "cell_type": "code",
   "execution_count": 57,
   "id": "f3b045b4-e710-4d44-a725-d85e51fce44d",
   "metadata": {},
   "outputs": [],
   "source": [
    "os.remove(\"test.txt\")  # this will delete our file from directory "
   ]
  },
  {
   "cell_type": "code",
   "execution_count": 58,
   "id": "ad889113-bd52-4965-9293-9bdeffb790b6",
   "metadata": {},
   "outputs": [],
   "source": [
    "f=open(\"test1.txt\",\"w\") # creating new file and opening for write"
   ]
  },
  {
   "cell_type": "code",
   "execution_count": 59,
   "id": "4156a17e-b7cf-42a7-8978-720e2f9b0e2b",
   "metadata": {},
   "outputs": [
    {
     "data": {
      "text/plain": [
       "121"
      ]
     },
     "execution_count": 59,
     "metadata": {},
     "output_type": "execute_result"
    }
   ],
   "source": [
    "f.write(\"this is my first file in pyhton . My name is Sanjana Shinde .im currently pursuing graduation in bca .Im in 2nd standered\")\n",
    "#        it has size of 121 bytes"
   ]
  },
  {
   "cell_type": "code",
   "execution_count": 60,
   "id": "e73472e5-5fd8-4600-b152-4b98ea81f813",
   "metadata": {},
   "outputs": [],
   "source": [
    "f.close()"
   ]
  },
  {
   "cell_type": "code",
   "execution_count": 61,
   "id": "619b5dc1-415b-47f8-8562-22888b4fda89",
   "metadata": {},
   "outputs": [],
   "source": [
    "import os"
   ]
  },
  {
   "cell_type": "code",
   "execution_count": 62,
   "id": "87060e43-5736-4c81-afb3-058acfc6dc13",
   "metadata": {},
   "outputs": [],
   "source": [
    "os.rename(\"test1.txt\",\"test_1.txt\")  # for renaming existing file write: (os) dot(.) (rename) (\"name of existing file\",\" new name of file\") "
   ]
  },
  {
   "cell_type": "code",
   "execution_count": 63,
   "id": "0b0e7ba0-8cfd-45e5-a7fc-c05a46b1cd4d",
   "metadata": {},
   "outputs": [],
   "source": [
    "import shutil  # to make multiple copies of file import 'shutil' package"
   ]
  },
  {
   "cell_type": "code",
   "execution_count": 64,
   "id": "d174c8b0-82fd-48c9-adfc-7afeb8a6ff1c",
   "metadata": {},
   "outputs": [
    {
     "data": {
      "text/plain": [
       "'copy_test_1.txt'"
      ]
     },
     "execution_count": 64,
     "metadata": {},
     "output_type": "execute_result"
    }
   ],
   "source": [
    "shutil.copy(\"test_1.txt\",\"copy_test_1.txt\")  # this will create copy of our file having same content that of previous file\n",
    "#                                           syntax: (shutil keyword) dot(.) (copy) (\"file name\",\"name of copied file\")"
   ]
  },
  {
   "cell_type": "code",
   "execution_count": 65,
   "id": "16ba4b02-6231-4f13-b923-c9f4adefcd27",
   "metadata": {},
   "outputs": [
    {
     "name": "stdout",
     "output_type": "stream",
     "text": [
      "this is my first file in pyhton . My name is Sanjana Shinde .im currently pursuing graduation in bca .Im in 2nd standered\n"
     ]
    }
   ],
   "source": [
    "with open(\"test_1.txt\",\"r\") as f :    # we can open files for read by this way also. this is another way to open files.\n",
    "    print(f.read())"
   ]
  },
  {
   "cell_type": "code",
   "execution_count": null,
   "id": "d6e3f8ff-5f84-4ab6-922b-0fc47f13200d",
   "metadata": {},
   "outputs": [],
   "source": []
  }
 ],
 "metadata": {
  "kernelspec": {
   "display_name": "Python 3 (ipykernel)",
   "language": "python",
   "name": "python3"
  },
  "language_info": {
   "codemirror_mode": {
    "name": "ipython",
    "version": 3
   },
   "file_extension": ".py",
   "mimetype": "text/x-python",
   "name": "python",
   "nbconvert_exporter": "python",
   "pygments_lexer": "ipython3",
   "version": "3.10.8"
  }
 },
 "nbformat": 4,
 "nbformat_minor": 5
}
