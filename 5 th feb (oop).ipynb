{
 "cells": [
  {
   "cell_type": "code",
   "execution_count": 5,
   "id": "bafdd76c-4c90-46ac-9107-f415882ddac2",
   "metadata": {},
   "outputs": [],
   "source": [
    "s=1"
   ]
  },
  {
   "cell_type": "code",
   "execution_count": 6,
   "id": "34ad7711-c197-401d-8073-b385081cebab",
   "metadata": {},
   "outputs": [
    {
     "name": "stdout",
     "output_type": "stream",
     "text": [
      "<class 'int'>\n"
     ]
    }
   ],
   "source": [
    "print(type(s))"
   ]
  },
  {
   "cell_type": "code",
   "execution_count": 7,
   "id": "5e59500a-3938-42c6-929f-ee581dc38356",
   "metadata": {},
   "outputs": [
    {
     "name": "stdout",
     "output_type": "stream",
     "text": [
      "<class 'str'>\n"
     ]
    }
   ],
   "source": [
    "print(type(\"pwskills\"))"
   ]
  },
  {
   "cell_type": "code",
   "execution_count": 9,
   "id": "78c47b74-fab8-4fda-a8fb-c304a2f576eb",
   "metadata": {},
   "outputs": [],
   "source": [
    "#oop Stands for Object Oriented Programming\n",
    "# 1.it makes code in more structurable form."
   ]
  },
  {
   "cell_type": "code",
   "execution_count": 10,
   "id": "7568e3e2-d44d-4fe7-a112-ed534b8d5906",
   "metadata": {},
   "outputs": [],
   "source": [
    "# class :\n",
    "# blueprint of a real world intity.Not specific to a real world intity."
   ]
  },
  {
   "cell_type": "code",
   "execution_count": 11,
   "id": "9481789a-0c1b-4c64-9f6e-5e9633a4ba90",
   "metadata": {},
   "outputs": [],
   "source": [
    "# object:\n",
    "# object is real world intity.\n",
    "# in above example s is object of class 'int' we can also called instance or variable of class int.\n",
    "# object is also called instance,instance of class or variable of class."
   ]
  },
  {
   "cell_type": "code",
   "execution_count": 2,
   "id": "b7853baf-7f89-4cb0-ac05-cd39eab98dc7",
   "metadata": {},
   "outputs": [],
   "source": [
    "class test:   # creating class .syntax: (class keyword) (class name) :(colon)\n",
    "    pass"
   ]
  },
  {
   "cell_type": "code",
   "execution_count": 3,
   "id": "c6e8043b-d0fa-4266-aee3-6950c383adf3",
   "metadata": {},
   "outputs": [],
   "source": [
    "# Why use class in python :\n",
    "# in a project there are so many modules like of front end ,back end ,dsa etc. and oop makes it more simplier for a external developer to \n",
    "#  make changes in code and can contribute to project .\n",
    "# oop cretes differant classes for each modules for like class of front end code,class of back end code,etc.\n",
    "# it enhances our coding capability and makes code structured and reusable."
   ]
  },
  {
   "cell_type": "code",
   "execution_count": 9,
   "id": "623c2d11-edb8-4295-a29f-ece62ea11e94",
   "metadata": {},
   "outputs": [],
   "source": [
    "a=test() # creating object or variable of class test"
   ]
  },
  {
   "cell_type": "code",
   "execution_count": 10,
   "id": "ccef511a-3d74-4a66-a8bf-0c71b01aff1b",
   "metadata": {},
   "outputs": [
    {
     "data": {
      "text/plain": [
       "__main__.test"
      ]
     },
     "execution_count": 10,
     "metadata": {},
     "output_type": "execute_result"
    }
   ],
   "source": [
    "type(a)"
   ]
  },
  {
   "cell_type": "code",
   "execution_count": 11,
   "id": "91b404e4-df7d-47c7-bcc6-d5dde626a329",
   "metadata": {},
   "outputs": [
    {
     "name": "stdout",
     "output_type": "stream",
     "text": [
      "<class '__main__.test'>\n"
     ]
    }
   ],
   "source": [
    "print(type(a))"
   ]
  },
  {
   "cell_type": "code",
   "execution_count": 21,
   "id": "203d28d6-8544-46fb-9e20-cc10e5925a56",
   "metadata": {},
   "outputs": [],
   "source": [
    "class pwskills:\n",
    "    def welcome_msg(self):     # here we have to use self to bind that method to class i.e class get to know that this is my method\n",
    "        print(\"Welcome to pwskills\")"
   ]
  },
  {
   "cell_type": "code",
   "execution_count": 23,
   "id": "6e12fdee-4ad6-4700-9b1c-16fc23da9e67",
   "metadata": {},
   "outputs": [],
   "source": [
    "rohan=pwskills()   # object of class pwskills"
   ]
  },
  {
   "cell_type": "code",
   "execution_count": 24,
   "id": "fab99c09-673f-4f0e-a782-f3e37fc5154c",
   "metadata": {},
   "outputs": [
    {
     "name": "stdout",
     "output_type": "stream",
     "text": [
      "<class '__main__.pwskills'>\n"
     ]
    }
   ],
   "source": [
    "print(type(rohan))      # here this gives pwskills means rohan is belongs to class pwskills"
   ]
  },
  {
   "cell_type": "code",
   "execution_count": 27,
   "id": "3d6c22a2-680c-49a5-85c7-009b8767f0c9",
   "metadata": {},
   "outputs": [
    {
     "name": "stdout",
     "output_type": "stream",
     "text": [
      "Welcome to pwskills\n"
     ]
    }
   ],
   "source": [
    "rohan.welcome_msg()  # calling of object   syntax: (object) . (method name) ()"
   ]
  },
  {
   "cell_type": "code",
   "execution_count": 28,
   "id": "efce3fdb-586e-43cb-84bd-d4818f36ff83",
   "metadata": {},
   "outputs": [],
   "source": [
    "sanjana=pwskills()"
   ]
  },
  {
   "cell_type": "code",
   "execution_count": 29,
   "id": "7309680d-6228-4575-9e8e-bdc936ecad21",
   "metadata": {},
   "outputs": [
    {
     "name": "stdout",
     "output_type": "stream",
     "text": [
      "Welcome to pwskills\n"
     ]
    }
   ],
   "source": [
    "sanjana.welcome_msg()"
   ]
  },
  {
   "cell_type": "code",
   "execution_count": 59,
   "id": "d72a6d8d-c2d3-44a3-98a1-fcc56545d28f",
   "metadata": {},
   "outputs": [],
   "source": [
    "class pwskills1 :                                                     # generic class\n",
    "    def __init__(self,phone_no,email_id,student_id):                 # here _init_ is constructer  take it by pressing tab from function.\n",
    "        self.phone_no=phone_no\n",
    "        self.email_id=email_id\n",
    "        self.student_id=student_id\n",
    "        \n",
    "    def return_student_details(self):                            # if you want to access veriables of that class within that class we should use (self)\n",
    "        return self.phone_no,self.email_id,self.student_id     # keyword. self is like a pointer that provides referance to the class."
   ]
  },
  {
   "cell_type": "code",
   "execution_count": 49,
   "id": "863884ee-50af-4ccd-87e8-55b5db0b26a7",
   "metadata": {},
   "outputs": [
    {
     "ename": "TypeError",
     "evalue": "pwskills1.__init__() missing 3 required positional arguments: 'phone_no', 'email_id', and 'student_id'",
     "output_type": "error",
     "traceback": [
      "\u001b[0;31m---------------------------------------------------------------------------\u001b[0m",
      "\u001b[0;31mTypeError\u001b[0m                                 Traceback (most recent call last)",
      "Cell \u001b[0;32mIn[49], line 1\u001b[0m\n\u001b[0;32m----> 1\u001b[0m rohan \u001b[38;5;241m=\u001b[39m \u001b[43mpwskills1\u001b[49m\u001b[43m(\u001b[49m\u001b[43m)\u001b[49m\n",
      "\u001b[0;31mTypeError\u001b[0m: pwskills1.__init__() missing 3 required positional arguments: 'phone_no', 'email_id', and 'student_id'"
     ]
    }
   ],
   "source": [
    "rohan = pwskills1()"
   ]
  },
  {
   "cell_type": "code",
   "execution_count": 60,
   "id": "40a41968-fa62-4359-8957-332545e81a3a",
   "metadata": {},
   "outputs": [],
   "source": [
    "rani=pwskills1(1234567834,\"rani1234@gmail.com\",121)"
   ]
  },
  {
   "cell_type": "code",
   "execution_count": 61,
   "id": "d32582c5-b044-4b06-9b9b-d3c437741126",
   "metadata": {},
   "outputs": [
    {
     "data": {
      "text/plain": [
       "(1234567834, 'rani1234@gmail.com', 121)"
      ]
     },
     "execution_count": 61,
     "metadata": {},
     "output_type": "execute_result"
    }
   ],
   "source": [
    "rani.return_student_details()"
   ]
  },
  {
   "cell_type": "code",
   "execution_count": 65,
   "id": "d852d373-ba84-4413-aeb3-a764c0372ae3",
   "metadata": {},
   "outputs": [
    {
     "data": {
      "text/plain": [
       "1234567834"
      ]
     },
     "execution_count": 65,
     "metadata": {},
     "output_type": "execute_result"
    }
   ],
   "source": [
    "rani.phone_no"
   ]
  },
  {
   "cell_type": "code",
   "execution_count": 66,
   "id": "21f13d96-e52a-41f0-84c7-2689236a84c2",
   "metadata": {},
   "outputs": [
    {
     "data": {
      "text/plain": [
       "'rani1234@gmail.com'"
      ]
     },
     "execution_count": 66,
     "metadata": {},
     "output_type": "execute_result"
    }
   ],
   "source": [
    "rani.email_id"
   ]
  },
  {
   "cell_type": "code",
   "execution_count": 67,
   "id": "c6f5aa54-e3e7-4807-9dfe-0913856210b1",
   "metadata": {},
   "outputs": [
    {
     "data": {
      "text/plain": [
       "121"
      ]
     },
     "execution_count": 67,
     "metadata": {},
     "output_type": "execute_result"
    }
   ],
   "source": [
    "rani.student_id"
   ]
  },
  {
   "cell_type": "code",
   "execution_count": 62,
   "id": "68cf528e-289d-4969-9b22-6c737a23bed4",
   "metadata": {},
   "outputs": [],
   "source": [
    "sanjana=pwskills1(12344566,\"sanajana2003@gamil.com\",234)"
   ]
  },
  {
   "cell_type": "code",
   "execution_count": 64,
   "id": "2652c705-6e3d-4d2a-b535-0dc3453dee4b",
   "metadata": {},
   "outputs": [
    {
     "data": {
      "text/plain": [
       "(12344566, 'sanajana2003@gamil.com', 234)"
      ]
     },
     "execution_count": 64,
     "metadata": {},
     "output_type": "execute_result"
    }
   ],
   "source": [
    "sanjana.return_student_details()"
   ]
  },
  {
   "cell_type": "code",
   "execution_count": 68,
   "id": "d44fbb86-a2dc-4612-bf8d-cde04dec7a90",
   "metadata": {},
   "outputs": [],
   "source": [
    "class pwskills2 :                                                     # generic class\n",
    "    def __init__(self,phone_no,email_id,student_id):                 # here _init_ is constructer  take it by pressing tab from function.init used to \n",
    "        self.phone_no1=phone_no                                       # take input.\n",
    "        self.email_id1=email_id\n",
    "        self.student_id1=student_id\n",
    "        \n",
    "    def return_student_details(self):                            # if you want to access veriables of that class within that class we should use (self)\n",
    "        return self.phone_no1,self.email_id1,self.student_id1     # keyword. self is like a pointer that provides referance to the class."
   ]
  },
  {
   "cell_type": "code",
   "execution_count": 69,
   "id": "cec0244d-b713-44b5-b38b-c6588edc9f55",
   "metadata": {},
   "outputs": [],
   "source": [
    "sudh=pwskills2(12345678,\"sudh234@gmail.com\",123)"
   ]
  },
  {
   "cell_type": "code",
   "execution_count": 72,
   "id": "9279eb4d-7ad5-48c1-826c-b8fb217c2f45",
   "metadata": {},
   "outputs": [
    {
     "data": {
      "text/plain": [
       "12345678"
      ]
     },
     "execution_count": 72,
     "metadata": {},
     "output_type": "execute_result"
    }
   ],
   "source": [
    "sudh.phone_no1"
   ]
  },
  {
   "cell_type": "code",
   "execution_count": 74,
   "id": "ce946521-a9a2-4387-81ae-4f93df54e0f9",
   "metadata": {},
   "outputs": [
    {
     "data": {
      "text/plain": [
       "'sudh234@gmail.com'"
      ]
     },
     "execution_count": 74,
     "metadata": {},
     "output_type": "execute_result"
    }
   ],
   "source": [
    "sudh.email_id1"
   ]
  },
  {
   "cell_type": "code",
   "execution_count": 75,
   "id": "e1684b1d-c1a5-4e9e-b0a6-af9913e9ca22",
   "metadata": {},
   "outputs": [
    {
     "data": {
      "text/plain": [
       "(12345678, 'sudh234@gmail.com', 123)"
      ]
     },
     "execution_count": 75,
     "metadata": {},
     "output_type": "execute_result"
    }
   ],
   "source": [
    "sudh.return_student_details()"
   ]
  },
  {
   "cell_type": "code",
   "execution_count": 76,
   "id": "5247c689-20f6-47a1-b6c6-dfa07126034f",
   "metadata": {},
   "outputs": [],
   "source": [
    "class pwskills2 :                                                     # generic class\n",
    "    def __init__(self,phone_no,email_id,student_id):                 # here _init_ is constructer  take it by pressing tab from function.\n",
    "        self.phone_no1=phone_no\n",
    "        self.email_id1=email_id\n",
    "        self.student_id1=student_id\n",
    "        \n",
    "    def return_student_details(self):                            # if you want to access veriables of that class within that class we should use (self)\n",
    "        return self.phone_no1,self.email_id1,self.student_id1    # keyword. self is like a pointer that provides referance to the class."
   ]
  },
  {
   "cell_type": "code",
   "execution_count": 77,
   "id": "fd6d4f2d-5bd2-4cd4-9714-8e8427ecf205",
   "metadata": {},
   "outputs": [],
   "source": [
    "sudh=pwskills2(12345678,\"sudh234@gmail.com\",123)"
   ]
  },
  {
   "cell_type": "code",
   "execution_count": 78,
   "id": "bde75164-9a64-49e7-acf4-fc318cc4d1e3",
   "metadata": {},
   "outputs": [
    {
     "data": {
      "text/plain": [
       "12345678"
      ]
     },
     "execution_count": 78,
     "metadata": {},
     "output_type": "execute_result"
    }
   ],
   "source": [
    "sudh.phone_no1"
   ]
  },
  {
   "cell_type": "code",
   "execution_count": 79,
   "id": "b0b9e665-4fc2-4fc8-80f6-6af21daf27a3",
   "metadata": {},
   "outputs": [
    {
     "data": {
      "text/plain": [
       "'sudh234@gmail.com'"
      ]
     },
     "execution_count": 79,
     "metadata": {},
     "output_type": "execute_result"
    }
   ],
   "source": [
    "sudh.email_id1"
   ]
  },
  {
   "cell_type": "code",
   "execution_count": 80,
   "id": "30a993ca-18dc-4667-9893-50aba78c1e44",
   "metadata": {},
   "outputs": [
    {
     "data": {
      "text/plain": [
       "(12345678, 'sudh234@gmail.com', 123)"
      ]
     },
     "execution_count": 80,
     "metadata": {},
     "output_type": "execute_result"
    }
   ],
   "source": [
    "sudh.return_student_details()"
   ]
  },
  {
   "cell_type": "code",
   "execution_count": 86,
   "id": "a1974ecf-4f80-4051-bb03-bc1a4aba37cc",
   "metadata": {},
   "outputs": [],
   "source": [
    "class pwskills2 :                                                     # generic class\n",
    "    def __init__(sudh,phone_no,email_id,student_id):                 # here _init_ is constructer  take it by pressing tab from function.\n",
    "        sudh.phone_no1=phone_no\n",
    "        sudh.email_id1=email_id\n",
    "        sudh.student_id1=student_id\n",
    "        \n",
    "    def return_student_details(self):                            # if you want to access veriables of that class within that class we should use (any \n",
    "        return sudh.phone_no1,sudh.email_id1,sudh.student_id1    # one argument or keyword. self is not a resreve keyword we can use any veriable   \n",
    "                                                                  # instead of self that provides referance to  the class."
   ]
  },
  {
   "cell_type": "code",
   "execution_count": 83,
   "id": "4076ca50-2cea-4e0f-b999-79c6d5b701dc",
   "metadata": {},
   "outputs": [],
   "source": [
    "rohan=pwskills2(123456,\"rohan23@gmail.com\",122)"
   ]
  },
  {
   "cell_type": "code",
   "execution_count": 84,
   "id": "4a9e7e7a-e93f-4640-a80d-8c2b55bc6744",
   "metadata": {},
   "outputs": [
    {
     "data": {
      "text/plain": [
       "123456"
      ]
     },
     "execution_count": 84,
     "metadata": {},
     "output_type": "execute_result"
    }
   ],
   "source": [
    "rohan.phone_no1"
   ]
  },
  {
   "cell_type": "code",
   "execution_count": 85,
   "id": "dcbb8d71-83be-4870-974a-d406ffa0a000",
   "metadata": {},
   "outputs": [
    {
     "data": {
      "text/plain": [
       "'rohan23@gmail.com'"
      ]
     },
     "execution_count": 85,
     "metadata": {},
     "output_type": "execute_result"
    }
   ],
   "source": [
    "rohan.email_id1"
   ]
  },
  {
   "cell_type": "code",
   "execution_count": null,
   "id": "2698b876-f972-4ee3-b42b-2fa8b508944e",
   "metadata": {},
   "outputs": [],
   "source": []
  }
 ],
 "metadata": {
  "kernelspec": {
   "display_name": "Python 3 (ipykernel)",
   "language": "python",
   "name": "python3"
  },
  "language_info": {
   "codemirror_mode": {
    "name": "ipython",
    "version": 3
   },
   "file_extension": ".py",
   "mimetype": "text/x-python",
   "name": "python",
   "nbconvert_exporter": "python",
   "pygments_lexer": "ipython3",
   "version": "3.10.8"
  }
 },
 "nbformat": 4,
 "nbformat_minor": 5
}
